{
 "cells": [
  {
   "cell_type": "markdown",
   "metadata": {},
   "source": [
    "## Подготовка данных"
   ]
  },
  {
   "cell_type": "code",
   "execution_count": 1,
   "metadata": {
    "scrolled": true
   },
   "outputs": [
    {
     "name": "stdout",
     "output_type": "stream",
     "text": [
      "Collecting shap\n",
      "  Downloading shap-0.42.1-cp39-cp39-manylinux_2_12_x86_64.manylinux2010_x86_64.manylinux_2_17_x86_64.manylinux2014_x86_64.whl (547 kB)\n",
      "\u001b[K     |████████████████████████████████| 547 kB 1.1 MB/s eta 0:00:01\n",
      "\u001b[?25hRequirement already satisfied: pandas in /opt/conda/lib/python3.9/site-packages (from shap) (1.2.4)\n",
      "Requirement already satisfied: numba in /opt/conda/lib/python3.9/site-packages (from shap) (0.56.0)\n",
      "Collecting cloudpickle\n",
      "  Downloading cloudpickle-2.2.1-py3-none-any.whl (25 kB)\n",
      "Collecting slicer==0.0.7\n",
      "  Downloading slicer-0.0.7-py3-none-any.whl (14 kB)\n",
      "Requirement already satisfied: scipy in /opt/conda/lib/python3.9/site-packages (from shap) (1.9.1)\n",
      "Requirement already satisfied: tqdm>=4.27.0 in /opt/conda/lib/python3.9/site-packages (from shap) (4.61.2)\n",
      "Requirement already satisfied: scikit-learn in /opt/conda/lib/python3.9/site-packages (from shap) (0.24.1)\n",
      "Requirement already satisfied: numpy in /opt/conda/lib/python3.9/site-packages (from shap) (1.21.1)\n",
      "Requirement already satisfied: packaging>20.9 in /opt/conda/lib/python3.9/site-packages (from shap) (21.3)\n",
      "Requirement already satisfied: pyparsing!=3.0.5,>=2.0.2 in /opt/conda/lib/python3.9/site-packages (from packaging>20.9->shap) (2.4.7)\n",
      "Requirement already satisfied: setuptools in /opt/conda/lib/python3.9/site-packages (from numba->shap) (49.6.0.post20210108)\n",
      "Requirement already satisfied: llvmlite<0.40,>=0.39.0dev0 in /opt/conda/lib/python3.9/site-packages (from numba->shap) (0.39.0)\n",
      "Requirement already satisfied: python-dateutil>=2.7.3 in /opt/conda/lib/python3.9/site-packages (from pandas->shap) (2.8.1)\n",
      "Requirement already satisfied: pytz>=2017.3 in /opt/conda/lib/python3.9/site-packages (from pandas->shap) (2021.1)\n",
      "Requirement already satisfied: six>=1.5 in /opt/conda/lib/python3.9/site-packages (from python-dateutil>=2.7.3->pandas->shap) (1.16.0)\n",
      "Requirement already satisfied: threadpoolctl>=2.0.0 in /opt/conda/lib/python3.9/site-packages (from scikit-learn->shap) (3.1.0)\n",
      "Requirement already satisfied: joblib>=0.11 in /opt/conda/lib/python3.9/site-packages (from scikit-learn->shap) (1.1.0)\n",
      "Installing collected packages: slicer, cloudpickle, shap\n",
      "Successfully installed cloudpickle-2.2.1 shap-0.42.1 slicer-0.0.7\n",
      "Collecting category_encoders\n",
      "  Downloading category_encoders-2.6.1-py2.py3-none-any.whl (81 kB)\n",
      "\u001b[K     |████████████████████████████████| 81 kB 10 kB/s  eta 0:00:011\n",
      "\u001b[?25hRequirement already satisfied: pandas>=1.0.5 in /opt/conda/lib/python3.9/site-packages (from category_encoders) (1.2.4)\n",
      "Requirement already satisfied: scikit-learn>=0.20.0 in /opt/conda/lib/python3.9/site-packages (from category_encoders) (0.24.1)\n",
      "Requirement already satisfied: statsmodels>=0.9.0 in /opt/conda/lib/python3.9/site-packages (from category_encoders) (0.13.2)\n",
      "Requirement already satisfied: scipy>=1.0.0 in /opt/conda/lib/python3.9/site-packages (from category_encoders) (1.9.1)\n",
      "Requirement already satisfied: patsy>=0.5.1 in /opt/conda/lib/python3.9/site-packages (from category_encoders) (0.5.2)\n",
      "Requirement already satisfied: numpy>=1.14.0 in /opt/conda/lib/python3.9/site-packages (from category_encoders) (1.21.1)\n",
      "Requirement already satisfied: python-dateutil>=2.7.3 in /opt/conda/lib/python3.9/site-packages (from pandas>=1.0.5->category_encoders) (2.8.1)\n",
      "Requirement already satisfied: pytz>=2017.3 in /opt/conda/lib/python3.9/site-packages (from pandas>=1.0.5->category_encoders) (2021.1)\n",
      "Requirement already satisfied: six in /opt/conda/lib/python3.9/site-packages (from patsy>=0.5.1->category_encoders) (1.16.0)\n",
      "Requirement already satisfied: joblib>=0.11 in /opt/conda/lib/python3.9/site-packages (from scikit-learn>=0.20.0->category_encoders) (1.1.0)\n",
      "Requirement already satisfied: threadpoolctl>=2.0.0 in /opt/conda/lib/python3.9/site-packages (from scikit-learn>=0.20.0->category_encoders) (3.1.0)\n",
      "Requirement already satisfied: packaging>=21.3 in /opt/conda/lib/python3.9/site-packages (from statsmodels>=0.9.0->category_encoders) (21.3)\n",
      "Requirement already satisfied: pyparsing!=3.0.5,>=2.0.2 in /opt/conda/lib/python3.9/site-packages (from packaging>=21.3->statsmodels>=0.9.0->category_encoders) (2.4.7)\n",
      "Installing collected packages: category-encoders\n",
      "Successfully installed category-encoders-2.6.1\n",
      "Requirement already satisfied: catboost in /opt/conda/lib/python3.9/site-packages (1.0.3)\n",
      "Requirement already satisfied: scipy in /opt/conda/lib/python3.9/site-packages (from catboost) (1.9.1)\n",
      "Requirement already satisfied: six in /opt/conda/lib/python3.9/site-packages (from catboost) (1.16.0)\n",
      "Requirement already satisfied: matplotlib in /opt/conda/lib/python3.9/site-packages (from catboost) (3.3.4)\n",
      "Requirement already satisfied: graphviz in /opt/conda/lib/python3.9/site-packages (from catboost) (0.20.1)\n",
      "Requirement already satisfied: plotly in /opt/conda/lib/python3.9/site-packages (from catboost) (5.4.0)\n",
      "Requirement already satisfied: pandas>=0.24.0 in /opt/conda/lib/python3.9/site-packages (from catboost) (1.2.4)\n",
      "Requirement already satisfied: numpy>=1.16.0 in /opt/conda/lib/python3.9/site-packages (from catboost) (1.21.1)\n",
      "Requirement already satisfied: python-dateutil>=2.7.3 in /opt/conda/lib/python3.9/site-packages (from pandas>=0.24.0->catboost) (2.8.1)\n",
      "Requirement already satisfied: pytz>=2017.3 in /opt/conda/lib/python3.9/site-packages (from pandas>=0.24.0->catboost) (2021.1)\n",
      "Requirement already satisfied: pillow>=6.2.0 in /opt/conda/lib/python3.9/site-packages (from matplotlib->catboost) (8.4.0)\n",
      "Requirement already satisfied: pyparsing!=2.0.4,!=2.1.2,!=2.1.6,>=2.0.3 in /opt/conda/lib/python3.9/site-packages (from matplotlib->catboost) (2.4.7)\n",
      "Requirement already satisfied: cycler>=0.10 in /opt/conda/lib/python3.9/site-packages (from matplotlib->catboost) (0.11.0)\n",
      "Requirement already satisfied: kiwisolver>=1.0.1 in /opt/conda/lib/python3.9/site-packages (from matplotlib->catboost) (1.4.4)\n",
      "Requirement already satisfied: tenacity>=6.2.0 in /opt/conda/lib/python3.9/site-packages (from plotly->catboost) (8.0.1)\n",
      "Requirement already satisfied: lightgbm in /opt/conda/lib/python3.9/site-packages (3.3.1)\n",
      "Requirement already satisfied: scipy in /opt/conda/lib/python3.9/site-packages (from lightgbm) (1.9.1)\n",
      "Requirement already satisfied: wheel in /opt/conda/lib/python3.9/site-packages (from lightgbm) (0.36.2)\n",
      "Requirement already satisfied: numpy in /opt/conda/lib/python3.9/site-packages (from lightgbm) (1.21.1)\n",
      "Requirement already satisfied: scikit-learn!=0.22.0 in /opt/conda/lib/python3.9/site-packages (from lightgbm) (0.24.1)\n",
      "Requirement already satisfied: joblib>=0.11 in /opt/conda/lib/python3.9/site-packages (from scikit-learn!=0.22.0->lightgbm) (1.1.0)\n",
      "Requirement already satisfied: threadpoolctl>=2.0.0 in /opt/conda/lib/python3.9/site-packages (from scikit-learn!=0.22.0->lightgbm) (3.1.0)\n",
      "Collecting missingno\n",
      "  Downloading missingno-0.5.2-py3-none-any.whl (8.7 kB)\n",
      "Requirement already satisfied: seaborn in /opt/conda/lib/python3.9/site-packages (from missingno) (0.11.1)\n",
      "Requirement already satisfied: scipy in /opt/conda/lib/python3.9/site-packages (from missingno) (1.9.1)\n",
      "Requirement already satisfied: numpy in /opt/conda/lib/python3.9/site-packages (from missingno) (1.21.1)\n",
      "Requirement already satisfied: matplotlib in /opt/conda/lib/python3.9/site-packages (from missingno) (3.3.4)\n",
      "Requirement already satisfied: cycler>=0.10 in /opt/conda/lib/python3.9/site-packages (from matplotlib->missingno) (0.11.0)\n",
      "Requirement already satisfied: pillow>=6.2.0 in /opt/conda/lib/python3.9/site-packages (from matplotlib->missingno) (8.4.0)\n",
      "Requirement already satisfied: python-dateutil>=2.1 in /opt/conda/lib/python3.9/site-packages (from matplotlib->missingno) (2.8.1)\n",
      "Requirement already satisfied: pyparsing!=2.0.4,!=2.1.2,!=2.1.6,>=2.0.3 in /opt/conda/lib/python3.9/site-packages (from matplotlib->missingno) (2.4.7)\n",
      "Requirement already satisfied: kiwisolver>=1.0.1 in /opt/conda/lib/python3.9/site-packages (from matplotlib->missingno) (1.4.4)\n",
      "Requirement already satisfied: six>=1.5 in /opt/conda/lib/python3.9/site-packages (from python-dateutil>=2.1->matplotlib->missingno) (1.16.0)\n",
      "Requirement already satisfied: pandas>=0.23 in /opt/conda/lib/python3.9/site-packages (from seaborn->missingno) (1.2.4)\n",
      "Requirement already satisfied: pytz>=2017.3 in /opt/conda/lib/python3.9/site-packages (from pandas>=0.23->seaborn->missingno) (2021.1)\n",
      "Installing collected packages: missingno\n",
      "Successfully installed missingno-0.5.2\n"
     ]
    }
   ],
   "source": [
    "import pandas as pd\n",
    "import numpy as np\n",
    "import matplotlib.pyplot as plt\n",
    "import math\n",
    "import seaborn as sns\n",
    "\n",
    "from sklearn.model_selection import (train_test_split,\n",
    "                                     cross_val_score)\n",
    "from sklearn.preprocessing import (StandardScaler,\n",
    "                                   OneHotEncoder)\n",
    "from sklearn.tree import DecisionTreeRegressor\n",
    "from sklearn.metrics import (mean_squared_error,\n",
    "                             make_scorer)\n",
    "\n",
    "!pip install shap\n",
    "import shap\n",
    "\n",
    "!pip install category_encoders\n",
    "from category_encoders import MEstimateEncoder\n",
    "\n",
    "!pip install catboost\n",
    "from catboost import CatBoost, cv, CatBoostRegressor, Pool\n",
    "\n",
    "!pip install lightgbm\n",
    "import lightgbm as lgb\n",
    "\n",
    "\n",
    "!pip install missingno\n",
    "import missingno as msno\n",
    "\n",
    "import time\n",
    "import warnings\n",
    "warnings.filterwarnings(\"ignore\")"
   ]
  },
  {
   "cell_type": "code",
   "execution_count": 2,
   "metadata": {},
   "outputs": [],
   "source": [
    "df = pd.read_csv('/datasets/autos.csv')"
   ]
  },
  {
   "cell_type": "code",
   "execution_count": 3,
   "metadata": {},
   "outputs": [
    {
     "data": {
      "text/html": [
       "<div>\n",
       "<style scoped>\n",
       "    .dataframe tbody tr th:only-of-type {\n",
       "        vertical-align: middle;\n",
       "    }\n",
       "\n",
       "    .dataframe tbody tr th {\n",
       "        vertical-align: top;\n",
       "    }\n",
       "\n",
       "    .dataframe thead th {\n",
       "        text-align: right;\n",
       "    }\n",
       "</style>\n",
       "<table border=\"1\" class=\"dataframe\">\n",
       "  <thead>\n",
       "    <tr style=\"text-align: right;\">\n",
       "      <th></th>\n",
       "      <th>DateCrawled</th>\n",
       "      <th>Price</th>\n",
       "      <th>VehicleType</th>\n",
       "      <th>RegistrationYear</th>\n",
       "      <th>Gearbox</th>\n",
       "      <th>Power</th>\n",
       "      <th>Model</th>\n",
       "      <th>Kilometer</th>\n",
       "      <th>RegistrationMonth</th>\n",
       "      <th>FuelType</th>\n",
       "      <th>Brand</th>\n",
       "      <th>Repaired</th>\n",
       "      <th>DateCreated</th>\n",
       "      <th>NumberOfPictures</th>\n",
       "      <th>PostalCode</th>\n",
       "      <th>LastSeen</th>\n",
       "    </tr>\n",
       "  </thead>\n",
       "  <tbody>\n",
       "    <tr>\n",
       "      <th>0</th>\n",
       "      <td>2016-03-24 11:52:17</td>\n",
       "      <td>480</td>\n",
       "      <td>NaN</td>\n",
       "      <td>1993</td>\n",
       "      <td>manual</td>\n",
       "      <td>0</td>\n",
       "      <td>golf</td>\n",
       "      <td>150000</td>\n",
       "      <td>0</td>\n",
       "      <td>petrol</td>\n",
       "      <td>volkswagen</td>\n",
       "      <td>NaN</td>\n",
       "      <td>2016-03-24 00:00:00</td>\n",
       "      <td>0</td>\n",
       "      <td>70435</td>\n",
       "      <td>2016-04-07 03:16:57</td>\n",
       "    </tr>\n",
       "    <tr>\n",
       "      <th>1</th>\n",
       "      <td>2016-03-24 10:58:45</td>\n",
       "      <td>18300</td>\n",
       "      <td>coupe</td>\n",
       "      <td>2011</td>\n",
       "      <td>manual</td>\n",
       "      <td>190</td>\n",
       "      <td>NaN</td>\n",
       "      <td>125000</td>\n",
       "      <td>5</td>\n",
       "      <td>gasoline</td>\n",
       "      <td>audi</td>\n",
       "      <td>yes</td>\n",
       "      <td>2016-03-24 00:00:00</td>\n",
       "      <td>0</td>\n",
       "      <td>66954</td>\n",
       "      <td>2016-04-07 01:46:50</td>\n",
       "    </tr>\n",
       "    <tr>\n",
       "      <th>2</th>\n",
       "      <td>2016-03-14 12:52:21</td>\n",
       "      <td>9800</td>\n",
       "      <td>suv</td>\n",
       "      <td>2004</td>\n",
       "      <td>auto</td>\n",
       "      <td>163</td>\n",
       "      <td>grand</td>\n",
       "      <td>125000</td>\n",
       "      <td>8</td>\n",
       "      <td>gasoline</td>\n",
       "      <td>jeep</td>\n",
       "      <td>NaN</td>\n",
       "      <td>2016-03-14 00:00:00</td>\n",
       "      <td>0</td>\n",
       "      <td>90480</td>\n",
       "      <td>2016-04-05 12:47:46</td>\n",
       "    </tr>\n",
       "    <tr>\n",
       "      <th>3</th>\n",
       "      <td>2016-03-17 16:54:04</td>\n",
       "      <td>1500</td>\n",
       "      <td>small</td>\n",
       "      <td>2001</td>\n",
       "      <td>manual</td>\n",
       "      <td>75</td>\n",
       "      <td>golf</td>\n",
       "      <td>150000</td>\n",
       "      <td>6</td>\n",
       "      <td>petrol</td>\n",
       "      <td>volkswagen</td>\n",
       "      <td>no</td>\n",
       "      <td>2016-03-17 00:00:00</td>\n",
       "      <td>0</td>\n",
       "      <td>91074</td>\n",
       "      <td>2016-03-17 17:40:17</td>\n",
       "    </tr>\n",
       "    <tr>\n",
       "      <th>4</th>\n",
       "      <td>2016-03-31 17:25:20</td>\n",
       "      <td>3600</td>\n",
       "      <td>small</td>\n",
       "      <td>2008</td>\n",
       "      <td>manual</td>\n",
       "      <td>69</td>\n",
       "      <td>fabia</td>\n",
       "      <td>90000</td>\n",
       "      <td>7</td>\n",
       "      <td>gasoline</td>\n",
       "      <td>skoda</td>\n",
       "      <td>no</td>\n",
       "      <td>2016-03-31 00:00:00</td>\n",
       "      <td>0</td>\n",
       "      <td>60437</td>\n",
       "      <td>2016-04-06 10:17:21</td>\n",
       "    </tr>\n",
       "  </tbody>\n",
       "</table>\n",
       "</div>"
      ],
      "text/plain": [
       "           DateCrawled  Price VehicleType  RegistrationYear Gearbox  Power  \\\n",
       "0  2016-03-24 11:52:17    480         NaN              1993  manual      0   \n",
       "1  2016-03-24 10:58:45  18300       coupe              2011  manual    190   \n",
       "2  2016-03-14 12:52:21   9800         suv              2004    auto    163   \n",
       "3  2016-03-17 16:54:04   1500       small              2001  manual     75   \n",
       "4  2016-03-31 17:25:20   3600       small              2008  manual     69   \n",
       "\n",
       "   Model  Kilometer  RegistrationMonth  FuelType       Brand Repaired  \\\n",
       "0   golf     150000                  0    petrol  volkswagen      NaN   \n",
       "1    NaN     125000                  5  gasoline        audi      yes   \n",
       "2  grand     125000                  8  gasoline        jeep      NaN   \n",
       "3   golf     150000                  6    petrol  volkswagen       no   \n",
       "4  fabia      90000                  7  gasoline       skoda       no   \n",
       "\n",
       "           DateCreated  NumberOfPictures  PostalCode             LastSeen  \n",
       "0  2016-03-24 00:00:00                 0       70435  2016-04-07 03:16:57  \n",
       "1  2016-03-24 00:00:00                 0       66954  2016-04-07 01:46:50  \n",
       "2  2016-03-14 00:00:00                 0       90480  2016-04-05 12:47:46  \n",
       "3  2016-03-17 00:00:00                 0       91074  2016-03-17 17:40:17  \n",
       "4  2016-03-31 00:00:00                 0       60437  2016-04-06 10:17:21  "
      ]
     },
     "execution_count": 3,
     "metadata": {},
     "output_type": "execute_result"
    }
   ],
   "source": [
    "df.head()"
   ]
  },
  {
   "cell_type": "code",
   "execution_count": 4,
   "metadata": {
    "scrolled": false
   },
   "outputs": [
    {
     "name": "stdout",
     "output_type": "stream",
     "text": [
      "<class 'pandas.core.frame.DataFrame'>\n",
      "RangeIndex: 354369 entries, 0 to 354368\n",
      "Data columns (total 16 columns):\n",
      " #   Column             Non-Null Count   Dtype \n",
      "---  ------             --------------   ----- \n",
      " 0   DateCrawled        354369 non-null  object\n",
      " 1   Price              354369 non-null  int64 \n",
      " 2   VehicleType        316879 non-null  object\n",
      " 3   RegistrationYear   354369 non-null  int64 \n",
      " 4   Gearbox            334536 non-null  object\n",
      " 5   Power              354369 non-null  int64 \n",
      " 6   Model              334664 non-null  object\n",
      " 7   Kilometer          354369 non-null  int64 \n",
      " 8   RegistrationMonth  354369 non-null  int64 \n",
      " 9   FuelType           321474 non-null  object\n",
      " 10  Brand              354369 non-null  object\n",
      " 11  Repaired           283215 non-null  object\n",
      " 12  DateCreated        354369 non-null  object\n",
      " 13  NumberOfPictures   354369 non-null  int64 \n",
      " 14  PostalCode         354369 non-null  int64 \n",
      " 15  LastSeen           354369 non-null  object\n",
      "dtypes: int64(7), object(9)\n",
      "memory usage: 43.3+ MB\n"
     ]
    }
   ],
   "source": [
    "df.info()"
   ]
  },
  {
   "cell_type": "code",
   "execution_count": 5,
   "metadata": {},
   "outputs": [],
   "source": [
    "df_first = df.copy()"
   ]
  },
  {
   "cell_type": "code",
   "execution_count": 6,
   "metadata": {
    "scrolled": true
   },
   "outputs": [],
   "source": [
    "df.columns= df.columns.str.strip().str.lower()"
   ]
  },
  {
   "cell_type": "code",
   "execution_count": 7,
   "metadata": {},
   "outputs": [
    {
     "data": {
      "text/plain": [
       "'2016-04-07 14:36:58'"
      ]
     },
     "execution_count": 7,
     "metadata": {},
     "output_type": "execute_result"
    }
   ],
   "source": [
    "df['datecrawled'].max()"
   ]
  },
  {
   "cell_type": "code",
   "execution_count": 8,
   "metadata": {
    "scrolled": false
   },
   "outputs": [
    {
     "data": {
      "image/png": "[encoded data removed]",
      "text/plain": [
       "<Figure size 1800x720 with 2 Axes>"
      ]
     },
     "metadata": {
      "needs_background": "light"
     },
     "output_type": "display_data"
    },
    {
     "data": {
      "text/plain": [
       "<Figure size 1080x648 with 0 Axes>"
      ]
     },
     "metadata": {},
     "output_type": "display_data"
    }
   ],
   "source": [
    "msno.matrix(df)\n",
    "plt.figure(figsize = (15,9))\n",
    "plt.show()"
   ]
  },
  {
   "cell_type": "code",
   "execution_count": 9,
   "metadata": {},
   "outputs": [],
   "source": [
    "numeric_column = ['power', 'kilometer', 'registrationyear','price']\n",
    "df_numeric = df[numeric_column]"
   ]
  },
  {
   "cell_type": "code",
   "execution_count": 10,
   "metadata": {},
   "outputs": [
    {
     "data": {
      "image/png": "[encoded data removed]",
      "text/plain": [
       "<Figure size 864x576 with 2 Axes>"
      ]
     },
     "metadata": {
      "needs_background": "light"
     },
     "output_type": "display_data"
    }
   ],
   "source": [
    "plt.figure(figsize=(12, 8))\n",
    "sns.heatmap(df_numeric.corr(), annot = True);"
   ]
  },
  {
   "cell_type": "code",
   "execution_count": 11,
   "metadata": {},
   "outputs": [],
   "source": [
    "def get_numerical_summary(df):\n",
    "    total = df.shape[0]\n",
    "    missing_columns = [col for col in df.columns if df[col].isnull().sum() > 0]\n",
    "    missing_percent = {}\n",
    "    for col in missing_columns:\n",
    "        null_count = df[col].isnull().sum()\n",
    "        per = (null_count/total) * 100\n",
    "        missing_percent[col] = per\n",
    "        print(\"{} : {} ({}%)\".format(col, null_count, round(per, 3)))\n",
    "    return missing_percent"
   ]
  },
  {
   "cell_type": "code",
   "execution_count": 12,
   "metadata": {
    "scrolled": true
   },
   "outputs": [
    {
     "name": "stdout",
     "output_type": "stream",
     "text": [
      "vehicletype : 37490 (10.579%)\n",
      "gearbox : 19833 (5.597%)\n",
      "model : 19705 (5.561%)\n",
      "fueltype : 32895 (9.283%)\n",
      "repaired : 71154 (20.079%)\n"
     ]
    },
    {
     "data": {
      "text/plain": [
       "{'vehicletype': 10.57936783409384,\n",
       " 'gearbox': 5.596708515699737,\n",
       " 'model': 5.560587974681758,\n",
       " 'fueltype': 9.282696849893755,\n",
       " 'repaired': 20.079070121822166}"
      ]
     },
     "execution_count": 12,
     "metadata": {},
     "output_type": "execute_result"
    }
   ],
   "source": [
    "get_numerical_summary(df)"
   ]
  },
  {
   "cell_type": "code",
   "execution_count": 13,
   "metadata": {},
   "outputs": [],
   "source": [
    "cat_missing_cols = [col for col in df if df[col].dtype == 'object']\n",
    "df[cat_missing_cols] = df[cat_missing_cols].fillna('missing')"
   ]
  },
  {
   "cell_type": "code",
   "execution_count": 14,
   "metadata": {
    "scrolled": true
   },
   "outputs": [
    {
     "data": {
      "text/plain": [
       "0"
      ]
     },
     "execution_count": 14,
     "metadata": {},
     "output_type": "execute_result"
    }
   ],
   "source": [
    "df.drop_duplicates(inplace=True)\n",
    "df.duplicated().sum()"
   ]
  },
  {
   "cell_type": "code",
   "execution_count": 15,
   "metadata": {},
   "outputs": [],
   "source": [
    "columns_to_drop = ['datecrawled', 'registrationmonth', 'datecreated', 'numberofpictures', 'postalcode', 'lastseen']\n",
    "df = df.drop(columns_to_drop, axis=1)"
   ]
  },
  {
   "cell_type": "code",
   "execution_count": 16,
   "metadata": {},
   "outputs": [
    {
     "data": {
      "text/html": [
       "<div>\n",
       "<style scoped>\n",
       "    .dataframe tbody tr th:only-of-type {\n",
       "        vertical-align: middle;\n",
       "    }\n",
       "\n",
       "    .dataframe tbody tr th {\n",
       "        vertical-align: top;\n",
       "    }\n",
       "\n",
       "    .dataframe thead th {\n",
       "        text-align: right;\n",
       "    }\n",
       "</style>\n",
       "<table border=\"1\" class=\"dataframe\">\n",
       "  <thead>\n",
       "    <tr style=\"text-align: right;\">\n",
       "      <th></th>\n",
       "      <th>price</th>\n",
       "      <th>registrationyear</th>\n",
       "      <th>power</th>\n",
       "      <th>kilometer</th>\n",
       "    </tr>\n",
       "  </thead>\n",
       "  <tbody>\n",
       "    <tr>\n",
       "      <th>count</th>\n",
       "      <td>354365.000000</td>\n",
       "      <td>354365.000000</td>\n",
       "      <td>354365.000000</td>\n",
       "      <td>354365.000000</td>\n",
       "    </tr>\n",
       "    <tr>\n",
       "      <th>mean</th>\n",
       "      <td>4416.679830</td>\n",
       "      <td>2004.234481</td>\n",
       "      <td>110.093816</td>\n",
       "      <td>128211.363989</td>\n",
       "    </tr>\n",
       "    <tr>\n",
       "      <th>std</th>\n",
       "      <td>4514.176349</td>\n",
       "      <td>90.228466</td>\n",
       "      <td>189.851330</td>\n",
       "      <td>37905.083858</td>\n",
       "    </tr>\n",
       "    <tr>\n",
       "      <th>min</th>\n",
       "      <td>0.000000</td>\n",
       "      <td>1000.000000</td>\n",
       "      <td>0.000000</td>\n",
       "      <td>5000.000000</td>\n",
       "    </tr>\n",
       "    <tr>\n",
       "      <th>25%</th>\n",
       "      <td>1050.000000</td>\n",
       "      <td>1999.000000</td>\n",
       "      <td>69.000000</td>\n",
       "      <td>125000.000000</td>\n",
       "    </tr>\n",
       "    <tr>\n",
       "      <th>50%</th>\n",
       "      <td>2700.000000</td>\n",
       "      <td>2003.000000</td>\n",
       "      <td>105.000000</td>\n",
       "      <td>150000.000000</td>\n",
       "    </tr>\n",
       "    <tr>\n",
       "      <th>75%</th>\n",
       "      <td>6400.000000</td>\n",
       "      <td>2008.000000</td>\n",
       "      <td>143.000000</td>\n",
       "      <td>150000.000000</td>\n",
       "    </tr>\n",
       "    <tr>\n",
       "      <th>max</th>\n",
       "      <td>20000.000000</td>\n",
       "      <td>9999.000000</td>\n",
       "      <td>20000.000000</td>\n",
       "      <td>150000.000000</td>\n",
       "    </tr>\n",
       "  </tbody>\n",
       "</table>\n",
       "</div>"
      ],
      "text/plain": [
       "               price  registrationyear          power      kilometer\n",
       "count  354365.000000     354365.000000  354365.000000  354365.000000\n",
       "mean     4416.679830       2004.234481     110.093816  128211.363989\n",
       "std      4514.176349         90.228466     189.851330   37905.083858\n",
       "min         0.000000       1000.000000       0.000000    5000.000000\n",
       "25%      1050.000000       1999.000000      69.000000  125000.000000\n",
       "50%      2700.000000       2003.000000     105.000000  150000.000000\n",
       "75%      6400.000000       2008.000000     143.000000  150000.000000\n",
       "max     20000.000000       9999.000000   20000.000000  150000.000000"
      ]
     },
     "execution_count": 16,
     "metadata": {},
     "output_type": "execute_result"
    }
   ],
   "source": [
    "df.describe()"
   ]
  },
  {
   "cell_type": "code",
   "execution_count": 17,
   "metadata": {},
   "outputs": [
    {
     "data": {
      "image/png": "[encoded data removed]",
      "text/plain": [
       "<Figure size 720x432 with 1 Axes>"
      ]
     },
     "metadata": {
      "needs_background": "light"
     },
     "output_type": "display_data"
    },
    {
     "data": {
      "image/png": "[encoded data removed]",
      "text/plain": [
       "<Figure size 720x432 with 1 Axes>"
      ]
     },
     "metadata": {
      "needs_background": "light"
     },
     "output_type": "display_data"
    },
    {
     "data": {
      "image/png": "[encoded data removed]",
      "text/plain": [
       "<Figure size 720x432 with 1 Axes>"
      ]
     },
     "metadata": {
      "needs_background": "light"
     },
     "output_type": "display_data"
    },
    {
     "data": {
      "image/png": "[encoded data removed]",
      "text/plain": [
       "<Figure size 720x432 with 1 Axes>"
      ]
     },
     "metadata": {
      "needs_background": "light"
     },
     "output_type": "display_data"
    }
   ],
   "source": [
    "for column in numeric_column:\n",
    "    plt.figure(figsize=(10, 6))\n",
    "    plt.subplot(1, 2, 2)\n",
    "    sns.boxplot(x=df[column])\n",
    "    plt.title(f\"{column} Boxplot\")\n",
    "    \n",
    "    plt.tight_layout()\n",
    "    plt.show()"
   ]
  },
  {
   "cell_type": "code",
   "execution_count": 18,
   "metadata": {},
   "outputs": [],
   "source": [
    "df = df.drop(df[(df['power'] < 20) | (df['power'] > 500)].index)"
   ]
  },
  {
   "cell_type": "code",
   "execution_count": 19,
   "metadata": {},
   "outputs": [
    {
     "data": {
      "text/plain": [
       "array([1000, 1234, 1500, 1800, 1910, 1927, 1928, 1929, 1930, 1931, 1933,\n",
       "       1935, 1936, 1937, 1938, 1940, 1941, 1942, 1943, 1944, 1945, 1947,\n",
       "       1948, 1949, 1950, 1951, 1952, 1953, 1954, 1955, 1956, 1957, 1958,\n",
       "       1959, 1960, 1961, 1962, 1963, 1964, 1965, 1966, 1967, 1968, 1969,\n",
       "       1970, 1971, 1972, 1973, 1974, 1975, 1976, 1977, 1978, 1979, 1980,\n",
       "       1981, 1982, 1983, 1984, 1985, 1986, 1987, 1988, 1989, 1990, 1991,\n",
       "       1992, 1993, 1994, 1995, 1996, 1997, 1998, 1999, 2000, 2001, 2002,\n",
       "       2003, 2004, 2005, 2006, 2007, 2008, 2009, 2010, 2011, 2012, 2013,\n",
       "       2014, 2015, 2016, 2017, 2018, 2019, 2800, 2900, 3000, 3500, 4000,\n",
       "       4500, 5000, 5911, 6000, 6500, 8000, 8200, 9000, 9999])"
      ]
     },
     "execution_count": 19,
     "metadata": {},
     "output_type": "execute_result"
    }
   ],
   "source": [
    "np.sort(df[\"registrationyear\"].unique())"
   ]
  },
  {
   "cell_type": "code",
   "execution_count": 20,
   "metadata": {},
   "outputs": [
    {
     "data": {
      "text/html": [
       "<div>\n",
       "<style scoped>\n",
       "    .dataframe tbody tr th:only-of-type {\n",
       "        vertical-align: middle;\n",
       "    }\n",
       "\n",
       "    .dataframe tbody tr th {\n",
       "        vertical-align: top;\n",
       "    }\n",
       "\n",
       "    .dataframe thead th {\n",
       "        text-align: right;\n",
       "    }\n",
       "</style>\n",
       "<table border=\"1\" class=\"dataframe\">\n",
       "  <thead>\n",
       "    <tr style=\"text-align: right;\">\n",
       "      <th></th>\n",
       "      <th>price</th>\n",
       "      <th>vehicletype</th>\n",
       "      <th>registrationyear</th>\n",
       "      <th>gearbox</th>\n",
       "      <th>power</th>\n",
       "      <th>model</th>\n",
       "      <th>kilometer</th>\n",
       "      <th>fueltype</th>\n",
       "      <th>brand</th>\n",
       "      <th>repaired</th>\n",
       "    </tr>\n",
       "  </thead>\n",
       "  <tbody>\n",
       "    <tr>\n",
       "      <th>3333</th>\n",
       "      <td>10500</td>\n",
       "      <td>sedan</td>\n",
       "      <td>1955</td>\n",
       "      <td>manual</td>\n",
       "      <td>30</td>\n",
       "      <td>other</td>\n",
       "      <td>60000</td>\n",
       "      <td>petrol</td>\n",
       "      <td>ford</td>\n",
       "      <td>missing</td>\n",
       "    </tr>\n",
       "    <tr>\n",
       "      <th>12993</th>\n",
       "      <td>11000</td>\n",
       "      <td>other</td>\n",
       "      <td>1955</td>\n",
       "      <td>manual</td>\n",
       "      <td>40</td>\n",
       "      <td>missing</td>\n",
       "      <td>50000</td>\n",
       "      <td>petrol</td>\n",
       "      <td>sonstige_autos</td>\n",
       "      <td>no</td>\n",
       "    </tr>\n",
       "    <tr>\n",
       "      <th>64872</th>\n",
       "      <td>11800</td>\n",
       "      <td>sedan</td>\n",
       "      <td>1955</td>\n",
       "      <td>manual</td>\n",
       "      <td>56</td>\n",
       "      <td>other</td>\n",
       "      <td>60000</td>\n",
       "      <td>petrol</td>\n",
       "      <td>citroen</td>\n",
       "      <td>no</td>\n",
       "    </tr>\n",
       "    <tr>\n",
       "      <th>109349</th>\n",
       "      <td>12800</td>\n",
       "      <td>sedan</td>\n",
       "      <td>1955</td>\n",
       "      <td>auto</td>\n",
       "      <td>220</td>\n",
       "      <td>missing</td>\n",
       "      <td>100000</td>\n",
       "      <td>petrol</td>\n",
       "      <td>sonstige_autos</td>\n",
       "      <td>yes</td>\n",
       "    </tr>\n",
       "    <tr>\n",
       "      <th>171996</th>\n",
       "      <td>500</td>\n",
       "      <td>bus</td>\n",
       "      <td>1955</td>\n",
       "      <td>manual</td>\n",
       "      <td>67</td>\n",
       "      <td>missing</td>\n",
       "      <td>5000</td>\n",
       "      <td>missing</td>\n",
       "      <td>sonstige_autos</td>\n",
       "      <td>no</td>\n",
       "    </tr>\n",
       "    <tr>\n",
       "      <th>186403</th>\n",
       "      <td>18900</td>\n",
       "      <td>other</td>\n",
       "      <td>1955</td>\n",
       "      <td>manual</td>\n",
       "      <td>220</td>\n",
       "      <td>other</td>\n",
       "      <td>10000</td>\n",
       "      <td>petrol</td>\n",
       "      <td>chevrolet</td>\n",
       "      <td>no</td>\n",
       "    </tr>\n",
       "    <tr>\n",
       "      <th>199144</th>\n",
       "      <td>19950</td>\n",
       "      <td>sedan</td>\n",
       "      <td>1955</td>\n",
       "      <td>manual</td>\n",
       "      <td>45</td>\n",
       "      <td>other</td>\n",
       "      <td>10000</td>\n",
       "      <td>petrol</td>\n",
       "      <td>opel</td>\n",
       "      <td>missing</td>\n",
       "    </tr>\n",
       "    <tr>\n",
       "      <th>219940</th>\n",
       "      <td>4999</td>\n",
       "      <td>sedan</td>\n",
       "      <td>1955</td>\n",
       "      <td>manual</td>\n",
       "      <td>22</td>\n",
       "      <td>other</td>\n",
       "      <td>20000</td>\n",
       "      <td>petrol</td>\n",
       "      <td>opel</td>\n",
       "      <td>no</td>\n",
       "    </tr>\n",
       "    <tr>\n",
       "      <th>316508</th>\n",
       "      <td>9700</td>\n",
       "      <td>wagon</td>\n",
       "      <td>1955</td>\n",
       "      <td>manual</td>\n",
       "      <td>75</td>\n",
       "      <td>other</td>\n",
       "      <td>150000</td>\n",
       "      <td>petrol</td>\n",
       "      <td>opel</td>\n",
       "      <td>no</td>\n",
       "    </tr>\n",
       "  </tbody>\n",
       "</table>\n",
       "</div>"
      ],
      "text/plain": [
       "        price vehicletype  registrationyear gearbox  power    model  \\\n",
       "3333    10500       sedan              1955  manual     30    other   \n",
       "12993   11000       other              1955  manual     40  missing   \n",
       "64872   11800       sedan              1955  manual     56    other   \n",
       "109349  12800       sedan              1955    auto    220  missing   \n",
       "171996    500         bus              1955  manual     67  missing   \n",
       "186403  18900       other              1955  manual    220    other   \n",
       "199144  19950       sedan              1955  manual     45    other   \n",
       "219940   4999       sedan              1955  manual     22    other   \n",
       "316508   9700       wagon              1955  manual     75    other   \n",
       "\n",
       "        kilometer fueltype           brand repaired  \n",
       "3333        60000   petrol            ford  missing  \n",
       "12993       50000   petrol  sonstige_autos       no  \n",
       "64872       60000   petrol         citroen       no  \n",
       "109349     100000   petrol  sonstige_autos      yes  \n",
       "171996       5000  missing  sonstige_autos       no  \n",
       "186403      10000   petrol       chevrolet       no  \n",
       "199144      10000   petrol            opel  missing  \n",
       "219940      20000   petrol            opel       no  \n",
       "316508     150000   petrol            opel       no  "
      ]
     },
     "execution_count": 20,
     "metadata": {},
     "output_type": "execute_result"
    }
   ],
   "source": [
    "df[df[\"registrationyear\"] == 1955]"
   ]
  },
  {
   "cell_type": "code",
   "execution_count": 21,
   "metadata": {},
   "outputs": [],
   "source": [
    "df = df.drop(df[(df[\"registrationyear\"] < 1955) | (df['registrationyear'] > 2016)].index)"
   ]
  },
  {
   "cell_type": "code",
   "execution_count": 22,
   "metadata": {},
   "outputs": [
    {
     "data": {
      "text/plain": [
       "150000    201414\n",
       "125000     32241\n",
       "100000     13007\n",
       "90000      10427\n",
       "80000       9131\n",
       "70000       7862\n",
       "60000       6864\n",
       "50000       5685\n",
       "40000       4523\n",
       "30000       3931\n",
       "20000       3287\n",
       "5000        3124\n",
       "10000        925\n",
       "Name: kilometer, dtype: int64"
      ]
     },
     "execution_count": 22,
     "metadata": {},
     "output_type": "execute_result"
    }
   ],
   "source": [
    "df['kilometer'].value_counts()"
   ]
  },
  {
   "cell_type": "markdown",
   "metadata": {},
   "source": [
    "- По какой то причине 2/3 всего датасета имеет пробег ровно 150000"
   ]
  },
  {
   "cell_type": "code",
   "execution_count": 23,
   "metadata": {},
   "outputs": [
    {
     "data": {
      "text/plain": [
       "registrationyear  kilometer\n",
       "1955              5000            1\n",
       "                  10000           2\n",
       "                  20000           1\n",
       "                  50000           1\n",
       "                  60000           2\n",
       "                               ... \n",
       "2016              80000         111\n",
       "                  90000         141\n",
       "                  100000        199\n",
       "                  125000        554\n",
       "                  150000       5189\n",
       "Name: kilometer, Length: 763, dtype: int64"
      ]
     },
     "execution_count": 23,
     "metadata": {},
     "output_type": "execute_result"
    }
   ],
   "source": [
    "df.groupby(['registrationyear', 'kilometer'])['kilometer'].count()"
   ]
  },
  {
   "cell_type": "code",
   "execution_count": 24,
   "metadata": {},
   "outputs": [
    {
     "data": {
      "text/html": [
       "<div>\n",
       "<style scoped>\n",
       "    .dataframe tbody tr th:only-of-type {\n",
       "        vertical-align: middle;\n",
       "    }\n",
       "\n",
       "    .dataframe tbody tr th {\n",
       "        vertical-align: top;\n",
       "    }\n",
       "\n",
       "    .dataframe thead th {\n",
       "        text-align: right;\n",
       "    }\n",
       "</style>\n",
       "<table border=\"1\" class=\"dataframe\">\n",
       "  <thead>\n",
       "    <tr style=\"text-align: right;\">\n",
       "      <th></th>\n",
       "      <th>price</th>\n",
       "      <th>vehicletype</th>\n",
       "      <th>registrationyear</th>\n",
       "      <th>gearbox</th>\n",
       "      <th>power</th>\n",
       "      <th>model</th>\n",
       "      <th>kilometer</th>\n",
       "      <th>fueltype</th>\n",
       "      <th>brand</th>\n",
       "      <th>repaired</th>\n",
       "    </tr>\n",
       "  </thead>\n",
       "  <tbody>\n",
       "    <tr>\n",
       "      <th>16</th>\n",
       "      <td>300</td>\n",
       "      <td>missing</td>\n",
       "      <td>2016</td>\n",
       "      <td>missing</td>\n",
       "      <td>60</td>\n",
       "      <td>polo</td>\n",
       "      <td>150000</td>\n",
       "      <td>petrol</td>\n",
       "      <td>volkswagen</td>\n",
       "      <td>missing</td>\n",
       "    </tr>\n",
       "    <tr>\n",
       "      <th>31</th>\n",
       "      <td>899</td>\n",
       "      <td>missing</td>\n",
       "      <td>2016</td>\n",
       "      <td>manual</td>\n",
       "      <td>60</td>\n",
       "      <td>clio</td>\n",
       "      <td>150000</td>\n",
       "      <td>petrol</td>\n",
       "      <td>renault</td>\n",
       "      <td>missing</td>\n",
       "    </tr>\n",
       "    <tr>\n",
       "      <th>35</th>\n",
       "      <td>350</td>\n",
       "      <td>missing</td>\n",
       "      <td>2016</td>\n",
       "      <td>manual</td>\n",
       "      <td>75</td>\n",
       "      <td>golf</td>\n",
       "      <td>150000</td>\n",
       "      <td>petrol</td>\n",
       "      <td>volkswagen</td>\n",
       "      <td>no</td>\n",
       "    </tr>\n",
       "    <tr>\n",
       "      <th>52</th>\n",
       "      <td>1400</td>\n",
       "      <td>missing</td>\n",
       "      <td>2016</td>\n",
       "      <td>manual</td>\n",
       "      <td>55</td>\n",
       "      <td>other</td>\n",
       "      <td>5000</td>\n",
       "      <td>missing</td>\n",
       "      <td>hyundai</td>\n",
       "      <td>missing</td>\n",
       "    </tr>\n",
       "    <tr>\n",
       "      <th>79</th>\n",
       "      <td>150</td>\n",
       "      <td>missing</td>\n",
       "      <td>2016</td>\n",
       "      <td>manual</td>\n",
       "      <td>75</td>\n",
       "      <td>astra</td>\n",
       "      <td>150000</td>\n",
       "      <td>petrol</td>\n",
       "      <td>opel</td>\n",
       "      <td>yes</td>\n",
       "    </tr>\n",
       "    <tr>\n",
       "      <th>...</th>\n",
       "      <td>...</td>\n",
       "      <td>...</td>\n",
       "      <td>...</td>\n",
       "      <td>...</td>\n",
       "      <td>...</td>\n",
       "      <td>...</td>\n",
       "      <td>...</td>\n",
       "      <td>...</td>\n",
       "      <td>...</td>\n",
       "      <td>...</td>\n",
       "    </tr>\n",
       "    <tr>\n",
       "      <th>354068</th>\n",
       "      <td>3700</td>\n",
       "      <td>missing</td>\n",
       "      <td>2016</td>\n",
       "      <td>manual</td>\n",
       "      <td>90</td>\n",
       "      <td>golf</td>\n",
       "      <td>150000</td>\n",
       "      <td>gasoline</td>\n",
       "      <td>volkswagen</td>\n",
       "      <td>missing</td>\n",
       "    </tr>\n",
       "    <tr>\n",
       "      <th>354100</th>\n",
       "      <td>600</td>\n",
       "      <td>missing</td>\n",
       "      <td>2016</td>\n",
       "      <td>manual</td>\n",
       "      <td>170</td>\n",
       "      <td>vectra</td>\n",
       "      <td>150000</td>\n",
       "      <td>petrol</td>\n",
       "      <td>opel</td>\n",
       "      <td>yes</td>\n",
       "    </tr>\n",
       "    <tr>\n",
       "      <th>354107</th>\n",
       "      <td>395</td>\n",
       "      <td>missing</td>\n",
       "      <td>2016</td>\n",
       "      <td>manual</td>\n",
       "      <td>60</td>\n",
       "      <td>golf</td>\n",
       "      <td>150000</td>\n",
       "      <td>petrol</td>\n",
       "      <td>volkswagen</td>\n",
       "      <td>missing</td>\n",
       "    </tr>\n",
       "    <tr>\n",
       "      <th>354115</th>\n",
       "      <td>299</td>\n",
       "      <td>missing</td>\n",
       "      <td>2016</td>\n",
       "      <td>manual</td>\n",
       "      <td>60</td>\n",
       "      <td>astra</td>\n",
       "      <td>150000</td>\n",
       "      <td>petrol</td>\n",
       "      <td>opel</td>\n",
       "      <td>yes</td>\n",
       "    </tr>\n",
       "    <tr>\n",
       "      <th>354361</th>\n",
       "      <td>5250</td>\n",
       "      <td>missing</td>\n",
       "      <td>2016</td>\n",
       "      <td>auto</td>\n",
       "      <td>150</td>\n",
       "      <td>159</td>\n",
       "      <td>150000</td>\n",
       "      <td>missing</td>\n",
       "      <td>alfa_romeo</td>\n",
       "      <td>no</td>\n",
       "    </tr>\n",
       "  </tbody>\n",
       "</table>\n",
       "<p>6758 rows × 10 columns</p>\n",
       "</div>"
      ],
      "text/plain": [
       "        price vehicletype  registrationyear  gearbox  power   model  \\\n",
       "16        300     missing              2016  missing     60    polo   \n",
       "31        899     missing              2016   manual     60    clio   \n",
       "35        350     missing              2016   manual     75    golf   \n",
       "52       1400     missing              2016   manual     55   other   \n",
       "79        150     missing              2016   manual     75   astra   \n",
       "...       ...         ...               ...      ...    ...     ...   \n",
       "354068   3700     missing              2016   manual     90    golf   \n",
       "354100    600     missing              2016   manual    170  vectra   \n",
       "354107    395     missing              2016   manual     60    golf   \n",
       "354115    299     missing              2016   manual     60   astra   \n",
       "354361   5250     missing              2016     auto    150     159   \n",
       "\n",
       "        kilometer  fueltype       brand repaired  \n",
       "16         150000    petrol  volkswagen  missing  \n",
       "31         150000    petrol     renault  missing  \n",
       "35         150000    petrol  volkswagen       no  \n",
       "52           5000   missing     hyundai  missing  \n",
       "79         150000    petrol        opel      yes  \n",
       "...           ...       ...         ...      ...  \n",
       "354068     150000  gasoline  volkswagen  missing  \n",
       "354100     150000    petrol        opel      yes  \n",
       "354107     150000    petrol  volkswagen  missing  \n",
       "354115     150000    petrol        opel      yes  \n",
       "354361     150000   missing  alfa_romeo       no  \n",
       "\n",
       "[6758 rows x 10 columns]"
      ]
     },
     "execution_count": 24,
     "metadata": {},
     "output_type": "execute_result"
    }
   ],
   "source": [
    "df[df['registrationyear'] == 2016]"
   ]
  },
  {
   "cell_type": "markdown",
   "metadata": {},
   "source": [
    "- почти все машины 2016 года имеют пробег 125к + км что очень странно учитывая что наш датасет примерно тех же лет хмм\n",
    "- по исследованиям 2022 года: Средний пробег автомобиля по России в 2022 году составляет 18,7 тыс. км"
   ]
  },
  {
   "cell_type": "code",
   "execution_count": 25,
   "metadata": {
    "scrolled": true
   },
   "outputs": [
    {
     "data": {
      "text/html": [
       "<div>\n",
       "<style scoped>\n",
       "    .dataframe tbody tr th:only-of-type {\n",
       "        vertical-align: middle;\n",
       "    }\n",
       "\n",
       "    .dataframe tbody tr th {\n",
       "        vertical-align: top;\n",
       "    }\n",
       "\n",
       "    .dataframe thead th {\n",
       "        text-align: right;\n",
       "    }\n",
       "</style>\n",
       "<table border=\"1\" class=\"dataframe\">\n",
       "  <thead>\n",
       "    <tr style=\"text-align: right;\">\n",
       "      <th></th>\n",
       "      <th>price</th>\n",
       "      <th>vehicletype</th>\n",
       "      <th>registrationyear</th>\n",
       "      <th>gearbox</th>\n",
       "      <th>power</th>\n",
       "      <th>model</th>\n",
       "      <th>kilometer</th>\n",
       "      <th>fueltype</th>\n",
       "      <th>brand</th>\n",
       "      <th>repaired</th>\n",
       "    </tr>\n",
       "  </thead>\n",
       "  <tbody>\n",
       "    <tr>\n",
       "      <th>751</th>\n",
       "      <td>9000</td>\n",
       "      <td>missing</td>\n",
       "      <td>2016</td>\n",
       "      <td>manual</td>\n",
       "      <td>122</td>\n",
       "      <td>1er</td>\n",
       "      <td>80000</td>\n",
       "      <td>petrol</td>\n",
       "      <td>bmw</td>\n",
       "      <td>no</td>\n",
       "    </tr>\n",
       "    <tr>\n",
       "      <th>1022</th>\n",
       "      <td>8500</td>\n",
       "      <td>missing</td>\n",
       "      <td>2016</td>\n",
       "      <td>manual</td>\n",
       "      <td>177</td>\n",
       "      <td>1er</td>\n",
       "      <td>150000</td>\n",
       "      <td>missing</td>\n",
       "      <td>bmw</td>\n",
       "      <td>no</td>\n",
       "    </tr>\n",
       "    <tr>\n",
       "      <th>26460</th>\n",
       "      <td>13500</td>\n",
       "      <td>missing</td>\n",
       "      <td>2016</td>\n",
       "      <td>manual</td>\n",
       "      <td>122</td>\n",
       "      <td>1er</td>\n",
       "      <td>40000</td>\n",
       "      <td>petrol</td>\n",
       "      <td>bmw</td>\n",
       "      <td>missing</td>\n",
       "    </tr>\n",
       "    <tr>\n",
       "      <th>56227</th>\n",
       "      <td>8000</td>\n",
       "      <td>missing</td>\n",
       "      <td>2016</td>\n",
       "      <td>manual</td>\n",
       "      <td>122</td>\n",
       "      <td>1er</td>\n",
       "      <td>80000</td>\n",
       "      <td>petrol</td>\n",
       "      <td>bmw</td>\n",
       "      <td>no</td>\n",
       "    </tr>\n",
       "    <tr>\n",
       "      <th>61442</th>\n",
       "      <td>0</td>\n",
       "      <td>missing</td>\n",
       "      <td>2016</td>\n",
       "      <td>manual</td>\n",
       "      <td>170</td>\n",
       "      <td>1er</td>\n",
       "      <td>125000</td>\n",
       "      <td>gasoline</td>\n",
       "      <td>bmw</td>\n",
       "      <td>missing</td>\n",
       "    </tr>\n",
       "    <tr>\n",
       "      <th>62617</th>\n",
       "      <td>13599</td>\n",
       "      <td>coupe</td>\n",
       "      <td>2016</td>\n",
       "      <td>manual</td>\n",
       "      <td>102</td>\n",
       "      <td>1er</td>\n",
       "      <td>80000</td>\n",
       "      <td>petrol</td>\n",
       "      <td>bmw</td>\n",
       "      <td>no</td>\n",
       "    </tr>\n",
       "    <tr>\n",
       "      <th>65093</th>\n",
       "      <td>1699</td>\n",
       "      <td>missing</td>\n",
       "      <td>2016</td>\n",
       "      <td>manual</td>\n",
       "      <td>101</td>\n",
       "      <td>1er</td>\n",
       "      <td>150000</td>\n",
       "      <td>petrol</td>\n",
       "      <td>bmw</td>\n",
       "      <td>missing</td>\n",
       "    </tr>\n",
       "    <tr>\n",
       "      <th>77668</th>\n",
       "      <td>7000</td>\n",
       "      <td>missing</td>\n",
       "      <td>2016</td>\n",
       "      <td>manual</td>\n",
       "      <td>170</td>\n",
       "      <td>1er</td>\n",
       "      <td>80000</td>\n",
       "      <td>petrol</td>\n",
       "      <td>bmw</td>\n",
       "      <td>yes</td>\n",
       "    </tr>\n",
       "    <tr>\n",
       "      <th>79810</th>\n",
       "      <td>10750</td>\n",
       "      <td>missing</td>\n",
       "      <td>2016</td>\n",
       "      <td>manual</td>\n",
       "      <td>143</td>\n",
       "      <td>1er</td>\n",
       "      <td>150000</td>\n",
       "      <td>gasoline</td>\n",
       "      <td>bmw</td>\n",
       "      <td>missing</td>\n",
       "    </tr>\n",
       "    <tr>\n",
       "      <th>84124</th>\n",
       "      <td>6750</td>\n",
       "      <td>missing</td>\n",
       "      <td>2016</td>\n",
       "      <td>manual</td>\n",
       "      <td>122</td>\n",
       "      <td>1er</td>\n",
       "      <td>150000</td>\n",
       "      <td>gasoline</td>\n",
       "      <td>bmw</td>\n",
       "      <td>missing</td>\n",
       "    </tr>\n",
       "    <tr>\n",
       "      <th>91690</th>\n",
       "      <td>8690</td>\n",
       "      <td>missing</td>\n",
       "      <td>2016</td>\n",
       "      <td>auto</td>\n",
       "      <td>140</td>\n",
       "      <td>1er</td>\n",
       "      <td>100000</td>\n",
       "      <td>petrol</td>\n",
       "      <td>bmw</td>\n",
       "      <td>no</td>\n",
       "    </tr>\n",
       "    <tr>\n",
       "      <th>113402</th>\n",
       "      <td>9900</td>\n",
       "      <td>missing</td>\n",
       "      <td>2016</td>\n",
       "      <td>manual</td>\n",
       "      <td>143</td>\n",
       "      <td>1er</td>\n",
       "      <td>90000</td>\n",
       "      <td>gasoline</td>\n",
       "      <td>bmw</td>\n",
       "      <td>no</td>\n",
       "    </tr>\n",
       "    <tr>\n",
       "      <th>117501</th>\n",
       "      <td>10900</td>\n",
       "      <td>missing</td>\n",
       "      <td>2016</td>\n",
       "      <td>manual</td>\n",
       "      <td>122</td>\n",
       "      <td>1er</td>\n",
       "      <td>60000</td>\n",
       "      <td>petrol</td>\n",
       "      <td>bmw</td>\n",
       "      <td>no</td>\n",
       "    </tr>\n",
       "    <tr>\n",
       "      <th>119277</th>\n",
       "      <td>7590</td>\n",
       "      <td>missing</td>\n",
       "      <td>2016</td>\n",
       "      <td>manual</td>\n",
       "      <td>177</td>\n",
       "      <td>1er</td>\n",
       "      <td>150000</td>\n",
       "      <td>gasoline</td>\n",
       "      <td>bmw</td>\n",
       "      <td>no</td>\n",
       "    </tr>\n",
       "    <tr>\n",
       "      <th>143334</th>\n",
       "      <td>7000</td>\n",
       "      <td>missing</td>\n",
       "      <td>2016</td>\n",
       "      <td>manual</td>\n",
       "      <td>170</td>\n",
       "      <td>1er</td>\n",
       "      <td>80000</td>\n",
       "      <td>petrol</td>\n",
       "      <td>bmw</td>\n",
       "      <td>yes</td>\n",
       "    </tr>\n",
       "    <tr>\n",
       "      <th>144292</th>\n",
       "      <td>15500</td>\n",
       "      <td>missing</td>\n",
       "      <td>2016</td>\n",
       "      <td>manual</td>\n",
       "      <td>143</td>\n",
       "      <td>1er</td>\n",
       "      <td>70000</td>\n",
       "      <td>missing</td>\n",
       "      <td>bmw</td>\n",
       "      <td>no</td>\n",
       "    </tr>\n",
       "    <tr>\n",
       "      <th>146700</th>\n",
       "      <td>8900</td>\n",
       "      <td>missing</td>\n",
       "      <td>2016</td>\n",
       "      <td>missing</td>\n",
       "      <td>143</td>\n",
       "      <td>1er</td>\n",
       "      <td>150000</td>\n",
       "      <td>missing</td>\n",
       "      <td>bmw</td>\n",
       "      <td>no</td>\n",
       "    </tr>\n",
       "    <tr>\n",
       "      <th>168343</th>\n",
       "      <td>8490</td>\n",
       "      <td>missing</td>\n",
       "      <td>2016</td>\n",
       "      <td>manual</td>\n",
       "      <td>143</td>\n",
       "      <td>1er</td>\n",
       "      <td>150000</td>\n",
       "      <td>gasoline</td>\n",
       "      <td>bmw</td>\n",
       "      <td>no</td>\n",
       "    </tr>\n",
       "    <tr>\n",
       "      <th>173859</th>\n",
       "      <td>11999</td>\n",
       "      <td>missing</td>\n",
       "      <td>2016</td>\n",
       "      <td>manual</td>\n",
       "      <td>177</td>\n",
       "      <td>1er</td>\n",
       "      <td>150000</td>\n",
       "      <td>gasoline</td>\n",
       "      <td>bmw</td>\n",
       "      <td>no</td>\n",
       "    </tr>\n",
       "    <tr>\n",
       "      <th>184021</th>\n",
       "      <td>5999</td>\n",
       "      <td>missing</td>\n",
       "      <td>2016</td>\n",
       "      <td>manual</td>\n",
       "      <td>122</td>\n",
       "      <td>1er</td>\n",
       "      <td>150000</td>\n",
       "      <td>missing</td>\n",
       "      <td>bmw</td>\n",
       "      <td>missing</td>\n",
       "    </tr>\n",
       "    <tr>\n",
       "      <th>194053</th>\n",
       "      <td>10900</td>\n",
       "      <td>missing</td>\n",
       "      <td>2016</td>\n",
       "      <td>manual</td>\n",
       "      <td>143</td>\n",
       "      <td>1er</td>\n",
       "      <td>125000</td>\n",
       "      <td>gasoline</td>\n",
       "      <td>bmw</td>\n",
       "      <td>no</td>\n",
       "    </tr>\n",
       "    <tr>\n",
       "      <th>204997</th>\n",
       "      <td>9000</td>\n",
       "      <td>missing</td>\n",
       "      <td>2016</td>\n",
       "      <td>manual</td>\n",
       "      <td>122</td>\n",
       "      <td>1er</td>\n",
       "      <td>80000</td>\n",
       "      <td>petrol</td>\n",
       "      <td>bmw</td>\n",
       "      <td>no</td>\n",
       "    </tr>\n",
       "    <tr>\n",
       "      <th>239236</th>\n",
       "      <td>6100</td>\n",
       "      <td>missing</td>\n",
       "      <td>2016</td>\n",
       "      <td>manual</td>\n",
       "      <td>128</td>\n",
       "      <td>1er</td>\n",
       "      <td>150000</td>\n",
       "      <td>petrol</td>\n",
       "      <td>bmw</td>\n",
       "      <td>missing</td>\n",
       "    </tr>\n",
       "    <tr>\n",
       "      <th>244137</th>\n",
       "      <td>13299</td>\n",
       "      <td>coupe</td>\n",
       "      <td>2016</td>\n",
       "      <td>manual</td>\n",
       "      <td>102</td>\n",
       "      <td>1er</td>\n",
       "      <td>80000</td>\n",
       "      <td>petrol</td>\n",
       "      <td>bmw</td>\n",
       "      <td>no</td>\n",
       "    </tr>\n",
       "    <tr>\n",
       "      <th>267798</th>\n",
       "      <td>13199</td>\n",
       "      <td>missing</td>\n",
       "      <td>2016</td>\n",
       "      <td>manual</td>\n",
       "      <td>136</td>\n",
       "      <td>1er</td>\n",
       "      <td>50000</td>\n",
       "      <td>petrol</td>\n",
       "      <td>bmw</td>\n",
       "      <td>no</td>\n",
       "    </tr>\n",
       "    <tr>\n",
       "      <th>272443</th>\n",
       "      <td>16500</td>\n",
       "      <td>missing</td>\n",
       "      <td>2016</td>\n",
       "      <td>manual</td>\n",
       "      <td>143</td>\n",
       "      <td>1er</td>\n",
       "      <td>80000</td>\n",
       "      <td>gasoline</td>\n",
       "      <td>bmw</td>\n",
       "      <td>missing</td>\n",
       "    </tr>\n",
       "    <tr>\n",
       "      <th>295247</th>\n",
       "      <td>260</td>\n",
       "      <td>small</td>\n",
       "      <td>2016</td>\n",
       "      <td>manual</td>\n",
       "      <td>109</td>\n",
       "      <td>1er</td>\n",
       "      <td>5000</td>\n",
       "      <td>petrol</td>\n",
       "      <td>bmw</td>\n",
       "      <td>missing</td>\n",
       "    </tr>\n",
       "    <tr>\n",
       "      <th>309588</th>\n",
       "      <td>12500</td>\n",
       "      <td>missing</td>\n",
       "      <td>2016</td>\n",
       "      <td>manual</td>\n",
       "      <td>143</td>\n",
       "      <td>1er</td>\n",
       "      <td>150000</td>\n",
       "      <td>missing</td>\n",
       "      <td>bmw</td>\n",
       "      <td>missing</td>\n",
       "    </tr>\n",
       "    <tr>\n",
       "      <th>310843</th>\n",
       "      <td>8900</td>\n",
       "      <td>missing</td>\n",
       "      <td>2016</td>\n",
       "      <td>manual</td>\n",
       "      <td>122</td>\n",
       "      <td>1er</td>\n",
       "      <td>80000</td>\n",
       "      <td>petrol</td>\n",
       "      <td>bmw</td>\n",
       "      <td>no</td>\n",
       "    </tr>\n",
       "    <tr>\n",
       "      <th>338889</th>\n",
       "      <td>5780</td>\n",
       "      <td>missing</td>\n",
       "      <td>2016</td>\n",
       "      <td>missing</td>\n",
       "      <td>116</td>\n",
       "      <td>1er</td>\n",
       "      <td>150000</td>\n",
       "      <td>missing</td>\n",
       "      <td>bmw</td>\n",
       "      <td>missing</td>\n",
       "    </tr>\n",
       "    <tr>\n",
       "      <th>346882</th>\n",
       "      <td>6000</td>\n",
       "      <td>missing</td>\n",
       "      <td>2016</td>\n",
       "      <td>manual</td>\n",
       "      <td>122</td>\n",
       "      <td>1er</td>\n",
       "      <td>150000</td>\n",
       "      <td>gasoline</td>\n",
       "      <td>bmw</td>\n",
       "      <td>missing</td>\n",
       "    </tr>\n",
       "    <tr>\n",
       "      <th>349937</th>\n",
       "      <td>0</td>\n",
       "      <td>missing</td>\n",
       "      <td>2016</td>\n",
       "      <td>manual</td>\n",
       "      <td>177</td>\n",
       "      <td>1er</td>\n",
       "      <td>150000</td>\n",
       "      <td>gasoline</td>\n",
       "      <td>bmw</td>\n",
       "      <td>no</td>\n",
       "    </tr>\n",
       "  </tbody>\n",
       "</table>\n",
       "</div>"
      ],
      "text/plain": [
       "        price vehicletype  registrationyear  gearbox  power model  kilometer  \\\n",
       "751      9000     missing              2016   manual    122   1er      80000   \n",
       "1022     8500     missing              2016   manual    177   1er     150000   \n",
       "26460   13500     missing              2016   manual    122   1er      40000   \n",
       "56227    8000     missing              2016   manual    122   1er      80000   \n",
       "61442       0     missing              2016   manual    170   1er     125000   \n",
       "62617   13599       coupe              2016   manual    102   1er      80000   \n",
       "65093    1699     missing              2016   manual    101   1er     150000   \n",
       "77668    7000     missing              2016   manual    170   1er      80000   \n",
       "79810   10750     missing              2016   manual    143   1er     150000   \n",
       "84124    6750     missing              2016   manual    122   1er     150000   \n",
       "91690    8690     missing              2016     auto    140   1er     100000   \n",
       "113402   9900     missing              2016   manual    143   1er      90000   \n",
       "117501  10900     missing              2016   manual    122   1er      60000   \n",
       "119277   7590     missing              2016   manual    177   1er     150000   \n",
       "143334   7000     missing              2016   manual    170   1er      80000   \n",
       "144292  15500     missing              2016   manual    143   1er      70000   \n",
       "146700   8900     missing              2016  missing    143   1er     150000   \n",
       "168343   8490     missing              2016   manual    143   1er     150000   \n",
       "173859  11999     missing              2016   manual    177   1er     150000   \n",
       "184021   5999     missing              2016   manual    122   1er     150000   \n",
       "194053  10900     missing              2016   manual    143   1er     125000   \n",
       "204997   9000     missing              2016   manual    122   1er      80000   \n",
       "239236   6100     missing              2016   manual    128   1er     150000   \n",
       "244137  13299       coupe              2016   manual    102   1er      80000   \n",
       "267798  13199     missing              2016   manual    136   1er      50000   \n",
       "272443  16500     missing              2016   manual    143   1er      80000   \n",
       "295247    260       small              2016   manual    109   1er       5000   \n",
       "309588  12500     missing              2016   manual    143   1er     150000   \n",
       "310843   8900     missing              2016   manual    122   1er      80000   \n",
       "338889   5780     missing              2016  missing    116   1er     150000   \n",
       "346882   6000     missing              2016   manual    122   1er     150000   \n",
       "349937      0     missing              2016   manual    177   1er     150000   \n",
       "\n",
       "        fueltype brand repaired  \n",
       "751       petrol   bmw       no  \n",
       "1022     missing   bmw       no  \n",
       "26460     petrol   bmw  missing  \n",
       "56227     petrol   bmw       no  \n",
       "61442   gasoline   bmw  missing  \n",
       "62617     petrol   bmw       no  \n",
       "65093     petrol   bmw  missing  \n",
       "77668     petrol   bmw      yes  \n",
       "79810   gasoline   bmw  missing  \n",
       "84124   gasoline   bmw  missing  \n",
       "91690     petrol   bmw       no  \n",
       "113402  gasoline   bmw       no  \n",
       "117501    petrol   bmw       no  \n",
       "119277  gasoline   bmw       no  \n",
       "143334    petrol   bmw      yes  \n",
       "144292   missing   bmw       no  \n",
       "146700   missing   bmw       no  \n",
       "168343  gasoline   bmw       no  \n",
       "173859  gasoline   bmw       no  \n",
       "184021   missing   bmw  missing  \n",
       "194053  gasoline   bmw       no  \n",
       "204997    petrol   bmw       no  \n",
       "239236    petrol   bmw  missing  \n",
       "244137    petrol   bmw       no  \n",
       "267798    petrol   bmw       no  \n",
       "272443  gasoline   bmw  missing  \n",
       "295247    petrol   bmw  missing  \n",
       "309588   missing   bmw  missing  \n",
       "310843    petrol   bmw       no  \n",
       "338889   missing   bmw  missing  \n",
       "346882  gasoline   bmw  missing  \n",
       "349937  gasoline   bmw       no  "
      ]
     },
     "execution_count": 25,
     "metadata": {},
     "output_type": "execute_result"
    }
   ],
   "source": [
    "df.query('brand == \"bmw\" & model == \"1er\" & registrationyear == 2016')"
   ]
  },
  {
   "cell_type": "markdown",
   "metadata": {},
   "source": [
    "- на первый взгляд почти все значения заполнены 125к и 150к на прайсе пробежавшись глазами это никак не отражается, это очивидно аномалия т.к. 2200 из 2900 годовалых машин с пробегом 150к быть не может. Попробуй оставить столбец как есть и обучить модель, так же попробуем обучить модель удалив этот столбец."
   ]
  },
  {
   "cell_type": "code",
   "execution_count": 26,
   "metadata": {},
   "outputs": [],
   "source": [
    "df = df.drop(df[df[\"price\"] <= 500].index)"
   ]
  },
  {
   "cell_type": "code",
   "execution_count": 27,
   "metadata": {},
   "outputs": [],
   "source": [
    "df.reset_index(drop = True,inplace=True)"
   ]
  },
  {
   "cell_type": "code",
   "execution_count": 28,
   "metadata": {},
   "outputs": [
    {
     "data": {
      "image/png": "[encoded data removed]",
      "text/plain": [
       "<Figure size 720x432 with 1 Axes>"
      ]
     },
     "metadata": {
      "needs_background": "light"
     },
     "output_type": "display_data"
    },
    {
     "data": {
      "image/png": "[encoded data removed]",
      "text/plain": [
       "<Figure size 720x432 with 1 Axes>"
      ]
     },
     "metadata": {
      "needs_background": "light"
     },
     "output_type": "display_data"
    },
    {
     "data": {
      "image/png": "[encoded data removed]",
      "text/plain": [
       "<Figure size 720x432 with 1 Axes>"
      ]
     },
     "metadata": {
      "needs_background": "light"
     },
     "output_type": "display_data"
    },
    {
     "data": {
      "image/png": "[encoded data removed]",
      "text/plain": [
       "<Figure size 720x432 with 1 Axes>"
      ]
     },
     "metadata": {
      "needs_background": "light"
     },
     "output_type": "display_data"
    }
   ],
   "source": [
    "for column in numeric_column:\n",
    "    plt.figure(figsize=(10, 6))\n",
    "    plt.subplot(1, 2, 2)\n",
    "    sns.boxplot(x=df[column])\n",
    "    plt.title(f\"{column} Boxplot\")\n",
    "    \n",
    "    plt.tight_layout()\n",
    "    plt.show()"
   ]
  },
  {
   "cell_type": "code",
   "execution_count": 29,
   "metadata": {},
   "outputs": [
    {
     "data": {
      "text/plain": [
       "0.2252962307651064"
      ]
     },
     "execution_count": 29,
     "metadata": {},
     "output_type": "execute_result"
    }
   ],
   "source": [
    "1 - len(df) / len(df_first)"
   ]
  },
  {
   "cell_type": "code",
   "execution_count": 30,
   "metadata": {},
   "outputs": [
    {
     "data": {
      "text/html": [
       "<div>\n",
       "<style scoped>\n",
       "    .dataframe tbody tr th:only-of-type {\n",
       "        vertical-align: middle;\n",
       "    }\n",
       "\n",
       "    .dataframe tbody tr th {\n",
       "        vertical-align: top;\n",
       "    }\n",
       "\n",
       "    .dataframe thead th {\n",
       "        text-align: right;\n",
       "    }\n",
       "</style>\n",
       "<table border=\"1\" class=\"dataframe\">\n",
       "  <thead>\n",
       "    <tr style=\"text-align: right;\">\n",
       "      <th></th>\n",
       "      <th>price</th>\n",
       "      <th>registrationyear</th>\n",
       "      <th>power</th>\n",
       "      <th>kilometer</th>\n",
       "    </tr>\n",
       "  </thead>\n",
       "  <tbody>\n",
       "    <tr>\n",
       "      <th>count</th>\n",
       "      <td>274531.000000</td>\n",
       "      <td>274531.000000</td>\n",
       "      <td>274531.000000</td>\n",
       "      <td>274531.000000</td>\n",
       "    </tr>\n",
       "    <tr>\n",
       "      <th>mean</th>\n",
       "      <td>5206.633535</td>\n",
       "      <td>2003.180930</td>\n",
       "      <td>123.584714</td>\n",
       "      <td>127557.871424</td>\n",
       "    </tr>\n",
       "    <tr>\n",
       "      <th>std</th>\n",
       "      <td>4603.198471</td>\n",
       "      <td>6.355542</td>\n",
       "      <td>53.522977</td>\n",
       "      <td>36971.270443</td>\n",
       "    </tr>\n",
       "    <tr>\n",
       "      <th>min</th>\n",
       "      <td>501.000000</td>\n",
       "      <td>1955.000000</td>\n",
       "      <td>20.000000</td>\n",
       "      <td>5000.000000</td>\n",
       "    </tr>\n",
       "    <tr>\n",
       "      <th>25%</th>\n",
       "      <td>1600.000000</td>\n",
       "      <td>2000.000000</td>\n",
       "      <td>82.000000</td>\n",
       "      <td>125000.000000</td>\n",
       "    </tr>\n",
       "    <tr>\n",
       "      <th>50%</th>\n",
       "      <td>3500.000000</td>\n",
       "      <td>2004.000000</td>\n",
       "      <td>116.000000</td>\n",
       "      <td>150000.000000</td>\n",
       "    </tr>\n",
       "    <tr>\n",
       "      <th>75%</th>\n",
       "      <td>7499.000000</td>\n",
       "      <td>2007.000000</td>\n",
       "      <td>150.000000</td>\n",
       "      <td>150000.000000</td>\n",
       "    </tr>\n",
       "    <tr>\n",
       "      <th>max</th>\n",
       "      <td>20000.000000</td>\n",
       "      <td>2016.000000</td>\n",
       "      <td>500.000000</td>\n",
       "      <td>150000.000000</td>\n",
       "    </tr>\n",
       "  </tbody>\n",
       "</table>\n",
       "</div>"
      ],
      "text/plain": [
       "               price  registrationyear          power      kilometer\n",
       "count  274531.000000     274531.000000  274531.000000  274531.000000\n",
       "mean     5206.633535       2003.180930     123.584714  127557.871424\n",
       "std      4603.198471          6.355542      53.522977   36971.270443\n",
       "min       501.000000       1955.000000      20.000000    5000.000000\n",
       "25%      1600.000000       2000.000000      82.000000  125000.000000\n",
       "50%      3500.000000       2004.000000     116.000000  150000.000000\n",
       "75%      7499.000000       2007.000000     150.000000  150000.000000\n",
       "max     20000.000000       2016.000000     500.000000  150000.000000"
      ]
     },
     "execution_count": 30,
     "metadata": {},
     "output_type": "execute_result"
    }
   ],
   "source": [
    "df.describe()"
   ]
  },
  {
   "cell_type": "markdown",
   "metadata": {},
   "source": [
    "### Вывод предобработки данных.\n",
    "\n",
    "- Избавляясь от аномалий мы пожертвовали 20% данных что не мало.\n",
    "\n",
    "- Аномалия с пробегам пока без изменений, напомню 2/3 датасета имеют пробег в 150000 тысяч, а машины 2018 (машине на момент создания датасета всего 1 год) 2200 машин из 2900 бмв 1-серии имеют пробег 150000 что на мой взгляд является ошибкой в данных.\n",
    "\n",
    "- Устранены аномалии в столбцах price, kilometer, registraishonyear.\n",
    "\n",
    "- Пропуски обнаружены только в категориальных переменных и были заполнены missing\n",
    "\n",
    "- Сильной корреляции между целевой переменной и другими количественными переменными не обнаружено."
   ]
  },
  {
   "cell_type": "markdown",
   "metadata": {},
   "source": [
    "## Обучение моделей"
   ]
  },
  {
   "cell_type": "code",
   "execution_count": 31,
   "metadata": {},
   "outputs": [],
   "source": [
    "RS = 42"
   ]
  },
  {
   "cell_type": "code",
   "execution_count": 32,
   "metadata": {},
   "outputs": [],
   "source": [
    "X = df.drop('price', axis = 1)\n",
    "y = df['price']"
   ]
  },
  {
   "cell_type": "code",
   "execution_count": 33,
   "metadata": {},
   "outputs": [],
   "source": [
    "X_train, X_test, y_train, y_test = train_test_split(X, y, test_size=0.25, random_state=RS)"
   ]
  },
  {
   "cell_type": "code",
   "execution_count": 34,
   "metadata": {},
   "outputs": [],
   "source": [
    "scale_col = ['power', 'registrationyear', 'kilometer']"
   ]
  },
  {
   "cell_type": "code",
   "execution_count": 35,
   "metadata": {},
   "outputs": [],
   "source": [
    "scaler = StandardScaler()\n",
    "X_train[scale_col] = scaler.fit_transform(X_train[scale_col])\n",
    "X_test[scale_col] = scaler.transform(X_test[scale_col])"
   ]
  },
  {
   "cell_type": "code",
   "execution_count": 36,
   "metadata": {},
   "outputs": [
    {
     "data": {
      "text/plain": [
       "Index(['price', 'vehicletype', 'registrationyear', 'gearbox', 'power', 'model',\n",
       "       'kilometer', 'fueltype', 'brand', 'repaired'],\n",
       "      dtype='object')"
      ]
     },
     "execution_count": 36,
     "metadata": {},
     "output_type": "execute_result"
    }
   ],
   "source": [
    "df.columns"
   ]
  },
  {
   "cell_type": "code",
   "execution_count": 37,
   "metadata": {},
   "outputs": [],
   "source": [
    "cat_names = ['vehicletype','gearbox', 'model',\n",
    "             'fueltype', 'brand', 'repaired']"
   ]
  },
  {
   "cell_type": "markdown",
   "metadata": {},
   "source": [
    "### Catboost regressor"
   ]
  },
  {
   "cell_type": "code",
   "execution_count": 38,
   "metadata": {},
   "outputs": [],
   "source": [
    "params = {'loss_function':'RMSE', 'verbose': 100, 'random_seed': RS}"
   ]
  },
  {
   "cell_type": "code",
   "execution_count": 39,
   "metadata": {},
   "outputs": [],
   "source": [
    "train_pool = Pool(X_train, \n",
    "                  label=y_train,\n",
    "                  cat_features=cat_names)\n",
    "test_pool = Pool(X_test, \n",
    "                  label=y_test,\n",
    "                  cat_features=cat_names)"
   ]
  },
  {
   "cell_type": "code",
   "execution_count": 40,
   "metadata": {},
   "outputs": [],
   "source": [
    "def print_cv_summary(cv_data):\n",
    "    cv_data.head(10)\n",
    "\n",
    "    best_value = cv_data['test-RMSE-mean'].min()\n",
    "    best_iter = cv_data['test-RMSE-mean'].values.argmin()\n",
    "\n",
    "    print('Best validation RMSE score : {:.4f}±{:.4f} on step {}'.format(\n",
    "        best_value,\n",
    "        cv_data['test-RMSE-std'][best_iter],\n",
    "        best_iter)\n",
    "    )"
   ]
  },
  {
   "cell_type": "code",
   "execution_count": 41,
   "metadata": {},
   "outputs": [],
   "source": [
    "#cat_model.save_model('cat_model.cbm')\n",
    "#cat_model.load_model('cat_model.cbm')"
   ]
  },
  {
   "cell_type": "markdown",
   "metadata": {},
   "source": [
    "cv_data = cv(\n",
    "    params = params,\n",
    "    pool = train_pool,\n",
    "    fold_count=5,\n",
    "    shuffle=True,\n",
    "    partition_random_seed=0,\n",
    "    plot=True,\n",
    "    stratified=False,\n",
    "    verbose=False\n",
    ")\n",
    "\n",
    "print_cv_summary(cv_data)"
   ]
  },
  {
   "cell_type": "markdown",
   "metadata": {},
   "source": [
    "**RMSE: 1688.6211698534373**\n",
    "\n",
    "**Время выполнения кросс валидации +- 12 минут (около 3 минут на один фолд)**\n",
    "\n",
    "**Результаты были достигнуты при использовании параметров catboost по умолчанию:**\n",
    "\n",
    "\n",
    "- iterations: 1000\n",
    "- learning_rate: 0.03\n",
    "- depth: 6\n",
    "- l2_leaf_reg: 3\n",
    "\n",
    "попробуем изменить параметры"
   ]
  },
  {
   "cell_type": "code",
   "execution_count": 42,
   "metadata": {},
   "outputs": [],
   "source": [
    "params_v2 = {\n",
    "    'objective': 'regression',\n",
    "    'loss_function': 'rmse',\n",
    "    'num_leaves': 31,\n",
    "    'learning_rate': 0.05\n",
    "}"
   ]
  },
  {
   "cell_type": "code",
   "execution_count": 43,
   "metadata": {},
   "outputs": [],
   "source": [
    "cat_model_v2 = CatBoostRegressor(**params_v2)"
   ]
  },
  {
   "cell_type": "markdown",
   "metadata": {},
   "source": [
    "cv_data_v2 = cv(\n",
    "    params = params_v2,\n",
    "    pool = train_pool,\n",
    "    fold_count=5,\n",
    "    shuffle=True,\n",
    "    partition_random_seed=0,\n",
    "    plot=True,\n",
    "    stratified=False,\n",
    "    verbose=False\n",
    ")"
   ]
  },
  {
   "cell_type": "markdown",
   "metadata": {},
   "source": [
    "- Закомментировал т.к. выполняется 10+ минут - результаты приложу ниже."
   ]
  },
  {
   "cell_type": "code",
   "execution_count": 44,
   "metadata": {},
   "outputs": [],
   "source": [
    "#cat_model_v2.save_model('cat_model_v2.cbm')\n",
    "#cat_model_v2.load_model('cat_model_v2.cbm')"
   ]
  },
  {
   "cell_type": "markdown",
   "metadata": {},
   "source": [
    "**RMSE: 1746.1237386775445**\n",
    "\n",
    "**Время выполнения кросс валидации +- 11 минут**\n",
    "\n",
    "**Результаты были достигнуты при использовании параметров catboost:**\n",
    "\n",
    "\n",
    "- iterations: 1000\n",
    "- learning_rate: 0.05\n",
    "- depth: 3\n",
    "- l2_leaf_reg: 3\n"
   ]
  },
  {
   "cell_type": "markdown",
   "metadata": {},
   "source": [
    "### LightGBM regressor"
   ]
  },
  {
   "cell_type": "code",
   "execution_count": 45,
   "metadata": {},
   "outputs": [],
   "source": [
    "X_train[cat_names] = X_train[cat_names].astype('category')\n",
    "X_test[cat_names] = X_test[cat_names].astype('category')"
   ]
  },
  {
   "cell_type": "code",
   "execution_count": 46,
   "metadata": {},
   "outputs": [
    {
     "data": {
      "text/html": [
       "<div>\n",
       "<style scoped>\n",
       "    .dataframe tbody tr th:only-of-type {\n",
       "        vertical-align: middle;\n",
       "    }\n",
       "\n",
       "    .dataframe tbody tr th {\n",
       "        vertical-align: top;\n",
       "    }\n",
       "\n",
       "    .dataframe thead th {\n",
       "        text-align: right;\n",
       "    }\n",
       "</style>\n",
       "<table border=\"1\" class=\"dataframe\">\n",
       "  <thead>\n",
       "    <tr style=\"text-align: right;\">\n",
       "      <th></th>\n",
       "      <th>vehicletype</th>\n",
       "      <th>registrationyear</th>\n",
       "      <th>gearbox</th>\n",
       "      <th>power</th>\n",
       "      <th>model</th>\n",
       "      <th>kilometer</th>\n",
       "      <th>fueltype</th>\n",
       "      <th>brand</th>\n",
       "      <th>repaired</th>\n",
       "    </tr>\n",
       "  </thead>\n",
       "  <tbody>\n",
       "    <tr>\n",
       "      <th>83309</th>\n",
       "      <td>small</td>\n",
       "      <td>-0.185025</td>\n",
       "      <td>manual</td>\n",
       "      <td>0.681654</td>\n",
       "      <td>polo</td>\n",
       "      <td>0.606387</td>\n",
       "      <td>gasoline</td>\n",
       "      <td>volkswagen</td>\n",
       "      <td>missing</td>\n",
       "    </tr>\n",
       "    <tr>\n",
       "      <th>143211</th>\n",
       "      <td>coupe</td>\n",
       "      <td>-1.600876</td>\n",
       "      <td>manual</td>\n",
       "      <td>0.494578</td>\n",
       "      <td>3er</td>\n",
       "      <td>0.606387</td>\n",
       "      <td>petrol</td>\n",
       "      <td>bmw</td>\n",
       "      <td>yes</td>\n",
       "    </tr>\n",
       "    <tr>\n",
       "      <th>254868</th>\n",
       "      <td>wagon</td>\n",
       "      <td>-0.342342</td>\n",
       "      <td>manual</td>\n",
       "      <td>0.139135</td>\n",
       "      <td>passat</td>\n",
       "      <td>0.606387</td>\n",
       "      <td>gasoline</td>\n",
       "      <td>volkswagen</td>\n",
       "      <td>no</td>\n",
       "    </tr>\n",
       "    <tr>\n",
       "      <th>171752</th>\n",
       "      <td>bus</td>\n",
       "      <td>-0.342342</td>\n",
       "      <td>manual</td>\n",
       "      <td>0.026890</td>\n",
       "      <td>zafira</td>\n",
       "      <td>-2.367087</td>\n",
       "      <td>petrol</td>\n",
       "      <td>opel</td>\n",
       "      <td>no</td>\n",
       "    </tr>\n",
       "    <tr>\n",
       "      <th>88192</th>\n",
       "      <td>coupe</td>\n",
       "      <td>-1.286242</td>\n",
       "      <td>manual</td>\n",
       "      <td>-0.440798</td>\n",
       "      <td>3er</td>\n",
       "      <td>0.606387</td>\n",
       "      <td>petrol</td>\n",
       "      <td>bmw</td>\n",
       "      <td>missing</td>\n",
       "    </tr>\n",
       "    <tr>\n",
       "      <th>...</th>\n",
       "      <td>...</td>\n",
       "      <td>...</td>\n",
       "      <td>...</td>\n",
       "      <td>...</td>\n",
       "      <td>...</td>\n",
       "      <td>...</td>\n",
       "      <td>...</td>\n",
       "      <td>...</td>\n",
       "      <td>...</td>\n",
       "    </tr>\n",
       "    <tr>\n",
       "      <th>119879</th>\n",
       "      <td>coupe</td>\n",
       "      <td>-0.027708</td>\n",
       "      <td>auto</td>\n",
       "      <td>2.009889</td>\n",
       "      <td>3er</td>\n",
       "      <td>0.606387</td>\n",
       "      <td>petrol</td>\n",
       "      <td>bmw</td>\n",
       "      <td>no</td>\n",
       "    </tr>\n",
       "    <tr>\n",
       "      <th>259178</th>\n",
       "      <td>small</td>\n",
       "      <td>-0.027708</td>\n",
       "      <td>auto</td>\n",
       "      <td>-1.170392</td>\n",
       "      <td>fortwo</td>\n",
       "      <td>-1.015508</td>\n",
       "      <td>petrol</td>\n",
       "      <td>smart</td>\n",
       "      <td>no</td>\n",
       "    </tr>\n",
       "    <tr>\n",
       "      <th>131932</th>\n",
       "      <td>suv</td>\n",
       "      <td>0.286925</td>\n",
       "      <td>auto</td>\n",
       "      <td>4.142548</td>\n",
       "      <td>missing</td>\n",
       "      <td>0.606387</td>\n",
       "      <td>lpg</td>\n",
       "      <td>sonstige_autos</td>\n",
       "      <td>no</td>\n",
       "    </tr>\n",
       "    <tr>\n",
       "      <th>146867</th>\n",
       "      <td>sedan</td>\n",
       "      <td>-0.971609</td>\n",
       "      <td>manual</td>\n",
       "      <td>-0.160185</td>\n",
       "      <td>mondeo</td>\n",
       "      <td>-0.745192</td>\n",
       "      <td>petrol</td>\n",
       "      <td>ford</td>\n",
       "      <td>no</td>\n",
       "    </tr>\n",
       "    <tr>\n",
       "      <th>121958</th>\n",
       "      <td>sedan</td>\n",
       "      <td>0.444242</td>\n",
       "      <td>manual</td>\n",
       "      <td>-0.908487</td>\n",
       "      <td>golf</td>\n",
       "      <td>0.606387</td>\n",
       "      <td>petrol</td>\n",
       "      <td>volkswagen</td>\n",
       "      <td>no</td>\n",
       "    </tr>\n",
       "  </tbody>\n",
       "</table>\n",
       "<p>205898 rows × 9 columns</p>\n",
       "</div>"
      ],
      "text/plain": [
       "       vehicletype  registrationyear gearbox     power    model  kilometer  \\\n",
       "83309        small         -0.185025  manual  0.681654     polo   0.606387   \n",
       "143211       coupe         -1.600876  manual  0.494578      3er   0.606387   \n",
       "254868       wagon         -0.342342  manual  0.139135   passat   0.606387   \n",
       "171752         bus         -0.342342  manual  0.026890   zafira  -2.367087   \n",
       "88192        coupe         -1.286242  manual -0.440798      3er   0.606387   \n",
       "...            ...               ...     ...       ...      ...        ...   \n",
       "119879       coupe         -0.027708    auto  2.009889      3er   0.606387   \n",
       "259178       small         -0.027708    auto -1.170392   fortwo  -1.015508   \n",
       "131932         suv          0.286925    auto  4.142548  missing   0.606387   \n",
       "146867       sedan         -0.971609  manual -0.160185   mondeo  -0.745192   \n",
       "121958       sedan          0.444242  manual -0.908487     golf   0.606387   \n",
       "\n",
       "        fueltype           brand repaired  \n",
       "83309   gasoline      volkswagen  missing  \n",
       "143211    petrol             bmw      yes  \n",
       "254868  gasoline      volkswagen       no  \n",
       "171752    petrol            opel       no  \n",
       "88192     petrol             bmw  missing  \n",
       "...          ...             ...      ...  \n",
       "119879    petrol             bmw       no  \n",
       "259178    petrol           smart       no  \n",
       "131932       lpg  sonstige_autos       no  \n",
       "146867    petrol            ford       no  \n",
       "121958    petrol      volkswagen       no  \n",
       "\n",
       "[205898 rows x 9 columns]"
      ]
     },
     "execution_count": 46,
     "metadata": {},
     "output_type": "execute_result"
    }
   ],
   "source": [
    "X_train"
   ]
  },
  {
   "cell_type": "code",
   "execution_count": 47,
   "metadata": {},
   "outputs": [],
   "source": [
    "lgb_train = lgb.Dataset(X_train, label=y_train, categorical_feature=cat_names,free_raw_data=False)\n",
    "lgb_test = lgb.Dataset(X_test, label=y_test, categorical_feature=cat_names,free_raw_data=False)"
   ]
  },
  {
   "cell_type": "code",
   "execution_count": 48,
   "metadata": {},
   "outputs": [],
   "source": [
    "params_lgb = {\n",
    "    'boosting_type': 'gbdt',\n",
    "    'objective': 'regression',\n",
    "    'metric': 'rmse',\n",
    "    'learning_rate': 0.1,\n",
    "    'num_leaves': 31,\n",
    "    'verbose': -1,\n",
    "    'force_row_wise': True\n",
    "}"
   ]
  },
  {
   "cell_type": "code",
   "execution_count": 49,
   "metadata": {},
   "outputs": [
    {
     "name": "stdout",
     "output_type": "stream",
     "text": [
      "[50]\tcv_agg's rmse: 1665.24 + 8.977\n",
      "[100]\tcv_agg's rmse: 1611.21 + 9.83133\n",
      "Current parameters:\n",
      " {'loss_function': 'RMSE', 'verbose': 100, 'random_seed': 42}\n",
      "\n",
      "Best num_boost_round: 100\n",
      "Best CV score: 1611.2145922514962\n",
      "CPU times: user 16.8 s, sys: 53 ms, total: 16.9 s\n",
      "Wall time: 16.9 s\n"
     ]
    }
   ],
   "source": [
    "%%time\n",
    "\n",
    "cv_results = lgb.cv(params_lgb, lgb_train, num_boost_round=100,\n",
    "                    nfold=5, stratified=False, shuffle=True,\n",
    "                    metrics='rmse', early_stopping_rounds=10,\n",
    "                    verbose_eval=50)\n",
    "\n",
    "\n",
    "print('Current parameters:\\n', params)\n",
    "print('\\nBest num_boost_round:', len(cv_results['rmse-mean']))\n",
    "print('Best CV score:', np.min(cv_results['rmse-mean']))"
   ]
  },
  {
   "cell_type": "code",
   "execution_count": 50,
   "metadata": {},
   "outputs": [],
   "source": [
    "#lgb_model.save_model('lgb_model.txt')"
   ]
  },
  {
   "cell_type": "code",
   "execution_count": 51,
   "metadata": {},
   "outputs": [],
   "source": [
    "#lgb_model = lgb.Booster(model_file='lgb_model.txt')"
   ]
  },
  {
   "cell_type": "markdown",
   "metadata": {},
   "source": [
    "**RMSE: 1622.796667156757**\n",
    "\n",
    "**Время кросс-валидации: 28min. 13s**\n",
    "\n",
    "**Результаты были достигнуты при использовании параметров LightGBM:**\n",
    "\n",
    "    'boosting_type': 'gbdt',\n",
    "    'objective': 'regression',\n",
    "    'metric': 'rmse',\n",
    "    'learning_rate': 0.1,\n",
    "    'num_leaves': 31,\n",
    "    'verbose': -1,\n",
    "    'force_row_wise': True\n",
    "\n",
    "попробуем изменить параметры"
   ]
  },
  {
   "cell_type": "code",
   "execution_count": 52,
   "metadata": {},
   "outputs": [],
   "source": [
    "params_v2 = {\n",
    "    'objective': 'regression',\n",
    "    'metric': 'RMSE',\n",
    "    'learning_rate': 0.01,\n",
    "    'feature_fraction': 0.9,\n",
    "    \"max_depth\": 8,\n",
    "}"
   ]
  },
  {
   "cell_type": "markdown",
   "metadata": {},
   "source": [
    "%%time\n",
    "\n",
    "cv_results_v2 = lgb.cv(params_v2, lgb_train, num_boost_round=100,\n",
    "                    nfold=5, stratified=False, shuffle=True,\n",
    "                    metrics='rmse', early_stopping_rounds=10,\n",
    "                    verbose_eval=50)\n",
    "\n",
    "\n",
    "print('Current parameters:\\n', params_v2)\n",
    "print('\\nBest num_boost_round:', len(cv_results['rmse-mean']))\n",
    "print('Best CV score:', np.min(cv_results['rmse-mean']))"
   ]
  },
  {
   "cell_type": "markdown",
   "metadata": {},
   "source": [
    "- Код в ячейке markdown по той же причине"
   ]
  },
  {
   "cell_type": "code",
   "execution_count": 53,
   "metadata": {},
   "outputs": [],
   "source": [
    "#lgb_model_v2.save_model('lgb_model_v2.txt')"
   ]
  },
  {
   "cell_type": "code",
   "execution_count": 54,
   "metadata": {},
   "outputs": [],
   "source": [
    "#lgb_model_v2 = lgb.Booster(model_file='lgb_model_v2.txt')"
   ]
  },
  {
   "cell_type": "markdown",
   "metadata": {},
   "source": [
    "**RMSE: 1649.9252501209253**\n",
    "\n",
    "**Результаты были достигнуты при использовании параметров LightGBM:**\n",
    "\n",
    "- 'objective': 'regression',\n",
    "- 'metric': 'RMSE',\n",
    "- 'learning_rate': 0.01,\n",
    "- 'feature_fraction': 0.9,\n",
    "- \"max_depth\": 8,"
   ]
  },
  {
   "cell_type": "markdown",
   "metadata": {},
   "source": [
    "**LightGBM и CatBoost могут работать с категориальными переменными \"Из под капота\", для дерева решений такой способ не подойдет, используем One Hot Encoder**"
   ]
  },
  {
   "cell_type": "markdown",
   "metadata": {},
   "source": [
    "### DecisionTreeRegressor"
   ]
  },
  {
   "cell_type": "code",
   "execution_count": 55,
   "metadata": {},
   "outputs": [],
   "source": [
    "ohe_names = ['vehicletype','gearbox',\n",
    "             'fueltype','repaired']\n",
    "me_names = ['model', 'brand']"
   ]
  },
  {
   "cell_type": "code",
   "execution_count": 56,
   "metadata": {},
   "outputs": [],
   "source": [
    "X_train.reset_index(inplace=True, drop=True)\n",
    "X_test.reset_index(inplace=True, drop=True)\n",
    "y_train.reset_index(inplace=True, drop=True)\n",
    "y_test.reset_index(inplace=True, drop=True)"
   ]
  },
  {
   "cell_type": "code",
   "execution_count": 57,
   "metadata": {},
   "outputs": [],
   "source": [
    "def encode_data(X_train, X_test, ohe_names, me_names):\n",
    "    encoder_ohe = OneHotEncoder()\n",
    "    X_train_ohe = encoder_ohe.fit_transform(X_train[ohe_names])\n",
    "    X_test_ohe = encoder_ohe.transform(X_test[ohe_names])\n",
    "    X_train_ohe_array = X_train_ohe.toarray()\n",
    "    X_test_ohe_array = X_test_ohe.toarray()\n",
    "    X_train_ohe_df = pd.DataFrame(X_train_ohe_array, columns=encoder_ohe.get_feature_names(ohe_names))\n",
    "    X_test_ohe_df = pd.DataFrame(X_test_ohe_array, columns=encoder_ohe.get_feature_names(ohe_names))\n",
    "    \n",
    "    encoder_me = MEstimateEncoder()\n",
    "    X_train_me = encoder_me.fit_transform(X_train[me_names], y_train)\n",
    "    X_test_me = encoder_me.transform(X_test[me_names])\n",
    "    X_train_me_df = X_train_me.add_suffix('_m_estimate')\n",
    "    X_test_me_df = X_test_me.add_suffix('_m_estimate')\n",
    "    \n",
    "    X_train_encoded = pd.concat([X_train.drop(columns=ohe_names+me_names), X_train_ohe_df, X_train_me_df], axis=1)\n",
    "    X_test_encoded = pd.concat([X_test.drop(columns=ohe_names+me_names), X_test_ohe_df, X_test_me_df], axis=1)\n",
    "    \n",
    "    return X_train_encoded, X_test_encoded"
   ]
  },
  {
   "cell_type": "code",
   "execution_count": 58,
   "metadata": {},
   "outputs": [],
   "source": [
    "X_train_encode, X_test_encode = encode_data(X_train, X_test,ohe_names,me_names)"
   ]
  },
  {
   "cell_type": "code",
   "execution_count": 59,
   "metadata": {},
   "outputs": [],
   "source": [
    "tree_model = DecisionTreeRegressor(random_state = RS)"
   ]
  },
  {
   "cell_type": "code",
   "execution_count": 60,
   "metadata": {},
   "outputs": [
    {
     "name": "stdout",
     "output_type": "stream",
     "text": [
      "Средняя RMSE на кросс-валидации: 1901.30\n",
      "CPU times: user 4.76 s, sys: 85.7 ms, total: 4.85 s\n",
      "Wall time: 4.85 s\n"
     ]
    }
   ],
   "source": [
    "%%time\n",
    "\n",
    "def rmse(y_true, y_pred):\n",
    "    return np.sqrt(mean_squared_error(y_true, y_pred))\n",
    "\n",
    "rmse_scorer = make_scorer(rmse, greater_is_better=False)\n",
    "\n",
    "tree_cv = cross_val_score(tree_model, X_train_encode, y_train, cv=5, scoring=rmse_scorer)\n",
    "\n",
    "print(\"Средняя RMSE на кросс-валидации: {:.2f}\".format(-tree_cv.mean()))"
   ]
  },
  {
   "cell_type": "code",
   "execution_count": 61,
   "metadata": {},
   "outputs": [],
   "source": [
    "tree_model_v2 = DecisionTreeRegressor(max_depth=5, min_samples_split = 3)"
   ]
  },
  {
   "cell_type": "code",
   "execution_count": 62,
   "metadata": {},
   "outputs": [
    {
     "name": "stdout",
     "output_type": "stream",
     "text": [
      "Средняя RMSE на кросс-валидации: 2424.75\n",
      "CPU times: user 1.41 s, sys: 29.8 ms, total: 1.44 s\n",
      "Wall time: 1.44 s\n"
     ]
    }
   ],
   "source": [
    "%%time\n",
    "\n",
    "def rmse(y_true, y_pred):\n",
    "    return np.sqrt(mean_squared_error(y_true, y_pred))\n",
    "\n",
    "rmse_scorer = make_scorer(rmse, greater_is_better=False)\n",
    "\n",
    "tree_cv = cross_val_score(tree_model_v2, X_train_encode, y_train, cv=5, scoring=rmse_scorer)\n",
    "\n",
    "print(\"Средняя RMSE на кросс-валидации: {:.2f}\".format(-tree_cv.mean()))"
   ]
  },
  {
   "cell_type": "markdown",
   "metadata": {},
   "source": [
    "**Посмотрим как повлияет на метрику столбец kilometer**"
   ]
  },
  {
   "cell_type": "code",
   "execution_count": 63,
   "metadata": {},
   "outputs": [],
   "source": [
    "X_train_km = X_train_encode.drop('kilometer', axis=1)"
   ]
  },
  {
   "cell_type": "code",
   "execution_count": 64,
   "metadata": {},
   "outputs": [
    {
     "name": "stdout",
     "output_type": "stream",
     "text": [
      "Средняя RMSE на кросс-валидации: 1976.26\n"
     ]
    }
   ],
   "source": [
    "def rmse(y_true, y_pred):\n",
    "    return np.sqrt(mean_squared_error(y_true, y_pred))\n",
    "\n",
    "rmse_scorer = make_scorer(rmse, greater_is_better=False)\n",
    "\n",
    "tree_cv = cross_val_score(tree_model, X_train_km, y_train, cv=5, scoring=rmse_scorer)\n",
    "\n",
    "print(\"Средняя RMSE на кросс-валидации: {:.2f}\".format(-tree_cv.mean()))"
   ]
  },
  {
   "cell_type": "markdown",
   "metadata": {},
   "source": [
    "Результат обучения до удаления признака RMSE = 1901.30, после удаления RMSE = 1976.26 все таки фича значимая"
   ]
  },
  {
   "cell_type": "markdown",
   "metadata": {},
   "source": [
    "### Вывод\n",
    "\n",
    "**Дерево решений**\n",
    "\n",
    "- В данной задаче дерево решений на настройках по умолчанию переобучилось, но тем не менее смогло показать неплохой результат, при изменении настроек - результат значимо ухудшился.\n",
    "\n",
    "- Тем не менее скорость обучения и предсказания у алгоритма на высоте.\n",
    "------\n",
    "**Catboost**\n",
    "\n",
    "- Второй результат RMSE \n",
    "\n",
    "- Обучается дольше чем lightGBM, быстрее предсказывает, но с худшим результатом.\n",
    "-----\n",
    "**LightGBM**\n",
    "\n",
    "- Лучший результат RMSE \n",
    "\n",
    "- Среднее время обучения и довольно долгое время предсказания.\n",
    "-----\n",
    "\n",
    "LightGBM в нашем случае забирает 2/3 номинаций, выберем данный алгоритм для дальнейшей проверки."
   ]
  },
  {
   "cell_type": "markdown",
   "metadata": {},
   "source": [
    "- Оценка не актуальна тк тестировались параметры модели на кросс-валидации лучший скор показала опять же LightGBM но скорость кросс валидации у нее оказалась чуть ли не в два раза выше чем у catboost\n",
    "\n",
    "\n",
    "- Дерево решений показало низкие результаты RMSE которые не идут в сравнение с конкурентами"
   ]
  },
  {
   "cell_type": "markdown",
   "metadata": {},
   "source": [
    "## Анализ моделей"
   ]
  },
  {
   "cell_type": "code",
   "execution_count": 65,
   "metadata": {
    "scrolled": true
   },
   "outputs": [
    {
     "name": "stdout",
     "output_type": "stream",
     "text": [
      "[1]\tvalid_0's rmse: 4260.62\n",
      "Training until validation scores don't improve for 10 rounds\n",
      "[2]\tvalid_0's rmse: 3958.66\n",
      "[3]\tvalid_0's rmse: 3696.13\n",
      "[4]\tvalid_0's rmse: 3461.84\n",
      "[5]\tvalid_0's rmse: 3257.03\n",
      "[6]\tvalid_0's rmse: 3073.67\n",
      "[7]\tvalid_0's rmse: 2915.23\n",
      "[8]\tvalid_0's rmse: 2775.47\n",
      "[9]\tvalid_0's rmse: 2647.87\n",
      "[10]\tvalid_0's rmse: 2534.87\n",
      "[11]\tvalid_0's rmse: 2435.15\n",
      "[12]\tvalid_0's rmse: 2347.03\n",
      "[13]\tvalid_0's rmse: 2269.34\n",
      "[14]\tvalid_0's rmse: 2201.72\n",
      "[15]\tvalid_0's rmse: 2140.24\n",
      "[16]\tvalid_0's rmse: 2087.46\n",
      "[17]\tvalid_0's rmse: 2043.12\n",
      "[18]\tvalid_0's rmse: 2001.06\n",
      "[19]\tvalid_0's rmse: 1963.76\n",
      "[20]\tvalid_0's rmse: 1931.34\n",
      "[21]\tvalid_0's rmse: 1902.41\n",
      "[22]\tvalid_0's rmse: 1877.52\n",
      "[23]\tvalid_0's rmse: 1855.66\n",
      "[24]\tvalid_0's rmse: 1834.73\n",
      "[25]\tvalid_0's rmse: 1815.51\n",
      "[26]\tvalid_0's rmse: 1798.41\n",
      "[27]\tvalid_0's rmse: 1783.39\n",
      "[28]\tvalid_0's rmse: 1769.38\n",
      "[29]\tvalid_0's rmse: 1756.51\n",
      "[30]\tvalid_0's rmse: 1744.7\n",
      "[31]\tvalid_0's rmse: 1734.62\n",
      "[32]\tvalid_0's rmse: 1724.54\n",
      "[33]\tvalid_0's rmse: 1716.93\n",
      "[34]\tvalid_0's rmse: 1708.84\n",
      "[35]\tvalid_0's rmse: 1702.09\n",
      "[36]\tvalid_0's rmse: 1696.19\n",
      "[37]\tvalid_0's rmse: 1690.53\n",
      "[38]\tvalid_0's rmse: 1685.35\n",
      "[39]\tvalid_0's rmse: 1680.39\n",
      "[40]\tvalid_0's rmse: 1676.14\n",
      "[41]\tvalid_0's rmse: 1671.54\n",
      "[42]\tvalid_0's rmse: 1667.26\n",
      "[43]\tvalid_0's rmse: 1663.34\n",
      "[44]\tvalid_0's rmse: 1659.72\n",
      "[45]\tvalid_0's rmse: 1656.23\n",
      "[46]\tvalid_0's rmse: 1652.93\n",
      "[47]\tvalid_0's rmse: 1649.84\n",
      "[48]\tvalid_0's rmse: 1647.27\n",
      "[49]\tvalid_0's rmse: 1644.56\n",
      "[50]\tvalid_0's rmse: 1642.14\n",
      "[51]\tvalid_0's rmse: 1639.59\n",
      "[52]\tvalid_0's rmse: 1637.8\n",
      "[53]\tvalid_0's rmse: 1635.59\n",
      "[54]\tvalid_0's rmse: 1633.67\n",
      "[55]\tvalid_0's rmse: 1631.98\n",
      "[56]\tvalid_0's rmse: 1630.14\n",
      "[57]\tvalid_0's rmse: 1627.82\n",
      "[58]\tvalid_0's rmse: 1626.36\n",
      "[59]\tvalid_0's rmse: 1624.41\n",
      "[60]\tvalid_0's rmse: 1622.7\n",
      "[61]\tvalid_0's rmse: 1621.43\n",
      "[62]\tvalid_0's rmse: 1619.6\n",
      "[63]\tvalid_0's rmse: 1618.14\n",
      "[64]\tvalid_0's rmse: 1617.24\n",
      "[65]\tvalid_0's rmse: 1616.01\n",
      "[66]\tvalid_0's rmse: 1614.67\n",
      "[67]\tvalid_0's rmse: 1613.6\n",
      "[68]\tvalid_0's rmse: 1612.6\n",
      "[69]\tvalid_0's rmse: 1611.34\n",
      "[70]\tvalid_0's rmse: 1610.09\n",
      "[71]\tvalid_0's rmse: 1608.79\n",
      "[72]\tvalid_0's rmse: 1607.84\n",
      "[73]\tvalid_0's rmse: 1606.98\n",
      "[74]\tvalid_0's rmse: 1605.71\n",
      "[75]\tvalid_0's rmse: 1604.63\n",
      "[76]\tvalid_0's rmse: 1603.64\n",
      "[77]\tvalid_0's rmse: 1602.15\n",
      "[78]\tvalid_0's rmse: 1601.14\n",
      "[79]\tvalid_0's rmse: 1600.48\n",
      "[80]\tvalid_0's rmse: 1599.44\n",
      "[81]\tvalid_0's rmse: 1598.5\n",
      "[82]\tvalid_0's rmse: 1597.87\n",
      "[83]\tvalid_0's rmse: 1597.19\n",
      "[84]\tvalid_0's rmse: 1596.63\n",
      "[85]\tvalid_0's rmse: 1595.88\n",
      "[86]\tvalid_0's rmse: 1595.41\n",
      "[87]\tvalid_0's rmse: 1594.26\n",
      "[88]\tvalid_0's rmse: 1593.39\n",
      "[89]\tvalid_0's rmse: 1593.02\n",
      "[90]\tvalid_0's rmse: 1592.07\n",
      "[91]\tvalid_0's rmse: 1591.65\n",
      "[92]\tvalid_0's rmse: 1590.61\n",
      "[93]\tvalid_0's rmse: 1590.13\n",
      "[94]\tvalid_0's rmse: 1589.68\n",
      "[95]\tvalid_0's rmse: 1589.35\n",
      "[96]\tvalid_0's rmse: 1589.07\n",
      "[97]\tvalid_0's rmse: 1587.93\n",
      "[98]\tvalid_0's rmse: 1586.94\n",
      "[99]\tvalid_0's rmse: 1586.37\n",
      "[100]\tvalid_0's rmse: 1585.94\n",
      "[101]\tvalid_0's rmse: 1585.48\n",
      "[102]\tvalid_0's rmse: 1584.7\n",
      "[103]\tvalid_0's rmse: 1584.23\n",
      "[104]\tvalid_0's rmse: 1583.5\n",
      "[105]\tvalid_0's rmse: 1582.96\n",
      "[106]\tvalid_0's rmse: 1581.71\n",
      "[107]\tvalid_0's rmse: 1581.19\n",
      "[108]\tvalid_0's rmse: 1580.81\n",
      "[109]\tvalid_0's rmse: 1580.11\n",
      "[110]\tvalid_0's rmse: 1579.8\n",
      "[111]\tvalid_0's rmse: 1579.33\n",
      "[112]\tvalid_0's rmse: 1578.69\n",
      "[113]\tvalid_0's rmse: 1577.7\n",
      "[114]\tvalid_0's rmse: 1576.66\n",
      "[115]\tvalid_0's rmse: 1575.77\n",
      "[116]\tvalid_0's rmse: 1575.24\n",
      "[117]\tvalid_0's rmse: 1575.03\n",
      "[118]\tvalid_0's rmse: 1574.71\n",
      "[119]\tvalid_0's rmse: 1574.33\n",
      "[120]\tvalid_0's rmse: 1573.75\n",
      "[121]\tvalid_0's rmse: 1573.58\n",
      "[122]\tvalid_0's rmse: 1573.34\n",
      "[123]\tvalid_0's rmse: 1573.17\n",
      "[124]\tvalid_0's rmse: 1572.73\n",
      "[125]\tvalid_0's rmse: 1572.43\n",
      "[126]\tvalid_0's rmse: 1571.98\n",
      "[127]\tvalid_0's rmse: 1571.74\n",
      "[128]\tvalid_0's rmse: 1571.35\n",
      "[129]\tvalid_0's rmse: 1571.13\n",
      "[130]\tvalid_0's rmse: 1570.25\n",
      "[131]\tvalid_0's rmse: 1569.42\n",
      "[132]\tvalid_0's rmse: 1568.88\n",
      "[133]\tvalid_0's rmse: 1568.69\n",
      "[134]\tvalid_0's rmse: 1567.9\n",
      "[135]\tvalid_0's rmse: 1567.4\n",
      "[136]\tvalid_0's rmse: 1567.05\n",
      "[137]\tvalid_0's rmse: 1566.41\n",
      "[138]\tvalid_0's rmse: 1566.32\n",
      "[139]\tvalid_0's rmse: 1566.06\n",
      "[140]\tvalid_0's rmse: 1565.88\n",
      "[141]\tvalid_0's rmse: 1565.57\n",
      "[142]\tvalid_0's rmse: 1565.28\n",
      "[143]\tvalid_0's rmse: 1565.2\n",
      "[144]\tvalid_0's rmse: 1564.94\n",
      "[145]\tvalid_0's rmse: 1564.81\n",
      "[146]\tvalid_0's rmse: 1564.2\n",
      "[147]\tvalid_0's rmse: 1563.65\n",
      "[148]\tvalid_0's rmse: 1563.45\n",
      "[149]\tvalid_0's rmse: 1563.33\n",
      "[150]\tvalid_0's rmse: 1563.34\n",
      "[151]\tvalid_0's rmse: 1563.07\n",
      "[152]\tvalid_0's rmse: 1562.92\n",
      "[153]\tvalid_0's rmse: 1562.67\n",
      "[154]\tvalid_0's rmse: 1562.43\n",
      "[155]\tvalid_0's rmse: 1562.19\n",
      "[156]\tvalid_0's rmse: 1562.03\n",
      "[157]\tvalid_0's rmse: 1561.57\n",
      "[158]\tvalid_0's rmse: 1561.41\n",
      "[159]\tvalid_0's rmse: 1561.33\n",
      "[160]\tvalid_0's rmse: 1561.09\n",
      "[161]\tvalid_0's rmse: 1560.92\n",
      "[162]\tvalid_0's rmse: 1560.82\n",
      "[163]\tvalid_0's rmse: 1560.6\n",
      "[164]\tvalid_0's rmse: 1560.57\n",
      "[165]\tvalid_0's rmse: 1560.02\n",
      "[166]\tvalid_0's rmse: 1559.92\n",
      "[167]\tvalid_0's rmse: 1559.62\n",
      "[168]\tvalid_0's rmse: 1559.52\n",
      "[169]\tvalid_0's rmse: 1559.2\n",
      "[170]\tvalid_0's rmse: 1559.09\n",
      "[171]\tvalid_0's rmse: 1558.34\n",
      "[172]\tvalid_0's rmse: 1558.09\n",
      "[173]\tvalid_0's rmse: 1557.99\n",
      "[174]\tvalid_0's rmse: 1557.99\n",
      "[175]\tvalid_0's rmse: 1557.21\n",
      "[176]\tvalid_0's rmse: 1556.81\n",
      "[177]\tvalid_0's rmse: 1556.37\n",
      "[178]\tvalid_0's rmse: 1556.09\n",
      "[179]\tvalid_0's rmse: 1555.38\n",
      "[180]\tvalid_0's rmse: 1555.05\n",
      "[181]\tvalid_0's rmse: 1554.69\n",
      "[182]\tvalid_0's rmse: 1554.6\n",
      "[183]\tvalid_0's rmse: 1554.5\n",
      "[184]\tvalid_0's rmse: 1553.99\n",
      "[185]\tvalid_0's rmse: 1553.74\n",
      "[186]\tvalid_0's rmse: 1553.47\n",
      "[187]\tvalid_0's rmse: 1553.21\n",
      "[188]\tvalid_0's rmse: 1552.83\n",
      "[189]\tvalid_0's rmse: 1552.57\n",
      "[190]\tvalid_0's rmse: 1552.24\n",
      "[191]\tvalid_0's rmse: 1551.98\n",
      "[192]\tvalid_0's rmse: 1551.86\n",
      "[193]\tvalid_0's rmse: 1551.61\n",
      "[194]\tvalid_0's rmse: 1551.57\n",
      "[195]\tvalid_0's rmse: 1551.53\n",
      "[196]\tvalid_0's rmse: 1551.13\n",
      "[197]\tvalid_0's rmse: 1550.81\n",
      "[198]\tvalid_0's rmse: 1550.47\n",
      "[199]\tvalid_0's rmse: 1550.18\n",
      "[200]\tvalid_0's rmse: 1550.16\n",
      "[201]\tvalid_0's rmse: 1550\n",
      "[202]\tvalid_0's rmse: 1549.63\n",
      "[203]\tvalid_0's rmse: 1549.59\n",
      "[204]\tvalid_0's rmse: 1549.46\n",
      "[205]\tvalid_0's rmse: 1549.38\n",
      "[206]\tvalid_0's rmse: 1549.15\n",
      "[207]\tvalid_0's rmse: 1548.5\n",
      "[208]\tvalid_0's rmse: 1548.04\n",
      "[209]\tvalid_0's rmse: 1547.83\n",
      "[210]\tvalid_0's rmse: 1547.48\n",
      "[211]\tvalid_0's rmse: 1547.16\n",
      "[212]\tvalid_0's rmse: 1547.09\n",
      "[213]\tvalid_0's rmse: 1547.02\n",
      "[214]\tvalid_0's rmse: 1546.93\n",
      "[215]\tvalid_0's rmse: 1546.76\n",
      "[216]\tvalid_0's rmse: 1546.6\n",
      "[217]\tvalid_0's rmse: 1546.2\n",
      "[218]\tvalid_0's rmse: 1546.08\n",
      "[219]\tvalid_0's rmse: 1545.6\n",
      "[220]\tvalid_0's rmse: 1544.93\n",
      "[221]\tvalid_0's rmse: 1544.8\n",
      "[222]\tvalid_0's rmse: 1544.54\n",
      "[223]\tvalid_0's rmse: 1544.09\n",
      "[224]\tvalid_0's rmse: 1543.63\n",
      "[225]\tvalid_0's rmse: 1543.08\n",
      "[226]\tvalid_0's rmse: 1542.85\n",
      "[227]\tvalid_0's rmse: 1542.81\n",
      "[228]\tvalid_0's rmse: 1542.83\n",
      "[229]\tvalid_0's rmse: 1542.83\n",
      "[230]\tvalid_0's rmse: 1542.45\n",
      "[231]\tvalid_0's rmse: 1542.23\n",
      "[232]\tvalid_0's rmse: 1542.09\n",
      "[233]\tvalid_0's rmse: 1541.99\n",
      "[234]\tvalid_0's rmse: 1541.75\n",
      "[235]\tvalid_0's rmse: 1541.43\n",
      "[236]\tvalid_0's rmse: 1541.32\n",
      "[237]\tvalid_0's rmse: 1541.05\n",
      "[238]\tvalid_0's rmse: 1540.81\n",
      "[239]\tvalid_0's rmse: 1540.79\n",
      "[240]\tvalid_0's rmse: 1540.7\n",
      "[241]\tvalid_0's rmse: 1540.67\n",
      "[242]\tvalid_0's rmse: 1540.4\n",
      "[243]\tvalid_0's rmse: 1540.27\n",
      "[244]\tvalid_0's rmse: 1539.69\n",
      "[245]\tvalid_0's rmse: 1539.62\n",
      "[246]\tvalid_0's rmse: 1539.42\n",
      "[247]\tvalid_0's rmse: 1539.28\n",
      "[248]\tvalid_0's rmse: 1539.13\n",
      "[249]\tvalid_0's rmse: 1538.97\n",
      "[250]\tvalid_0's rmse: 1538.9\n",
      "[251]\tvalid_0's rmse: 1538.86\n",
      "[252]\tvalid_0's rmse: 1538.72\n",
      "[253]\tvalid_0's rmse: 1538.57\n",
      "[254]\tvalid_0's rmse: 1538.52\n",
      "[255]\tvalid_0's rmse: 1538.41\n",
      "[256]\tvalid_0's rmse: 1537.92\n",
      "[257]\tvalid_0's rmse: 1537.84\n",
      "[258]\tvalid_0's rmse: 1537.75\n",
      "[259]\tvalid_0's rmse: 1537.63\n",
      "[260]\tvalid_0's rmse: 1537.52\n",
      "[261]\tvalid_0's rmse: 1537.39\n",
      "[262]\tvalid_0's rmse: 1537.23\n",
      "[263]\tvalid_0's rmse: 1537.14\n",
      "[264]\tvalid_0's rmse: 1537.11\n",
      "[265]\tvalid_0's rmse: 1537.04\n",
      "[266]\tvalid_0's rmse: 1536.91\n",
      "[267]\tvalid_0's rmse: 1536.86\n",
      "[268]\tvalid_0's rmse: 1536.67\n",
      "[269]\tvalid_0's rmse: 1536.57\n",
      "[270]\tvalid_0's rmse: 1536.43\n",
      "[271]\tvalid_0's rmse: 1536.37\n",
      "[272]\tvalid_0's rmse: 1536.17\n",
      "[273]\tvalid_0's rmse: 1535.98\n",
      "[274]\tvalid_0's rmse: 1535.79\n",
      "[275]\tvalid_0's rmse: 1535.81\n",
      "[276]\tvalid_0's rmse: 1535.5\n",
      "[277]\tvalid_0's rmse: 1535.47\n",
      "[278]\tvalid_0's rmse: 1535.36\n",
      "[279]\tvalid_0's rmse: 1535.25\n",
      "[280]\tvalid_0's rmse: 1535.17\n",
      "[281]\tvalid_0's rmse: 1535.14\n",
      "[282]\tvalid_0's rmse: 1534.99\n",
      "[283]\tvalid_0's rmse: 1534.91\n",
      "[284]\tvalid_0's rmse: 1534.92\n",
      "[285]\tvalid_0's rmse: 1534.87\n",
      "[286]\tvalid_0's rmse: 1534.65\n",
      "[287]\tvalid_0's rmse: 1534.55\n",
      "[288]\tvalid_0's rmse: 1534.11\n",
      "[289]\tvalid_0's rmse: 1533.86\n",
      "[290]\tvalid_0's rmse: 1533.63\n",
      "[291]\tvalid_0's rmse: 1533.57\n",
      "[292]\tvalid_0's rmse: 1533.36\n",
      "[293]\tvalid_0's rmse: 1533.19\n",
      "[294]\tvalid_0's rmse: 1533.03\n",
      "[295]\tvalid_0's rmse: 1533.06\n",
      "[296]\tvalid_0's rmse: 1533.07\n",
      "[297]\tvalid_0's rmse: 1532.79\n",
      "[298]\tvalid_0's rmse: 1532.69\n",
      "[299]\tvalid_0's rmse: 1532.7\n",
      "[300]\tvalid_0's rmse: 1532.5\n",
      "[301]\tvalid_0's rmse: 1532.4\n",
      "[302]\tvalid_0's rmse: 1532.38\n",
      "[303]\tvalid_0's rmse: 1532.24\n",
      "[304]\tvalid_0's rmse: 1532.13\n",
      "[305]\tvalid_0's rmse: 1531.96\n",
      "[306]\tvalid_0's rmse: 1531.93\n",
      "[307]\tvalid_0's rmse: 1531.82\n",
      "[308]\tvalid_0's rmse: 1531.82\n",
      "[309]\tvalid_0's rmse: 1531.8\n",
      "[310]\tvalid_0's rmse: 1531.6\n",
      "[311]\tvalid_0's rmse: 1531.53\n",
      "[312]\tvalid_0's rmse: 1531.49\n",
      "[313]\tvalid_0's rmse: 1531.33\n",
      "[314]\tvalid_0's rmse: 1531.28\n",
      "[315]\tvalid_0's rmse: 1531.11\n",
      "[316]\tvalid_0's rmse: 1531.05\n",
      "[317]\tvalid_0's rmse: 1531.05\n",
      "[318]\tvalid_0's rmse: 1531.04\n",
      "[319]\tvalid_0's rmse: 1530.94\n",
      "[320]\tvalid_0's rmse: 1530.91\n",
      "[321]\tvalid_0's rmse: 1530.66\n",
      "[322]\tvalid_0's rmse: 1530.64\n",
      "[323]\tvalid_0's rmse: 1530.29\n",
      "[324]\tvalid_0's rmse: 1530.19\n",
      "[325]\tvalid_0's rmse: 1530.12\n",
      "[326]\tvalid_0's rmse: 1529.99\n",
      "[327]\tvalid_0's rmse: 1529.55\n",
      "[328]\tvalid_0's rmse: 1529.37\n",
      "[329]\tvalid_0's rmse: 1529.02\n",
      "[330]\tvalid_0's rmse: 1528.96\n",
      "[331]\tvalid_0's rmse: 1528.81\n",
      "[332]\tvalid_0's rmse: 1528.66\n",
      "[333]\tvalid_0's rmse: 1528.6\n",
      "[334]\tvalid_0's rmse: 1528.52\n",
      "[335]\tvalid_0's rmse: 1528.41\n",
      "[336]\tvalid_0's rmse: 1528.32\n",
      "[337]\tvalid_0's rmse: 1528.25\n",
      "[338]\tvalid_0's rmse: 1528.22\n",
      "[339]\tvalid_0's rmse: 1528.19\n",
      "[340]\tvalid_0's rmse: 1528.01\n",
      "[341]\tvalid_0's rmse: 1528.07\n",
      "[342]\tvalid_0's rmse: 1528.14\n",
      "[343]\tvalid_0's rmse: 1528.05\n",
      "[344]\tvalid_0's rmse: 1527.86\n",
      "[345]\tvalid_0's rmse: 1527.76\n",
      "[346]\tvalid_0's rmse: 1527.57\n",
      "[347]\tvalid_0's rmse: 1527.32\n",
      "[348]\tvalid_0's rmse: 1527.21\n",
      "[349]\tvalid_0's rmse: 1527.27\n",
      "[350]\tvalid_0's rmse: 1527.26\n",
      "[351]\tvalid_0's rmse: 1527.15\n",
      "[352]\tvalid_0's rmse: 1526.88\n",
      "[353]\tvalid_0's rmse: 1526.79\n",
      "[354]\tvalid_0's rmse: 1526.62\n",
      "[355]\tvalid_0's rmse: 1526.33\n",
      "[356]\tvalid_0's rmse: 1526.04\n",
      "[357]\tvalid_0's rmse: 1525.99\n",
      "[358]\tvalid_0's rmse: 1525.86\n",
      "[359]\tvalid_0's rmse: 1525.53\n",
      "[360]\tvalid_0's rmse: 1525.26\n",
      "[361]\tvalid_0's rmse: 1525.14\n",
      "[362]\tvalid_0's rmse: 1525.06\n",
      "[363]\tvalid_0's rmse: 1525\n",
      "[364]\tvalid_0's rmse: 1525.09\n",
      "[365]\tvalid_0's rmse: 1525\n",
      "[366]\tvalid_0's rmse: 1524.95\n",
      "[367]\tvalid_0's rmse: 1524.73\n",
      "[368]\tvalid_0's rmse: 1524.74\n",
      "[369]\tvalid_0's rmse: 1524.5\n",
      "[370]\tvalid_0's rmse: 1524.45\n",
      "[371]\tvalid_0's rmse: 1524.4\n",
      "[372]\tvalid_0's rmse: 1524.18\n",
      "[373]\tvalid_0's rmse: 1524.04\n",
      "[374]\tvalid_0's rmse: 1523.8\n",
      "[375]\tvalid_0's rmse: 1523.62\n",
      "[376]\tvalid_0's rmse: 1523.51\n",
      "[377]\tvalid_0's rmse: 1523.46\n",
      "[378]\tvalid_0's rmse: 1523.29\n",
      "[379]\tvalid_0's rmse: 1523.02\n",
      "[380]\tvalid_0's rmse: 1522.96\n",
      "[381]\tvalid_0's rmse: 1522.89\n",
      "[382]\tvalid_0's rmse: 1522.91\n",
      "[383]\tvalid_0's rmse: 1522.65\n",
      "[384]\tvalid_0's rmse: 1522.5\n",
      "[385]\tvalid_0's rmse: 1522.41\n",
      "[386]\tvalid_0's rmse: 1522.04\n",
      "[387]\tvalid_0's rmse: 1522.02\n",
      "[388]\tvalid_0's rmse: 1521.83\n",
      "[389]\tvalid_0's rmse: 1521.65\n",
      "[390]\tvalid_0's rmse: 1521.59\n",
      "[391]\tvalid_0's rmse: 1521.48\n",
      "[392]\tvalid_0's rmse: 1521.66\n",
      "[393]\tvalid_0's rmse: 1521.54\n",
      "[394]\tvalid_0's rmse: 1521.54\n",
      "[395]\tvalid_0's rmse: 1521.3\n",
      "[396]\tvalid_0's rmse: 1521.17\n",
      "[397]\tvalid_0's rmse: 1521.02\n",
      "[398]\tvalid_0's rmse: 1520.91\n",
      "[399]\tvalid_0's rmse: 1520.88\n",
      "[400]\tvalid_0's rmse: 1520.77\n",
      "[401]\tvalid_0's rmse: 1520.69\n",
      "[402]\tvalid_0's rmse: 1520.71\n",
      "[403]\tvalid_0's rmse: 1520.58\n",
      "[404]\tvalid_0's rmse: 1520.52\n",
      "[405]\tvalid_0's rmse: 1520.42\n",
      "[406]\tvalid_0's rmse: 1520.29\n",
      "[407]\tvalid_0's rmse: 1520.32\n",
      "[408]\tvalid_0's rmse: 1520.31\n",
      "[409]\tvalid_0's rmse: 1520.27\n",
      "[410]\tvalid_0's rmse: 1520.14\n",
      "[411]\tvalid_0's rmse: 1519.9\n",
      "[412]\tvalid_0's rmse: 1519.89\n",
      "[413]\tvalid_0's rmse: 1519.85\n",
      "[414]\tvalid_0's rmse: 1519.8\n",
      "[415]\tvalid_0's rmse: 1519.76\n",
      "[416]\tvalid_0's rmse: 1519.47\n",
      "[417]\tvalid_0's rmse: 1519.16\n",
      "[418]\tvalid_0's rmse: 1519\n",
      "[419]\tvalid_0's rmse: 1518.85\n",
      "[420]\tvalid_0's rmse: 1518.77\n",
      "[421]\tvalid_0's rmse: 1518.71\n",
      "[422]\tvalid_0's rmse: 1518.69\n",
      "[423]\tvalid_0's rmse: 1518.64\n",
      "[424]\tvalid_0's rmse: 1518.51\n",
      "[425]\tvalid_0's rmse: 1518.49\n",
      "[426]\tvalid_0's rmse: 1518.28\n",
      "[427]\tvalid_0's rmse: 1518.27\n",
      "[428]\tvalid_0's rmse: 1518.17\n",
      "[429]\tvalid_0's rmse: 1518.09\n",
      "[430]\tvalid_0's rmse: 1517.92\n",
      "[431]\tvalid_0's rmse: 1517.81\n",
      "[432]\tvalid_0's rmse: 1517.8\n",
      "[433]\tvalid_0's rmse: 1517.78\n",
      "[434]\tvalid_0's rmse: 1517.61\n",
      "[435]\tvalid_0's rmse: 1517.62\n",
      "[436]\tvalid_0's rmse: 1517.57\n",
      "[437]\tvalid_0's rmse: 1517.43\n",
      "[438]\tvalid_0's rmse: 1517.42\n",
      "[439]\tvalid_0's rmse: 1517.42\n",
      "[440]\tvalid_0's rmse: 1517.26\n",
      "[441]\tvalid_0's rmse: 1517.21\n",
      "[442]\tvalid_0's rmse: 1517.18\n",
      "[443]\tvalid_0's rmse: 1517.27\n",
      "[444]\tvalid_0's rmse: 1517.22\n",
      "[445]\tvalid_0's rmse: 1517.04\n",
      "[446]\tvalid_0's rmse: 1516.98\n",
      "[447]\tvalid_0's rmse: 1516.86\n",
      "[448]\tvalid_0's rmse: 1516.84\n",
      "[449]\tvalid_0's rmse: 1516.82\n",
      "[450]\tvalid_0's rmse: 1516.88\n",
      "[451]\tvalid_0's rmse: 1516.71\n",
      "[452]\tvalid_0's rmse: 1516.66\n",
      "[453]\tvalid_0's rmse: 1516.57\n",
      "[454]\tvalid_0's rmse: 1516.43\n",
      "[455]\tvalid_0's rmse: 1516.38\n",
      "[456]\tvalid_0's rmse: 1516.1\n",
      "[457]\tvalid_0's rmse: 1515.96\n",
      "[458]\tvalid_0's rmse: 1515.87\n",
      "[459]\tvalid_0's rmse: 1515.83\n",
      "[460]\tvalid_0's rmse: 1515.84\n",
      "[461]\tvalid_0's rmse: 1515.79\n",
      "[462]\tvalid_0's rmse: 1515.67\n",
      "[463]\tvalid_0's rmse: 1515.62\n",
      "[464]\tvalid_0's rmse: 1515.41\n",
      "[465]\tvalid_0's rmse: 1515.29\n",
      "[466]\tvalid_0's rmse: 1515.27\n",
      "[467]\tvalid_0's rmse: 1515.21\n",
      "[468]\tvalid_0's rmse: 1515.12\n",
      "[469]\tvalid_0's rmse: 1514.95\n",
      "[470]\tvalid_0's rmse: 1514.94\n",
      "[471]\tvalid_0's rmse: 1514.96\n",
      "[472]\tvalid_0's rmse: 1514.84\n",
      "[473]\tvalid_0's rmse: 1514.85\n",
      "[474]\tvalid_0's rmse: 1514.67\n",
      "[475]\tvalid_0's rmse: 1514.45\n",
      "[476]\tvalid_0's rmse: 1514.23\n",
      "[477]\tvalid_0's rmse: 1514.18\n",
      "[478]\tvalid_0's rmse: 1514.11\n",
      "[479]\tvalid_0's rmse: 1514.04\n",
      "[480]\tvalid_0's rmse: 1513.96\n",
      "[481]\tvalid_0's rmse: 1513.91\n",
      "[482]\tvalid_0's rmse: 1513.78\n",
      "[483]\tvalid_0's rmse: 1513.72\n",
      "[484]\tvalid_0's rmse: 1513.6\n",
      "[485]\tvalid_0's rmse: 1513.57\n",
      "[486]\tvalid_0's rmse: 1513.61\n",
      "[487]\tvalid_0's rmse: 1513.63\n",
      "[488]\tvalid_0's rmse: 1513.57\n",
      "[489]\tvalid_0's rmse: 1513.47\n",
      "[490]\tvalid_0's rmse: 1513.44\n",
      "[491]\tvalid_0's rmse: 1513.38\n",
      "[492]\tvalid_0's rmse: 1513.36\n",
      "[493]\tvalid_0's rmse: 1513.13\n",
      "[494]\tvalid_0's rmse: 1513\n",
      "[495]\tvalid_0's rmse: 1512.99\n",
      "[496]\tvalid_0's rmse: 1512.74\n",
      "[497]\tvalid_0's rmse: 1512.77\n",
      "[498]\tvalid_0's rmse: 1512.61\n",
      "[499]\tvalid_0's rmse: 1512.51\n",
      "[500]\tvalid_0's rmse: 1512.45\n",
      "[501]\tvalid_0's rmse: 1512.46\n",
      "[502]\tvalid_0's rmse: 1512.39\n",
      "[503]\tvalid_0's rmse: 1512.37\n",
      "[504]\tvalid_0's rmse: 1512.49\n",
      "[505]\tvalid_0's rmse: 1512.48\n",
      "[506]\tvalid_0's rmse: 1512.42\n",
      "[507]\tvalid_0's rmse: 1512.12\n",
      "[508]\tvalid_0's rmse: 1512.09\n",
      "[509]\tvalid_0's rmse: 1511.92\n",
      "[510]\tvalid_0's rmse: 1511.85\n",
      "[511]\tvalid_0's rmse: 1511.88\n",
      "[512]\tvalid_0's rmse: 1511.86\n",
      "[513]\tvalid_0's rmse: 1511.78\n",
      "[514]\tvalid_0's rmse: 1511.73\n",
      "[515]\tvalid_0's rmse: 1511.56\n",
      "[516]\tvalid_0's rmse: 1511.49\n",
      "[517]\tvalid_0's rmse: 1511.44\n",
      "[518]\tvalid_0's rmse: 1511.34\n",
      "[519]\tvalid_0's rmse: 1511.31\n",
      "[520]\tvalid_0's rmse: 1511.24\n",
      "[521]\tvalid_0's rmse: 1511.24\n",
      "[522]\tvalid_0's rmse: 1511.16\n",
      "[523]\tvalid_0's rmse: 1511.2\n",
      "[524]\tvalid_0's rmse: 1511.12\n",
      "[525]\tvalid_0's rmse: 1511.12\n",
      "[526]\tvalid_0's rmse: 1511.09\n",
      "[527]\tvalid_0's rmse: 1511.07\n",
      "[528]\tvalid_0's rmse: 1511.08\n",
      "[529]\tvalid_0's rmse: 1511.03\n",
      "[530]\tvalid_0's rmse: 1510.97\n",
      "[531]\tvalid_0's rmse: 1510.84\n",
      "[532]\tvalid_0's rmse: 1510.85\n",
      "[533]\tvalid_0's rmse: 1510.83\n",
      "[534]\tvalid_0's rmse: 1510.74\n",
      "[535]\tvalid_0's rmse: 1510.7\n",
      "[536]\tvalid_0's rmse: 1510.76\n",
      "[537]\tvalid_0's rmse: 1510.78\n",
      "[538]\tvalid_0's rmse: 1510.73\n",
      "[539]\tvalid_0's rmse: 1510.71\n",
      "[540]\tvalid_0's rmse: 1510.7\n",
      "[541]\tvalid_0's rmse: 1510.71\n",
      "[542]\tvalid_0's rmse: 1510.66\n",
      "[543]\tvalid_0's rmse: 1510.74\n",
      "[544]\tvalid_0's rmse: 1510.69\n",
      "[545]\tvalid_0's rmse: 1510.68\n",
      "[546]\tvalid_0's rmse: 1510.62\n",
      "[547]\tvalid_0's rmse: 1510.62\n",
      "[548]\tvalid_0's rmse: 1510.42\n",
      "[549]\tvalid_0's rmse: 1510.43\n",
      "[550]\tvalid_0's rmse: 1510.06\n",
      "[551]\tvalid_0's rmse: 1509.98\n",
      "[552]\tvalid_0's rmse: 1509.97\n",
      "[553]\tvalid_0's rmse: 1509.8\n",
      "[554]\tvalid_0's rmse: 1509.81\n",
      "[555]\tvalid_0's rmse: 1509.76\n",
      "[556]\tvalid_0's rmse: 1509.61\n",
      "[557]\tvalid_0's rmse: 1509.55\n",
      "[558]\tvalid_0's rmse: 1509.49\n",
      "[559]\tvalid_0's rmse: 1509.48\n",
      "[560]\tvalid_0's rmse: 1509.35\n",
      "[561]\tvalid_0's rmse: 1509.31\n",
      "[562]\tvalid_0's rmse: 1509.33\n",
      "[563]\tvalid_0's rmse: 1509.29\n",
      "[564]\tvalid_0's rmse: 1509.28\n",
      "[565]\tvalid_0's rmse: 1509.24\n",
      "[566]\tvalid_0's rmse: 1509.25\n",
      "[567]\tvalid_0's rmse: 1509.16\n",
      "[568]\tvalid_0's rmse: 1509.12\n",
      "[569]\tvalid_0's rmse: 1508.93\n",
      "[570]\tvalid_0's rmse: 1508.92\n",
      "[571]\tvalid_0's rmse: 1508.93\n",
      "[572]\tvalid_0's rmse: 1508.87\n",
      "[573]\tvalid_0's rmse: 1508.86\n",
      "[574]\tvalid_0's rmse: 1508.82\n",
      "[575]\tvalid_0's rmse: 1508.83\n",
      "[576]\tvalid_0's rmse: 1508.88\n",
      "[577]\tvalid_0's rmse: 1508.98\n",
      "[578]\tvalid_0's rmse: 1509\n",
      "[579]\tvalid_0's rmse: 1508.88\n",
      "[580]\tvalid_0's rmse: 1508.72\n",
      "[581]\tvalid_0's rmse: 1508.74\n",
      "[582]\tvalid_0's rmse: 1508.57\n",
      "[583]\tvalid_0's rmse: 1508.38\n",
      "[584]\tvalid_0's rmse: 1508.38\n",
      "[585]\tvalid_0's rmse: 1508.4\n",
      "[586]\tvalid_0's rmse: 1508.35\n",
      "[587]\tvalid_0's rmse: 1508.32\n",
      "[588]\tvalid_0's rmse: 1508.33\n",
      "[589]\tvalid_0's rmse: 1508.33\n",
      "[590]\tvalid_0's rmse: 1508.32\n",
      "[591]\tvalid_0's rmse: 1508.33\n",
      "[592]\tvalid_0's rmse: 1508.22\n",
      "[593]\tvalid_0's rmse: 1508.07\n",
      "[594]\tvalid_0's rmse: 1508.05\n",
      "[595]\tvalid_0's rmse: 1508.04\n",
      "[596]\tvalid_0's rmse: 1508.02\n",
      "[597]\tvalid_0's rmse: 1507.99\n",
      "[598]\tvalid_0's rmse: 1507.97\n",
      "[599]\tvalid_0's rmse: 1507.95\n",
      "[600]\tvalid_0's rmse: 1507.92\n",
      "[601]\tvalid_0's rmse: 1507.78\n",
      "[602]\tvalid_0's rmse: 1507.53\n",
      "[603]\tvalid_0's rmse: 1507.6\n",
      "[604]\tvalid_0's rmse: 1507.58\n",
      "[605]\tvalid_0's rmse: 1507.52\n",
      "[606]\tvalid_0's rmse: 1507.54\n",
      "[607]\tvalid_0's rmse: 1507.43\n",
      "[608]\tvalid_0's rmse: 1507.36\n",
      "[609]\tvalid_0's rmse: 1507.3\n",
      "[610]\tvalid_0's rmse: 1507.28\n",
      "[611]\tvalid_0's rmse: 1507.32\n",
      "[612]\tvalid_0's rmse: 1507.29\n",
      "[613]\tvalid_0's rmse: 1506.9\n",
      "[614]\tvalid_0's rmse: 1506.88\n",
      "[615]\tvalid_0's rmse: 1506.85\n",
      "[616]\tvalid_0's rmse: 1506.85\n",
      "[617]\tvalid_0's rmse: 1506.85\n",
      "[618]\tvalid_0's rmse: 1506.8\n",
      "[619]\tvalid_0's rmse: 1506.71\n",
      "[620]\tvalid_0's rmse: 1506.58\n",
      "[621]\tvalid_0's rmse: 1506.56\n",
      "[622]\tvalid_0's rmse: 1506.52\n",
      "[623]\tvalid_0's rmse: 1506.54\n",
      "[624]\tvalid_0's rmse: 1506.57\n",
      "[625]\tvalid_0's rmse: 1506.5\n",
      "[626]\tvalid_0's rmse: 1506.38\n",
      "[627]\tvalid_0's rmse: 1506.37\n",
      "[628]\tvalid_0's rmse: 1506.07\n",
      "[629]\tvalid_0's rmse: 1506.03\n",
      "[630]\tvalid_0's rmse: 1506.02\n",
      "[631]\tvalid_0's rmse: 1505.98\n",
      "[632]\tvalid_0's rmse: 1505.95\n",
      "[633]\tvalid_0's rmse: 1505.95\n",
      "[634]\tvalid_0's rmse: 1505.98\n",
      "[635]\tvalid_0's rmse: 1505.96\n",
      "[636]\tvalid_0's rmse: 1505.78\n",
      "[637]\tvalid_0's rmse: 1505.7\n",
      "[638]\tvalid_0's rmse: 1505.65\n",
      "[639]\tvalid_0's rmse: 1505.54\n",
      "[640]\tvalid_0's rmse: 1505.5\n",
      "[641]\tvalid_0's rmse: 1505.44\n",
      "[642]\tvalid_0's rmse: 1505.41\n",
      "[643]\tvalid_0's rmse: 1505.27\n",
      "[644]\tvalid_0's rmse: 1505.24\n",
      "[645]\tvalid_0's rmse: 1505.12\n",
      "[646]\tvalid_0's rmse: 1505.11\n",
      "[647]\tvalid_0's rmse: 1504.98\n",
      "[648]\tvalid_0's rmse: 1504.93\n",
      "[649]\tvalid_0's rmse: 1504.91\n",
      "[650]\tvalid_0's rmse: 1504.89\n",
      "[651]\tvalid_0's rmse: 1504.89\n",
      "[652]\tvalid_0's rmse: 1504.86\n",
      "[653]\tvalid_0's rmse: 1504.72\n",
      "[654]\tvalid_0's rmse: 1504.67\n",
      "[655]\tvalid_0's rmse: 1504.68\n",
      "[656]\tvalid_0's rmse: 1504.62\n",
      "[657]\tvalid_0's rmse: 1504.63\n",
      "[658]\tvalid_0's rmse: 1504.58\n",
      "[659]\tvalid_0's rmse: 1504.55\n",
      "[660]\tvalid_0's rmse: 1504.54\n",
      "[661]\tvalid_0's rmse: 1504.52\n",
      "[662]\tvalid_0's rmse: 1504.5\n",
      "[663]\tvalid_0's rmse: 1504.46\n",
      "[664]\tvalid_0's rmse: 1504.37\n",
      "[665]\tvalid_0's rmse: 1504.26\n",
      "[666]\tvalid_0's rmse: 1504.21\n",
      "[667]\tvalid_0's rmse: 1504.13\n",
      "[668]\tvalid_0's rmse: 1503.99\n",
      "[669]\tvalid_0's rmse: 1503.95\n",
      "[670]\tvalid_0's rmse: 1503.95\n",
      "[671]\tvalid_0's rmse: 1503.91\n",
      "[672]\tvalid_0's rmse: 1503.93\n",
      "[673]\tvalid_0's rmse: 1503.81\n",
      "[674]\tvalid_0's rmse: 1503.75\n",
      "[675]\tvalid_0's rmse: 1503.7\n",
      "[676]\tvalid_0's rmse: 1503.64\n",
      "[677]\tvalid_0's rmse: 1503.63\n",
      "[678]\tvalid_0's rmse: 1503.66\n",
      "[679]\tvalid_0's rmse: 1503.64\n",
      "[680]\tvalid_0's rmse: 1503.54\n",
      "[681]\tvalid_0's rmse: 1503.53\n",
      "[682]\tvalid_0's rmse: 1503.53\n",
      "[683]\tvalid_0's rmse: 1503.59\n",
      "[684]\tvalid_0's rmse: 1503.56\n",
      "[685]\tvalid_0's rmse: 1503.56\n",
      "[686]\tvalid_0's rmse: 1503.56\n",
      "[687]\tvalid_0's rmse: 1503.52\n",
      "[688]\tvalid_0's rmse: 1503.54\n",
      "[689]\tvalid_0's rmse: 1503.46\n",
      "[690]\tvalid_0's rmse: 1503.52\n",
      "[691]\tvalid_0's rmse: 1503.5\n",
      "[692]\tvalid_0's rmse: 1503.46\n",
      "[693]\tvalid_0's rmse: 1503.39\n",
      "[694]\tvalid_0's rmse: 1503.44\n",
      "[695]\tvalid_0's rmse: 1503.42\n",
      "[696]\tvalid_0's rmse: 1503.32\n",
      "[697]\tvalid_0's rmse: 1503.31\n",
      "[698]\tvalid_0's rmse: 1503.23\n",
      "[699]\tvalid_0's rmse: 1503.16\n",
      "[700]\tvalid_0's rmse: 1503.06\n",
      "[701]\tvalid_0's rmse: 1503.05\n",
      "[702]\tvalid_0's rmse: 1502.94\n",
      "[703]\tvalid_0's rmse: 1502.91\n",
      "[704]\tvalid_0's rmse: 1502.9\n",
      "[705]\tvalid_0's rmse: 1502.87\n",
      "[706]\tvalid_0's rmse: 1502.74\n",
      "[707]\tvalid_0's rmse: 1502.73\n",
      "[708]\tvalid_0's rmse: 1502.74\n",
      "[709]\tvalid_0's rmse: 1502.74\n",
      "[710]\tvalid_0's rmse: 1502.64\n",
      "[711]\tvalid_0's rmse: 1502.56\n",
      "[712]\tvalid_0's rmse: 1502.59\n",
      "[713]\tvalid_0's rmse: 1502.6\n",
      "[714]\tvalid_0's rmse: 1502.44\n",
      "[715]\tvalid_0's rmse: 1502.4\n",
      "[716]\tvalid_0's rmse: 1502.38\n",
      "[717]\tvalid_0's rmse: 1502.36\n",
      "[718]\tvalid_0's rmse: 1502.35\n",
      "[719]\tvalid_0's rmse: 1502.23\n",
      "[720]\tvalid_0's rmse: 1502.14\n",
      "[721]\tvalid_0's rmse: 1502.12\n",
      "[722]\tvalid_0's rmse: 1502.11\n",
      "[723]\tvalid_0's rmse: 1502.06\n",
      "[724]\tvalid_0's rmse: 1502.06\n",
      "[725]\tvalid_0's rmse: 1502.07\n",
      "[726]\tvalid_0's rmse: 1502.06\n",
      "[727]\tvalid_0's rmse: 1502.01\n",
      "[728]\tvalid_0's rmse: 1502.01\n",
      "[729]\tvalid_0's rmse: 1502.03\n",
      "[730]\tvalid_0's rmse: 1501.98\n",
      "[731]\tvalid_0's rmse: 1501.92\n",
      "[732]\tvalid_0's rmse: 1501.9\n",
      "[733]\tvalid_0's rmse: 1501.9\n",
      "[734]\tvalid_0's rmse: 1501.89\n",
      "[735]\tvalid_0's rmse: 1501.92\n",
      "[736]\tvalid_0's rmse: 1501.9\n",
      "[737]\tvalid_0's rmse: 1501.9\n",
      "[738]\tvalid_0's rmse: 1501.88\n",
      "[739]\tvalid_0's rmse: 1501.84\n",
      "[740]\tvalid_0's rmse: 1501.79\n",
      "[741]\tvalid_0's rmse: 1501.78\n",
      "[742]\tvalid_0's rmse: 1501.77\n",
      "[743]\tvalid_0's rmse: 1501.78\n",
      "[744]\tvalid_0's rmse: 1501.75\n",
      "[745]\tvalid_0's rmse: 1501.76\n",
      "[746]\tvalid_0's rmse: 1501.7\n",
      "[747]\tvalid_0's rmse: 1501.59\n",
      "[748]\tvalid_0's rmse: 1501.53\n",
      "[749]\tvalid_0's rmse: 1501.5\n",
      "[750]\tvalid_0's rmse: 1501.5\n",
      "[751]\tvalid_0's rmse: 1501.48\n",
      "[752]\tvalid_0's rmse: 1501.46\n",
      "[753]\tvalid_0's rmse: 1501.42\n",
      "[754]\tvalid_0's rmse: 1501.43\n",
      "[755]\tvalid_0's rmse: 1501.39\n",
      "[756]\tvalid_0's rmse: 1501.39\n",
      "[757]\tvalid_0's rmse: 1501.35\n",
      "[758]\tvalid_0's rmse: 1501.34\n",
      "[759]\tvalid_0's rmse: 1501.2\n",
      "[760]\tvalid_0's rmse: 1501.17\n",
      "[761]\tvalid_0's rmse: 1501.18\n",
      "[762]\tvalid_0's rmse: 1501.16\n",
      "[763]\tvalid_0's rmse: 1501.14\n",
      "[764]\tvalid_0's rmse: 1501.12\n",
      "[765]\tvalid_0's rmse: 1501\n",
      "[766]\tvalid_0's rmse: 1501\n",
      "[767]\tvalid_0's rmse: 1501\n",
      "[768]\tvalid_0's rmse: 1500.94\n",
      "[769]\tvalid_0's rmse: 1500.92\n",
      "[770]\tvalid_0's rmse: 1500.74\n",
      "[771]\tvalid_0's rmse: 1500.63\n",
      "[772]\tvalid_0's rmse: 1500.59\n",
      "[773]\tvalid_0's rmse: 1500.62\n",
      "[774]\tvalid_0's rmse: 1500.52\n",
      "[775]\tvalid_0's rmse: 1500.46\n",
      "[776]\tvalid_0's rmse: 1500.47\n",
      "[777]\tvalid_0's rmse: 1500.47\n",
      "[778]\tvalid_0's rmse: 1500.46\n",
      "[779]\tvalid_0's rmse: 1500.46\n",
      "[780]\tvalid_0's rmse: 1500.44\n",
      "[781]\tvalid_0's rmse: 1500.43\n",
      "[782]\tvalid_0's rmse: 1500.42\n",
      "[783]\tvalid_0's rmse: 1500.44\n",
      "[784]\tvalid_0's rmse: 1500.49\n",
      "[785]\tvalid_0's rmse: 1500.5\n",
      "[786]\tvalid_0's rmse: 1500.51\n",
      "[787]\tvalid_0's rmse: 1500.51\n",
      "[788]\tvalid_0's rmse: 1500.52\n",
      "[789]\tvalid_0's rmse: 1500.53\n",
      "[790]\tvalid_0's rmse: 1500.49\n",
      "[791]\tvalid_0's rmse: 1500.47\n",
      "[792]\tvalid_0's rmse: 1500.35\n",
      "[793]\tvalid_0's rmse: 1500.34\n",
      "[794]\tvalid_0's rmse: 1500.35\n",
      "[795]\tvalid_0's rmse: 1500.3\n",
      "[796]\tvalid_0's rmse: 1500.3\n",
      "[797]\tvalid_0's rmse: 1500.32\n",
      "[798]\tvalid_0's rmse: 1500.25\n",
      "[799]\tvalid_0's rmse: 1500.19\n",
      "[800]\tvalid_0's rmse: 1500.07\n",
      "[801]\tvalid_0's rmse: 1500.07\n",
      "[802]\tvalid_0's rmse: 1500.05\n",
      "[803]\tvalid_0's rmse: 1499.98\n",
      "[804]\tvalid_0's rmse: 1500.01\n",
      "[805]\tvalid_0's rmse: 1500\n",
      "[806]\tvalid_0's rmse: 1500.04\n",
      "[807]\tvalid_0's rmse: 1500.03\n",
      "[808]\tvalid_0's rmse: 1499.94\n",
      "[809]\tvalid_0's rmse: 1499.81\n",
      "[810]\tvalid_0's rmse: 1499.77\n",
      "[811]\tvalid_0's rmse: 1499.72\n",
      "[812]\tvalid_0's rmse: 1499.66\n",
      "[813]\tvalid_0's rmse: 1499.65\n",
      "[814]\tvalid_0's rmse: 1499.56\n",
      "[815]\tvalid_0's rmse: 1499.54\n",
      "[816]\tvalid_0's rmse: 1499.56\n",
      "[817]\tvalid_0's rmse: 1499.54\n",
      "[818]\tvalid_0's rmse: 1499.55\n",
      "[819]\tvalid_0's rmse: 1499.54\n",
      "[820]\tvalid_0's rmse: 1499.44\n",
      "[821]\tvalid_0's rmse: 1499.42\n",
      "[822]\tvalid_0's rmse: 1499.42\n",
      "[823]\tvalid_0's rmse: 1499.45\n",
      "[824]\tvalid_0's rmse: 1499.47\n",
      "[825]\tvalid_0's rmse: 1499.44\n",
      "[826]\tvalid_0's rmse: 1499.4\n",
      "[827]\tvalid_0's rmse: 1499.27\n",
      "[828]\tvalid_0's rmse: 1499.25\n",
      "[829]\tvalid_0's rmse: 1499.19\n",
      "[830]\tvalid_0's rmse: 1499.14\n",
      "[831]\tvalid_0's rmse: 1499.15\n",
      "[832]\tvalid_0's rmse: 1499.16\n",
      "[833]\tvalid_0's rmse: 1499.14\n",
      "[834]\tvalid_0's rmse: 1499.11\n",
      "[835]\tvalid_0's rmse: 1499.08\n",
      "[836]\tvalid_0's rmse: 1499.07\n",
      "[837]\tvalid_0's rmse: 1499.03\n",
      "[838]\tvalid_0's rmse: 1499.03\n",
      "[839]\tvalid_0's rmse: 1499.01\n",
      "[840]\tvalid_0's rmse: 1499.01\n",
      "[841]\tvalid_0's rmse: 1499.07\n",
      "[842]\tvalid_0's rmse: 1499.07\n",
      "[843]\tvalid_0's rmse: 1498.99\n",
      "[844]\tvalid_0's rmse: 1498.95\n",
      "[845]\tvalid_0's rmse: 1498.91\n",
      "[846]\tvalid_0's rmse: 1498.85\n",
      "[847]\tvalid_0's rmse: 1498.79\n",
      "[848]\tvalid_0's rmse: 1498.72\n",
      "[849]\tvalid_0's rmse: 1498.72\n",
      "[850]\tvalid_0's rmse: 1498.69\n",
      "[851]\tvalid_0's rmse: 1498.63\n",
      "[852]\tvalid_0's rmse: 1498.56\n",
      "[853]\tvalid_0's rmse: 1498.56\n",
      "[854]\tvalid_0's rmse: 1498.58\n",
      "[855]\tvalid_0's rmse: 1498.6\n",
      "[856]\tvalid_0's rmse: 1498.53\n",
      "[857]\tvalid_0's rmse: 1498.52\n",
      "[858]\tvalid_0's rmse: 1498.38\n",
      "[859]\tvalid_0's rmse: 1498.21\n",
      "[860]\tvalid_0's rmse: 1498.21\n",
      "[861]\tvalid_0's rmse: 1498.21\n",
      "[862]\tvalid_0's rmse: 1498.18\n",
      "[863]\tvalid_0's rmse: 1498.17\n",
      "[864]\tvalid_0's rmse: 1498.17\n",
      "[865]\tvalid_0's rmse: 1498.18\n",
      "[866]\tvalid_0's rmse: 1498.17\n",
      "[867]\tvalid_0's rmse: 1498.14\n",
      "[868]\tvalid_0's rmse: 1498.14\n",
      "[869]\tvalid_0's rmse: 1498.15\n",
      "[870]\tvalid_0's rmse: 1498.14\n",
      "[871]\tvalid_0's rmse: 1498.18\n",
      "[872]\tvalid_0's rmse: 1498.1\n",
      "[873]\tvalid_0's rmse: 1498.08\n",
      "[874]\tvalid_0's rmse: 1498.01\n",
      "[875]\tvalid_0's rmse: 1498.02\n",
      "[876]\tvalid_0's rmse: 1498.05\n",
      "[877]\tvalid_0's rmse: 1498.04\n",
      "[878]\tvalid_0's rmse: 1497.96\n",
      "[879]\tvalid_0's rmse: 1497.84\n",
      "[880]\tvalid_0's rmse: 1497.82\n",
      "[881]\tvalid_0's rmse: 1497.79\n",
      "[882]\tvalid_0's rmse: 1497.78\n",
      "[883]\tvalid_0's rmse: 1497.81\n",
      "[884]\tvalid_0's rmse: 1497.8\n",
      "[885]\tvalid_0's rmse: 1497.78\n",
      "[886]\tvalid_0's rmse: 1497.76\n",
      "[887]\tvalid_0's rmse: 1497.72\n",
      "[888]\tvalid_0's rmse: 1497.69\n",
      "[889]\tvalid_0's rmse: 1497.7\n",
      "[890]\tvalid_0's rmse: 1497.59\n",
      "[891]\tvalid_0's rmse: 1497.55\n",
      "[892]\tvalid_0's rmse: 1497.53\n",
      "[893]\tvalid_0's rmse: 1497.62\n",
      "[894]\tvalid_0's rmse: 1497.62\n",
      "[895]\tvalid_0's rmse: 1497.56\n",
      "[896]\tvalid_0's rmse: 1497.53\n",
      "[897]\tvalid_0's rmse: 1497.42\n",
      "[898]\tvalid_0's rmse: 1497.36\n",
      "[899]\tvalid_0's rmse: 1497.35\n",
      "[900]\tvalid_0's rmse: 1497.34\n",
      "[901]\tvalid_0's rmse: 1497.32\n",
      "[902]\tvalid_0's rmse: 1497.19\n",
      "[903]\tvalid_0's rmse: 1497.16\n",
      "[904]\tvalid_0's rmse: 1497.18\n",
      "[905]\tvalid_0's rmse: 1497.1\n",
      "[906]\tvalid_0's rmse: 1497.09\n",
      "[907]\tvalid_0's rmse: 1497.04\n",
      "[908]\tvalid_0's rmse: 1497\n",
      "[909]\tvalid_0's rmse: 1497.03\n",
      "[910]\tvalid_0's rmse: 1497.01\n",
      "[911]\tvalid_0's rmse: 1496.91\n",
      "[912]\tvalid_0's rmse: 1496.94\n",
      "[913]\tvalid_0's rmse: 1496.89\n",
      "[914]\tvalid_0's rmse: 1496.91\n",
      "[915]\tvalid_0's rmse: 1496.91\n",
      "[916]\tvalid_0's rmse: 1496.9\n",
      "[917]\tvalid_0's rmse: 1496.84\n",
      "[918]\tvalid_0's rmse: 1496.8\n",
      "[919]\tvalid_0's rmse: 1496.81\n",
      "[920]\tvalid_0's rmse: 1496.81\n",
      "[921]\tvalid_0's rmse: 1496.74\n",
      "[922]\tvalid_0's rmse: 1496.75\n",
      "[923]\tvalid_0's rmse: 1496.64\n",
      "[924]\tvalid_0's rmse: 1496.62\n",
      "[925]\tvalid_0's rmse: 1496.6\n",
      "[926]\tvalid_0's rmse: 1496.56\n",
      "[927]\tvalid_0's rmse: 1496.49\n",
      "[928]\tvalid_0's rmse: 1496.38\n",
      "[929]\tvalid_0's rmse: 1496.37\n",
      "[930]\tvalid_0's rmse: 1496.27\n",
      "[931]\tvalid_0's rmse: 1496.28\n",
      "[932]\tvalid_0's rmse: 1496.23\n",
      "[933]\tvalid_0's rmse: 1496.2\n",
      "[934]\tvalid_0's rmse: 1496.19\n",
      "[935]\tvalid_0's rmse: 1496.19\n",
      "[936]\tvalid_0's rmse: 1496.21\n",
      "[937]\tvalid_0's rmse: 1496.21\n",
      "[938]\tvalid_0's rmse: 1496.23\n",
      "[939]\tvalid_0's rmse: 1496.21\n",
      "[940]\tvalid_0's rmse: 1496.19\n",
      "[941]\tvalid_0's rmse: 1496.16\n",
      "[942]\tvalid_0's rmse: 1496.15\n",
      "[943]\tvalid_0's rmse: 1496.13\n",
      "[944]\tvalid_0's rmse: 1496.14\n",
      "[945]\tvalid_0's rmse: 1496.16\n",
      "[946]\tvalid_0's rmse: 1496.1\n",
      "[947]\tvalid_0's rmse: 1496.06\n",
      "[948]\tvalid_0's rmse: 1496.04\n",
      "[949]\tvalid_0's rmse: 1495.94\n",
      "[950]\tvalid_0's rmse: 1495.84\n",
      "[951]\tvalid_0's rmse: 1495.78\n",
      "[952]\tvalid_0's rmse: 1495.77\n",
      "[953]\tvalid_0's rmse: 1495.8\n",
      "[954]\tvalid_0's rmse: 1495.81\n",
      "[955]\tvalid_0's rmse: 1495.84\n",
      "[956]\tvalid_0's rmse: 1495.86\n",
      "[957]\tvalid_0's rmse: 1495.83\n",
      "[958]\tvalid_0's rmse: 1495.84\n",
      "[959]\tvalid_0's rmse: 1495.79\n",
      "[960]\tvalid_0's rmse: 1495.76\n",
      "[961]\tvalid_0's rmse: 1495.78\n",
      "[962]\tvalid_0's rmse: 1495.76\n",
      "[963]\tvalid_0's rmse: 1495.78\n",
      "[964]\tvalid_0's rmse: 1495.71\n",
      "[965]\tvalid_0's rmse: 1495.7\n",
      "[966]\tvalid_0's rmse: 1495.68\n",
      "[967]\tvalid_0's rmse: 1495.63\n",
      "[968]\tvalid_0's rmse: 1495.58\n",
      "[969]\tvalid_0's rmse: 1495.6\n",
      "[970]\tvalid_0's rmse: 1495.59\n",
      "[971]\tvalid_0's rmse: 1495.48\n",
      "[972]\tvalid_0's rmse: 1495.5\n",
      "[973]\tvalid_0's rmse: 1495.5\n",
      "[974]\tvalid_0's rmse: 1495.52\n",
      "[975]\tvalid_0's rmse: 1495.46\n",
      "[976]\tvalid_0's rmse: 1495.66\n",
      "[977]\tvalid_0's rmse: 1495.66\n",
      "[978]\tvalid_0's rmse: 1495.56\n",
      "[979]\tvalid_0's rmse: 1495.53\n",
      "[980]\tvalid_0's rmse: 1495.55\n",
      "[981]\tvalid_0's rmse: 1495.54\n",
      "[982]\tvalid_0's rmse: 1495.48\n",
      "[983]\tvalid_0's rmse: 1495.41\n",
      "[984]\tvalid_0's rmse: 1495.43\n",
      "[985]\tvalid_0's rmse: 1495.41\n",
      "[986]\tvalid_0's rmse: 1495.38\n",
      "[987]\tvalid_0's rmse: 1495.42\n",
      "[988]\tvalid_0's rmse: 1495.38\n",
      "[989]\tvalid_0's rmse: 1495.43\n",
      "[990]\tvalid_0's rmse: 1495.42\n",
      "[991]\tvalid_0's rmse: 1495.37\n",
      "[992]\tvalid_0's rmse: 1495.41\n",
      "[993]\tvalid_0's rmse: 1495.4\n",
      "[994]\tvalid_0's rmse: 1495.4\n",
      "[995]\tvalid_0's rmse: 1495.39\n",
      "[996]\tvalid_0's rmse: 1495.41\n",
      "[997]\tvalid_0's rmse: 1495.37\n",
      "[998]\tvalid_0's rmse: 1495.35\n",
      "[999]\tvalid_0's rmse: 1495.33\n",
      "[1000]\tvalid_0's rmse: 1495.33\n",
      "Did not meet early stopping. Best iteration is:\n",
      "[1000]\tvalid_0's rmse: 1495.33\n",
      "CPU times: user 22.6 s, sys: 207 ms, total: 22.8 s\n",
      "Wall time: 23.1 s\n"
     ]
    }
   ],
   "source": [
    "%%time \n",
    "\n",
    "final_model = lgb.train(params_lgb, lgb_train,\n",
    "                        num_boost_round=1000,\n",
    "                        valid_sets=[lgb_test], early_stopping_rounds=10)"
   ]
  },
  {
   "cell_type": "code",
   "execution_count": 66,
   "metadata": {},
   "outputs": [
    {
     "data": {
      "text/plain": [
       "<lightgbm.basic.Booster at 0x7f566c7063a0>"
      ]
     },
     "execution_count": 66,
     "metadata": {},
     "output_type": "execute_result"
    }
   ],
   "source": [
    "final_model.save_model('final_model_car_price.txt')"
   ]
  },
  {
   "cell_type": "code",
   "execution_count": 67,
   "metadata": {},
   "outputs": [
    {
     "name": "stdout",
     "output_type": "stream",
     "text": [
      "RMSE: 1495.3256379587842\n",
      "CPU times: user 5.76 s, sys: 0 ns, total: 5.76 s\n",
      "Wall time: 5.77 s\n"
     ]
    }
   ],
   "source": [
    "%%time\n",
    "\n",
    "y_pred = final_model.predict(X_test)\n",
    "\n",
    "print('RMSE:', rmse(y_test,y_pred))"
   ]
  },
  {
   "cell_type": "code",
   "execution_count": 68,
   "metadata": {},
   "outputs": [
    {
     "data": {
      "image/png": "[encoded data removed]",
      "text/plain": [
       "<Figure size 432x288 with 1 Axes>"
      ]
     },
     "metadata": {
      "needs_background": "light"
     },
     "output_type": "display_data"
    }
   ],
   "source": [
    "lgb.plot_importance(final_model, max_num_features=10)\n",
    "plt.show()"
   ]
  },
  {
   "cell_type": "code",
   "execution_count": 69,
   "metadata": {},
   "outputs": [
    {
     "name": "stdout",
     "output_type": "stream",
     "text": [
      "CPU times: user 9min 52s, sys: 384 ms, total: 9min 53s\n",
      "Wall time: 9min 55s\n"
     ]
    }
   ],
   "source": [
    "%%time \n",
    "shap_values = shap.TreeExplainer(final_model).shap_values(X_test)"
   ]
  },
  {
   "cell_type": "code",
   "execution_count": 70,
   "metadata": {},
   "outputs": [
    {
     "data": {
      "image/png": "[encoded data removed]",
      "text/plain": [
       "<Figure size 576x367.2 with 2 Axes>"
      ]
     },
     "metadata": {
      "needs_background": "light"
     },
     "output_type": "display_data"
    }
   ],
   "source": [
    "shap.summary_plot(shap_values, X_test)"
   ]
  },
  {
   "cell_type": "markdown",
   "metadata": {},
   "source": [
    "- Год выпуска автомобиля и мощность отражаются как наиболее значимые фичи, мощность я думаю попала сюда как комплексная фича ведь по сути мощность авто отражает так же и уровень комплектации, если зайти в конфигуратор бмв то у более мощных версий модели уже по умолчанию стоят дорогие опции"
   ]
  },
  {
   "cell_type": "markdown",
   "metadata": {},
   "source": [
    "### Результаты выбранного алгоритма\n",
    "\n",
    "- Библиотека - LightGBM\n",
    "\n",
    "\n",
    "- RMSE на cross_val: 1622.796667156757\n",
    "\n",
    "\n",
    "- RMSE на test: 1495.3256379587842\n",
    "\n",
    "\n",
    "- Время обучения 1h 48s\n",
    "\n",
    "\n",
    "- Время предсказания test 7.57 s"
   ]
  }
 ],
 "metadata": {
  "ExecuteTimeLog": [
   {
    "duration": 458,
    "start_time": "2023-07-11T11:31:02.552Z"
   },
   {
    "duration": 3531,
    "start_time": "2023-07-11T11:31:41.298Z"
   },
   {
    "duration": 45,
    "start_time": "2023-07-11T11:31:48.146Z"
   },
   {
    "duration": 166,
    "start_time": "2023-07-11T11:32:17.377Z"
   },
   {
    "duration": 71,
    "start_time": "2023-07-11T11:39:22.439Z"
   },
   {
    "duration": 8,
    "start_time": "2023-07-11T11:39:25.994Z"
   },
   {
    "duration": 6,
    "start_time": "2023-07-11T11:39:55.359Z"
   },
   {
    "duration": 27,
    "start_time": "2023-07-11T11:39:57.794Z"
   },
   {
    "duration": 52,
    "start_time": "2023-07-11T11:40:45.391Z"
   },
   {
    "duration": 4214,
    "start_time": "2023-07-11T11:56:17.991Z"
   },
   {
    "duration": 22,
    "start_time": "2023-07-11T11:59:45.812Z"
   },
   {
    "duration": 40,
    "start_time": "2023-07-11T11:59:57.884Z"
   },
   {
    "duration": 33,
    "start_time": "2023-07-11T12:00:00.961Z"
   },
   {
    "duration": 59,
    "start_time": "2023-07-11T12:00:05.121Z"
   },
   {
    "duration": 35,
    "start_time": "2023-07-11T12:00:10.094Z"
   },
   {
    "duration": 36,
    "start_time": "2023-07-11T12:00:24.130Z"
   },
   {
    "duration": 437,
    "start_time": "2023-07-11T12:03:42.359Z"
   },
   {
    "duration": 914,
    "start_time": "2023-07-11T12:03:42.799Z"
   },
   {
    "duration": 22,
    "start_time": "2023-07-11T12:03:43.715Z"
   },
   {
    "duration": 165,
    "start_time": "2023-07-11T12:03:43.740Z"
   },
   {
    "duration": 4,
    "start_time": "2023-07-11T12:03:43.907Z"
   },
   {
    "duration": 80,
    "start_time": "2023-07-11T12:03:43.913Z"
   },
   {
    "duration": 34,
    "start_time": "2023-07-11T12:03:43.995Z"
   },
   {
    "duration": 39,
    "start_time": "2023-07-11T12:03:44.031Z"
   },
   {
    "duration": 121,
    "start_time": "2023-07-11T12:05:59.113Z"
   },
   {
    "duration": 4654,
    "start_time": "2023-07-11T12:07:47.929Z"
   },
   {
    "duration": 2053,
    "start_time": "2023-07-11T12:08:15.401Z"
   },
   {
    "duration": 2488,
    "start_time": "2023-07-11T12:08:37.284Z"
   },
   {
    "duration": 880,
    "start_time": "2023-07-11T12:08:40.604Z"
   },
   {
    "duration": 16,
    "start_time": "2023-07-11T12:08:41.486Z"
   },
   {
    "duration": 154,
    "start_time": "2023-07-11T12:08:41.940Z"
   },
   {
    "duration": 4,
    "start_time": "2023-07-11T12:08:44.087Z"
   },
   {
    "duration": 1888,
    "start_time": "2023-07-11T12:08:44.842Z"
   },
   {
    "duration": 749,
    "start_time": "2023-07-11T12:09:25.045Z"
   },
   {
    "duration": 140,
    "start_time": "2023-07-11T12:10:16.903Z"
   },
   {
    "duration": 5,
    "start_time": "2023-07-11T12:11:35.832Z"
   },
   {
    "duration": 210,
    "start_time": "2023-07-11T12:11:40.586Z"
   },
   {
    "duration": 8,
    "start_time": "2023-07-11T12:14:41.435Z"
   },
   {
    "duration": 191,
    "start_time": "2023-07-11T12:15:07.305Z"
   },
   {
    "duration": 245,
    "start_time": "2023-07-11T12:15:18.689Z"
   },
   {
    "duration": 112,
    "start_time": "2023-07-11T12:22:21.509Z"
   },
   {
    "duration": 453,
    "start_time": "2023-07-11T12:23:01.552Z"
   },
   {
    "duration": 410,
    "start_time": "2023-07-11T12:23:06.875Z"
   },
   {
    "duration": 431,
    "start_time": "2023-07-11T12:23:22.154Z"
   },
   {
    "duration": 476,
    "start_time": "2023-07-11T12:24:19.085Z"
   },
   {
    "duration": 552,
    "start_time": "2023-07-11T12:24:32.159Z"
   },
   {
    "duration": 587,
    "start_time": "2023-07-11T12:24:35.597Z"
   },
   {
    "duration": 966,
    "start_time": "2023-07-11T12:24:43.899Z"
   },
   {
    "duration": 890,
    "start_time": "2023-07-11T12:24:48.964Z"
   },
   {
    "duration": 14,
    "start_time": "2023-07-11T12:25:25.418Z"
   },
   {
    "duration": 17,
    "start_time": "2023-07-11T12:29:08.658Z"
   },
   {
    "duration": 19,
    "start_time": "2023-07-11T12:29:12.649Z"
   },
   {
    "duration": 400,
    "start_time": "2023-07-11T12:32:23.632Z"
   },
   {
    "duration": 382,
    "start_time": "2023-07-11T12:33:00.218Z"
   },
   {
    "duration": 2638,
    "start_time": "2023-07-11T12:35:45.326Z"
   },
   {
    "duration": 110,
    "start_time": "2023-07-11T12:35:56.692Z"
   },
   {
    "duration": 473,
    "start_time": "2023-07-11T12:36:09.908Z"
   },
   {
    "duration": 469,
    "start_time": "2023-07-11T12:36:43.467Z"
   },
   {
    "duration": 634,
    "start_time": "2023-07-11T12:38:37.288Z"
   },
   {
    "duration": 465,
    "start_time": "2023-07-11T12:38:41.955Z"
   },
   {
    "duration": 491,
    "start_time": "2023-07-11T12:38:57.727Z"
   },
   {
    "duration": 516,
    "start_time": "2023-07-11T12:39:15.493Z"
   },
   {
    "duration": 470,
    "start_time": "2023-07-11T12:40:18.960Z"
   },
   {
    "duration": 453,
    "start_time": "2023-07-11T12:40:59.110Z"
   },
   {
    "duration": 60,
    "start_time": "2023-07-11T22:00:19.658Z"
   },
   {
    "duration": 5387,
    "start_time": "2023-07-11T22:00:23.870Z"
   },
   {
    "duration": 1987,
    "start_time": "2023-07-11T22:00:29.258Z"
   },
   {
    "duration": 21,
    "start_time": "2023-07-11T22:00:31.251Z"
   },
   {
    "duration": 343,
    "start_time": "2023-07-11T22:00:31.274Z"
   },
   {
    "duration": 9,
    "start_time": "2023-07-11T22:00:31.619Z"
   },
   {
    "duration": 2031,
    "start_time": "2023-07-11T22:00:31.630Z"
   },
   {
    "duration": 695,
    "start_time": "2023-07-11T22:00:33.662Z"
   },
   {
    "duration": 9,
    "start_time": "2023-07-11T22:00:34.358Z"
   },
   {
    "duration": 295,
    "start_time": "2023-07-11T22:00:34.371Z"
   },
   {
    "duration": 89,
    "start_time": "2023-07-11T22:00:34.668Z"
   },
   {
    "duration": 0,
    "start_time": "2023-07-11T22:00:34.758Z"
   },
   {
    "duration": 0,
    "start_time": "2023-07-11T22:00:34.759Z"
   },
   {
    "duration": 1,
    "start_time": "2023-07-11T22:00:34.759Z"
   },
   {
    "duration": 0,
    "start_time": "2023-07-11T22:00:34.760Z"
   },
   {
    "duration": 0,
    "start_time": "2023-07-11T22:00:34.765Z"
   },
   {
    "duration": 295,
    "start_time": "2023-07-11T22:02:41.844Z"
   },
   {
    "duration": 271,
    "start_time": "2023-07-11T22:02:47.326Z"
   },
   {
    "duration": 1032,
    "start_time": "2023-07-11T22:02:47.724Z"
   },
   {
    "duration": 47,
    "start_time": "2023-07-11T22:02:50.387Z"
   },
   {
    "duration": 499,
    "start_time": "2023-07-11T22:02:51.938Z"
   },
   {
    "duration": 68,
    "start_time": "2023-07-11T22:02:55.627Z"
   },
   {
    "duration": 552,
    "start_time": "2023-07-11T22:02:56.738Z"
   },
   {
    "duration": 163,
    "start_time": "2023-07-11T22:03:06.062Z"
   },
   {
    "duration": 499,
    "start_time": "2023-07-11T22:03:06.382Z"
   },
   {
    "duration": 22,
    "start_time": "2023-07-11T22:03:06.883Z"
   },
   {
    "duration": 410,
    "start_time": "2023-07-11T22:03:07.055Z"
   },
   {
    "duration": 60,
    "start_time": "2023-07-11T22:03:07.538Z"
   },
   {
    "duration": 483,
    "start_time": "2023-07-11T22:03:08.374Z"
   },
   {
    "duration": 3925,
    "start_time": "2023-07-11T22:03:38.346Z"
   },
   {
    "duration": 990,
    "start_time": "2023-07-11T22:03:42.273Z"
   },
   {
    "duration": 18,
    "start_time": "2023-07-11T22:03:43.265Z"
   },
   {
    "duration": 208,
    "start_time": "2023-07-11T22:03:43.284Z"
   },
   {
    "duration": 5,
    "start_time": "2023-07-11T22:03:43.495Z"
   },
   {
    "duration": 2356,
    "start_time": "2023-07-11T22:03:43.518Z"
   },
   {
    "duration": 852,
    "start_time": "2023-07-11T22:03:45.875Z"
   },
   {
    "duration": 14,
    "start_time": "2023-07-11T22:03:46.728Z"
   },
   {
    "duration": 256,
    "start_time": "2023-07-11T22:03:46.764Z"
   },
   {
    "duration": 263,
    "start_time": "2023-07-11T22:03:47.022Z"
   },
   {
    "duration": 1050,
    "start_time": "2023-07-11T22:03:47.287Z"
   },
   {
    "duration": 30,
    "start_time": "2023-07-11T22:03:48.339Z"
   },
   {
    "duration": 406,
    "start_time": "2023-07-11T22:03:48.370Z"
   },
   {
    "duration": 74,
    "start_time": "2023-07-11T22:03:48.779Z"
   },
   {
    "duration": 538,
    "start_time": "2023-07-11T22:03:48.854Z"
   },
   {
    "duration": 559,
    "start_time": "2023-07-11T22:06:02.366Z"
   },
   {
    "duration": 839,
    "start_time": "2023-07-11T22:06:10.337Z"
   },
   {
    "duration": 558,
    "start_time": "2023-07-11T22:06:21.605Z"
   },
   {
    "duration": 704,
    "start_time": "2023-07-11T22:06:33.655Z"
   },
   {
    "duration": 67,
    "start_time": "2023-07-11T22:06:51.221Z"
   },
   {
    "duration": 611,
    "start_time": "2023-07-11T22:08:02.055Z"
   },
   {
    "duration": 487,
    "start_time": "2023-07-11T22:13:37.825Z"
   },
   {
    "duration": 460,
    "start_time": "2023-07-11T22:16:13.752Z"
   },
   {
    "duration": 451,
    "start_time": "2023-07-11T22:16:16.348Z"
   },
   {
    "duration": 2811,
    "start_time": "2023-07-11T22:20:54.345Z"
   },
   {
    "duration": 141,
    "start_time": "2023-07-11T22:28:22.416Z"
   },
   {
    "duration": 4187,
    "start_time": "2023-07-11T22:28:31.574Z"
   },
   {
    "duration": 8237,
    "start_time": "2023-07-11T22:29:26.456Z"
   },
   {
    "duration": 21,
    "start_time": "2023-07-11T22:29:34.695Z"
   },
   {
    "duration": 12,
    "start_time": "2023-07-11T22:29:45.836Z"
   },
   {
    "duration": 2425,
    "start_time": "2023-07-11T22:30:10.792Z"
   },
   {
    "duration": 826,
    "start_time": "2023-07-11T22:30:13.220Z"
   },
   {
    "duration": 17,
    "start_time": "2023-07-11T22:30:14.048Z"
   },
   {
    "duration": 178,
    "start_time": "2023-07-11T22:30:14.067Z"
   },
   {
    "duration": 5,
    "start_time": "2023-07-11T22:30:14.249Z"
   },
   {
    "duration": 1705,
    "start_time": "2023-07-11T22:30:14.256Z"
   },
   {
    "duration": 793,
    "start_time": "2023-07-11T22:30:15.962Z"
   },
   {
    "duration": 7,
    "start_time": "2023-07-11T22:30:16.756Z"
   },
   {
    "duration": 244,
    "start_time": "2023-07-11T22:30:16.765Z"
   },
   {
    "duration": 230,
    "start_time": "2023-07-11T22:30:17.016Z"
   },
   {
    "duration": 827,
    "start_time": "2023-07-11T22:30:17.247Z"
   },
   {
    "duration": 46,
    "start_time": "2023-07-11T22:30:18.076Z"
   },
   {
    "duration": 460,
    "start_time": "2023-07-11T22:30:18.123Z"
   },
   {
    "duration": 75,
    "start_time": "2023-07-11T22:30:18.585Z"
   },
   {
    "duration": 444,
    "start_time": "2023-07-11T22:30:18.662Z"
   },
   {
    "duration": 441,
    "start_time": "2023-07-11T22:30:19.111Z"
   },
   {
    "duration": 450,
    "start_time": "2023-07-11T22:30:19.554Z"
   },
   {
    "duration": 7780,
    "start_time": "2023-07-11T22:30:20.005Z"
   },
   {
    "duration": 7,
    "start_time": "2023-07-11T22:30:27.787Z"
   },
   {
    "duration": 28,
    "start_time": "2023-07-11T22:31:16.632Z"
   },
   {
    "duration": 28,
    "start_time": "2023-07-11T22:31:33.246Z"
   },
   {
    "duration": 470,
    "start_time": "2023-07-11T22:32:05.694Z"
   },
   {
    "duration": 147,
    "start_time": "2023-07-11T22:32:33.127Z"
   },
   {
    "duration": 2431,
    "start_time": "2023-07-11T22:51:41.057Z"
   },
   {
    "duration": 5751,
    "start_time": "2023-07-12T16:40:32.231Z"
   },
   {
    "duration": 1449,
    "start_time": "2023-07-12T16:40:37.984Z"
   },
   {
    "duration": 19,
    "start_time": "2023-07-12T16:40:39.442Z"
   },
   {
    "duration": 151,
    "start_time": "2023-07-12T16:40:39.462Z"
   },
   {
    "duration": 3,
    "start_time": "2023-07-12T16:40:39.616Z"
   },
   {
    "duration": 1960,
    "start_time": "2023-07-12T16:40:39.620Z"
   },
   {
    "duration": 677,
    "start_time": "2023-07-12T16:40:41.581Z"
   },
   {
    "duration": 4,
    "start_time": "2023-07-12T16:40:42.260Z"
   },
   {
    "duration": 211,
    "start_time": "2023-07-12T16:40:42.265Z"
   },
   {
    "duration": 276,
    "start_time": "2023-07-12T16:40:42.477Z"
   },
   {
    "duration": 914,
    "start_time": "2023-07-12T16:40:42.754Z"
   },
   {
    "duration": 35,
    "start_time": "2023-07-12T16:40:43.670Z"
   },
   {
    "duration": 446,
    "start_time": "2023-07-12T16:40:43.706Z"
   },
   {
    "duration": 98,
    "start_time": "2023-07-12T16:40:44.155Z"
   },
   {
    "duration": 526,
    "start_time": "2023-07-12T16:40:44.256Z"
   },
   {
    "duration": 433,
    "start_time": "2023-07-12T16:40:44.784Z"
   },
   {
    "duration": 465,
    "start_time": "2023-07-12T16:40:45.218Z"
   },
   {
    "duration": 7639,
    "start_time": "2023-07-12T16:40:45.685Z"
   },
   {
    "duration": 12,
    "start_time": "2023-07-12T16:40:53.325Z"
   },
   {
    "duration": 180,
    "start_time": "2023-07-12T16:40:53.338Z"
   },
   {
    "duration": 2135,
    "start_time": "2023-07-12T16:41:38.243Z"
   },
   {
    "duration": 784,
    "start_time": "2023-07-12T16:41:40.380Z"
   },
   {
    "duration": 12,
    "start_time": "2023-07-12T16:41:41.166Z"
   },
   {
    "duration": 149,
    "start_time": "2023-07-12T16:41:41.180Z"
   },
   {
    "duration": 13,
    "start_time": "2023-07-12T16:41:41.331Z"
   },
   {
    "duration": 1620,
    "start_time": "2023-07-12T16:41:41.345Z"
   },
   {
    "duration": 630,
    "start_time": "2023-07-12T16:41:42.967Z"
   },
   {
    "duration": 3,
    "start_time": "2023-07-12T16:41:43.599Z"
   },
   {
    "duration": 244,
    "start_time": "2023-07-12T16:41:43.617Z"
   },
   {
    "duration": 225,
    "start_time": "2023-07-12T16:41:43.862Z"
   },
   {
    "duration": 774,
    "start_time": "2023-07-12T16:41:44.089Z"
   },
   {
    "duration": 24,
    "start_time": "2023-07-12T16:41:44.864Z"
   },
   {
    "duration": 401,
    "start_time": "2023-07-12T16:41:44.889Z"
   },
   {
    "duration": 59,
    "start_time": "2023-07-12T16:41:45.292Z"
   },
   {
    "duration": 479,
    "start_time": "2023-07-12T16:41:45.353Z"
   },
   {
    "duration": 453,
    "start_time": "2023-07-12T16:41:45.833Z"
   },
   {
    "duration": 500,
    "start_time": "2023-07-12T16:41:46.288Z"
   },
   {
    "duration": 6,
    "start_time": "2023-07-12T16:42:55.523Z"
   },
   {
    "duration": 718,
    "start_time": "2023-07-12T16:45:29.464Z"
   },
   {
    "duration": 2584,
    "start_time": "2023-07-12T16:46:41.214Z"
   },
   {
    "duration": 698,
    "start_time": "2023-07-12T16:46:59.164Z"
   },
   {
    "duration": 3,
    "start_time": "2023-07-12T16:47:23.814Z"
   },
   {
    "duration": 85,
    "start_time": "2023-07-12T16:47:24.497Z"
   },
   {
    "duration": 664,
    "start_time": "2023-07-12T16:47:25.199Z"
   },
   {
    "duration": 25,
    "start_time": "2023-07-12T16:50:05.760Z"
   },
   {
    "duration": 34,
    "start_time": "2023-07-12T16:50:26.213Z"
   },
   {
    "duration": 28,
    "start_time": "2023-07-12T16:50:41.552Z"
   },
   {
    "duration": 43,
    "start_time": "2023-07-12T16:53:04.617Z"
   },
   {
    "duration": 26,
    "start_time": "2023-07-12T16:55:21.691Z"
   },
   {
    "duration": 153,
    "start_time": "2023-07-12T16:56:08.002Z"
   },
   {
    "duration": 4,
    "start_time": "2023-07-12T16:57:14.274Z"
   },
   {
    "duration": 118,
    "start_time": "2023-07-12T16:58:53.756Z"
   },
   {
    "duration": 12,
    "start_time": "2023-07-12T16:58:56.883Z"
   },
   {
    "duration": 6042,
    "start_time": "2023-07-12T17:01:40.234Z"
   },
   {
    "duration": 1028,
    "start_time": "2023-07-12T17:01:57.397Z"
   },
   {
    "duration": 17,
    "start_time": "2023-07-12T17:03:04.436Z"
   },
   {
    "duration": 140,
    "start_time": "2023-07-12T17:05:50.259Z"
   },
   {
    "duration": 21,
    "start_time": "2023-07-12T17:05:54.231Z"
   },
   {
    "duration": 17,
    "start_time": "2023-07-12T17:06:02.831Z"
   },
   {
    "duration": 20,
    "start_time": "2023-07-12T17:06:05.070Z"
   },
   {
    "duration": 28,
    "start_time": "2023-07-12T17:06:09.962Z"
   },
   {
    "duration": 29,
    "start_time": "2023-07-12T17:16:14.824Z"
   },
   {
    "duration": 18,
    "start_time": "2023-07-12T17:16:25.445Z"
   },
   {
    "duration": 20,
    "start_time": "2023-07-12T17:18:51.036Z"
   },
   {
    "duration": 10,
    "start_time": "2023-07-12T17:20:03.039Z"
   },
   {
    "duration": 18,
    "start_time": "2023-07-12T17:20:08.525Z"
   },
   {
    "duration": 18,
    "start_time": "2023-07-12T17:20:11.266Z"
   },
   {
    "duration": 17,
    "start_time": "2023-07-12T17:20:31.972Z"
   },
   {
    "duration": 26,
    "start_time": "2023-07-12T17:23:16.243Z"
   },
   {
    "duration": 45,
    "start_time": "2023-07-12T17:24:31.626Z"
   },
   {
    "duration": 15,
    "start_time": "2023-07-12T17:24:34.537Z"
   },
   {
    "duration": 3,
    "start_time": "2023-07-12T17:25:27.246Z"
   },
   {
    "duration": 7,
    "start_time": "2023-07-12T17:25:32.180Z"
   },
   {
    "duration": 2113,
    "start_time": "2023-07-12T17:25:38.038Z"
   },
   {
    "duration": 780,
    "start_time": "2023-07-12T17:25:40.153Z"
   },
   {
    "duration": 20,
    "start_time": "2023-07-12T17:25:40.934Z"
   },
   {
    "duration": 133,
    "start_time": "2023-07-12T17:25:40.955Z"
   },
   {
    "duration": 61,
    "start_time": "2023-07-12T17:25:41.091Z"
   },
   {
    "duration": 4,
    "start_time": "2023-07-12T17:25:41.154Z"
   },
   {
    "duration": 1667,
    "start_time": "2023-07-12T17:25:41.159Z"
   },
   {
    "duration": 618,
    "start_time": "2023-07-12T17:25:42.830Z"
   },
   {
    "duration": 3,
    "start_time": "2023-07-12T17:25:43.450Z"
   },
   {
    "duration": 203,
    "start_time": "2023-07-12T17:25:43.455Z"
   },
   {
    "duration": 234,
    "start_time": "2023-07-12T17:25:43.660Z"
   },
   {
    "duration": 831,
    "start_time": "2023-07-12T17:25:43.895Z"
   },
   {
    "duration": 35,
    "start_time": "2023-07-12T17:25:44.729Z"
   },
   {
    "duration": 3,
    "start_time": "2023-07-12T17:25:44.767Z"
   },
   {
    "duration": 59,
    "start_time": "2023-07-12T17:25:44.771Z"
   },
   {
    "duration": 1029,
    "start_time": "2023-07-12T17:25:44.832Z"
   },
   {
    "duration": 6,
    "start_time": "2023-07-12T17:25:45.863Z"
   },
   {
    "duration": 21,
    "start_time": "2023-07-12T17:25:45.870Z"
   },
   {
    "duration": 20,
    "start_time": "2023-07-12T17:26:46.658Z"
   },
   {
    "duration": 31,
    "start_time": "2023-07-12T17:27:02.846Z"
   },
   {
    "duration": 17,
    "start_time": "2023-07-12T17:27:08.978Z"
   },
   {
    "duration": 18,
    "start_time": "2023-07-12T17:29:06.826Z"
   },
   {
    "duration": 46,
    "start_time": "2023-07-12T17:29:54.481Z"
   },
   {
    "duration": 25,
    "start_time": "2023-07-12T17:30:37.954Z"
   },
   {
    "duration": 47,
    "start_time": "2023-07-12T17:31:54.126Z"
   },
   {
    "duration": 2046,
    "start_time": "2023-07-12T17:33:03.547Z"
   },
   {
    "duration": 835,
    "start_time": "2023-07-12T17:33:05.595Z"
   },
   {
    "duration": 14,
    "start_time": "2023-07-12T17:33:06.432Z"
   },
   {
    "duration": 128,
    "start_time": "2023-07-12T17:33:06.448Z"
   },
   {
    "duration": 55,
    "start_time": "2023-07-12T17:33:06.578Z"
   },
   {
    "duration": 4,
    "start_time": "2023-07-12T17:33:06.635Z"
   },
   {
    "duration": 1606,
    "start_time": "2023-07-12T17:33:06.640Z"
   },
   {
    "duration": 684,
    "start_time": "2023-07-12T17:33:08.248Z"
   },
   {
    "duration": 4,
    "start_time": "2023-07-12T17:33:08.935Z"
   },
   {
    "duration": 189,
    "start_time": "2023-07-12T17:33:08.941Z"
   },
   {
    "duration": 205,
    "start_time": "2023-07-12T17:33:09.132Z"
   },
   {
    "duration": 781,
    "start_time": "2023-07-12T17:33:09.340Z"
   },
   {
    "duration": 27,
    "start_time": "2023-07-12T17:33:10.124Z"
   },
   {
    "duration": 12,
    "start_time": "2023-07-12T17:33:10.152Z"
   },
   {
    "duration": 62,
    "start_time": "2023-07-12T17:33:10.166Z"
   },
   {
    "duration": 1199,
    "start_time": "2023-07-12T17:33:10.230Z"
   },
   {
    "duration": 46,
    "start_time": "2023-07-12T17:33:11.431Z"
   },
   {
    "duration": 6,
    "start_time": "2023-07-12T17:33:11.479Z"
   },
   {
    "duration": 7,
    "start_time": "2023-07-12T17:33:26.623Z"
   },
   {
    "duration": 11,
    "start_time": "2023-07-12T17:33:48.353Z"
   },
   {
    "duration": 9,
    "start_time": "2023-07-12T17:33:54.653Z"
   },
   {
    "duration": 0,
    "start_time": "2023-07-12T17:34:11.752Z"
   },
   {
    "duration": 9,
    "start_time": "2023-07-12T17:34:16.771Z"
   },
   {
    "duration": 9,
    "start_time": "2023-07-12T17:34:20.978Z"
   },
   {
    "duration": 2142,
    "start_time": "2023-07-12T17:34:23.487Z"
   },
   {
    "duration": 786,
    "start_time": "2023-07-12T17:34:25.631Z"
   },
   {
    "duration": 19,
    "start_time": "2023-07-12T17:34:26.425Z"
   },
   {
    "duration": 135,
    "start_time": "2023-07-12T17:34:26.446Z"
   },
   {
    "duration": 50,
    "start_time": "2023-07-12T17:34:26.584Z"
   },
   {
    "duration": 4,
    "start_time": "2023-07-12T17:34:26.636Z"
   },
   {
    "duration": 1607,
    "start_time": "2023-07-12T17:34:26.641Z"
   },
   {
    "duration": 638,
    "start_time": "2023-07-12T17:34:28.249Z"
   },
   {
    "duration": 3,
    "start_time": "2023-07-12T17:34:28.889Z"
   },
   {
    "duration": 220,
    "start_time": "2023-07-12T17:34:28.909Z"
   },
   {
    "duration": 214,
    "start_time": "2023-07-12T17:34:29.131Z"
   },
   {
    "duration": 736,
    "start_time": "2023-07-12T17:34:29.346Z"
   },
   {
    "duration": 38,
    "start_time": "2023-07-12T17:34:30.083Z"
   },
   {
    "duration": 33,
    "start_time": "2023-07-12T17:34:30.124Z"
   },
   {
    "duration": 115,
    "start_time": "2023-07-12T17:34:30.158Z"
   },
   {
    "duration": 979,
    "start_time": "2023-07-12T17:34:30.274Z"
   },
   {
    "duration": 72,
    "start_time": "2023-07-12T17:34:31.256Z"
   },
   {
    "duration": 13,
    "start_time": "2023-07-12T17:34:31.329Z"
   },
   {
    "duration": 2356,
    "start_time": "2023-07-12T17:35:14.826Z"
   },
   {
    "duration": 761,
    "start_time": "2023-07-12T17:35:17.185Z"
   },
   {
    "duration": 18,
    "start_time": "2023-07-12T17:35:17.948Z"
   },
   {
    "duration": 192,
    "start_time": "2023-07-12T17:35:17.968Z"
   },
   {
    "duration": 77,
    "start_time": "2023-07-12T17:35:18.162Z"
   },
   {
    "duration": 3,
    "start_time": "2023-07-12T17:35:18.241Z"
   },
   {
    "duration": 1582,
    "start_time": "2023-07-12T17:35:18.245Z"
   },
   {
    "duration": 637,
    "start_time": "2023-07-12T17:35:19.828Z"
   },
   {
    "duration": 4,
    "start_time": "2023-07-12T17:35:20.466Z"
   },
   {
    "duration": 246,
    "start_time": "2023-07-12T17:35:20.471Z"
   },
   {
    "duration": 226,
    "start_time": "2023-07-12T17:35:20.719Z"
   },
   {
    "duration": 720,
    "start_time": "2023-07-12T17:35:20.947Z"
   },
   {
    "duration": 23,
    "start_time": "2023-07-12T17:35:21.668Z"
   },
   {
    "duration": 7,
    "start_time": "2023-07-12T17:35:21.700Z"
   },
   {
    "duration": 74,
    "start_time": "2023-07-12T17:35:21.710Z"
   },
   {
    "duration": 971,
    "start_time": "2023-07-12T17:35:21.785Z"
   },
   {
    "duration": 71,
    "start_time": "2023-07-12T17:35:22.758Z"
   },
   {
    "duration": 13,
    "start_time": "2023-07-12T17:35:22.833Z"
   },
   {
    "duration": 3452,
    "start_time": "2023-07-12T17:35:30.826Z"
   },
   {
    "duration": 850,
    "start_time": "2023-07-12T17:35:34.280Z"
   },
   {
    "duration": 18,
    "start_time": "2023-07-12T17:35:35.134Z"
   },
   {
    "duration": 141,
    "start_time": "2023-07-12T17:35:35.153Z"
   },
   {
    "duration": 48,
    "start_time": "2023-07-12T17:35:35.304Z"
   },
   {
    "duration": 17,
    "start_time": "2023-07-12T17:35:35.354Z"
   },
   {
    "duration": 1772,
    "start_time": "2023-07-12T17:35:35.372Z"
   },
   {
    "duration": 686,
    "start_time": "2023-07-12T17:35:37.145Z"
   },
   {
    "duration": 4,
    "start_time": "2023-07-12T17:35:37.834Z"
   },
   {
    "duration": 209,
    "start_time": "2023-07-12T17:35:37.840Z"
   },
   {
    "duration": 228,
    "start_time": "2023-07-12T17:35:38.050Z"
   },
   {
    "duration": 860,
    "start_time": "2023-07-12T17:35:38.280Z"
   },
   {
    "duration": 31,
    "start_time": "2023-07-12T17:35:39.142Z"
   },
   {
    "duration": 9,
    "start_time": "2023-07-12T17:35:39.176Z"
   },
   {
    "duration": 93,
    "start_time": "2023-07-12T17:35:39.187Z"
   },
   {
    "duration": 1186,
    "start_time": "2023-07-12T17:35:39.282Z"
   },
   {
    "duration": 68,
    "start_time": "2023-07-12T17:35:40.469Z"
   },
   {
    "duration": 141,
    "start_time": "2023-07-12T17:35:40.538Z"
   },
   {
    "duration": 17,
    "start_time": "2023-07-12T17:35:58.002Z"
   },
   {
    "duration": 4,
    "start_time": "2023-07-12T17:36:01.969Z"
   },
   {
    "duration": 14,
    "start_time": "2023-07-12T17:36:08.917Z"
   },
   {
    "duration": 10,
    "start_time": "2023-07-12T17:36:16.445Z"
   },
   {
    "duration": 6,
    "start_time": "2023-07-12T17:36:59.227Z"
   },
   {
    "duration": 13,
    "start_time": "2023-07-12T17:38:14.937Z"
   },
   {
    "duration": 11,
    "start_time": "2023-07-12T17:38:34.250Z"
   },
   {
    "duration": 10,
    "start_time": "2023-07-12T17:38:40.552Z"
   },
   {
    "duration": 9,
    "start_time": "2023-07-12T17:38:48.925Z"
   },
   {
    "duration": 10,
    "start_time": "2023-07-12T17:38:55.331Z"
   },
   {
    "duration": 10,
    "start_time": "2023-07-12T17:38:59.678Z"
   },
   {
    "duration": 21,
    "start_time": "2023-07-12T17:39:41.622Z"
   },
   {
    "duration": 15,
    "start_time": "2023-07-12T17:39:50.782Z"
   },
   {
    "duration": 15,
    "start_time": "2023-07-12T17:39:58.038Z"
   },
   {
    "duration": 18,
    "start_time": "2023-07-12T17:40:04.022Z"
   },
   {
    "duration": 16,
    "start_time": "2023-07-12T17:44:22.122Z"
   },
   {
    "duration": 15,
    "start_time": "2023-07-12T17:44:29.560Z"
   },
   {
    "duration": 16,
    "start_time": "2023-07-12T17:44:34.774Z"
   },
   {
    "duration": 14,
    "start_time": "2023-07-12T17:44:40.823Z"
   },
   {
    "duration": 11,
    "start_time": "2023-07-12T17:44:51.264Z"
   },
   {
    "duration": 11,
    "start_time": "2023-07-12T17:44:57.274Z"
   },
   {
    "duration": 27,
    "start_time": "2023-07-12T17:45:01.689Z"
   },
   {
    "duration": 12,
    "start_time": "2023-07-12T17:45:06.848Z"
   },
   {
    "duration": 49,
    "start_time": "2023-07-12T17:46:17.280Z"
   },
   {
    "duration": 14,
    "start_time": "2023-07-12T17:46:24.165Z"
   },
   {
    "duration": 4,
    "start_time": "2023-07-12T17:46:59.180Z"
   },
   {
    "duration": 6,
    "start_time": "2023-07-12T17:47:08.444Z"
   },
   {
    "duration": 7,
    "start_time": "2023-07-12T17:48:20.622Z"
   },
   {
    "duration": 11,
    "start_time": "2023-07-12T17:50:38.763Z"
   },
   {
    "duration": 27,
    "start_time": "2023-07-12T17:50:45.196Z"
   },
   {
    "duration": 30,
    "start_time": "2023-07-12T17:51:17.994Z"
   },
   {
    "duration": 21,
    "start_time": "2023-07-12T17:52:44.219Z"
   },
   {
    "duration": 29,
    "start_time": "2023-07-12T17:52:57.726Z"
   },
   {
    "duration": 7,
    "start_time": "2023-07-12T17:52:59.352Z"
   },
   {
    "duration": 19,
    "start_time": "2023-07-12T17:53:01.927Z"
   },
   {
    "duration": 88,
    "start_time": "2023-07-12T17:53:35.729Z"
   },
   {
    "duration": 16,
    "start_time": "2023-07-12T17:53:38.922Z"
   },
   {
    "duration": 144,
    "start_time": "2023-07-12T18:04:00.468Z"
   },
   {
    "duration": 119,
    "start_time": "2023-07-12T18:04:05.719Z"
   },
   {
    "duration": 31,
    "start_time": "2023-07-12T18:04:36.222Z"
   },
   {
    "duration": 52,
    "start_time": "2023-07-12T18:04:55.391Z"
   },
   {
    "duration": 6,
    "start_time": "2023-07-12T18:15:32.430Z"
   },
   {
    "duration": 18,
    "start_time": "2023-07-12T18:15:51.660Z"
   },
   {
    "duration": 17,
    "start_time": "2023-07-12T18:16:20.228Z"
   },
   {
    "duration": 20,
    "start_time": "2023-07-12T18:16:40.560Z"
   },
   {
    "duration": 19,
    "start_time": "2023-07-12T18:20:29.396Z"
   },
   {
    "duration": 53,
    "start_time": "2023-07-12T18:20:32.971Z"
   },
   {
    "duration": 94,
    "start_time": "2023-07-12T18:20:41.404Z"
   },
   {
    "duration": 10,
    "start_time": "2023-07-12T18:21:24.360Z"
   },
   {
    "duration": 87,
    "start_time": "2023-07-12T18:21:38.626Z"
   },
   {
    "duration": 64,
    "start_time": "2023-07-12T18:22:50.122Z"
   },
   {
    "duration": 3396,
    "start_time": "2023-07-12T18:23:19.223Z"
   },
   {
    "duration": 759,
    "start_time": "2023-07-12T18:23:22.623Z"
   },
   {
    "duration": 39,
    "start_time": "2023-07-12T18:23:23.383Z"
   },
   {
    "duration": 128,
    "start_time": "2023-07-12T18:23:23.423Z"
   },
   {
    "duration": 42,
    "start_time": "2023-07-12T18:23:23.553Z"
   },
   {
    "duration": 24,
    "start_time": "2023-07-12T18:23:23.597Z"
   },
   {
    "duration": 1624,
    "start_time": "2023-07-12T18:23:23.626Z"
   },
   {
    "duration": 645,
    "start_time": "2023-07-12T18:23:25.252Z"
   },
   {
    "duration": 4,
    "start_time": "2023-07-12T18:23:25.899Z"
   },
   {
    "duration": 230,
    "start_time": "2023-07-12T18:23:25.914Z"
   },
   {
    "duration": 228,
    "start_time": "2023-07-12T18:23:26.146Z"
   },
   {
    "duration": 841,
    "start_time": "2023-07-12T18:23:26.375Z"
   },
   {
    "duration": 30,
    "start_time": "2023-07-12T18:23:27.217Z"
   },
   {
    "duration": 25,
    "start_time": "2023-07-12T18:23:27.250Z"
   },
   {
    "duration": 58,
    "start_time": "2023-07-12T18:23:27.276Z"
   },
   {
    "duration": 1024,
    "start_time": "2023-07-12T18:23:27.336Z"
   },
   {
    "duration": 67,
    "start_time": "2023-07-12T18:23:28.362Z"
   },
   {
    "duration": 6,
    "start_time": "2023-07-12T18:23:28.431Z"
   },
   {
    "duration": 14,
    "start_time": "2023-07-12T18:23:28.438Z"
   },
   {
    "duration": 43,
    "start_time": "2023-07-12T18:23:28.454Z"
   },
   {
    "duration": 27,
    "start_time": "2023-07-12T18:23:28.498Z"
   },
   {
    "duration": 37,
    "start_time": "2023-07-12T18:23:28.526Z"
   },
   {
    "duration": 18,
    "start_time": "2023-07-12T18:23:28.564Z"
   },
   {
    "duration": 42,
    "start_time": "2023-07-12T18:23:28.583Z"
   },
   {
    "duration": 148,
    "start_time": "2023-07-12T18:23:28.626Z"
   },
   {
    "duration": 67,
    "start_time": "2023-07-12T18:23:48.499Z"
   },
   {
    "duration": 34,
    "start_time": "2023-07-12T18:24:37.658Z"
   },
   {
    "duration": 17,
    "start_time": "2023-07-12T18:24:43.360Z"
   },
   {
    "duration": 21,
    "start_time": "2023-07-12T18:24:57.400Z"
   },
   {
    "duration": 20,
    "start_time": "2023-07-12T18:24:59.514Z"
   },
   {
    "duration": 9,
    "start_time": "2023-07-12T18:25:14.824Z"
   },
   {
    "duration": 3,
    "start_time": "2023-07-12T18:25:22.362Z"
   },
   {
    "duration": 3,
    "start_time": "2023-07-12T18:31:01.419Z"
   },
   {
    "duration": 3,
    "start_time": "2023-07-12T18:31:04.751Z"
   },
   {
    "duration": 3,
    "start_time": "2023-07-12T18:31:09.222Z"
   },
   {
    "duration": 1966,
    "start_time": "2023-07-12T18:31:44.149Z"
   },
   {
    "duration": 10,
    "start_time": "2023-07-12T18:31:52.800Z"
   },
   {
    "duration": 4,
    "start_time": "2023-07-12T18:32:03.813Z"
   },
   {
    "duration": 1032,
    "start_time": "2023-07-12T18:32:25.515Z"
   },
   {
    "duration": 168,
    "start_time": "2023-07-12T18:40:30.676Z"
   },
   {
    "duration": 17,
    "start_time": "2023-07-12T18:40:41.613Z"
   },
   {
    "duration": 13,
    "start_time": "2023-07-12T18:41:33.356Z"
   },
   {
    "duration": 13,
    "start_time": "2023-07-12T18:41:39.811Z"
   },
   {
    "duration": 1890,
    "start_time": "2023-07-12T18:41:42.036Z"
   },
   {
    "duration": 685,
    "start_time": "2023-07-12T18:41:43.928Z"
   },
   {
    "duration": 13,
    "start_time": "2023-07-12T18:41:44.615Z"
   },
   {
    "duration": 115,
    "start_time": "2023-07-12T18:41:44.630Z"
   },
   {
    "duration": 41,
    "start_time": "2023-07-12T18:41:44.747Z"
   },
   {
    "duration": 3,
    "start_time": "2023-07-12T18:41:44.789Z"
   },
   {
    "duration": 1540,
    "start_time": "2023-07-12T18:41:44.809Z"
   },
   {
    "duration": 5,
    "start_time": "2023-07-12T18:41:46.351Z"
   },
   {
    "duration": 19,
    "start_time": "2023-07-12T18:41:46.357Z"
   },
   {
    "duration": 0,
    "start_time": "2023-07-12T18:41:46.377Z"
   },
   {
    "duration": 0,
    "start_time": "2023-07-12T18:41:46.378Z"
   },
   {
    "duration": 0,
    "start_time": "2023-07-12T18:41:46.379Z"
   },
   {
    "duration": 0,
    "start_time": "2023-07-12T18:41:46.380Z"
   },
   {
    "duration": 0,
    "start_time": "2023-07-12T18:41:46.381Z"
   },
   {
    "duration": 0,
    "start_time": "2023-07-12T18:41:46.401Z"
   },
   {
    "duration": 0,
    "start_time": "2023-07-12T18:41:46.402Z"
   },
   {
    "duration": 0,
    "start_time": "2023-07-12T18:41:46.402Z"
   },
   {
    "duration": 0,
    "start_time": "2023-07-12T18:41:46.403Z"
   },
   {
    "duration": 0,
    "start_time": "2023-07-12T18:41:46.403Z"
   },
   {
    "duration": 0,
    "start_time": "2023-07-12T18:41:46.404Z"
   },
   {
    "duration": 0,
    "start_time": "2023-07-12T18:41:46.404Z"
   },
   {
    "duration": 0,
    "start_time": "2023-07-12T18:41:46.405Z"
   },
   {
    "duration": 0,
    "start_time": "2023-07-12T18:41:46.405Z"
   },
   {
    "duration": 0,
    "start_time": "2023-07-12T18:41:46.409Z"
   },
   {
    "duration": 0,
    "start_time": "2023-07-12T18:41:46.410Z"
   },
   {
    "duration": 0,
    "start_time": "2023-07-12T18:41:46.410Z"
   },
   {
    "duration": 0,
    "start_time": "2023-07-12T18:41:46.411Z"
   },
   {
    "duration": 0,
    "start_time": "2023-07-12T18:41:46.411Z"
   },
   {
    "duration": 8,
    "start_time": "2023-07-12T18:41:55.554Z"
   },
   {
    "duration": 8,
    "start_time": "2023-07-12T18:42:07.150Z"
   },
   {
    "duration": 8,
    "start_time": "2023-07-12T18:42:12.667Z"
   },
   {
    "duration": 12,
    "start_time": "2023-07-12T18:42:55.619Z"
   },
   {
    "duration": 14,
    "start_time": "2023-07-12T18:43:09.415Z"
   },
   {
    "duration": 1285,
    "start_time": "2023-07-12T18:43:43.475Z"
   },
   {
    "duration": 248,
    "start_time": "2023-07-12T18:43:53.311Z"
   },
   {
    "duration": 319,
    "start_time": "2023-07-12T18:44:01.743Z"
   },
   {
    "duration": 282,
    "start_time": "2023-07-12T18:44:24.611Z"
   },
   {
    "duration": 402,
    "start_time": "2023-07-12T18:44:33.421Z"
   },
   {
    "duration": 330,
    "start_time": "2023-07-12T18:44:41.758Z"
   },
   {
    "duration": 344,
    "start_time": "2023-07-12T18:44:47.660Z"
   },
   {
    "duration": 306,
    "start_time": "2023-07-12T18:45:06.319Z"
   },
   {
    "duration": 1932,
    "start_time": "2023-07-12T18:45:13.547Z"
   },
   {
    "duration": 700,
    "start_time": "2023-07-12T18:45:15.482Z"
   },
   {
    "duration": 30,
    "start_time": "2023-07-12T18:45:16.184Z"
   },
   {
    "duration": 132,
    "start_time": "2023-07-12T18:45:16.216Z"
   },
   {
    "duration": 65,
    "start_time": "2023-07-12T18:45:16.350Z"
   },
   {
    "duration": 3,
    "start_time": "2023-07-12T18:45:16.417Z"
   },
   {
    "duration": 1574,
    "start_time": "2023-07-12T18:45:16.421Z"
   },
   {
    "duration": 20,
    "start_time": "2023-07-12T18:45:17.996Z"
   },
   {
    "duration": 371,
    "start_time": "2023-07-12T18:45:18.018Z"
   },
   {
    "duration": 19,
    "start_time": "2023-07-12T18:45:18.390Z"
   },
   {
    "duration": 194,
    "start_time": "2023-07-12T18:45:18.411Z"
   },
   {
    "duration": 177,
    "start_time": "2023-07-12T18:45:18.610Z"
   },
   {
    "duration": 704,
    "start_time": "2023-07-12T18:45:18.788Z"
   },
   {
    "duration": 29,
    "start_time": "2023-07-12T18:45:19.494Z"
   },
   {
    "duration": 51,
    "start_time": "2023-07-12T18:45:19.524Z"
   },
   {
    "duration": 984,
    "start_time": "2023-07-12T18:45:19.577Z"
   },
   {
    "duration": 51,
    "start_time": "2023-07-12T18:45:20.562Z"
   },
   {
    "duration": 5,
    "start_time": "2023-07-12T18:45:20.615Z"
   },
   {
    "duration": 26,
    "start_time": "2023-07-12T18:45:20.621Z"
   },
   {
    "duration": 66,
    "start_time": "2023-07-12T18:45:20.648Z"
   },
   {
    "duration": 13,
    "start_time": "2023-07-12T18:45:20.715Z"
   },
   {
    "duration": 29,
    "start_time": "2023-07-12T18:45:20.730Z"
   },
   {
    "duration": 26,
    "start_time": "2023-07-12T18:45:20.761Z"
   },
   {
    "duration": 56,
    "start_time": "2023-07-12T18:45:20.788Z"
   },
   {
    "duration": 35,
    "start_time": "2023-07-12T18:45:20.846Z"
   },
   {
    "duration": 4,
    "start_time": "2023-07-12T18:45:20.882Z"
   },
   {
    "duration": 1164,
    "start_time": "2023-07-12T18:45:20.888Z"
   },
   {
    "duration": 4,
    "start_time": "2023-07-12T18:45:22.053Z"
   },
   {
    "duration": 52,
    "start_time": "2023-07-12T18:45:36.236Z"
   },
   {
    "duration": 5522,
    "start_time": "2023-07-12T22:22:16.594Z"
   },
   {
    "duration": 1620,
    "start_time": "2023-07-12T22:22:22.118Z"
   },
   {
    "duration": 26,
    "start_time": "2023-07-12T22:22:23.740Z"
   },
   {
    "duration": 168,
    "start_time": "2023-07-12T22:22:23.770Z"
   },
   {
    "duration": 67,
    "start_time": "2023-07-12T22:22:23.940Z"
   },
   {
    "duration": 46,
    "start_time": "2023-07-12T22:22:24.009Z"
   },
   {
    "duration": 2147,
    "start_time": "2023-07-12T22:22:24.057Z"
   },
   {
    "duration": 8,
    "start_time": "2023-07-12T22:22:26.206Z"
   },
   {
    "duration": 428,
    "start_time": "2023-07-12T22:22:26.215Z"
   },
   {
    "duration": 22,
    "start_time": "2023-07-12T22:22:26.647Z"
   },
   {
    "duration": 278,
    "start_time": "2023-07-12T22:22:26.672Z"
   },
   {
    "duration": 315,
    "start_time": "2023-07-12T22:22:26.954Z"
   },
   {
    "duration": 1246,
    "start_time": "2023-07-12T22:22:27.272Z"
   },
   {
    "duration": 72,
    "start_time": "2023-07-12T22:22:28.521Z"
   },
   {
    "duration": 85,
    "start_time": "2023-07-12T22:22:28.595Z"
   },
   {
    "duration": 1207,
    "start_time": "2023-07-12T22:22:28.682Z"
   },
   {
    "duration": 79,
    "start_time": "2023-07-12T22:22:29.892Z"
   },
   {
    "duration": 19,
    "start_time": "2023-07-12T22:22:29.975Z"
   },
   {
    "duration": 37,
    "start_time": "2023-07-12T22:22:29.998Z"
   },
   {
    "duration": 100,
    "start_time": "2023-07-12T22:22:30.036Z"
   },
   {
    "duration": 7,
    "start_time": "2023-07-12T22:22:30.138Z"
   },
   {
    "duration": 71,
    "start_time": "2023-07-12T22:22:30.147Z"
   },
   {
    "duration": 19,
    "start_time": "2023-07-12T22:22:30.220Z"
   },
   {
    "duration": 82,
    "start_time": "2023-07-12T22:22:30.241Z"
   },
   {
    "duration": 94,
    "start_time": "2023-07-12T22:22:30.325Z"
   },
   {
    "duration": 4,
    "start_time": "2023-07-12T22:22:30.421Z"
   },
   {
    "duration": 1300,
    "start_time": "2023-07-12T22:22:30.427Z"
   },
   {
    "duration": 4,
    "start_time": "2023-07-12T22:22:31.731Z"
   },
   {
    "duration": 118,
    "start_time": "2023-07-12T22:22:31.737Z"
   },
   {
    "duration": 5128,
    "start_time": "2023-07-12T22:22:40.111Z"
   },
   {
    "duration": 5990,
    "start_time": "2023-07-12T22:28:07.344Z"
   },
   {
    "duration": 5705,
    "start_time": "2023-07-12T22:28:14.412Z"
   },
   {
    "duration": 26,
    "start_time": "2023-07-12T22:29:37.404Z"
   },
   {
    "duration": 24,
    "start_time": "2023-07-12T22:29:41.700Z"
   },
   {
    "duration": 4,
    "start_time": "2023-07-12T22:30:03.035Z"
   },
   {
    "duration": 102,
    "start_time": "2023-07-12T22:30:07.326Z"
   },
   {
    "duration": 47,
    "start_time": "2023-07-12T22:30:12.738Z"
   },
   {
    "duration": 5592,
    "start_time": "2023-07-12T22:30:16.049Z"
   },
   {
    "duration": 1070,
    "start_time": "2023-07-12T22:30:21.645Z"
   },
   {
    "duration": 23,
    "start_time": "2023-07-12T22:30:22.718Z"
   },
   {
    "duration": 190,
    "start_time": "2023-07-12T22:30:22.746Z"
   },
   {
    "duration": 164,
    "start_time": "2023-07-12T22:30:22.940Z"
   },
   {
    "duration": 5,
    "start_time": "2023-07-12T22:30:23.107Z"
   },
   {
    "duration": 2144,
    "start_time": "2023-07-12T22:30:23.114Z"
   },
   {
    "duration": 20,
    "start_time": "2023-07-12T22:30:25.266Z"
   },
   {
    "duration": 745,
    "start_time": "2023-07-12T22:30:25.289Z"
   },
   {
    "duration": 5,
    "start_time": "2023-07-12T22:30:26.036Z"
   },
   {
    "duration": 262,
    "start_time": "2023-07-12T22:30:26.062Z"
   },
   {
    "duration": 288,
    "start_time": "2023-07-12T22:30:26.326Z"
   },
   {
    "duration": 1169,
    "start_time": "2023-07-12T22:30:26.616Z"
   },
   {
    "duration": 33,
    "start_time": "2023-07-12T22:30:27.798Z"
   },
   {
    "duration": 75,
    "start_time": "2023-07-12T22:30:27.833Z"
   },
   {
    "duration": 1328,
    "start_time": "2023-07-12T22:30:27.909Z"
   },
   {
    "duration": 77,
    "start_time": "2023-07-12T22:30:29.240Z"
   },
   {
    "duration": 8,
    "start_time": "2023-07-12T22:30:29.319Z"
   },
   {
    "duration": 38,
    "start_time": "2023-07-12T22:30:29.329Z"
   },
   {
    "duration": 67,
    "start_time": "2023-07-12T22:30:29.368Z"
   },
   {
    "duration": 7,
    "start_time": "2023-07-12T22:30:29.437Z"
   },
   {
    "duration": 46,
    "start_time": "2023-07-12T22:30:29.445Z"
   },
   {
    "duration": 21,
    "start_time": "2023-07-12T22:30:29.497Z"
   },
   {
    "duration": 63,
    "start_time": "2023-07-12T22:30:29.520Z"
   },
   {
    "duration": 51,
    "start_time": "2023-07-12T22:30:29.585Z"
   },
   {
    "duration": 3,
    "start_time": "2023-07-12T22:30:29.638Z"
   },
   {
    "duration": 1183,
    "start_time": "2023-07-12T22:30:29.643Z"
   },
   {
    "duration": 4,
    "start_time": "2023-07-12T22:30:30.829Z"
   },
   {
    "duration": 132,
    "start_time": "2023-07-12T22:30:30.835Z"
   },
   {
    "duration": 5,
    "start_time": "2023-07-12T22:30:30.970Z"
   },
   {
    "duration": 62,
    "start_time": "2023-07-12T22:30:30.979Z"
   },
   {
    "duration": 81,
    "start_time": "2023-07-12T22:30:31.043Z"
   },
   {
    "duration": 208,
    "start_time": "2023-07-12T22:30:31.126Z"
   },
   {
    "duration": 16,
    "start_time": "2023-07-12T22:30:44.298Z"
   },
   {
    "duration": 26,
    "start_time": "2023-07-12T22:30:48.147Z"
   },
   {
    "duration": 75,
    "start_time": "2023-07-12T22:30:52.573Z"
   },
   {
    "duration": 95,
    "start_time": "2023-07-12T22:31:02.938Z"
   },
   {
    "duration": 5289,
    "start_time": "2023-07-12T22:33:09.014Z"
   },
   {
    "duration": 5143,
    "start_time": "2023-07-12T22:34:57.246Z"
   },
   {
    "duration": 5107,
    "start_time": "2023-07-12T22:37:39.297Z"
   },
   {
    "duration": 16,
    "start_time": "2023-07-12T22:38:36.627Z"
   },
   {
    "duration": 4,
    "start_time": "2023-07-12T22:38:48.910Z"
   },
   {
    "duration": 85,
    "start_time": "2023-07-12T22:42:23.905Z"
   },
   {
    "duration": 14,
    "start_time": "2023-07-12T22:43:17.200Z"
   },
   {
    "duration": 3,
    "start_time": "2023-07-12T22:44:31.122Z"
   },
   {
    "duration": 183,
    "start_time": "2023-07-12T22:44:37.266Z"
   },
   {
    "duration": 212,
    "start_time": "2023-07-12T22:44:47.911Z"
   },
   {
    "duration": 21,
    "start_time": "2023-07-12T22:44:55.126Z"
   },
   {
    "duration": 5445,
    "start_time": "2023-07-12T22:48:05.801Z"
   },
   {
    "duration": 15,
    "start_time": "2023-07-12T22:49:02.610Z"
   },
   {
    "duration": 4,
    "start_time": "2023-07-12T22:49:11.580Z"
   },
   {
    "duration": 8,
    "start_time": "2023-07-12T22:49:15.227Z"
   },
   {
    "duration": 50,
    "start_time": "2023-07-12T22:49:39.878Z"
   },
   {
    "duration": 5,
    "start_time": "2023-07-12T22:49:46.946Z"
   },
   {
    "duration": 22405,
    "start_time": "2023-07-12T22:50:07.622Z"
   },
   {
    "duration": 5465,
    "start_time": "2023-07-12T22:54:29.691Z"
   },
   {
    "duration": 7,
    "start_time": "2023-07-12T22:55:24.799Z"
   },
   {
    "duration": 4,
    "start_time": "2023-07-12T22:56:02.630Z"
   },
   {
    "duration": 5,
    "start_time": "2023-07-12T22:56:17.405Z"
   },
   {
    "duration": 6,
    "start_time": "2023-07-12T22:56:17.994Z"
   },
   {
    "duration": 3,
    "start_time": "2023-07-12T22:59:57.733Z"
   },
   {
    "duration": 3,
    "start_time": "2023-07-12T22:59:58.121Z"
   },
   {
    "duration": 418,
    "start_time": "2023-07-12T22:59:58.624Z"
   },
   {
    "duration": 8,
    "start_time": "2023-07-12T23:00:01.388Z"
   },
   {
    "duration": 9,
    "start_time": "2023-07-12T23:00:07.248Z"
   },
   {
    "duration": 17,
    "start_time": "2023-07-12T23:00:44.900Z"
   },
   {
    "duration": 4,
    "start_time": "2023-07-12T23:00:49.129Z"
   },
   {
    "duration": 27,
    "start_time": "2023-07-12T23:00:49.476Z"
   },
   {
    "duration": 16,
    "start_time": "2023-07-12T23:01:52.415Z"
   },
   {
    "duration": 15,
    "start_time": "2023-07-12T23:03:17.499Z"
   },
   {
    "duration": 4,
    "start_time": "2023-07-12T23:03:26.510Z"
   },
   {
    "duration": 11,
    "start_time": "2023-07-12T23:03:54.747Z"
   },
   {
    "duration": 109,
    "start_time": "2023-07-12T23:05:48.454Z"
   },
   {
    "duration": 24,
    "start_time": "2023-07-12T23:05:49.250Z"
   },
   {
    "duration": 166,
    "start_time": "2023-07-12T23:05:49.575Z"
   },
   {
    "duration": 13,
    "start_time": "2023-07-12T23:05:50.248Z"
   },
   {
    "duration": 2,
    "start_time": "2023-07-12T23:05:51.047Z"
   },
   {
    "duration": 4,
    "start_time": "2023-07-12T23:05:51.875Z"
   },
   {
    "duration": 374,
    "start_time": "2023-07-12T23:05:53.488Z"
   },
   {
    "duration": 5,
    "start_time": "2023-07-12T23:05:53.942Z"
   },
   {
    "duration": 5,
    "start_time": "2023-07-12T23:05:55.208Z"
   },
   {
    "duration": 4,
    "start_time": "2023-07-12T23:05:55.710Z"
   },
   {
    "duration": 17,
    "start_time": "2023-07-12T23:05:56.411Z"
   },
   {
    "duration": 105,
    "start_time": "2023-07-12T23:06:05.823Z"
   },
   {
    "duration": 7,
    "start_time": "2023-07-12T23:06:06.181Z"
   },
   {
    "duration": 175,
    "start_time": "2023-07-12T23:06:06.428Z"
   },
   {
    "duration": 15,
    "start_time": "2023-07-12T23:06:07.154Z"
   },
   {
    "duration": 5,
    "start_time": "2023-07-12T23:06:07.982Z"
   },
   {
    "duration": 3,
    "start_time": "2023-07-12T23:06:09.515Z"
   },
   {
    "duration": 420,
    "start_time": "2023-07-12T23:06:10.286Z"
   },
   {
    "duration": 5,
    "start_time": "2023-07-12T23:06:10.712Z"
   },
   {
    "duration": 7,
    "start_time": "2023-07-12T23:06:14.400Z"
   },
   {
    "duration": 26,
    "start_time": "2023-07-12T23:06:19.572Z"
   },
   {
    "duration": 17,
    "start_time": "2023-07-12T23:06:22.950Z"
   },
   {
    "duration": 24,
    "start_time": "2023-07-12T23:08:34.483Z"
   },
   {
    "duration": 29,
    "start_time": "2023-07-12T23:08:48.341Z"
   },
   {
    "duration": 10,
    "start_time": "2023-07-12T23:09:30.333Z"
   },
   {
    "duration": 126,
    "start_time": "2023-07-12T23:11:30.392Z"
   },
   {
    "duration": 175,
    "start_time": "2023-07-12T23:11:39.636Z"
   },
   {
    "duration": 118,
    "start_time": "2023-07-12T23:11:47.508Z"
   },
   {
    "duration": 3,
    "start_time": "2023-07-12T23:12:21.242Z"
   },
   {
    "duration": 397,
    "start_time": "2023-07-12T23:12:22.911Z"
   },
   {
    "duration": 1440,
    "start_time": "2023-07-12T23:12:42.807Z"
   },
   {
    "duration": 184,
    "start_time": "2023-07-12T23:15:26.036Z"
   },
   {
    "duration": 6099,
    "start_time": "2023-07-12T23:15:52.121Z"
   },
   {
    "duration": 3988,
    "start_time": "2023-07-12T23:16:00.715Z"
   },
   {
    "duration": 6,
    "start_time": "2023-07-12T23:16:45.442Z"
   },
   {
    "duration": 2325,
    "start_time": "2023-07-12T23:16:47.906Z"
   },
   {
    "duration": 2100,
    "start_time": "2023-07-12T23:17:01.732Z"
   },
   {
    "duration": 5500,
    "start_time": "2023-07-12T23:17:19.839Z"
   },
   {
    "duration": 1045,
    "start_time": "2023-07-12T23:17:25.342Z"
   },
   {
    "duration": 21,
    "start_time": "2023-07-12T23:17:26.391Z"
   },
   {
    "duration": 184,
    "start_time": "2023-07-12T23:17:26.415Z"
   },
   {
    "duration": 105,
    "start_time": "2023-07-12T23:17:26.601Z"
   },
   {
    "duration": 4,
    "start_time": "2023-07-12T23:17:26.709Z"
   },
   {
    "duration": 2372,
    "start_time": "2023-07-12T23:17:26.715Z"
   },
   {
    "duration": 11,
    "start_time": "2023-07-12T23:17:29.093Z"
   },
   {
    "duration": 486,
    "start_time": "2023-07-12T23:17:29.111Z"
   },
   {
    "duration": 8,
    "start_time": "2023-07-12T23:17:29.601Z"
   },
   {
    "duration": 289,
    "start_time": "2023-07-12T23:17:29.614Z"
   },
   {
    "duration": 312,
    "start_time": "2023-07-12T23:17:29.904Z"
   },
   {
    "duration": 1230,
    "start_time": "2023-07-12T23:17:30.218Z"
   },
   {
    "duration": 61,
    "start_time": "2023-07-12T23:17:31.450Z"
   },
   {
    "duration": 130,
    "start_time": "2023-07-12T23:17:31.513Z"
   },
   {
    "duration": 1249,
    "start_time": "2023-07-12T23:17:31.645Z"
   },
   {
    "duration": 68,
    "start_time": "2023-07-12T23:17:32.905Z"
   },
   {
    "duration": 9,
    "start_time": "2023-07-12T23:17:32.975Z"
   },
   {
    "duration": 42,
    "start_time": "2023-07-12T23:17:32.986Z"
   },
   {
    "duration": 65,
    "start_time": "2023-07-12T23:17:33.031Z"
   },
   {
    "duration": 13,
    "start_time": "2023-07-12T23:17:33.104Z"
   },
   {
    "duration": 50,
    "start_time": "2023-07-12T23:17:33.119Z"
   },
   {
    "duration": 50,
    "start_time": "2023-07-12T23:17:33.171Z"
   },
   {
    "duration": 58,
    "start_time": "2023-07-12T23:17:33.223Z"
   },
   {
    "duration": 62,
    "start_time": "2023-07-12T23:17:33.285Z"
   },
   {
    "duration": 35,
    "start_time": "2023-07-12T23:17:33.349Z"
   },
   {
    "duration": 1279,
    "start_time": "2023-07-12T23:17:33.386Z"
   },
   {
    "duration": 7,
    "start_time": "2023-07-12T23:17:34.672Z"
   },
   {
    "duration": 114,
    "start_time": "2023-07-12T23:17:34.681Z"
   },
   {
    "duration": 16,
    "start_time": "2023-07-12T23:17:34.797Z"
   },
   {
    "duration": 17,
    "start_time": "2023-07-12T23:17:34.817Z"
   },
   {
    "duration": 112,
    "start_time": "2023-07-12T23:17:34.836Z"
   },
   {
    "duration": 23,
    "start_time": "2023-07-12T23:17:34.950Z"
   },
   {
    "duration": 236,
    "start_time": "2023-07-12T23:17:34.982Z"
   },
   {
    "duration": 4,
    "start_time": "2023-07-12T23:17:35.220Z"
   },
   {
    "duration": 14,
    "start_time": "2023-07-12T23:17:35.226Z"
   },
   {
    "duration": 69,
    "start_time": "2023-07-12T23:17:35.242Z"
   },
   {
    "duration": 424,
    "start_time": "2023-07-12T23:17:35.313Z"
   },
   {
    "duration": 3,
    "start_time": "2023-07-12T23:17:35.738Z"
   },
   {
    "duration": 2097,
    "start_time": "2023-07-12T23:17:35.743Z"
   },
   {
    "duration": 3,
    "start_time": "2023-07-12T23:18:19.214Z"
   },
   {
    "duration": 351,
    "start_time": "2023-07-12T23:18:20.014Z"
   },
   {
    "duration": 8,
    "start_time": "2023-07-12T23:18:20.502Z"
   },
   {
    "duration": 2013,
    "start_time": "2023-07-12T23:18:21.283Z"
   },
   {
    "duration": 6,
    "start_time": "2023-07-12T23:19:20.981Z"
   },
   {
    "duration": 5,
    "start_time": "2023-07-12T23:19:24.080Z"
   },
   {
    "duration": 409,
    "start_time": "2023-07-12T23:19:28.199Z"
   },
   {
    "duration": 4716,
    "start_time": "2023-07-12T23:19:50.910Z"
   },
   {
    "duration": 1267,
    "start_time": "2023-07-12T23:26:19.325Z"
   },
   {
    "duration": 3,
    "start_time": "2023-07-12T23:29:14.636Z"
   },
   {
    "duration": 4,
    "start_time": "2023-07-12T23:29:15.307Z"
   },
   {
    "duration": 308,
    "start_time": "2023-07-12T23:29:15.836Z"
   },
   {
    "duration": 38848,
    "start_time": "2023-07-12T23:29:16.488Z"
   },
   {
    "duration": 4795,
    "start_time": "2023-07-12T23:30:08.893Z"
   },
   {
    "duration": 857,
    "start_time": "2023-07-12T23:30:13.693Z"
   },
   {
    "duration": 33,
    "start_time": "2023-07-12T23:30:14.552Z"
   },
   {
    "duration": 137,
    "start_time": "2023-07-12T23:30:14.586Z"
   },
   {
    "duration": 93,
    "start_time": "2023-07-12T23:30:14.726Z"
   },
   {
    "duration": 3,
    "start_time": "2023-07-12T23:30:14.821Z"
   },
   {
    "duration": 1781,
    "start_time": "2023-07-12T23:30:14.826Z"
   },
   {
    "duration": 7,
    "start_time": "2023-07-12T23:30:16.609Z"
   },
   {
    "duration": 404,
    "start_time": "2023-07-12T23:30:16.617Z"
   },
   {
    "duration": 4,
    "start_time": "2023-07-12T23:30:17.023Z"
   },
   {
    "duration": 197,
    "start_time": "2023-07-12T23:30:17.029Z"
   },
   {
    "duration": 216,
    "start_time": "2023-07-12T23:30:17.228Z"
   },
   {
    "duration": 986,
    "start_time": "2023-07-12T23:30:17.446Z"
   },
   {
    "duration": 55,
    "start_time": "2023-07-12T23:30:18.437Z"
   },
   {
    "duration": 93,
    "start_time": "2023-07-12T23:30:18.494Z"
   },
   {
    "duration": 1190,
    "start_time": "2023-07-12T23:30:18.588Z"
   },
   {
    "duration": 56,
    "start_time": "2023-07-12T23:30:19.780Z"
   },
   {
    "duration": 19,
    "start_time": "2023-07-12T23:30:19.838Z"
   },
   {
    "duration": 28,
    "start_time": "2023-07-12T23:30:19.862Z"
   },
   {
    "duration": 37,
    "start_time": "2023-07-12T23:30:19.892Z"
   },
   {
    "duration": 7,
    "start_time": "2023-07-12T23:30:19.931Z"
   },
   {
    "duration": 41,
    "start_time": "2023-07-12T23:30:19.940Z"
   },
   {
    "duration": 25,
    "start_time": "2023-07-12T23:30:19.983Z"
   },
   {
    "duration": 61,
    "start_time": "2023-07-12T23:30:20.010Z"
   },
   {
    "duration": 51,
    "start_time": "2023-07-12T23:30:20.073Z"
   },
   {
    "duration": 3,
    "start_time": "2023-07-12T23:30:20.126Z"
   },
   {
    "duration": 1281,
    "start_time": "2023-07-12T23:30:20.130Z"
   },
   {
    "duration": 4,
    "start_time": "2023-07-12T23:30:21.412Z"
   },
   {
    "duration": 81,
    "start_time": "2023-07-12T23:30:21.417Z"
   },
   {
    "duration": 3,
    "start_time": "2023-07-12T23:30:21.499Z"
   },
   {
    "duration": 28,
    "start_time": "2023-07-12T23:30:21.503Z"
   },
   {
    "duration": 77,
    "start_time": "2023-07-12T23:30:21.533Z"
   },
   {
    "duration": 67,
    "start_time": "2023-07-12T23:30:21.612Z"
   },
   {
    "duration": 270,
    "start_time": "2023-07-12T23:30:21.681Z"
   },
   {
    "duration": 24,
    "start_time": "2023-07-12T23:30:21.958Z"
   },
   {
    "duration": 7,
    "start_time": "2023-07-12T23:30:21.984Z"
   },
   {
    "duration": 9,
    "start_time": "2023-07-12T23:30:21.993Z"
   },
   {
    "duration": 16,
    "start_time": "2023-07-12T23:30:22.004Z"
   },
   {
    "duration": 315,
    "start_time": "2023-07-12T23:30:22.022Z"
   },
   {
    "duration": 253789,
    "start_time": "2023-07-12T23:30:22.339Z"
   },
   {
    "duration": 2,
    "start_time": "2023-07-12T23:34:36.131Z"
   },
   {
    "duration": 322,
    "start_time": "2023-07-12T23:35:51.183Z"
   },
   {
    "duration": 621,
    "start_time": "2023-07-12T23:37:12.642Z"
   },
   {
    "duration": 638,
    "start_time": "2023-07-12T23:37:28.643Z"
   },
   {
    "duration": 540,
    "start_time": "2023-07-12T23:37:36.244Z"
   },
   {
    "duration": 17,
    "start_time": "2023-07-12T23:39:02.138Z"
   },
   {
    "duration": 6,
    "start_time": "2023-07-13T00:01:09.795Z"
   },
   {
    "duration": 327465,
    "start_time": "2023-07-13T00:01:28.486Z"
   },
   {
    "duration": 390,
    "start_time": "2023-07-13T00:06:55.953Z"
   },
   {
    "duration": 351,
    "start_time": "2023-07-13T00:10:07.288Z"
   },
   {
    "duration": 342,
    "start_time": "2023-07-13T00:10:14.805Z"
   },
   {
    "duration": 349,
    "start_time": "2023-07-13T00:10:22.663Z"
   },
   {
    "duration": 358,
    "start_time": "2023-07-13T00:11:02.634Z"
   },
   {
    "duration": 338,
    "start_time": "2023-07-13T00:11:55.786Z"
   },
   {
    "duration": 370,
    "start_time": "2023-07-13T00:12:55.187Z"
   },
   {
    "duration": 3,
    "start_time": "2023-07-13T00:13:27.035Z"
   },
   {
    "duration": 20,
    "start_time": "2023-07-13T00:13:31.609Z"
   },
   {
    "duration": 358447,
    "start_time": "2023-07-13T00:13:38.167Z"
   },
   {
    "duration": 454,
    "start_time": "2023-07-13T00:19:47.329Z"
   },
   {
    "duration": 3,
    "start_time": "2023-07-13T00:20:37.072Z"
   },
   {
    "duration": 117366,
    "start_time": "2023-07-13T00:20:38.143Z"
   },
   {
    "duration": 215,
    "start_time": "2023-07-13T00:22:39.010Z"
   },
   {
    "duration": 172,
    "start_time": "2023-07-13T00:22:40.485Z"
   },
   {
    "duration": 98,
    "start_time": "2023-07-13T00:23:27.328Z"
   },
   {
    "duration": 342,
    "start_time": "2023-07-13T00:23:55.743Z"
   },
   {
    "duration": 170,
    "start_time": "2023-07-13T00:25:12.586Z"
   },
   {
    "duration": 205,
    "start_time": "2023-07-13T00:25:14.998Z"
   },
   {
    "duration": 5144,
    "start_time": "2023-07-13T00:25:18.245Z"
   },
   {
    "duration": 942,
    "start_time": "2023-07-13T00:25:23.392Z"
   },
   {
    "duration": 29,
    "start_time": "2023-07-13T00:25:24.336Z"
   },
   {
    "duration": 165,
    "start_time": "2023-07-13T00:25:24.369Z"
   },
   {
    "duration": 96,
    "start_time": "2023-07-13T00:25:24.536Z"
   },
   {
    "duration": 4,
    "start_time": "2023-07-13T00:25:24.634Z"
   },
   {
    "duration": 2000,
    "start_time": "2023-07-13T00:25:24.641Z"
   },
   {
    "duration": 13,
    "start_time": "2023-07-13T00:25:26.643Z"
   },
   {
    "duration": 382,
    "start_time": "2023-07-13T00:25:26.658Z"
   },
   {
    "duration": 8,
    "start_time": "2023-07-13T00:25:27.044Z"
   },
   {
    "duration": 203,
    "start_time": "2023-07-13T00:25:27.055Z"
   },
   {
    "duration": 247,
    "start_time": "2023-07-13T00:25:27.260Z"
   },
   {
    "duration": 1108,
    "start_time": "2023-07-13T00:25:27.509Z"
   },
   {
    "duration": 51,
    "start_time": "2023-07-13T00:25:28.619Z"
   },
   {
    "duration": 83,
    "start_time": "2023-07-13T00:25:28.673Z"
   },
   {
    "duration": 1278,
    "start_time": "2023-07-13T00:25:28.759Z"
   },
   {
    "duration": 84,
    "start_time": "2023-07-13T00:25:30.041Z"
   },
   {
    "duration": 9,
    "start_time": "2023-07-13T00:25:30.128Z"
   },
   {
    "duration": 35,
    "start_time": "2023-07-13T00:25:30.139Z"
   },
   {
    "duration": 63,
    "start_time": "2023-07-13T00:25:30.177Z"
   },
   {
    "duration": 18,
    "start_time": "2023-07-13T00:25:30.242Z"
   },
   {
    "duration": 72,
    "start_time": "2023-07-13T00:25:30.263Z"
   },
   {
    "duration": 41,
    "start_time": "2023-07-13T00:25:30.337Z"
   },
   {
    "duration": 64,
    "start_time": "2023-07-13T00:25:30.380Z"
   },
   {
    "duration": 127,
    "start_time": "2023-07-13T00:25:30.448Z"
   },
   {
    "duration": 5,
    "start_time": "2023-07-13T00:25:30.577Z"
   },
   {
    "duration": 1248,
    "start_time": "2023-07-13T00:25:30.584Z"
   },
   {
    "duration": 17,
    "start_time": "2023-07-13T00:25:31.837Z"
   },
   {
    "duration": 204,
    "start_time": "2023-07-13T00:25:31.856Z"
   },
   {
    "duration": 18,
    "start_time": "2023-07-13T00:25:32.062Z"
   },
   {
    "duration": 63,
    "start_time": "2023-07-13T00:25:32.083Z"
   },
   {
    "duration": 125,
    "start_time": "2023-07-13T00:25:32.149Z"
   },
   {
    "duration": 51,
    "start_time": "2023-07-13T00:25:32.277Z"
   },
   {
    "duration": 225,
    "start_time": "2023-07-13T00:25:32.331Z"
   },
   {
    "duration": 5,
    "start_time": "2023-07-13T00:25:32.558Z"
   },
   {
    "duration": 37,
    "start_time": "2023-07-13T00:25:32.565Z"
   },
   {
    "duration": 10,
    "start_time": "2023-07-13T00:25:32.604Z"
   },
   {
    "duration": 24,
    "start_time": "2023-07-13T00:25:32.616Z"
   },
   {
    "duration": 355,
    "start_time": "2023-07-13T00:25:32.642Z"
   },
   {
    "duration": 16,
    "start_time": "2023-07-13T00:25:32.999Z"
   },
   {
    "duration": 0,
    "start_time": "2023-07-13T00:25:33.017Z"
   },
   {
    "duration": 0,
    "start_time": "2023-07-13T00:25:33.018Z"
   },
   {
    "duration": 0,
    "start_time": "2023-07-13T00:25:33.020Z"
   },
   {
    "duration": 0,
    "start_time": "2023-07-13T00:25:33.021Z"
   },
   {
    "duration": 155,
    "start_time": "2023-07-13T00:25:42.643Z"
   },
   {
    "duration": 451,
    "start_time": "2023-07-13T00:25:44.242Z"
   },
   {
    "duration": 440,
    "start_time": "2023-07-13T00:25:59.168Z"
   },
   {
    "duration": 4,
    "start_time": "2023-07-13T00:26:00.487Z"
   },
   {
    "duration": 51,
    "start_time": "2023-07-13T00:26:02.657Z"
   },
   {
    "duration": 183,
    "start_time": "2023-07-13T00:26:04.365Z"
   },
   {
    "duration": 6488,
    "start_time": "2023-07-13T00:39:53.208Z"
   },
   {
    "duration": 1087,
    "start_time": "2023-07-13T00:39:59.699Z"
   },
   {
    "duration": 23,
    "start_time": "2023-07-13T00:40:00.788Z"
   },
   {
    "duration": 180,
    "start_time": "2023-07-13T00:40:00.814Z"
   },
   {
    "duration": 71,
    "start_time": "2023-07-13T00:40:00.996Z"
   },
   {
    "duration": 4,
    "start_time": "2023-07-13T00:40:01.069Z"
   },
   {
    "duration": 2086,
    "start_time": "2023-07-13T00:40:01.075Z"
   },
   {
    "duration": 8,
    "start_time": "2023-07-13T00:40:03.165Z"
   },
   {
    "duration": 447,
    "start_time": "2023-07-13T00:40:03.176Z"
   },
   {
    "duration": 5,
    "start_time": "2023-07-13T00:40:03.627Z"
   },
   {
    "duration": 204,
    "start_time": "2023-07-13T00:40:03.634Z"
   },
   {
    "duration": 307,
    "start_time": "2023-07-13T00:40:03.839Z"
   },
   {
    "duration": 1147,
    "start_time": "2023-07-13T00:40:04.148Z"
   },
   {
    "duration": 44,
    "start_time": "2023-07-13T00:40:05.297Z"
   },
   {
    "duration": 84,
    "start_time": "2023-07-13T00:40:05.353Z"
   },
   {
    "duration": 1277,
    "start_time": "2023-07-13T00:40:05.439Z"
   },
   {
    "duration": 74,
    "start_time": "2023-07-13T00:40:06.718Z"
   },
   {
    "duration": 7,
    "start_time": "2023-07-13T00:40:06.794Z"
   },
   {
    "duration": 14,
    "start_time": "2023-07-13T00:40:06.803Z"
   },
   {
    "duration": 72,
    "start_time": "2023-07-13T00:40:06.819Z"
   },
   {
    "duration": 9,
    "start_time": "2023-07-13T00:40:06.893Z"
   },
   {
    "duration": 26,
    "start_time": "2023-07-13T00:40:06.904Z"
   },
   {
    "duration": 58,
    "start_time": "2023-07-13T00:40:06.932Z"
   },
   {
    "duration": 39,
    "start_time": "2023-07-13T00:40:06.992Z"
   },
   {
    "duration": 72,
    "start_time": "2023-07-13T00:40:07.032Z"
   },
   {
    "duration": 3,
    "start_time": "2023-07-13T00:40:07.106Z"
   },
   {
    "duration": 1218,
    "start_time": "2023-07-13T00:40:07.112Z"
   },
   {
    "duration": 5,
    "start_time": "2023-07-13T00:40:08.335Z"
   },
   {
    "duration": 91,
    "start_time": "2023-07-13T00:40:08.342Z"
   },
   {
    "duration": 3,
    "start_time": "2023-07-13T00:40:08.435Z"
   },
   {
    "duration": 38,
    "start_time": "2023-07-13T00:40:08.441Z"
   },
   {
    "duration": 93,
    "start_time": "2023-07-13T00:40:08.481Z"
   },
   {
    "duration": 3,
    "start_time": "2023-07-13T00:40:08.576Z"
   },
   {
    "duration": 184,
    "start_time": "2023-07-13T00:40:08.582Z"
   },
   {
    "duration": 4,
    "start_time": "2023-07-13T00:40:08.768Z"
   },
   {
    "duration": 7,
    "start_time": "2023-07-13T00:40:08.774Z"
   },
   {
    "duration": 8,
    "start_time": "2023-07-13T00:40:08.783Z"
   },
   {
    "duration": 9,
    "start_time": "2023-07-13T00:40:08.793Z"
   },
   {
    "duration": 336,
    "start_time": "2023-07-13T00:40:08.804Z"
   },
   {
    "duration": 114,
    "start_time": "2023-07-13T00:40:09.142Z"
   },
   {
    "duration": 400,
    "start_time": "2023-07-13T00:40:09.257Z"
   },
   {
    "duration": 3,
    "start_time": "2023-07-13T00:40:09.659Z"
   },
   {
    "duration": 57,
    "start_time": "2023-07-13T00:40:09.664Z"
   },
   {
    "duration": 173,
    "start_time": "2023-07-13T00:40:09.723Z"
   },
   {
    "duration": 7033,
    "start_time": "2023-07-13T00:48:24.882Z"
   },
   {
    "duration": 5,
    "start_time": "2023-07-13T00:50:19.558Z"
   },
   {
    "duration": 124,
    "start_time": "2023-07-13T00:51:18.074Z"
   },
   {
    "duration": 3,
    "start_time": "2023-07-13T00:51:42.775Z"
   },
   {
    "duration": 36,
    "start_time": "2023-07-13T00:51:48.414Z"
   },
   {
    "duration": 4,
    "start_time": "2023-07-13T00:52:04.070Z"
   },
   {
    "duration": 4,
    "start_time": "2023-07-13T00:52:04.543Z"
   },
   {
    "duration": 43,
    "start_time": "2023-07-13T00:52:05.018Z"
   },
   {
    "duration": 53,
    "start_time": "2023-07-13T00:52:28.571Z"
   },
   {
    "duration": 4,
    "start_time": "2023-07-13T00:54:06.664Z"
   },
   {
    "duration": 4,
    "start_time": "2023-07-13T00:54:07.403Z"
   },
   {
    "duration": 41,
    "start_time": "2023-07-13T00:54:07.985Z"
   },
   {
    "duration": 44,
    "start_time": "2023-07-13T00:54:49.888Z"
   },
   {
    "duration": 4,
    "start_time": "2023-07-13T00:55:19.617Z"
   },
   {
    "duration": 43,
    "start_time": "2023-07-13T00:55:22.262Z"
   },
   {
    "duration": 79,
    "start_time": "2023-07-13T00:57:46.141Z"
   },
   {
    "duration": 4,
    "start_time": "2023-07-13T01:00:00.851Z"
   },
   {
    "duration": 12,
    "start_time": "2023-07-13T01:00:18.206Z"
   },
   {
    "duration": 3,
    "start_time": "2023-07-13T01:00:25.370Z"
   },
   {
    "duration": 10,
    "start_time": "2023-07-13T01:00:41.281Z"
   },
   {
    "duration": 99,
    "start_time": "2023-07-13T01:01:29.098Z"
   },
   {
    "duration": 11,
    "start_time": "2023-07-13T01:02:17.734Z"
   },
   {
    "duration": 4,
    "start_time": "2023-07-13T01:02:57.463Z"
   },
   {
    "duration": 2,
    "start_time": "2023-07-13T01:02:58.048Z"
   },
   {
    "duration": 11,
    "start_time": "2023-07-13T01:02:59.791Z"
   },
   {
    "duration": 12,
    "start_time": "2023-07-13T01:03:05.637Z"
   },
   {
    "duration": 11,
    "start_time": "2023-07-13T01:03:21.264Z"
   },
   {
    "duration": 5,
    "start_time": "2023-07-13T01:06:20.369Z"
   },
   {
    "duration": 11,
    "start_time": "2023-07-13T01:06:24.864Z"
   },
   {
    "duration": 22,
    "start_time": "2023-07-13T01:06:29.275Z"
   },
   {
    "duration": 70,
    "start_time": "2023-07-13T01:06:34.150Z"
   },
   {
    "duration": 140,
    "start_time": "2023-07-13T01:06:55.247Z"
   },
   {
    "duration": 28,
    "start_time": "2023-07-13T01:07:02.714Z"
   },
   {
    "duration": 63,
    "start_time": "2023-07-13T01:07:26.541Z"
   },
   {
    "duration": 4,
    "start_time": "2023-07-13T01:07:29.341Z"
   },
   {
    "duration": 3,
    "start_time": "2023-07-13T01:07:34.350Z"
   },
   {
    "duration": 3,
    "start_time": "2023-07-13T01:07:34.866Z"
   },
   {
    "duration": 11,
    "start_time": "2023-07-13T01:07:35.472Z"
   },
   {
    "duration": 430744,
    "start_time": "2023-07-13T01:09:17.417Z"
   },
   {
    "duration": 13,
    "start_time": "2023-07-13T01:17:27.785Z"
   },
   {
    "duration": 4,
    "start_time": "2023-07-13T01:17:55.678Z"
   },
   {
    "duration": 12,
    "start_time": "2023-07-13T01:17:58.557Z"
   },
   {
    "duration": 3,
    "start_time": "2023-07-13T01:18:55.832Z"
   },
   {
    "duration": 11,
    "start_time": "2023-07-13T01:19:02.607Z"
   },
   {
    "duration": 11,
    "start_time": "2023-07-13T01:20:28.880Z"
   },
   {
    "duration": 4,
    "start_time": "2023-07-13T01:20:32.436Z"
   },
   {
    "duration": 13,
    "start_time": "2023-07-13T01:20:33.317Z"
   },
   {
    "duration": 14,
    "start_time": "2023-07-13T01:21:00.335Z"
   },
   {
    "duration": 4,
    "start_time": "2023-07-13T01:21:00.613Z"
   },
   {
    "duration": 4,
    "start_time": "2023-07-13T01:21:01.361Z"
   },
   {
    "duration": 55533,
    "start_time": "2023-07-13T01:21:01.734Z"
   },
   {
    "duration": 10728,
    "start_time": "2023-07-13T01:21:59.637Z"
   },
   {
    "duration": 567,
    "start_time": "2023-07-13T01:23:51.197Z"
   },
   {
    "duration": 363,
    "start_time": "2023-07-13T01:24:37.790Z"
   },
   {
    "duration": 10647,
    "start_time": "2023-07-13T01:24:41.124Z"
   },
   {
    "duration": 3,
    "start_time": "2023-07-13T01:25:22.903Z"
   },
   {
    "duration": 106,
    "start_time": "2023-07-13T01:25:26.506Z"
   },
   {
    "duration": 3,
    "start_time": "2023-07-13T01:25:32.069Z"
   },
   {
    "duration": 3,
    "start_time": "2023-07-13T01:25:32.398Z"
   },
   {
    "duration": 68216,
    "start_time": "2023-07-13T01:25:32.950Z"
   },
   {
    "duration": 460,
    "start_time": "2023-07-13T01:26:45.769Z"
   },
   {
    "duration": 267,
    "start_time": "2023-07-13T01:26:48.045Z"
   },
   {
    "duration": 11602,
    "start_time": "2023-07-13T01:26:49.297Z"
   },
   {
    "duration": 4,
    "start_time": "2023-07-13T01:30:44.989Z"
   },
   {
    "duration": 3,
    "start_time": "2023-07-13T01:31:06.498Z"
   },
   {
    "duration": 137,
    "start_time": "2023-07-13T01:31:07.236Z"
   },
   {
    "duration": 4,
    "start_time": "2023-07-13T01:31:16.806Z"
   },
   {
    "duration": 93,
    "start_time": "2023-07-13T01:31:17.593Z"
   },
   {
    "duration": 11,
    "start_time": "2023-07-13T01:31:25.593Z"
   },
   {
    "duration": 3,
    "start_time": "2023-07-13T01:31:26.010Z"
   },
   {
    "duration": 3,
    "start_time": "2023-07-13T01:31:28.120Z"
   },
   {
    "duration": 3,
    "start_time": "2023-07-13T01:31:30.410Z"
   },
   {
    "duration": 400,
    "start_time": "2023-07-13T01:31:31.147Z"
   },
   {
    "duration": 11411,
    "start_time": "2023-07-13T01:31:32.347Z"
   },
   {
    "duration": 4,
    "start_time": "2023-07-13T01:31:43.760Z"
   },
   {
    "duration": 157425,
    "start_time": "2023-07-13T01:31:45.820Z"
   },
   {
    "duration": 4,
    "start_time": "2023-07-13T01:34:31.989Z"
   },
   {
    "duration": 167,
    "start_time": "2023-07-13T01:34:32.726Z"
   },
   {
    "duration": 12,
    "start_time": "2023-07-13T01:34:36.677Z"
   },
   {
    "duration": 3,
    "start_time": "2023-07-13T01:34:36.981Z"
   },
   {
    "duration": 3,
    "start_time": "2023-07-13T01:34:37.306Z"
   },
   {
    "duration": 3,
    "start_time": "2023-07-13T01:34:38.057Z"
   },
   {
    "duration": 266,
    "start_time": "2023-07-13T01:34:38.533Z"
   },
   {
    "duration": 12330,
    "start_time": "2023-07-13T01:34:39.050Z"
   },
   {
    "duration": 4,
    "start_time": "2023-07-13T01:34:51.382Z"
   },
   {
    "duration": 155778,
    "start_time": "2023-07-13T01:34:51.387Z"
   },
   {
    "duration": 1820,
    "start_time": "2023-07-13T01:38:18.619Z"
   },
   {
    "duration": 515,
    "start_time": "2023-07-13T01:39:05.213Z"
   },
   {
    "duration": 12203,
    "start_time": "2023-07-13T01:40:55.898Z"
   },
   {
    "duration": 172,
    "start_time": "2023-07-13T01:41:45.782Z"
   },
   {
    "duration": 360,
    "start_time": "2023-07-13T01:42:23.816Z"
   },
   {
    "duration": 23147,
    "start_time": "2023-07-13T01:44:28.637Z"
   },
   {
    "duration": 1044,
    "start_time": "2023-07-13T01:47:33.170Z"
   },
   {
    "duration": 500,
    "start_time": "2023-07-13T01:48:32.055Z"
   },
   {
    "duration": 37105,
    "start_time": "2023-07-13T01:49:36.653Z"
   },
   {
    "duration": 69774,
    "start_time": "2023-07-13T01:51:23.033Z"
   },
   {
    "duration": 30,
    "start_time": "2023-07-13T01:54:04.492Z"
   },
   {
    "duration": 8,
    "start_time": "2023-07-13T01:54:31.342Z"
   },
   {
    "duration": 7,
    "start_time": "2023-07-13T01:54:34.999Z"
   },
   {
    "duration": 8,
    "start_time": "2023-07-13T02:01:09.754Z"
   },
   {
    "duration": 6811,
    "start_time": "2023-07-13T02:01:17.212Z"
   },
   {
    "duration": 4,
    "start_time": "2023-07-13T02:02:12.289Z"
   },
   {
    "duration": 254,
    "start_time": "2023-07-13T02:03:16.080Z"
   },
   {
    "duration": 256,
    "start_time": "2023-07-13T02:03:19.849Z"
   },
   {
    "duration": 17,
    "start_time": "2023-07-13T02:04:19.539Z"
   },
   {
    "duration": 14,
    "start_time": "2023-07-13T02:04:29.241Z"
   },
   {
    "duration": 89,
    "start_time": "2023-07-13T02:05:42.882Z"
   },
   {
    "duration": 733,
    "start_time": "2023-07-13T02:05:48.014Z"
   },
   {
    "duration": 654,
    "start_time": "2023-07-13T02:08:03.532Z"
   },
   {
    "duration": 4,
    "start_time": "2023-07-13T02:08:16.050Z"
   },
   {
    "duration": 465,
    "start_time": "2023-07-13T02:08:19.596Z"
   },
   {
    "duration": 1538,
    "start_time": "2023-07-13T02:08:31.305Z"
   },
   {
    "duration": 2503,
    "start_time": "2023-07-13T02:09:16.209Z"
   },
   {
    "duration": 141,
    "start_time": "2023-07-13T02:09:20.631Z"
   },
   {
    "duration": 508,
    "start_time": "2023-07-13T02:09:50.260Z"
   },
   {
    "duration": 27,
    "start_time": "2023-07-13T02:09:58.043Z"
   },
   {
    "duration": 477,
    "start_time": "2023-07-13T02:10:02.513Z"
   },
   {
    "duration": 126,
    "start_time": "2023-07-13T02:10:14.852Z"
   },
   {
    "duration": 26,
    "start_time": "2023-07-13T02:10:32.579Z"
   },
   {
    "duration": 469,
    "start_time": "2023-07-13T02:10:48.907Z"
   },
   {
    "duration": 3,
    "start_time": "2023-07-13T02:11:11.894Z"
   },
   {
    "duration": 3598,
    "start_time": "2023-07-13T02:11:14.278Z"
   },
   {
    "duration": 26,
    "start_time": "2023-07-13T02:11:17.878Z"
   },
   {
    "duration": 105,
    "start_time": "2023-07-13T02:11:26.357Z"
   },
   {
    "duration": 4,
    "start_time": "2023-07-13T02:12:00.459Z"
   },
   {
    "duration": 372,
    "start_time": "2023-07-13T02:13:35.944Z"
   },
   {
    "duration": 896,
    "start_time": "2023-07-13T02:13:37.344Z"
   },
   {
    "duration": 24,
    "start_time": "2023-07-13T02:13:38.360Z"
   },
   {
    "duration": 357,
    "start_time": "2023-07-13T02:13:48.621Z"
   },
   {
    "duration": 841,
    "start_time": "2023-07-13T02:13:49.177Z"
   },
   {
    "duration": 17,
    "start_time": "2023-07-13T02:13:50.020Z"
   },
   {
    "duration": 3,
    "start_time": "2023-07-13T02:15:14.460Z"
   },
   {
    "duration": 16,
    "start_time": "2023-07-13T02:15:17.439Z"
   },
   {
    "duration": 3,
    "start_time": "2023-07-13T02:15:18.535Z"
   },
   {
    "duration": 3658,
    "start_time": "2023-07-13T02:15:18.897Z"
   },
   {
    "duration": 3,
    "start_time": "2023-07-13T02:15:34.954Z"
   },
   {
    "duration": 374,
    "start_time": "2023-07-13T02:15:35.326Z"
   },
   {
    "duration": 64,
    "start_time": "2023-07-13T02:15:38.294Z"
   },
   {
    "duration": 8327,
    "start_time": "2023-07-13T02:15:47.449Z"
   },
   {
    "duration": 1164,
    "start_time": "2023-07-13T02:15:55.778Z"
   },
   {
    "duration": 20,
    "start_time": "2023-07-13T02:15:56.945Z"
   },
   {
    "duration": 129,
    "start_time": "2023-07-13T02:15:56.968Z"
   },
   {
    "duration": 77,
    "start_time": "2023-07-13T02:15:57.099Z"
   },
   {
    "duration": 5,
    "start_time": "2023-07-13T02:15:57.178Z"
   },
   {
    "duration": 1849,
    "start_time": "2023-07-13T02:15:57.185Z"
   },
   {
    "duration": 7,
    "start_time": "2023-07-13T02:15:59.035Z"
   },
   {
    "duration": 358,
    "start_time": "2023-07-13T02:15:59.052Z"
   },
   {
    "duration": 4,
    "start_time": "2023-07-13T02:15:59.414Z"
   },
   {
    "duration": 182,
    "start_time": "2023-07-13T02:15:59.420Z"
   },
   {
    "duration": 275,
    "start_time": "2023-07-13T02:15:59.604Z"
   },
   {
    "duration": 1141,
    "start_time": "2023-07-13T02:15:59.881Z"
   },
   {
    "duration": 48,
    "start_time": "2023-07-13T02:16:01.024Z"
   },
   {
    "duration": 87,
    "start_time": "2023-07-13T02:16:01.074Z"
   },
   {
    "duration": 1254,
    "start_time": "2023-07-13T02:16:01.163Z"
   },
   {
    "duration": 79,
    "start_time": "2023-07-13T02:16:02.419Z"
   },
   {
    "duration": 8,
    "start_time": "2023-07-13T02:16:02.501Z"
   },
   {
    "duration": 22,
    "start_time": "2023-07-13T02:16:02.511Z"
   },
   {
    "duration": 51,
    "start_time": "2023-07-13T02:16:02.553Z"
   },
   {
    "duration": 10,
    "start_time": "2023-07-13T02:16:02.606Z"
   },
   {
    "duration": 45,
    "start_time": "2023-07-13T02:16:02.618Z"
   },
   {
    "duration": 20,
    "start_time": "2023-07-13T02:16:02.664Z"
   },
   {
    "duration": 37,
    "start_time": "2023-07-13T02:16:02.686Z"
   },
   {
    "duration": 73,
    "start_time": "2023-07-13T02:16:02.725Z"
   },
   {
    "duration": 4,
    "start_time": "2023-07-13T02:16:02.800Z"
   },
   {
    "duration": 1094,
    "start_time": "2023-07-13T02:16:02.806Z"
   },
   {
    "duration": 4,
    "start_time": "2023-07-13T02:16:03.905Z"
   },
   {
    "duration": 84,
    "start_time": "2023-07-13T02:16:03.910Z"
   },
   {
    "duration": 2,
    "start_time": "2023-07-13T02:16:03.996Z"
   },
   {
    "duration": 45,
    "start_time": "2023-07-13T02:16:04.000Z"
   },
   {
    "duration": 72,
    "start_time": "2023-07-13T02:16:04.046Z"
   },
   {
    "duration": 4,
    "start_time": "2023-07-13T02:16:04.119Z"
   },
   {
    "duration": 192,
    "start_time": "2023-07-13T02:16:04.124Z"
   },
   {
    "duration": 5,
    "start_time": "2023-07-13T02:16:04.317Z"
   },
   {
    "duration": 33,
    "start_time": "2023-07-13T02:16:04.324Z"
   },
   {
    "duration": 20,
    "start_time": "2023-07-13T02:16:04.359Z"
   },
   {
    "duration": 28,
    "start_time": "2023-07-13T02:16:04.380Z"
   },
   {
    "duration": 299,
    "start_time": "2023-07-13T02:16:04.410Z"
   },
   {
    "duration": 126,
    "start_time": "2023-07-13T02:16:04.711Z"
   },
   {
    "duration": 1093,
    "start_time": "2023-07-13T02:16:04.839Z"
   },
   {
    "duration": 3,
    "start_time": "2023-07-13T02:16:05.933Z"
   },
   {
    "duration": 94,
    "start_time": "2023-07-13T02:16:05.938Z"
   },
   {
    "duration": 505,
    "start_time": "2023-07-13T02:16:06.034Z"
   },
   {
    "duration": 167,
    "start_time": "2023-07-13T02:16:06.540Z"
   },
   {
    "duration": 3,
    "start_time": "2023-07-13T02:16:06.710Z"
   },
   {
    "duration": 103,
    "start_time": "2023-07-13T02:16:06.714Z"
   },
   {
    "duration": 15,
    "start_time": "2023-07-13T02:16:06.818Z"
   },
   {
    "duration": 367,
    "start_time": "2023-07-13T02:16:06.835Z"
   },
   {
    "duration": 28310,
    "start_time": "2023-07-13T02:16:07.204Z"
   },
   {
    "duration": 4,
    "start_time": "2023-07-13T02:16:35.515Z"
   },
   {
    "duration": 31,
    "start_time": "2023-07-13T02:16:35.521Z"
   },
   {
    "duration": 753,
    "start_time": "2023-07-13T02:16:35.554Z"
   },
   {
    "duration": 68396,
    "start_time": "2023-07-13T02:16:36.309Z"
   },
   {
    "duration": 3,
    "start_time": "2023-07-13T02:17:44.707Z"
   },
   {
    "duration": 355,
    "start_time": "2023-07-13T02:17:44.752Z"
   },
   {
    "duration": 896,
    "start_time": "2023-07-13T02:17:45.109Z"
   },
   {
    "duration": 91,
    "start_time": "2023-07-13T02:17:46.007Z"
   },
   {
    "duration": 0,
    "start_time": "2023-07-13T02:17:46.100Z"
   },
   {
    "duration": 0,
    "start_time": "2023-07-13T02:17:46.102Z"
   },
   {
    "duration": 0,
    "start_time": "2023-07-13T02:17:46.103Z"
   },
   {
    "duration": 28,
    "start_time": "2023-07-13T02:19:57.372Z"
   },
   {
    "duration": 24,
    "start_time": "2023-07-13T02:20:09.989Z"
   },
   {
    "duration": 3,
    "start_time": "2023-07-13T02:21:02.377Z"
   },
   {
    "duration": 260,
    "start_time": "2023-07-13T02:21:02.835Z"
   },
   {
    "duration": 631,
    "start_time": "2023-07-13T02:21:03.341Z"
   },
   {
    "duration": 4,
    "start_time": "2023-07-13T02:21:03.974Z"
   },
   {
    "duration": 3,
    "start_time": "2023-07-13T02:21:04.289Z"
   },
   {
    "duration": 2983,
    "start_time": "2023-07-13T02:21:04.654Z"
   },
   {
    "duration": 28,
    "start_time": "2023-07-13T02:21:07.639Z"
   },
   {
    "duration": 4187,
    "start_time": "2023-07-13T02:21:29.906Z"
   },
   {
    "duration": 27,
    "start_time": "2023-07-13T02:21:34.095Z"
   },
   {
    "duration": 105,
    "start_time": "2023-07-13T02:21:41.859Z"
   },
   {
    "duration": 28,
    "start_time": "2023-07-13T02:21:46.038Z"
   },
   {
    "duration": 7020,
    "start_time": "2023-07-13T02:23:37.635Z"
   },
   {
    "duration": 3,
    "start_time": "2023-07-13T02:24:07.190Z"
   },
   {
    "duration": 3,
    "start_time": "2023-07-13T02:24:15.340Z"
   },
   {
    "duration": 78,
    "start_time": "2023-07-13T02:24:42.168Z"
   },
   {
    "duration": 8358,
    "start_time": "2023-07-13T02:24:55.493Z"
   },
   {
    "duration": 11,
    "start_time": "2023-07-13T02:26:05.900Z"
   },
   {
    "duration": 364,
    "start_time": "2023-07-13T02:26:08.866Z"
   },
   {
    "duration": 7,
    "start_time": "2023-07-13T02:26:10.540Z"
   },
   {
    "duration": 7902,
    "start_time": "2023-07-13T02:30:15.771Z"
   },
   {
    "duration": 1163,
    "start_time": "2023-07-13T02:30:23.676Z"
   },
   {
    "duration": 18,
    "start_time": "2023-07-13T02:30:24.841Z"
   },
   {
    "duration": 123,
    "start_time": "2023-07-13T02:30:24.861Z"
   },
   {
    "duration": 71,
    "start_time": "2023-07-13T02:30:24.987Z"
   },
   {
    "duration": 4,
    "start_time": "2023-07-13T02:30:25.060Z"
   },
   {
    "duration": 1864,
    "start_time": "2023-07-13T02:30:25.065Z"
   },
   {
    "duration": 7,
    "start_time": "2023-07-13T02:30:26.932Z"
   },
   {
    "duration": 376,
    "start_time": "2023-07-13T02:30:26.951Z"
   },
   {
    "duration": 6,
    "start_time": "2023-07-13T02:30:27.329Z"
   },
   {
    "duration": 216,
    "start_time": "2023-07-13T02:30:27.337Z"
   },
   {
    "duration": 268,
    "start_time": "2023-07-13T02:30:27.554Z"
   },
   {
    "duration": 1069,
    "start_time": "2023-07-13T02:30:27.824Z"
   },
   {
    "duration": 54,
    "start_time": "2023-07-13T02:30:28.898Z"
   },
   {
    "duration": 59,
    "start_time": "2023-07-13T02:30:28.954Z"
   },
   {
    "duration": 1321,
    "start_time": "2023-07-13T02:30:29.014Z"
   },
   {
    "duration": 73,
    "start_time": "2023-07-13T02:30:30.338Z"
   },
   {
    "duration": 7,
    "start_time": "2023-07-13T02:30:30.414Z"
   },
   {
    "duration": 59,
    "start_time": "2023-07-13T02:30:30.423Z"
   },
   {
    "duration": 96,
    "start_time": "2023-07-13T02:30:30.484Z"
   },
   {
    "duration": 13,
    "start_time": "2023-07-13T02:30:30.582Z"
   },
   {
    "duration": 70,
    "start_time": "2023-07-13T02:30:30.597Z"
   },
   {
    "duration": 50,
    "start_time": "2023-07-13T02:30:30.670Z"
   },
   {
    "duration": 68,
    "start_time": "2023-07-13T02:30:30.722Z"
   },
   {
    "duration": 115,
    "start_time": "2023-07-13T02:30:30.792Z"
   },
   {
    "duration": 4,
    "start_time": "2023-07-13T02:30:30.909Z"
   },
   {
    "duration": 1179,
    "start_time": "2023-07-13T02:30:30.915Z"
   },
   {
    "duration": 5,
    "start_time": "2023-07-13T02:30:32.095Z"
   },
   {
    "duration": 77,
    "start_time": "2023-07-13T02:30:32.102Z"
   },
   {
    "duration": 3,
    "start_time": "2023-07-13T02:30:32.181Z"
   },
   {
    "duration": 40,
    "start_time": "2023-07-13T02:30:32.186Z"
   },
   {
    "duration": 98,
    "start_time": "2023-07-13T02:30:32.229Z"
   },
   {
    "duration": 4,
    "start_time": "2023-07-13T02:30:32.329Z"
   },
   {
    "duration": 219,
    "start_time": "2023-07-13T02:30:32.336Z"
   },
   {
    "duration": 5,
    "start_time": "2023-07-13T02:30:32.557Z"
   },
   {
    "duration": 20,
    "start_time": "2023-07-13T02:30:32.565Z"
   },
   {
    "duration": 25,
    "start_time": "2023-07-13T02:30:32.588Z"
   },
   {
    "duration": 20,
    "start_time": "2023-07-13T02:30:32.615Z"
   },
   {
    "duration": 392,
    "start_time": "2023-07-13T02:30:32.637Z"
   },
   {
    "duration": 76,
    "start_time": "2023-07-13T02:30:33.031Z"
   },
   {
    "duration": 1090,
    "start_time": "2023-07-13T02:30:33.114Z"
   },
   {
    "duration": 4,
    "start_time": "2023-07-13T02:30:34.206Z"
   },
   {
    "duration": 50,
    "start_time": "2023-07-13T02:30:34.212Z"
   },
   {
    "duration": 489,
    "start_time": "2023-07-13T02:30:34.264Z"
   },
   {
    "duration": 168,
    "start_time": "2023-07-13T02:30:34.755Z"
   },
   {
    "duration": 4,
    "start_time": "2023-07-13T02:30:34.925Z"
   },
   {
    "duration": 6,
    "start_time": "2023-07-13T02:30:34.931Z"
   },
   {
    "duration": 2,
    "start_time": "2023-07-13T02:30:34.953Z"
   },
   {
    "duration": 783,
    "start_time": "2023-07-13T02:30:34.957Z"
   },
   {
    "duration": 27888,
    "start_time": "2023-07-13T02:30:35.742Z"
   },
   {
    "duration": 22,
    "start_time": "2023-07-13T02:31:03.632Z"
   },
   {
    "duration": 33,
    "start_time": "2023-07-13T02:31:03.655Z"
   },
   {
    "duration": 653,
    "start_time": "2023-07-13T02:31:03.690Z"
   },
   {
    "duration": 67281,
    "start_time": "2023-07-13T02:31:04.344Z"
   },
   {
    "duration": 3,
    "start_time": "2023-07-13T02:32:11.629Z"
   },
   {
    "duration": 5753,
    "start_time": "2023-07-13T02:32:11.652Z"
   },
   {
    "duration": 119,
    "start_time": "2023-07-13T02:32:17.407Z"
   },
   {
    "duration": 0,
    "start_time": "2023-07-13T02:32:17.529Z"
   },
   {
    "duration": 0,
    "start_time": "2023-07-13T02:32:17.530Z"
   },
   {
    "duration": 0,
    "start_time": "2023-07-13T02:32:17.532Z"
   },
   {
    "duration": 0,
    "start_time": "2023-07-13T02:32:17.534Z"
   },
   {
    "duration": 26,
    "start_time": "2023-07-13T02:32:21.130Z"
   },
   {
    "duration": 4,
    "start_time": "2023-07-13T02:32:25.344Z"
   },
   {
    "duration": 359,
    "start_time": "2023-07-13T02:33:00.518Z"
   },
   {
    "duration": 3,
    "start_time": "2023-07-13T02:33:25.371Z"
   },
   {
    "duration": 13,
    "start_time": "2023-07-13T02:33:43.449Z"
   },
   {
    "duration": 5,
    "start_time": "2023-07-13T02:33:55.174Z"
   },
   {
    "duration": 108,
    "start_time": "2023-07-13T02:34:06.492Z"
   },
   {
    "duration": 6,
    "start_time": "2023-07-13T02:34:17.650Z"
   },
   {
    "duration": 117,
    "start_time": "2023-07-13T02:34:23.411Z"
   },
   {
    "duration": 7,
    "start_time": "2023-07-13T02:34:28.982Z"
   },
   {
    "duration": 118,
    "start_time": "2023-07-13T02:34:35.076Z"
   },
   {
    "duration": 219,
    "start_time": "2023-07-13T02:34:45.470Z"
   },
   {
    "duration": 20,
    "start_time": "2023-07-13T02:34:55.915Z"
   },
   {
    "duration": 139,
    "start_time": "2023-07-13T02:35:18.217Z"
   },
   {
    "duration": 3,
    "start_time": "2023-07-13T02:35:21.387Z"
   },
   {
    "duration": 349,
    "start_time": "2023-07-13T02:35:22.066Z"
   },
   {
    "duration": 4,
    "start_time": "2023-07-13T02:35:23.474Z"
   },
   {
    "duration": 47970,
    "start_time": "2023-07-13T02:35:33.791Z"
   },
   {
    "duration": 4,
    "start_time": "2023-07-13T02:36:24.340Z"
   },
   {
    "duration": 3174,
    "start_time": "2023-07-13T02:37:02.225Z"
   },
   {
    "duration": 5,
    "start_time": "2023-07-13T02:37:11.153Z"
   },
   {
    "duration": 334,
    "start_time": "2023-07-13T02:37:49.589Z"
   },
   {
    "duration": 358,
    "start_time": "2023-07-13T02:37:57.347Z"
   },
   {
    "duration": 47416,
    "start_time": "2023-07-13T02:38:04.790Z"
   },
   {
    "duration": 4,
    "start_time": "2023-07-13T02:38:52.208Z"
   },
   {
    "duration": 5,
    "start_time": "2023-07-13T02:40:15.906Z"
   },
   {
    "duration": 3675,
    "start_time": "2023-07-13T02:41:07.441Z"
   },
   {
    "duration": 150,
    "start_time": "2023-07-13T02:41:20.072Z"
   },
   {
    "duration": 4537,
    "start_time": "2023-07-13T02:41:37.240Z"
   },
   {
    "duration": 47,
    "start_time": "2023-07-13T02:41:42.872Z"
   },
   {
    "duration": 158,
    "start_time": "2023-07-13T02:42:32.623Z"
   },
   {
    "duration": 50,
    "start_time": "2023-07-13T02:43:27.913Z"
   },
   {
    "duration": 89,
    "start_time": "2023-07-13T02:43:33.659Z"
   },
   {
    "duration": 7,
    "start_time": "2023-07-13T02:43:36.418Z"
   },
   {
    "duration": 7434,
    "start_time": "2023-07-13T02:43:45.598Z"
   },
   {
    "duration": 78,
    "start_time": "2023-07-13T02:43:54.233Z"
   },
   {
    "duration": 6031,
    "start_time": "2023-07-13T02:43:58.753Z"
   },
   {
    "duration": 1092,
    "start_time": "2023-07-13T02:44:04.786Z"
   },
   {
    "duration": 18,
    "start_time": "2023-07-13T02:44:05.880Z"
   },
   {
    "duration": 127,
    "start_time": "2023-07-13T02:44:05.900Z"
   },
   {
    "duration": 65,
    "start_time": "2023-07-13T02:44:06.029Z"
   },
   {
    "duration": 4,
    "start_time": "2023-07-13T02:44:06.096Z"
   },
   {
    "duration": 1788,
    "start_time": "2023-07-13T02:44:06.102Z"
   },
   {
    "duration": 6,
    "start_time": "2023-07-13T02:44:07.892Z"
   },
   {
    "duration": 390,
    "start_time": "2023-07-13T02:44:07.901Z"
   },
   {
    "duration": 5,
    "start_time": "2023-07-13T02:44:08.293Z"
   },
   {
    "duration": 190,
    "start_time": "2023-07-13T02:44:08.300Z"
   },
   {
    "duration": 268,
    "start_time": "2023-07-13T02:44:08.491Z"
   },
   {
    "duration": 972,
    "start_time": "2023-07-13T02:44:08.761Z"
   },
   {
    "duration": 42,
    "start_time": "2023-07-13T02:44:09.735Z"
   },
   {
    "duration": 101,
    "start_time": "2023-07-13T02:44:09.779Z"
   },
   {
    "duration": 1140,
    "start_time": "2023-07-13T02:44:09.882Z"
   },
   {
    "duration": 86,
    "start_time": "2023-07-13T02:44:11.023Z"
   },
   {
    "duration": 6,
    "start_time": "2023-07-13T02:44:11.110Z"
   },
   {
    "duration": 20,
    "start_time": "2023-07-13T02:44:11.117Z"
   },
   {
    "duration": 47,
    "start_time": "2023-07-13T02:44:11.152Z"
   },
   {
    "duration": 8,
    "start_time": "2023-07-13T02:44:11.200Z"
   },
   {
    "duration": 28,
    "start_time": "2023-07-13T02:44:11.209Z"
   },
   {
    "duration": 30,
    "start_time": "2023-07-13T02:44:11.239Z"
   },
   {
    "duration": 35,
    "start_time": "2023-07-13T02:44:11.271Z"
   },
   {
    "duration": 78,
    "start_time": "2023-07-13T02:44:11.308Z"
   },
   {
    "duration": 4,
    "start_time": "2023-07-13T02:44:11.388Z"
   },
   {
    "duration": 1026,
    "start_time": "2023-07-13T02:44:11.393Z"
   },
   {
    "duration": 4,
    "start_time": "2023-07-13T02:44:12.423Z"
   },
   {
    "duration": 68,
    "start_time": "2023-07-13T02:44:12.428Z"
   },
   {
    "duration": 2,
    "start_time": "2023-07-13T02:44:12.498Z"
   },
   {
    "duration": 29,
    "start_time": "2023-07-13T02:44:12.502Z"
   },
   {
    "duration": 68,
    "start_time": "2023-07-13T02:44:12.533Z"
   },
   {
    "duration": 3,
    "start_time": "2023-07-13T02:44:12.603Z"
   },
   {
    "duration": 147,
    "start_time": "2023-07-13T02:44:12.607Z"
   },
   {
    "duration": 5,
    "start_time": "2023-07-13T02:44:12.755Z"
   },
   {
    "duration": 24,
    "start_time": "2023-07-13T02:44:12.761Z"
   },
   {
    "duration": 59,
    "start_time": "2023-07-13T02:44:12.786Z"
   },
   {
    "duration": 6,
    "start_time": "2023-07-13T02:44:12.847Z"
   },
   {
    "duration": 282,
    "start_time": "2023-07-13T02:44:12.854Z"
   },
   {
    "duration": 84,
    "start_time": "2023-07-13T02:44:13.137Z"
   },
   {
    "duration": 1119,
    "start_time": "2023-07-13T02:44:13.222Z"
   },
   {
    "duration": 3,
    "start_time": "2023-07-13T02:44:14.342Z"
   },
   {
    "duration": 40,
    "start_time": "2023-07-13T02:44:14.351Z"
   },
   {
    "duration": 505,
    "start_time": "2023-07-13T02:44:14.392Z"
   },
   {
    "duration": 171,
    "start_time": "2023-07-13T02:44:14.899Z"
   },
   {
    "duration": 3,
    "start_time": "2023-07-13T02:44:15.072Z"
   },
   {
    "duration": 13,
    "start_time": "2023-07-13T02:44:15.077Z"
   },
   {
    "duration": 6,
    "start_time": "2023-07-13T02:44:15.091Z"
   },
   {
    "duration": 424,
    "start_time": "2023-07-13T02:44:15.099Z"
   },
   {
    "duration": 26136,
    "start_time": "2023-07-13T02:44:15.525Z"
   },
   {
    "duration": 4,
    "start_time": "2023-07-13T02:44:41.663Z"
   },
   {
    "duration": 11,
    "start_time": "2023-07-13T02:44:41.669Z"
   },
   {
    "duration": 828,
    "start_time": "2023-07-13T02:44:41.682Z"
   },
   {
    "duration": 67477,
    "start_time": "2023-07-13T02:44:42.513Z"
   },
   {
    "duration": 4,
    "start_time": "2023-07-13T02:45:49.992Z"
   },
   {
    "duration": 23,
    "start_time": "2023-07-13T02:45:49.998Z"
   },
   {
    "duration": 5076,
    "start_time": "2023-07-13T02:45:50.023Z"
   },
   {
    "duration": 3,
    "start_time": "2023-07-13T02:45:55.101Z"
   },
   {
    "duration": 8036,
    "start_time": "2023-07-13T02:45:55.106Z"
   },
   {
    "duration": 74,
    "start_time": "2023-07-13T02:46:03.144Z"
   },
   {
    "duration": 331,
    "start_time": "2023-07-13T02:46:16.659Z"
   },
   {
    "duration": 234,
    "start_time": "2023-07-13T02:46:36.552Z"
   },
   {
    "duration": 36,
    "start_time": "2023-07-13T02:47:34.505Z"
   },
   {
    "duration": 57,
    "start_time": "2023-07-13T02:47:40.335Z"
   },
   {
    "duration": 5578,
    "start_time": "2023-07-13T02:51:02.577Z"
   },
   {
    "duration": 8348,
    "start_time": "2023-07-13T02:51:33.256Z"
   },
   {
    "duration": 610,
    "start_time": "2023-07-13T02:51:45.488Z"
   },
   {
    "duration": 197,
    "start_time": "2023-07-13T02:51:59.716Z"
   },
   {
    "duration": 3,
    "start_time": "2023-07-13T02:58:16.740Z"
   },
   {
    "duration": 2591,
    "start_time": "2023-07-13T02:58:18.863Z"
   },
   {
    "duration": 463,
    "start_time": "2023-07-13T02:58:24.900Z"
   },
   {
    "duration": 14,
    "start_time": "2023-07-13T03:07:43.063Z"
   },
   {
    "duration": 9090,
    "start_time": "2023-07-13T03:07:46.562Z"
   },
   {
    "duration": 5,
    "start_time": "2023-07-13T03:08:19.217Z"
   },
   {
    "duration": 8846,
    "start_time": "2023-07-13T03:08:58.590Z"
   },
   {
    "duration": 215,
    "start_time": "2023-07-13T03:14:42.490Z"
   },
   {
    "duration": 77,
    "start_time": "2023-07-13T03:14:45.959Z"
   },
   {
    "duration": 7688,
    "start_time": "2023-07-13T03:15:11.648Z"
   },
   {
    "duration": 574,
    "start_time": "2023-07-13T03:15:24.131Z"
   },
   {
    "duration": 16,
    "start_time": "2023-07-13T03:16:03.487Z"
   },
   {
    "duration": 6575,
    "start_time": "2023-07-13T03:16:07.370Z"
   },
   {
    "duration": 814,
    "start_time": "2023-07-13T03:16:13.948Z"
   },
   {
    "duration": 15,
    "start_time": "2023-07-13T03:16:14.763Z"
   },
   {
    "duration": 120,
    "start_time": "2023-07-13T03:16:14.780Z"
   },
   {
    "duration": 65,
    "start_time": "2023-07-13T03:16:14.902Z"
   },
   {
    "duration": 5,
    "start_time": "2023-07-13T03:16:14.968Z"
   },
   {
    "duration": 1691,
    "start_time": "2023-07-13T03:16:14.975Z"
   },
   {
    "duration": 6,
    "start_time": "2023-07-13T03:16:16.667Z"
   },
   {
    "duration": 373,
    "start_time": "2023-07-13T03:16:16.675Z"
   },
   {
    "duration": 4,
    "start_time": "2023-07-13T03:16:17.052Z"
   },
   {
    "duration": 173,
    "start_time": "2023-07-13T03:16:17.058Z"
   },
   {
    "duration": 249,
    "start_time": "2023-07-13T03:16:17.233Z"
   },
   {
    "duration": 982,
    "start_time": "2023-07-13T03:16:17.484Z"
   },
   {
    "duration": 28,
    "start_time": "2023-07-13T03:16:18.470Z"
   },
   {
    "duration": 81,
    "start_time": "2023-07-13T03:16:18.500Z"
   },
   {
    "duration": 1244,
    "start_time": "2023-07-13T03:16:18.583Z"
   },
   {
    "duration": 72,
    "start_time": "2023-07-13T03:16:19.829Z"
   },
   {
    "duration": 6,
    "start_time": "2023-07-13T03:16:19.903Z"
   },
   {
    "duration": 23,
    "start_time": "2023-07-13T03:16:19.910Z"
   },
   {
    "duration": 49,
    "start_time": "2023-07-13T03:16:19.936Z"
   },
   {
    "duration": 8,
    "start_time": "2023-07-13T03:16:19.987Z"
   },
   {
    "duration": 38,
    "start_time": "2023-07-13T03:16:19.997Z"
   },
   {
    "duration": 30,
    "start_time": "2023-07-13T03:16:20.037Z"
   },
   {
    "duration": 36,
    "start_time": "2023-07-13T03:16:20.069Z"
   },
   {
    "duration": 65,
    "start_time": "2023-07-13T03:16:20.107Z"
   },
   {
    "duration": 3,
    "start_time": "2023-07-13T03:16:20.174Z"
   },
   {
    "duration": 1035,
    "start_time": "2023-07-13T03:16:20.179Z"
   },
   {
    "duration": 5,
    "start_time": "2023-07-13T03:16:21.216Z"
   },
   {
    "duration": 51,
    "start_time": "2023-07-13T03:16:21.252Z"
   },
   {
    "duration": 3,
    "start_time": "2023-07-13T03:16:21.305Z"
   },
   {
    "duration": 47,
    "start_time": "2023-07-13T03:16:21.310Z"
   },
   {
    "duration": 59,
    "start_time": "2023-07-13T03:16:21.359Z"
   },
   {
    "duration": 3,
    "start_time": "2023-07-13T03:16:21.420Z"
   },
   {
    "duration": 138,
    "start_time": "2023-07-13T03:16:21.425Z"
   },
   {
    "duration": 4,
    "start_time": "2023-07-13T03:16:21.564Z"
   },
   {
    "duration": 14,
    "start_time": "2023-07-13T03:16:21.570Z"
   },
   {
    "duration": 21,
    "start_time": "2023-07-13T03:16:21.586Z"
   },
   {
    "duration": 13,
    "start_time": "2023-07-13T03:16:21.609Z"
   },
   {
    "duration": 288,
    "start_time": "2023-07-13T03:16:21.624Z"
   },
   {
    "duration": 196,
    "start_time": "2023-07-13T03:16:21.914Z"
   },
   {
    "duration": 990,
    "start_time": "2023-07-13T03:16:22.114Z"
   },
   {
    "duration": 3,
    "start_time": "2023-07-13T03:16:23.106Z"
   },
   {
    "duration": 331,
    "start_time": "2023-07-13T03:16:23.111Z"
   },
   {
    "duration": 477,
    "start_time": "2023-07-13T03:16:23.444Z"
   },
   {
    "duration": 143,
    "start_time": "2023-07-13T03:16:23.923Z"
   },
   {
    "duration": 4,
    "start_time": "2023-07-13T03:16:24.067Z"
   },
   {
    "duration": 29,
    "start_time": "2023-07-13T03:16:24.072Z"
   },
   {
    "duration": 27,
    "start_time": "2023-07-13T03:16:24.103Z"
   },
   {
    "duration": 704,
    "start_time": "2023-07-13T03:16:24.132Z"
   },
   {
    "duration": 37079,
    "start_time": "2023-07-13T03:16:24.838Z"
   },
   {
    "duration": 4,
    "start_time": "2023-07-13T03:17:01.919Z"
   },
   {
    "duration": 77,
    "start_time": "2023-07-13T03:17:01.926Z"
   },
   {
    "duration": 1176,
    "start_time": "2023-07-13T03:17:02.006Z"
   },
   {
    "duration": 64711,
    "start_time": "2023-07-13T03:17:03.184Z"
   },
   {
    "duration": 3,
    "start_time": "2023-07-13T03:18:07.897Z"
   },
   {
    "duration": 18,
    "start_time": "2023-07-13T03:18:07.902Z"
   },
   {
    "duration": 48,
    "start_time": "2023-07-13T03:18:26.311Z"
   },
   {
    "duration": 7,
    "start_time": "2023-07-13T03:18:35.488Z"
   },
   {
    "duration": 167,
    "start_time": "2023-07-13T03:18:52.345Z"
   },
   {
    "duration": 7,
    "start_time": "2023-07-13T03:19:01.539Z"
   },
   {
    "duration": 8407,
    "start_time": "2023-07-13T03:19:13.386Z"
   },
   {
    "duration": 1122,
    "start_time": "2023-07-13T03:19:21.795Z"
   },
   {
    "duration": 19,
    "start_time": "2023-07-13T03:19:22.919Z"
   },
   {
    "duration": 123,
    "start_time": "2023-07-13T03:19:22.940Z"
   },
   {
    "duration": 59,
    "start_time": "2023-07-13T03:19:23.065Z"
   },
   {
    "duration": 4,
    "start_time": "2023-07-13T03:19:23.126Z"
   },
   {
    "duration": 1721,
    "start_time": "2023-07-13T03:19:23.132Z"
   },
   {
    "duration": 6,
    "start_time": "2023-07-13T03:19:24.855Z"
   },
   {
    "duration": 369,
    "start_time": "2023-07-13T03:19:24.863Z"
   },
   {
    "duration": 5,
    "start_time": "2023-07-13T03:19:25.234Z"
   },
   {
    "duration": 243,
    "start_time": "2023-07-13T03:19:25.241Z"
   },
   {
    "duration": 241,
    "start_time": "2023-07-13T03:19:25.486Z"
   },
   {
    "duration": 963,
    "start_time": "2023-07-13T03:19:25.729Z"
   },
   {
    "duration": 30,
    "start_time": "2023-07-13T03:19:26.696Z"
   },
   {
    "duration": 71,
    "start_time": "2023-07-13T03:19:26.728Z"
   },
   {
    "duration": 1227,
    "start_time": "2023-07-13T03:19:26.800Z"
   },
   {
    "duration": 64,
    "start_time": "2023-07-13T03:19:28.051Z"
   },
   {
    "duration": 7,
    "start_time": "2023-07-13T03:19:28.117Z"
   },
   {
    "duration": 33,
    "start_time": "2023-07-13T03:19:28.126Z"
   },
   {
    "duration": 47,
    "start_time": "2023-07-13T03:19:28.161Z"
   },
   {
    "duration": 13,
    "start_time": "2023-07-13T03:19:28.210Z"
   },
   {
    "duration": 46,
    "start_time": "2023-07-13T03:19:28.226Z"
   },
   {
    "duration": 28,
    "start_time": "2023-07-13T03:19:28.274Z"
   },
   {
    "duration": 68,
    "start_time": "2023-07-13T03:19:28.304Z"
   },
   {
    "duration": 55,
    "start_time": "2023-07-13T03:19:28.375Z"
   },
   {
    "duration": 3,
    "start_time": "2023-07-13T03:19:28.432Z"
   },
   {
    "duration": 1036,
    "start_time": "2023-07-13T03:19:28.453Z"
   },
   {
    "duration": 3,
    "start_time": "2023-07-13T03:19:29.491Z"
   },
   {
    "duration": 62,
    "start_time": "2023-07-13T03:19:29.496Z"
   },
   {
    "duration": 2,
    "start_time": "2023-07-13T03:19:29.560Z"
   },
   {
    "duration": 17,
    "start_time": "2023-07-13T03:19:29.564Z"
   },
   {
    "duration": 77,
    "start_time": "2023-07-13T03:19:29.583Z"
   },
   {
    "duration": 3,
    "start_time": "2023-07-13T03:19:29.662Z"
   },
   {
    "duration": 138,
    "start_time": "2023-07-13T03:19:29.667Z"
   },
   {
    "duration": 5,
    "start_time": "2023-07-13T03:19:29.807Z"
   },
   {
    "duration": 8,
    "start_time": "2023-07-13T03:19:29.814Z"
   },
   {
    "duration": 7,
    "start_time": "2023-07-13T03:19:29.824Z"
   },
   {
    "duration": 6,
    "start_time": "2023-07-13T03:19:29.832Z"
   },
   {
    "duration": 284,
    "start_time": "2023-07-13T03:19:29.839Z"
   },
   {
    "duration": 178,
    "start_time": "2023-07-13T03:19:30.125Z"
   },
   {
    "duration": 1114,
    "start_time": "2023-07-13T03:19:30.308Z"
   },
   {
    "duration": 3,
    "start_time": "2023-07-13T03:19:31.423Z"
   },
   {
    "duration": 86,
    "start_time": "2023-07-13T03:19:31.428Z"
   },
   {
    "duration": 499,
    "start_time": "2023-07-13T03:19:31.516Z"
   },
   {
    "duration": 149,
    "start_time": "2023-07-13T03:19:32.017Z"
   },
   {
    "duration": 3,
    "start_time": "2023-07-13T03:19:32.168Z"
   },
   {
    "duration": 23,
    "start_time": "2023-07-13T03:19:32.172Z"
   },
   {
    "duration": 34,
    "start_time": "2023-07-13T03:19:32.197Z"
   },
   {
    "duration": 537,
    "start_time": "2023-07-13T03:19:32.233Z"
   },
   {
    "duration": 25696,
    "start_time": "2023-07-13T03:19:32.772Z"
   },
   {
    "duration": 3,
    "start_time": "2023-07-13T03:19:58.470Z"
   },
   {
    "duration": 15,
    "start_time": "2023-07-13T03:19:58.475Z"
   },
   {
    "duration": 795,
    "start_time": "2023-07-13T03:19:58.492Z"
   },
   {
    "duration": 6325,
    "start_time": "2023-07-13T03:21:38.860Z"
   },
   {
    "duration": 872,
    "start_time": "2023-07-13T03:21:45.187Z"
   },
   {
    "duration": 14,
    "start_time": "2023-07-13T03:21:46.060Z"
   },
   {
    "duration": 123,
    "start_time": "2023-07-13T03:21:46.076Z"
   },
   {
    "duration": 85,
    "start_time": "2023-07-13T03:21:46.201Z"
   },
   {
    "duration": 4,
    "start_time": "2023-07-13T03:21:46.288Z"
   },
   {
    "duration": 1714,
    "start_time": "2023-07-13T03:21:46.293Z"
   },
   {
    "duration": 7,
    "start_time": "2023-07-13T03:21:48.009Z"
   },
   {
    "duration": 429,
    "start_time": "2023-07-13T03:21:48.018Z"
   },
   {
    "duration": 6,
    "start_time": "2023-07-13T03:21:48.449Z"
   },
   {
    "duration": 195,
    "start_time": "2023-07-13T03:21:48.458Z"
   },
   {
    "duration": 270,
    "start_time": "2023-07-13T03:21:48.655Z"
   },
   {
    "duration": 1029,
    "start_time": "2023-07-13T03:21:48.927Z"
   },
   {
    "duration": 34,
    "start_time": "2023-07-13T03:21:49.958Z"
   },
   {
    "duration": 70,
    "start_time": "2023-07-13T03:21:49.993Z"
   },
   {
    "duration": 1237,
    "start_time": "2023-07-13T03:21:50.065Z"
   },
   {
    "duration": 64,
    "start_time": "2023-07-13T03:21:51.304Z"
   },
   {
    "duration": 7,
    "start_time": "2023-07-13T03:21:51.370Z"
   },
   {
    "duration": 22,
    "start_time": "2023-07-13T03:21:51.379Z"
   },
   {
    "duration": 43,
    "start_time": "2023-07-13T03:21:51.403Z"
   },
   {
    "duration": 7,
    "start_time": "2023-07-13T03:21:51.453Z"
   },
   {
    "duration": 38,
    "start_time": "2023-07-13T03:21:51.462Z"
   },
   {
    "duration": 27,
    "start_time": "2023-07-13T03:21:51.502Z"
   },
   {
    "duration": 33,
    "start_time": "2023-07-13T03:21:51.530Z"
   },
   {
    "duration": 46,
    "start_time": "2023-07-13T03:21:51.565Z"
   },
   {
    "duration": 4,
    "start_time": "2023-07-13T03:21:51.614Z"
   },
   {
    "duration": 1180,
    "start_time": "2023-07-13T03:21:51.621Z"
   },
   {
    "duration": 4,
    "start_time": "2023-07-13T03:21:52.803Z"
   },
   {
    "duration": 58,
    "start_time": "2023-07-13T03:21:52.808Z"
   },
   {
    "duration": 3,
    "start_time": "2023-07-13T03:21:52.868Z"
   },
   {
    "duration": 32,
    "start_time": "2023-07-13T03:21:52.873Z"
   },
   {
    "duration": 64,
    "start_time": "2023-07-13T03:21:52.907Z"
   },
   {
    "duration": 4,
    "start_time": "2023-07-13T03:21:52.972Z"
   },
   {
    "duration": 138,
    "start_time": "2023-07-13T03:21:52.977Z"
   },
   {
    "duration": 5,
    "start_time": "2023-07-13T03:21:53.117Z"
   },
   {
    "duration": 11,
    "start_time": "2023-07-13T03:21:53.124Z"
   },
   {
    "duration": 7,
    "start_time": "2023-07-13T03:21:53.137Z"
   },
   {
    "duration": 12,
    "start_time": "2023-07-13T03:21:53.151Z"
   },
   {
    "duration": 280,
    "start_time": "2023-07-13T03:21:53.164Z"
   },
   {
    "duration": 90,
    "start_time": "2023-07-13T03:21:53.446Z"
   },
   {
    "duration": 1087,
    "start_time": "2023-07-13T03:21:53.538Z"
   },
   {
    "duration": 3,
    "start_time": "2023-07-13T03:21:54.627Z"
   },
   {
    "duration": 209,
    "start_time": "2023-07-13T03:21:54.632Z"
   },
   {
    "duration": 542,
    "start_time": "2023-07-13T03:21:54.843Z"
   },
   {
    "duration": 155,
    "start_time": "2023-07-13T03:21:55.388Z"
   },
   {
    "duration": 3,
    "start_time": "2023-07-13T03:21:55.545Z"
   },
   {
    "duration": 19,
    "start_time": "2023-07-13T03:21:55.551Z"
   },
   {
    "duration": 10,
    "start_time": "2023-07-13T03:21:55.572Z"
   },
   {
    "duration": 748,
    "start_time": "2023-07-13T03:21:55.584Z"
   },
   {
    "duration": 38420,
    "start_time": "2023-07-13T03:21:56.334Z"
   },
   {
    "duration": 4,
    "start_time": "2023-07-13T03:22:34.756Z"
   },
   {
    "duration": 11,
    "start_time": "2023-07-13T03:22:34.762Z"
   },
   {
    "duration": 1550,
    "start_time": "2023-07-13T03:22:34.775Z"
   },
   {
    "duration": 65145,
    "start_time": "2023-07-13T03:22:36.327Z"
   },
   {
    "duration": 3,
    "start_time": "2023-07-13T03:23:41.474Z"
   },
   {
    "duration": 7,
    "start_time": "2023-07-13T03:23:41.478Z"
   },
   {
    "duration": 5454,
    "start_time": "2023-07-13T03:23:41.486Z"
   },
   {
    "duration": 3,
    "start_time": "2023-07-13T03:23:46.942Z"
   },
   {
    "duration": 7970,
    "start_time": "2023-07-13T03:23:46.946Z"
   },
   {
    "duration": 630,
    "start_time": "2023-07-13T03:23:54.918Z"
   },
   {
    "duration": 213,
    "start_time": "2023-07-13T03:23:55.552Z"
   },
   {
    "duration": 4,
    "start_time": "2023-07-13T03:23:55.766Z"
   },
   {
    "duration": 2631,
    "start_time": "2023-07-13T03:23:55.771Z"
   },
   {
    "duration": 483,
    "start_time": "2023-07-13T03:23:58.404Z"
   },
   {
    "duration": 224,
    "start_time": "2023-07-13T03:23:58.889Z"
   },
   {
    "duration": 7551,
    "start_time": "2023-07-13T03:23:59.116Z"
   },
   {
    "duration": 574,
    "start_time": "2023-07-13T03:24:06.669Z"
   },
   {
    "duration": 13007,
    "start_time": "2023-07-13T03:24:07.245Z"
   },
   {
    "duration": 6,
    "start_time": "2023-07-13T03:24:20.254Z"
   },
   {
    "duration": 86,
    "start_time": "2023-07-13T03:25:29.332Z"
   },
   {
    "duration": 12,
    "start_time": "2023-07-13T03:25:58.824Z"
   },
   {
    "duration": 11,
    "start_time": "2023-07-13T03:27:05.275Z"
   },
   {
    "duration": 182,
    "start_time": "2023-07-13T03:28:36.732Z"
   },
   {
    "duration": 121,
    "start_time": "2023-07-13T03:29:03.193Z"
   },
   {
    "duration": 192,
    "start_time": "2023-07-13T03:29:07.726Z"
   },
   {
    "duration": 8749,
    "start_time": "2023-07-13T03:29:59.059Z"
   },
   {
    "duration": 955,
    "start_time": "2023-07-13T03:30:07.811Z"
   },
   {
    "duration": 24,
    "start_time": "2023-07-13T03:30:08.767Z"
   },
   {
    "duration": 147,
    "start_time": "2023-07-13T03:30:08.794Z"
   },
   {
    "duration": 71,
    "start_time": "2023-07-13T03:30:08.944Z"
   },
   {
    "duration": 5,
    "start_time": "2023-07-13T03:30:09.017Z"
   },
   {
    "duration": 1785,
    "start_time": "2023-07-13T03:30:09.024Z"
   },
   {
    "duration": 7,
    "start_time": "2023-07-13T03:30:10.811Z"
   },
   {
    "duration": 392,
    "start_time": "2023-07-13T03:30:10.819Z"
   },
   {
    "duration": 5,
    "start_time": "2023-07-13T03:30:11.213Z"
   },
   {
    "duration": 179,
    "start_time": "2023-07-13T03:30:11.219Z"
   },
   {
    "duration": 252,
    "start_time": "2023-07-13T03:30:11.401Z"
   },
   {
    "duration": 941,
    "start_time": "2023-07-13T03:30:11.655Z"
   },
   {
    "duration": 36,
    "start_time": "2023-07-13T03:30:12.597Z"
   },
   {
    "duration": 78,
    "start_time": "2023-07-13T03:30:12.635Z"
   },
   {
    "duration": 1296,
    "start_time": "2023-07-13T03:30:12.716Z"
   },
   {
    "duration": 88,
    "start_time": "2023-07-13T03:30:14.014Z"
   },
   {
    "duration": 9,
    "start_time": "2023-07-13T03:30:14.105Z"
   },
   {
    "duration": 27,
    "start_time": "2023-07-13T03:30:14.116Z"
   },
   {
    "duration": 49,
    "start_time": "2023-07-13T03:30:14.145Z"
   },
   {
    "duration": 7,
    "start_time": "2023-07-13T03:30:14.196Z"
   },
   {
    "duration": 26,
    "start_time": "2023-07-13T03:30:14.205Z"
   },
   {
    "duration": 23,
    "start_time": "2023-07-13T03:30:14.233Z"
   },
   {
    "duration": 34,
    "start_time": "2023-07-13T03:30:14.258Z"
   },
   {
    "duration": 73,
    "start_time": "2023-07-13T03:30:14.294Z"
   },
   {
    "duration": 4,
    "start_time": "2023-07-13T03:30:14.369Z"
   },
   {
    "duration": 1359,
    "start_time": "2023-07-13T03:30:14.375Z"
   },
   {
    "duration": 14,
    "start_time": "2023-07-13T03:30:15.739Z"
   },
   {
    "duration": 56,
    "start_time": "2023-07-13T03:30:15.755Z"
   },
   {
    "duration": 3,
    "start_time": "2023-07-13T03:30:15.813Z"
   },
   {
    "duration": 33,
    "start_time": "2023-07-13T03:30:15.819Z"
   },
   {
    "duration": 62,
    "start_time": "2023-07-13T03:30:15.854Z"
   },
   {
    "duration": 3,
    "start_time": "2023-07-13T03:30:15.918Z"
   },
   {
    "duration": 144,
    "start_time": "2023-07-13T03:30:15.922Z"
   },
   {
    "duration": 4,
    "start_time": "2023-07-13T03:30:16.068Z"
   },
   {
    "duration": 7,
    "start_time": "2023-07-13T03:30:16.073Z"
   },
   {
    "duration": 7,
    "start_time": "2023-07-13T03:30:16.081Z"
   },
   {
    "duration": 7,
    "start_time": "2023-07-13T03:30:16.090Z"
   },
   {
    "duration": 283,
    "start_time": "2023-07-13T03:30:16.099Z"
   },
   {
    "duration": 230967,
    "start_time": "2023-07-13T03:30:16.384Z"
   },
   {
    "duration": 3,
    "start_time": "2023-07-13T03:34:07.353Z"
   },
   {
    "duration": 1616,
    "start_time": "2023-07-13T03:34:07.358Z"
   },
   {
    "duration": 2,
    "start_time": "2023-07-13T03:34:08.976Z"
   },
   {
    "duration": 103311,
    "start_time": "2023-07-13T03:34:08.980Z"
   },
   {
    "duration": 3,
    "start_time": "2023-07-13T03:35:52.293Z"
   },
   {
    "duration": 484,
    "start_time": "2023-07-13T03:35:52.297Z"
   },
   {
    "duration": 158,
    "start_time": "2023-07-13T03:35:52.783Z"
   },
   {
    "duration": 9,
    "start_time": "2023-07-13T03:35:52.943Z"
   },
   {
    "duration": 40,
    "start_time": "2023-07-13T03:35:52.953Z"
   },
   {
    "duration": 8433,
    "start_time": "2023-07-13T04:20:32.084Z"
   },
   {
    "duration": 856,
    "start_time": "2023-07-13T04:20:40.519Z"
   },
   {
    "duration": 19,
    "start_time": "2023-07-13T04:20:41.380Z"
   },
   {
    "duration": 125,
    "start_time": "2023-07-13T04:20:41.402Z"
   },
   {
    "duration": 68,
    "start_time": "2023-07-13T04:20:41.529Z"
   },
   {
    "duration": 4,
    "start_time": "2023-07-13T04:20:41.599Z"
   },
   {
    "duration": 1714,
    "start_time": "2023-07-13T04:20:41.605Z"
   },
   {
    "duration": 7,
    "start_time": "2023-07-13T04:20:43.321Z"
   },
   {
    "duration": 359,
    "start_time": "2023-07-13T04:20:43.330Z"
   },
   {
    "duration": 4,
    "start_time": "2023-07-13T04:20:43.691Z"
   },
   {
    "duration": 179,
    "start_time": "2023-07-13T04:20:43.697Z"
   },
   {
    "duration": 253,
    "start_time": "2023-07-13T04:20:43.877Z"
   },
   {
    "duration": 998,
    "start_time": "2023-07-13T04:20:44.133Z"
   },
   {
    "duration": 44,
    "start_time": "2023-07-13T04:20:45.133Z"
   },
   {
    "duration": 77,
    "start_time": "2023-07-13T04:20:45.178Z"
   },
   {
    "duration": 1276,
    "start_time": "2023-07-13T04:20:45.257Z"
   },
   {
    "duration": 73,
    "start_time": "2023-07-13T04:20:46.534Z"
   },
   {
    "duration": 6,
    "start_time": "2023-07-13T04:20:46.609Z"
   },
   {
    "duration": 14,
    "start_time": "2023-07-13T04:20:46.617Z"
   },
   {
    "duration": 67,
    "start_time": "2023-07-13T04:20:46.633Z"
   },
   {
    "duration": 7,
    "start_time": "2023-07-13T04:20:46.702Z"
   },
   {
    "duration": 46,
    "start_time": "2023-07-13T04:20:46.711Z"
   },
   {
    "duration": 19,
    "start_time": "2023-07-13T04:20:46.758Z"
   },
   {
    "duration": 33,
    "start_time": "2023-07-13T04:20:46.779Z"
   },
   {
    "duration": 72,
    "start_time": "2023-07-13T04:20:46.814Z"
   },
   {
    "duration": 3,
    "start_time": "2023-07-13T04:20:46.888Z"
   },
   {
    "duration": 1222,
    "start_time": "2023-07-13T04:20:46.892Z"
   },
   {
    "duration": 4,
    "start_time": "2023-07-13T04:20:48.116Z"
   },
   {
    "duration": 71,
    "start_time": "2023-07-13T04:20:48.122Z"
   },
   {
    "duration": 2,
    "start_time": "2023-07-13T04:20:48.195Z"
   },
   {
    "duration": 33,
    "start_time": "2023-07-13T04:20:48.199Z"
   },
   {
    "duration": 91,
    "start_time": "2023-07-13T04:20:48.235Z"
   },
   {
    "duration": 4,
    "start_time": "2023-07-13T04:20:48.328Z"
   },
   {
    "duration": 230,
    "start_time": "2023-07-13T04:20:48.334Z"
   },
   {
    "duration": 5,
    "start_time": "2023-07-13T04:20:48.567Z"
   },
   {
    "duration": 12,
    "start_time": "2023-07-13T04:20:48.574Z"
   },
   {
    "duration": 9,
    "start_time": "2023-07-13T04:20:48.588Z"
   },
   {
    "duration": 7,
    "start_time": "2023-07-13T04:20:48.598Z"
   },
   {
    "duration": 310,
    "start_time": "2023-07-13T04:20:48.606Z"
   },
   {
    "duration": 235031,
    "start_time": "2023-07-13T04:20:48.921Z"
   },
   {
    "duration": 3,
    "start_time": "2023-07-13T04:24:43.954Z"
   },
   {
    "duration": 1810,
    "start_time": "2023-07-13T04:24:43.958Z"
   },
   {
    "duration": 4,
    "start_time": "2023-07-13T04:24:45.770Z"
   },
   {
    "duration": 109881,
    "start_time": "2023-07-13T04:24:45.776Z"
   },
   {
    "duration": 3,
    "start_time": "2023-07-13T04:26:35.658Z"
   },
   {
    "duration": 499,
    "start_time": "2023-07-13T04:26:35.663Z"
   },
   {
    "duration": 160,
    "start_time": "2023-07-13T04:26:36.164Z"
   },
   {
    "duration": 5,
    "start_time": "2023-07-13T04:26:36.326Z"
   },
   {
    "duration": 41,
    "start_time": "2023-07-13T04:26:36.332Z"
   },
   {
    "duration": 432141,
    "start_time": "2023-07-13T04:26:36.375Z"
   },
   {
    "duration": 3,
    "start_time": "2023-07-13T04:33:48.518Z"
   },
   {
    "duration": 12,
    "start_time": "2023-07-13T04:33:48.523Z"
   },
   {
    "duration": 98,
    "start_time": "2023-07-13T04:33:48.537Z"
   },
   {
    "duration": 4,
    "start_time": "2023-07-13T04:33:48.638Z"
   },
   {
    "duration": 109,
    "start_time": "2023-07-13T04:33:48.644Z"
   },
   {
    "duration": 3,
    "start_time": "2023-07-13T04:33:48.756Z"
   },
   {
    "duration": 9,
    "start_time": "2023-07-13T04:33:48.760Z"
   },
   {
    "duration": 103,
    "start_time": "2023-07-13T04:33:48.770Z"
   },
   {
    "duration": 3,
    "start_time": "2023-07-13T04:33:48.875Z"
   },
   {
    "duration": 8,
    "start_time": "2023-07-13T04:33:48.879Z"
   },
   {
    "duration": 6160,
    "start_time": "2023-07-13T04:33:48.888Z"
   },
   {
    "duration": 4,
    "start_time": "2023-07-13T04:33:55.050Z"
   },
   {
    "duration": 8600,
    "start_time": "2023-07-13T04:33:55.057Z"
   },
   {
    "duration": 597,
    "start_time": "2023-07-13T04:34:03.659Z"
   },
   {
    "duration": 208,
    "start_time": "2023-07-13T04:34:04.258Z"
   },
   {
    "duration": 3,
    "start_time": "2023-07-13T04:34:04.468Z"
   },
   {
    "duration": 2651,
    "start_time": "2023-07-13T04:34:04.473Z"
   },
   {
    "duration": 480,
    "start_time": "2023-07-13T04:34:07.125Z"
   },
   {
    "duration": 221,
    "start_time": "2023-07-13T04:34:07.608Z"
   },
   {
    "duration": 8607,
    "start_time": "2023-07-13T04:34:07.831Z"
   },
   {
    "duration": 633,
    "start_time": "2023-07-13T04:34:16.441Z"
   },
   {
    "duration": 87,
    "start_time": "2023-07-13T04:34:17.076Z"
   },
   {
    "duration": 12,
    "start_time": "2023-07-13T04:34:17.166Z"
   },
   {
    "duration": 0,
    "start_time": "2023-07-13T04:34:17.180Z"
   },
   {
    "duration": 0,
    "start_time": "2023-07-13T04:34:17.184Z"
   },
   {
    "duration": 0,
    "start_time": "2023-07-13T04:34:17.185Z"
   },
   {
    "duration": 107,
    "start_time": "2023-07-13T04:34:24.023Z"
   },
   {
    "duration": 12,
    "start_time": "2023-07-13T04:34:29.902Z"
   },
   {
    "duration": 3,
    "start_time": "2023-07-13T04:34:30.486Z"
   },
   {
    "duration": 4,
    "start_time": "2023-07-13T04:34:31.071Z"
   },
   {
    "duration": 594155,
    "start_time": "2023-07-13T04:34:31.995Z"
   },
   {
    "duration": 29,
    "start_time": "2023-07-13T04:44:40.316Z"
   },
   {
    "duration": 32,
    "start_time": "2023-07-13T04:44:51.452Z"
   },
   {
    "duration": 8243,
    "start_time": "2023-07-13T04:45:15.727Z"
   },
   {
    "duration": 969,
    "start_time": "2023-07-13T04:45:23.974Z"
   },
   {
    "duration": 20,
    "start_time": "2023-07-13T04:45:24.945Z"
   },
   {
    "duration": 207,
    "start_time": "2023-07-13T04:45:24.967Z"
   },
   {
    "duration": 60,
    "start_time": "2023-07-13T04:45:25.178Z"
   },
   {
    "duration": 13,
    "start_time": "2023-07-13T04:45:25.240Z"
   },
   {
    "duration": 1863,
    "start_time": "2023-07-13T04:45:25.255Z"
   },
   {
    "duration": 9,
    "start_time": "2023-07-13T04:45:27.121Z"
   },
   {
    "duration": 450,
    "start_time": "2023-07-13T04:45:27.131Z"
   },
   {
    "duration": 6,
    "start_time": "2023-07-13T04:45:27.584Z"
   },
   {
    "duration": 203,
    "start_time": "2023-07-13T04:45:27.592Z"
   },
   {
    "duration": 276,
    "start_time": "2023-07-13T04:45:27.797Z"
   },
   {
    "duration": 1173,
    "start_time": "2023-07-13T04:45:28.076Z"
   },
   {
    "duration": 39,
    "start_time": "2023-07-13T04:45:29.254Z"
   },
   {
    "duration": 94,
    "start_time": "2023-07-13T04:45:29.296Z"
   },
   {
    "duration": 1333,
    "start_time": "2023-07-13T04:45:29.392Z"
   },
   {
    "duration": 108,
    "start_time": "2023-07-13T04:45:30.729Z"
   },
   {
    "duration": 16,
    "start_time": "2023-07-13T04:45:30.840Z"
   },
   {
    "duration": 78,
    "start_time": "2023-07-13T04:45:30.859Z"
   },
   {
    "duration": 62,
    "start_time": "2023-07-13T04:45:30.940Z"
   },
   {
    "duration": 11,
    "start_time": "2023-07-13T04:45:31.005Z"
   },
   {
    "duration": 91,
    "start_time": "2023-07-13T04:45:31.018Z"
   },
   {
    "duration": 45,
    "start_time": "2023-07-13T04:45:31.112Z"
   },
   {
    "duration": 86,
    "start_time": "2023-07-13T04:45:31.161Z"
   },
   {
    "duration": 49,
    "start_time": "2023-07-13T04:45:31.250Z"
   },
   {
    "duration": 5,
    "start_time": "2023-07-13T04:45:31.301Z"
   },
   {
    "duration": 1265,
    "start_time": "2023-07-13T04:45:31.309Z"
   },
   {
    "duration": 8,
    "start_time": "2023-07-13T04:45:32.577Z"
   },
   {
    "duration": 126,
    "start_time": "2023-07-13T04:45:32.587Z"
   },
   {
    "duration": 7,
    "start_time": "2023-07-13T04:45:32.716Z"
   },
   {
    "duration": 26,
    "start_time": "2023-07-13T04:45:32.726Z"
   },
   {
    "duration": 127,
    "start_time": "2023-07-13T04:45:32.758Z"
   },
   {
    "duration": 4,
    "start_time": "2023-07-13T04:45:32.887Z"
   },
   {
    "duration": 230,
    "start_time": "2023-07-13T04:45:32.893Z"
   },
   {
    "duration": 4,
    "start_time": "2023-07-13T04:45:33.126Z"
   },
   {
    "duration": 54,
    "start_time": "2023-07-13T04:45:33.132Z"
   },
   {
    "duration": 42,
    "start_time": "2023-07-13T04:45:33.188Z"
   },
   {
    "duration": 29,
    "start_time": "2023-07-13T04:45:33.233Z"
   },
   {
    "duration": 346,
    "start_time": "2023-07-13T04:45:33.264Z"
   },
   {
    "duration": 6742,
    "start_time": "2023-07-13T04:46:35.588Z"
   },
   {
    "duration": 8358,
    "start_time": "2023-07-13T04:47:42.424Z"
   },
   {
    "duration": 1081,
    "start_time": "2023-07-13T04:47:55.186Z"
   },
   {
    "duration": 35,
    "start_time": "2023-07-13T04:47:57.826Z"
   },
   {
    "duration": 217,
    "start_time": "2023-07-13T04:47:58.421Z"
   },
   {
    "duration": 68,
    "start_time": "2023-07-13T04:47:59.201Z"
   },
   {
    "duration": 5,
    "start_time": "2023-07-13T04:48:00.286Z"
   },
   {
    "duration": 1932,
    "start_time": "2023-07-13T04:48:00.902Z"
   },
   {
    "duration": 16,
    "start_time": "2023-07-13T04:48:02.836Z"
   },
   {
    "duration": 420,
    "start_time": "2023-07-13T04:48:02.854Z"
   },
   {
    "duration": 6,
    "start_time": "2023-07-13T04:48:04.087Z"
   },
   {
    "duration": 324,
    "start_time": "2023-07-13T04:48:05.305Z"
   },
   {
    "duration": 353,
    "start_time": "2023-07-13T04:48:06.074Z"
   },
   {
    "duration": 1075,
    "start_time": "2023-07-13T04:48:06.786Z"
   },
   {
    "duration": 53,
    "start_time": "2023-07-13T04:48:08.586Z"
   },
   {
    "duration": 91,
    "start_time": "2023-07-13T04:48:09.341Z"
   },
   {
    "duration": 1411,
    "start_time": "2023-07-13T04:48:09.914Z"
   },
   {
    "duration": 86,
    "start_time": "2023-07-13T04:48:11.328Z"
   },
   {
    "duration": 7,
    "start_time": "2023-07-13T04:48:11.417Z"
   },
   {
    "duration": 16,
    "start_time": "2023-07-13T04:48:11.957Z"
   },
   {
    "duration": 52,
    "start_time": "2023-07-13T04:48:12.684Z"
   },
   {
    "duration": 12,
    "start_time": "2023-07-13T04:48:13.251Z"
   },
   {
    "duration": 24,
    "start_time": "2023-07-13T04:48:14.421Z"
   },
   {
    "duration": 35,
    "start_time": "2023-07-13T04:48:15.082Z"
   },
   {
    "duration": 52,
    "start_time": "2023-07-13T04:48:16.293Z"
   },
   {
    "duration": 64,
    "start_time": "2023-07-13T04:48:17.317Z"
   },
   {
    "duration": 4,
    "start_time": "2023-07-13T04:48:17.848Z"
   },
   {
    "duration": 1283,
    "start_time": "2023-07-13T04:48:18.419Z"
   },
   {
    "duration": 6,
    "start_time": "2023-07-13T04:48:19.705Z"
   },
   {
    "duration": 78,
    "start_time": "2023-07-13T04:48:20.403Z"
   },
   {
    "duration": 4,
    "start_time": "2023-07-13T04:48:22.457Z"
   },
   {
    "duration": 19,
    "start_time": "2023-07-13T04:48:23.093Z"
   },
   {
    "duration": 109,
    "start_time": "2023-07-13T04:48:23.663Z"
   },
   {
    "duration": 7,
    "start_time": "2023-07-13T04:48:24.234Z"
   },
   {
    "duration": 255,
    "start_time": "2023-07-13T04:48:24.845Z"
   },
   {
    "duration": 7,
    "start_time": "2023-07-13T04:48:25.544Z"
   },
   {
    "duration": 3,
    "start_time": "2023-07-13T04:48:26.892Z"
   },
   {
    "duration": 5,
    "start_time": "2023-07-13T04:48:29.233Z"
   },
   {
    "duration": 4,
    "start_time": "2023-07-13T04:48:30.168Z"
   },
   {
    "duration": 333,
    "start_time": "2023-07-13T04:48:30.560Z"
   },
   {
    "duration": 245638,
    "start_time": "2023-07-13T04:48:31.503Z"
   },
   {
    "duration": 3,
    "start_time": "2023-07-13T04:53:02.530Z"
   },
   {
    "duration": 1728,
    "start_time": "2023-07-13T04:53:02.809Z"
   },
   {
    "duration": 4,
    "start_time": "2023-07-13T04:53:09.271Z"
   },
   {
    "duration": 114162,
    "start_time": "2023-07-13T04:53:10.044Z"
   },
   {
    "duration": 2,
    "start_time": "2023-07-13T04:55:06.739Z"
   },
   {
    "duration": 576,
    "start_time": "2023-07-13T04:55:07.937Z"
   },
   {
    "duration": 154,
    "start_time": "2023-07-13T04:55:13.285Z"
   },
   {
    "duration": 3,
    "start_time": "2023-07-13T04:55:14.128Z"
   },
   {
    "duration": 3,
    "start_time": "2023-07-13T04:55:15.082Z"
   },
   {
    "duration": 8317,
    "start_time": "2023-07-13T05:01:18.893Z"
   },
   {
    "duration": 980,
    "start_time": "2023-07-13T05:01:54.832Z"
   },
   {
    "duration": 20,
    "start_time": "2023-07-13T05:01:56.649Z"
   },
   {
    "duration": 125,
    "start_time": "2023-07-13T05:01:57.263Z"
   },
   {
    "duration": 59,
    "start_time": "2023-07-13T05:01:57.546Z"
   },
   {
    "duration": 4,
    "start_time": "2023-07-13T05:01:58.091Z"
   },
   {
    "duration": 1931,
    "start_time": "2023-07-13T05:01:58.428Z"
   },
   {
    "duration": 7,
    "start_time": "2023-07-13T05:02:00.361Z"
   },
   {
    "duration": 462,
    "start_time": "2023-07-13T05:02:00.370Z"
   },
   {
    "duration": 4,
    "start_time": "2023-07-13T05:02:00.835Z"
   },
   {
    "duration": 211,
    "start_time": "2023-07-13T05:02:00.841Z"
   },
   {
    "duration": 378,
    "start_time": "2023-07-13T05:02:01.054Z"
   },
   {
    "duration": 1123,
    "start_time": "2023-07-13T05:02:01.434Z"
   },
   {
    "duration": 33,
    "start_time": "2023-07-13T05:02:02.559Z"
   },
   {
    "duration": 83,
    "start_time": "2023-07-13T05:02:02.595Z"
   },
   {
    "duration": 1283,
    "start_time": "2023-07-13T05:02:02.681Z"
   },
   {
    "duration": 60,
    "start_time": "2023-07-13T05:02:03.967Z"
   },
   {
    "duration": 24,
    "start_time": "2023-07-13T05:02:04.029Z"
   },
   {
    "duration": 17,
    "start_time": "2023-07-13T05:02:04.055Z"
   },
   {
    "duration": 46,
    "start_time": "2023-07-13T05:02:04.074Z"
   },
   {
    "duration": 30,
    "start_time": "2023-07-13T05:02:04.123Z"
   },
   {
    "duration": 23,
    "start_time": "2023-07-13T05:02:04.154Z"
   },
   {
    "duration": 29,
    "start_time": "2023-07-13T05:02:04.179Z"
   },
   {
    "duration": 61,
    "start_time": "2023-07-13T05:02:04.210Z"
   },
   {
    "duration": 56,
    "start_time": "2023-07-13T05:02:04.273Z"
   },
   {
    "duration": 3,
    "start_time": "2023-07-13T05:02:04.393Z"
   },
   {
    "duration": 1127,
    "start_time": "2023-07-13T05:02:04.697Z"
   },
   {
    "duration": 4,
    "start_time": "2023-07-13T05:02:05.827Z"
   },
   {
    "duration": 64,
    "start_time": "2023-07-13T05:02:05.853Z"
   },
   {
    "duration": 5,
    "start_time": "2023-07-13T05:02:06.098Z"
   },
   {
    "duration": 20,
    "start_time": "2023-07-13T05:02:06.366Z"
   },
   {
    "duration": 80,
    "start_time": "2023-07-13T05:02:06.563Z"
   },
   {
    "duration": 3,
    "start_time": "2023-07-13T05:02:06.735Z"
   },
   {
    "duration": 155,
    "start_time": "2023-07-13T05:02:06.953Z"
   },
   {
    "duration": 4,
    "start_time": "2023-07-13T05:02:07.200Z"
   },
   {
    "duration": 3,
    "start_time": "2023-07-13T05:02:07.369Z"
   },
   {
    "duration": 3,
    "start_time": "2023-07-13T05:02:07.887Z"
   },
   {
    "duration": 3,
    "start_time": "2023-07-13T05:02:08.121Z"
   },
   {
    "duration": 404,
    "start_time": "2023-07-13T05:02:08.336Z"
   },
   {
    "duration": 247688,
    "start_time": "2023-07-13T05:02:08.742Z"
   },
   {
    "duration": 2,
    "start_time": "2023-07-13T05:06:16.433Z"
   },
   {
    "duration": 1725,
    "start_time": "2023-07-13T05:06:16.437Z"
   },
   {
    "duration": 5,
    "start_time": "2023-07-13T05:06:18.164Z"
   },
   {
    "duration": 109624,
    "start_time": "2023-07-13T05:06:18.171Z"
   },
   {
    "duration": 3,
    "start_time": "2023-07-13T05:08:07.797Z"
   },
   {
    "duration": 576,
    "start_time": "2023-07-13T05:08:07.802Z"
   },
   {
    "duration": 171,
    "start_time": "2023-07-13T05:09:36.951Z"
   },
   {
    "duration": 3,
    "start_time": "2023-07-13T05:09:37.714Z"
   },
   {
    "duration": 3,
    "start_time": "2023-07-13T05:09:38.996Z"
   },
   {
    "duration": 117386,
    "start_time": "2023-07-13T05:09:40.139Z"
   },
   {
    "duration": 11340,
    "start_time": "2023-07-13T18:42:36.571Z"
   },
   {
    "duration": 3618,
    "start_time": "2023-07-13T18:42:47.916Z"
   },
   {
    "duration": 14,
    "start_time": "2023-07-13T18:43:07.543Z"
   },
   {
    "duration": 51,
    "start_time": "2023-07-13T18:43:12.262Z"
   },
   {
    "duration": 8077,
    "start_time": "2023-07-13T18:44:49.821Z"
   },
   {
    "duration": 1002,
    "start_time": "2023-07-13T18:44:57.901Z"
   },
   {
    "duration": 36,
    "start_time": "2023-07-13T18:44:58.906Z"
   },
   {
    "duration": 217,
    "start_time": "2023-07-13T18:44:58.944Z"
   },
   {
    "duration": 58,
    "start_time": "2023-07-13T18:44:59.166Z"
   },
   {
    "duration": 4,
    "start_time": "2023-07-13T18:44:59.226Z"
   },
   {
    "duration": 2390,
    "start_time": "2023-07-13T18:44:59.232Z"
   },
   {
    "duration": 0,
    "start_time": "2023-07-13T18:45:01.627Z"
   },
   {
    "duration": 0,
    "start_time": "2023-07-13T18:45:01.629Z"
   },
   {
    "duration": 0,
    "start_time": "2023-07-13T18:45:01.630Z"
   },
   {
    "duration": 0,
    "start_time": "2023-07-13T18:45:01.631Z"
   },
   {
    "duration": 0,
    "start_time": "2023-07-13T18:45:01.632Z"
   },
   {
    "duration": 0,
    "start_time": "2023-07-13T18:45:01.634Z"
   },
   {
    "duration": 0,
    "start_time": "2023-07-13T18:45:01.635Z"
   },
   {
    "duration": 0,
    "start_time": "2023-07-13T18:45:01.636Z"
   },
   {
    "duration": 0,
    "start_time": "2023-07-13T18:45:01.637Z"
   },
   {
    "duration": 1,
    "start_time": "2023-07-13T18:45:01.637Z"
   },
   {
    "duration": 0,
    "start_time": "2023-07-13T18:45:01.639Z"
   },
   {
    "duration": 0,
    "start_time": "2023-07-13T18:45:01.640Z"
   },
   {
    "duration": 0,
    "start_time": "2023-07-13T18:45:01.641Z"
   },
   {
    "duration": 0,
    "start_time": "2023-07-13T18:45:01.643Z"
   },
   {
    "duration": 0,
    "start_time": "2023-07-13T18:45:01.645Z"
   },
   {
    "duration": 0,
    "start_time": "2023-07-13T18:45:01.646Z"
   },
   {
    "duration": 0,
    "start_time": "2023-07-13T18:45:01.647Z"
   },
   {
    "duration": 0,
    "start_time": "2023-07-13T18:45:01.648Z"
   },
   {
    "duration": 0,
    "start_time": "2023-07-13T18:45:01.649Z"
   },
   {
    "duration": 0,
    "start_time": "2023-07-13T18:45:01.650Z"
   },
   {
    "duration": 0,
    "start_time": "2023-07-13T18:45:01.651Z"
   },
   {
    "duration": 0,
    "start_time": "2023-07-13T18:45:01.653Z"
   },
   {
    "duration": 0,
    "start_time": "2023-07-13T18:45:01.654Z"
   },
   {
    "duration": 0,
    "start_time": "2023-07-13T18:45:01.655Z"
   },
   {
    "duration": 0,
    "start_time": "2023-07-13T18:45:01.656Z"
   },
   {
    "duration": 0,
    "start_time": "2023-07-13T18:45:01.658Z"
   },
   {
    "duration": 0,
    "start_time": "2023-07-13T18:45:01.659Z"
   },
   {
    "duration": 0,
    "start_time": "2023-07-13T18:45:01.660Z"
   },
   {
    "duration": 0,
    "start_time": "2023-07-13T18:45:01.661Z"
   },
   {
    "duration": 0,
    "start_time": "2023-07-13T18:45:01.662Z"
   },
   {
    "duration": 0,
    "start_time": "2023-07-13T18:45:01.663Z"
   },
   {
    "duration": 0,
    "start_time": "2023-07-13T18:45:01.665Z"
   },
   {
    "duration": 0,
    "start_time": "2023-07-13T18:45:01.666Z"
   },
   {
    "duration": 0,
    "start_time": "2023-07-13T18:45:01.668Z"
   },
   {
    "duration": 0,
    "start_time": "2023-07-13T18:45:01.669Z"
   },
   {
    "duration": 0,
    "start_time": "2023-07-13T18:45:01.674Z"
   },
   {
    "duration": 0,
    "start_time": "2023-07-13T18:45:01.676Z"
   },
   {
    "duration": 0,
    "start_time": "2023-07-13T18:45:01.678Z"
   },
   {
    "duration": 0,
    "start_time": "2023-07-13T18:45:01.679Z"
   },
   {
    "duration": 0,
    "start_time": "2023-07-13T18:45:01.681Z"
   },
   {
    "duration": 0,
    "start_time": "2023-07-13T18:45:01.683Z"
   },
   {
    "duration": 0,
    "start_time": "2023-07-13T18:45:01.685Z"
   },
   {
    "duration": 0,
    "start_time": "2023-07-13T18:45:01.687Z"
   },
   {
    "duration": 0,
    "start_time": "2023-07-13T18:45:01.689Z"
   },
   {
    "duration": 0,
    "start_time": "2023-07-13T18:45:01.691Z"
   },
   {
    "duration": 0,
    "start_time": "2023-07-13T18:45:01.692Z"
   },
   {
    "duration": 0,
    "start_time": "2023-07-13T18:45:01.693Z"
   },
   {
    "duration": 0,
    "start_time": "2023-07-13T18:45:01.755Z"
   },
   {
    "duration": 0,
    "start_time": "2023-07-13T18:45:01.758Z"
   },
   {
    "duration": 0,
    "start_time": "2023-07-13T18:45:01.760Z"
   },
   {
    "duration": 0,
    "start_time": "2023-07-13T18:45:01.762Z"
   },
   {
    "duration": 0,
    "start_time": "2023-07-13T18:45:01.764Z"
   },
   {
    "duration": 0,
    "start_time": "2023-07-13T18:45:01.765Z"
   },
   {
    "duration": 0,
    "start_time": "2023-07-13T18:45:01.767Z"
   },
   {
    "duration": 0,
    "start_time": "2023-07-13T18:45:01.771Z"
   },
   {
    "duration": 0,
    "start_time": "2023-07-13T18:45:01.776Z"
   },
   {
    "duration": 1,
    "start_time": "2023-07-13T18:45:01.777Z"
   },
   {
    "duration": 0,
    "start_time": "2023-07-13T18:45:01.780Z"
   },
   {
    "duration": 0,
    "start_time": "2023-07-13T18:45:01.781Z"
   },
   {
    "duration": 0,
    "start_time": "2023-07-13T18:45:01.782Z"
   },
   {
    "duration": 0,
    "start_time": "2023-07-13T18:45:01.784Z"
   },
   {
    "duration": 0,
    "start_time": "2023-07-13T18:45:01.785Z"
   },
   {
    "duration": 0,
    "start_time": "2023-07-13T18:45:01.786Z"
   },
   {
    "duration": 0,
    "start_time": "2023-07-13T18:45:01.788Z"
   },
   {
    "duration": 0,
    "start_time": "2023-07-13T18:45:01.789Z"
   },
   {
    "duration": 0,
    "start_time": "2023-07-13T18:45:01.791Z"
   },
   {
    "duration": 0,
    "start_time": "2023-07-13T18:45:01.792Z"
   },
   {
    "duration": 0,
    "start_time": "2023-07-13T18:45:01.797Z"
   },
   {
    "duration": 10331,
    "start_time": "2023-07-13T21:44:31.927Z"
   },
   {
    "duration": 1207,
    "start_time": "2023-07-13T21:44:44.365Z"
   },
   {
    "duration": 18,
    "start_time": "2023-07-13T21:44:48.574Z"
   },
   {
    "duration": 136,
    "start_time": "2023-07-13T21:44:50.451Z"
   },
   {
    "duration": 50,
    "start_time": "2023-07-13T21:44:52.912Z"
   },
   {
    "duration": 4,
    "start_time": "2023-07-13T21:44:53.986Z"
   },
   {
    "duration": 2171,
    "start_time": "2023-07-13T21:44:54.679Z"
   },
   {
    "duration": 2431,
    "start_time": "2023-07-13T21:46:17.340Z"
   },
   {
    "duration": 24,
    "start_time": "2023-07-13T21:46:35.277Z"
   },
   {
    "duration": 1699,
    "start_time": "2023-07-13T21:46:38.004Z"
   },
   {
    "duration": 6,
    "start_time": "2023-07-13T21:46:41.791Z"
   },
   {
    "duration": 399,
    "start_time": "2023-07-13T21:46:42.884Z"
   },
   {
    "duration": 6,
    "start_time": "2023-07-13T21:46:47.336Z"
   },
   {
    "duration": 237,
    "start_time": "2023-07-13T21:46:49.028Z"
   },
   {
    "duration": 263,
    "start_time": "2023-07-13T21:46:50.107Z"
   },
   {
    "duration": 1002,
    "start_time": "2023-07-13T21:46:52.074Z"
   },
   {
    "duration": 25,
    "start_time": "2023-07-13T21:46:55.158Z"
   },
   {
    "duration": 62,
    "start_time": "2023-07-13T21:46:56.283Z"
   },
   {
    "duration": 1263,
    "start_time": "2023-07-13T21:46:58.348Z"
   },
   {
    "duration": 55,
    "start_time": "2023-07-13T21:46:59.737Z"
   },
   {
    "duration": 6,
    "start_time": "2023-07-13T21:47:00.888Z"
   },
   {
    "duration": 11,
    "start_time": "2023-07-13T21:47:01.591Z"
   },
   {
    "duration": 50,
    "start_time": "2023-07-13T21:47:03.640Z"
   },
   {
    "duration": 9,
    "start_time": "2023-07-13T21:47:04.805Z"
   },
   {
    "duration": 18,
    "start_time": "2023-07-13T21:47:08.299Z"
   },
   {
    "duration": 10,
    "start_time": "2023-07-13T21:47:11.051Z"
   },
   {
    "duration": 19,
    "start_time": "2023-07-13T21:47:19.698Z"
   },
   {
    "duration": 24,
    "start_time": "2023-07-13T21:47:37.369Z"
   },
   {
    "duration": 27,
    "start_time": "2023-07-13T21:47:42.255Z"
   },
   {
    "duration": 40,
    "start_time": "2023-07-13T21:47:56.306Z"
   },
   {
    "duration": 2,
    "start_time": "2023-07-13T21:48:02.604Z"
   },
   {
    "duration": 1130,
    "start_time": "2023-07-13T21:48:03.157Z"
   },
   {
    "duration": 6,
    "start_time": "2023-07-13T21:48:07.632Z"
   },
   {
    "duration": 4,
    "start_time": "2023-07-13T21:48:18.078Z"
   },
   {
    "duration": 5,
    "start_time": "2023-07-13T21:48:23.139Z"
   },
   {
    "duration": 56,
    "start_time": "2023-07-13T21:48:35.306Z"
   },
   {
    "duration": 3,
    "start_time": "2023-07-13T21:48:39.469Z"
   },
   {
    "duration": 11,
    "start_time": "2023-07-13T21:48:39.917Z"
   },
   {
    "duration": 51,
    "start_time": "2023-07-13T21:48:40.519Z"
   },
   {
    "duration": 4,
    "start_time": "2023-07-13T21:48:48.639Z"
   },
   {
    "duration": 125,
    "start_time": "2023-07-13T21:48:49.419Z"
   },
   {
    "duration": 5,
    "start_time": "2023-07-13T21:48:51.724Z"
   },
   {
    "duration": 3,
    "start_time": "2023-07-13T21:48:53.499Z"
   },
   {
    "duration": 4,
    "start_time": "2023-07-13T21:48:57.820Z"
   },
   {
    "duration": 4,
    "start_time": "2023-07-13T21:48:58.741Z"
   },
   {
    "duration": 260,
    "start_time": "2023-07-13T21:48:59.618Z"
   },
   {
    "duration": 207936,
    "start_time": "2023-07-13T21:49:03.928Z"
   },
   {
    "duration": 6572,
    "start_time": "2023-07-13T21:52:31.866Z"
   },
   {
    "duration": 4,
    "start_time": "2023-07-13T21:54:22.978Z"
   },
   {
    "duration": 3,
    "start_time": "2023-07-13T21:54:44.357Z"
   },
   {
    "duration": 378923,
    "start_time": "2023-07-13T21:54:45.881Z"
   },
   {
    "duration": 3,
    "start_time": "2023-07-13T22:01:06.966Z"
   },
   {
    "duration": 3,
    "start_time": "2023-07-13T22:01:07.693Z"
   },
   {
    "duration": 247,
    "start_time": "2023-07-13T22:01:08.369Z"
   },
   {
    "duration": 2,
    "start_time": "2023-07-13T22:01:10.671Z"
   },
   {
    "duration": 3,
    "start_time": "2023-07-13T22:01:12.137Z"
   },
   {
    "duration": 218,
    "start_time": "2023-07-13T22:01:13.118Z"
   },
   {
    "duration": 111,
    "start_time": "2023-07-13T22:01:37.139Z"
   },
   {
    "duration": 155,
    "start_time": "2023-07-13T22:02:17.121Z"
   },
   {
    "duration": 3,
    "start_time": "2023-07-13T22:04:56.978Z"
   },
   {
    "duration": 293,
    "start_time": "2023-07-13T22:05:00.666Z"
   },
   {
    "duration": 3,
    "start_time": "2023-07-13T22:05:02.040Z"
   },
   {
    "duration": 4,
    "start_time": "2023-07-13T22:05:02.380Z"
   },
   {
    "duration": 124580,
    "start_time": "2023-07-13T22:05:04.528Z"
   },
   {
    "duration": 3,
    "start_time": "2023-07-13T22:07:34.729Z"
   },
   {
    "duration": 8598,
    "start_time": "2023-07-13T22:10:01.343Z"
   },
   {
    "duration": 219199,
    "start_time": "2023-07-13T22:10:43.265Z"
   },
   {
    "duration": 3,
    "start_time": "2023-07-13T22:14:22.466Z"
   },
   {
    "duration": 8288,
    "start_time": "2023-07-13T22:14:22.470Z"
   },
   {
    "duration": 3753,
    "start_time": "2023-07-13T22:14:55.527Z"
   },
   {
    "duration": 892145,
    "start_time": "2023-07-13T22:17:08.365Z"
   },
   {
    "duration": 10133,
    "start_time": "2023-07-13T23:32:08.684Z"
   },
   {
    "duration": 0,
    "start_time": "2023-07-13T23:32:18.819Z"
   },
   {
    "duration": 1,
    "start_time": "2023-07-13T23:32:18.820Z"
   },
   {
    "duration": 0,
    "start_time": "2023-07-13T23:32:18.821Z"
   },
   {
    "duration": 0,
    "start_time": "2023-07-13T23:32:18.822Z"
   },
   {
    "duration": 0,
    "start_time": "2023-07-13T23:32:18.824Z"
   },
   {
    "duration": 0,
    "start_time": "2023-07-13T23:32:18.824Z"
   },
   {
    "duration": 0,
    "start_time": "2023-07-13T23:32:18.825Z"
   },
   {
    "duration": 0,
    "start_time": "2023-07-13T23:32:18.826Z"
   },
   {
    "duration": 0,
    "start_time": "2023-07-13T23:32:18.827Z"
   },
   {
    "duration": 0,
    "start_time": "2023-07-13T23:32:18.828Z"
   },
   {
    "duration": 0,
    "start_time": "2023-07-13T23:32:18.829Z"
   },
   {
    "duration": 0,
    "start_time": "2023-07-13T23:32:18.829Z"
   },
   {
    "duration": 0,
    "start_time": "2023-07-13T23:32:18.830Z"
   },
   {
    "duration": 0,
    "start_time": "2023-07-13T23:32:18.831Z"
   },
   {
    "duration": 0,
    "start_time": "2023-07-13T23:32:18.832Z"
   },
   {
    "duration": 0,
    "start_time": "2023-07-13T23:32:18.833Z"
   },
   {
    "duration": 0,
    "start_time": "2023-07-13T23:32:18.834Z"
   },
   {
    "duration": 0,
    "start_time": "2023-07-13T23:32:18.835Z"
   },
   {
    "duration": 0,
    "start_time": "2023-07-13T23:32:18.835Z"
   },
   {
    "duration": 0,
    "start_time": "2023-07-13T23:32:18.836Z"
   },
   {
    "duration": 0,
    "start_time": "2023-07-13T23:32:18.837Z"
   },
   {
    "duration": 0,
    "start_time": "2023-07-13T23:32:18.838Z"
   },
   {
    "duration": 0,
    "start_time": "2023-07-13T23:32:18.839Z"
   },
   {
    "duration": 0,
    "start_time": "2023-07-13T23:32:18.840Z"
   },
   {
    "duration": 0,
    "start_time": "2023-07-13T23:32:18.841Z"
   },
   {
    "duration": 0,
    "start_time": "2023-07-13T23:32:18.842Z"
   },
   {
    "duration": 0,
    "start_time": "2023-07-13T23:32:18.843Z"
   },
   {
    "duration": 0,
    "start_time": "2023-07-13T23:32:18.844Z"
   },
   {
    "duration": 0,
    "start_time": "2023-07-13T23:32:18.845Z"
   },
   {
    "duration": 0,
    "start_time": "2023-07-13T23:32:18.846Z"
   },
   {
    "duration": 0,
    "start_time": "2023-07-13T23:32:18.847Z"
   },
   {
    "duration": 0,
    "start_time": "2023-07-13T23:32:18.848Z"
   },
   {
    "duration": 6520,
    "start_time": "2023-07-13T23:32:21.015Z"
   },
   {
    "duration": 738,
    "start_time": "2023-07-13T23:32:27.537Z"
   },
   {
    "duration": 13,
    "start_time": "2023-07-13T23:32:28.276Z"
   },
   {
    "duration": 131,
    "start_time": "2023-07-13T23:32:28.291Z"
   },
   {
    "duration": 49,
    "start_time": "2023-07-13T23:32:28.423Z"
   },
   {
    "duration": 3,
    "start_time": "2023-07-13T23:32:28.474Z"
   },
   {
    "duration": 34,
    "start_time": "2023-07-13T23:32:28.478Z"
   },
   {
    "duration": 1763,
    "start_time": "2023-07-13T23:32:28.514Z"
   },
   {
    "duration": 6,
    "start_time": "2023-07-13T23:32:30.278Z"
   },
   {
    "duration": 367,
    "start_time": "2023-07-13T23:32:30.287Z"
   },
   {
    "duration": 3,
    "start_time": "2023-07-13T23:32:30.656Z"
   },
   {
    "duration": 262,
    "start_time": "2023-07-13T23:32:30.661Z"
   },
   {
    "duration": 259,
    "start_time": "2023-07-13T23:32:30.925Z"
   },
   {
    "duration": 905,
    "start_time": "2023-07-13T23:32:31.185Z"
   },
   {
    "duration": 32,
    "start_time": "2023-07-13T23:32:32.092Z"
   },
   {
    "duration": 54,
    "start_time": "2023-07-13T23:32:32.132Z"
   },
   {
    "duration": 1114,
    "start_time": "2023-07-13T23:32:32.188Z"
   },
   {
    "duration": 69,
    "start_time": "2023-07-13T23:32:33.304Z"
   },
   {
    "duration": 7,
    "start_time": "2023-07-13T23:32:33.375Z"
   },
   {
    "duration": 14,
    "start_time": "2023-07-13T23:32:33.384Z"
   },
   {
    "duration": 56,
    "start_time": "2023-07-13T23:32:33.400Z"
   },
   {
    "duration": 7,
    "start_time": "2023-07-13T23:32:33.458Z"
   },
   {
    "duration": 30,
    "start_time": "2023-07-13T23:32:33.466Z"
   },
   {
    "duration": 20,
    "start_time": "2023-07-13T23:32:33.497Z"
   },
   {
    "duration": 39,
    "start_time": "2023-07-13T23:32:33.519Z"
   },
   {
    "duration": 40,
    "start_time": "2023-07-13T23:32:33.560Z"
   },
   {
    "duration": 2,
    "start_time": "2023-07-13T23:32:33.602Z"
   },
   {
    "duration": 991,
    "start_time": "2023-07-13T23:32:33.607Z"
   },
   {
    "duration": 5,
    "start_time": "2023-07-13T23:32:34.600Z"
   },
   {
    "duration": 74,
    "start_time": "2023-07-13T23:32:34.607Z"
   },
   {
    "duration": 4,
    "start_time": "2023-07-13T23:32:34.683Z"
   },
   {
    "duration": 29,
    "start_time": "2023-07-13T23:32:34.688Z"
   },
   {
    "duration": 71,
    "start_time": "2023-07-13T23:32:34.719Z"
   },
   {
    "duration": 2,
    "start_time": "2023-07-13T23:32:34.792Z"
   },
   {
    "duration": 143,
    "start_time": "2023-07-13T23:32:34.796Z"
   },
   {
    "duration": 3,
    "start_time": "2023-07-13T23:32:34.941Z"
   },
   {
    "duration": 24,
    "start_time": "2023-07-13T23:32:34.946Z"
   },
   {
    "duration": 13,
    "start_time": "2023-07-13T23:32:34.972Z"
   },
   {
    "duration": 3,
    "start_time": "2023-07-13T23:32:54.523Z"
   },
   {
    "duration": 3,
    "start_time": "2023-07-13T23:32:56.529Z"
   },
   {
    "duration": 10521,
    "start_time": "2023-07-13T23:33:00.877Z"
   },
   {
    "duration": 26068,
    "start_time": "2023-07-13T23:33:12.768Z"
   },
   {
    "duration": 4,
    "start_time": "2023-07-13T23:33:41.219Z"
   },
   {
    "duration": 3,
    "start_time": "2023-07-13T23:33:42.073Z"
   },
   {
    "duration": 8307,
    "start_time": "2023-07-13T23:34:18.911Z"
   },
   {
    "duration": 849,
    "start_time": "2023-07-13T23:34:27.220Z"
   },
   {
    "duration": 16,
    "start_time": "2023-07-13T23:34:28.071Z"
   },
   {
    "duration": 154,
    "start_time": "2023-07-13T23:34:28.089Z"
   },
   {
    "duration": 50,
    "start_time": "2023-07-13T23:34:28.245Z"
   },
   {
    "duration": 3,
    "start_time": "2023-07-13T23:34:28.297Z"
   },
   {
    "duration": 43,
    "start_time": "2023-07-13T23:34:28.302Z"
   },
   {
    "duration": 1757,
    "start_time": "2023-07-13T23:34:28.347Z"
   },
   {
    "duration": 6,
    "start_time": "2023-07-13T23:34:30.105Z"
   },
   {
    "duration": 370,
    "start_time": "2023-07-13T23:34:30.113Z"
   },
   {
    "duration": 5,
    "start_time": "2023-07-13T23:34:30.484Z"
   },
   {
    "duration": 223,
    "start_time": "2023-07-13T23:34:30.491Z"
   },
   {
    "duration": 268,
    "start_time": "2023-07-13T23:34:30.715Z"
   },
   {
    "duration": 937,
    "start_time": "2023-07-13T23:34:30.986Z"
   },
   {
    "duration": 34,
    "start_time": "2023-07-13T23:34:31.932Z"
   },
   {
    "duration": 66,
    "start_time": "2023-07-13T23:34:31.968Z"
   },
   {
    "duration": 1152,
    "start_time": "2023-07-13T23:34:32.036Z"
   },
   {
    "duration": 56,
    "start_time": "2023-07-13T23:34:33.189Z"
   },
   {
    "duration": 6,
    "start_time": "2023-07-13T23:34:33.246Z"
   },
   {
    "duration": 19,
    "start_time": "2023-07-13T23:34:33.253Z"
   },
   {
    "duration": 46,
    "start_time": "2023-07-13T23:34:33.274Z"
   },
   {
    "duration": 14,
    "start_time": "2023-07-13T23:34:33.322Z"
   },
   {
    "duration": 20,
    "start_time": "2023-07-13T23:34:33.338Z"
   },
   {
    "duration": 22,
    "start_time": "2023-07-13T23:34:33.360Z"
   },
   {
    "duration": 49,
    "start_time": "2023-07-13T23:34:33.384Z"
   },
   {
    "duration": 44,
    "start_time": "2023-07-13T23:34:33.434Z"
   },
   {
    "duration": 3,
    "start_time": "2023-07-13T23:34:33.479Z"
   },
   {
    "duration": 1049,
    "start_time": "2023-07-13T23:34:33.484Z"
   },
   {
    "duration": 4,
    "start_time": "2023-07-13T23:34:34.534Z"
   },
   {
    "duration": 53,
    "start_time": "2023-07-13T23:34:34.539Z"
   },
   {
    "duration": 3,
    "start_time": "2023-07-13T23:34:34.593Z"
   },
   {
    "duration": 34,
    "start_time": "2023-07-13T23:34:34.598Z"
   },
   {
    "duration": 65,
    "start_time": "2023-07-13T23:34:34.634Z"
   },
   {
    "duration": 4,
    "start_time": "2023-07-13T23:34:34.701Z"
   },
   {
    "duration": 151,
    "start_time": "2023-07-13T23:34:34.706Z"
   },
   {
    "duration": 4,
    "start_time": "2023-07-13T23:34:34.859Z"
   },
   {
    "duration": 9,
    "start_time": "2023-07-13T23:34:34.865Z"
   },
   {
    "duration": 6,
    "start_time": "2023-07-13T23:34:34.875Z"
   },
   {
    "duration": 260,
    "start_time": "2023-07-13T23:34:34.882Z"
   },
   {
    "duration": 4,
    "start_time": "2023-07-13T23:34:35.144Z"
   },
   {
    "duration": 12,
    "start_time": "2023-07-13T23:34:35.151Z"
   },
   {
    "duration": 9107,
    "start_time": "2023-07-13T23:35:25.583Z"
   },
   {
    "duration": 821,
    "start_time": "2023-07-13T23:35:34.693Z"
   },
   {
    "duration": 25,
    "start_time": "2023-07-13T23:35:35.516Z"
   },
   {
    "duration": 147,
    "start_time": "2023-07-13T23:35:35.543Z"
   },
   {
    "duration": 57,
    "start_time": "2023-07-13T23:35:35.691Z"
   },
   {
    "duration": 3,
    "start_time": "2023-07-13T23:35:35.750Z"
   },
   {
    "duration": 40,
    "start_time": "2023-07-13T23:35:35.755Z"
   },
   {
    "duration": 1739,
    "start_time": "2023-07-13T23:35:35.797Z"
   },
   {
    "duration": 5,
    "start_time": "2023-07-13T23:35:37.538Z"
   },
   {
    "duration": 354,
    "start_time": "2023-07-13T23:35:37.546Z"
   },
   {
    "duration": 3,
    "start_time": "2023-07-13T23:35:37.902Z"
   },
   {
    "duration": 189,
    "start_time": "2023-07-13T23:35:37.907Z"
   },
   {
    "duration": 250,
    "start_time": "2023-07-13T23:35:38.097Z"
   },
   {
    "duration": 984,
    "start_time": "2023-07-13T23:35:38.348Z"
   },
   {
    "duration": 38,
    "start_time": "2023-07-13T23:35:39.334Z"
   },
   {
    "duration": 70,
    "start_time": "2023-07-13T23:35:39.373Z"
   },
   {
    "duration": 1207,
    "start_time": "2023-07-13T23:35:39.445Z"
   },
   {
    "duration": 48,
    "start_time": "2023-07-13T23:35:40.653Z"
   },
   {
    "duration": 6,
    "start_time": "2023-07-13T23:35:40.703Z"
   },
   {
    "duration": 30,
    "start_time": "2023-07-13T23:35:40.710Z"
   },
   {
    "duration": 44,
    "start_time": "2023-07-13T23:35:40.741Z"
   },
   {
    "duration": 7,
    "start_time": "2023-07-13T23:35:40.787Z"
   },
   {
    "duration": 38,
    "start_time": "2023-07-13T23:35:40.795Z"
   },
   {
    "duration": 18,
    "start_time": "2023-07-13T23:35:40.834Z"
   },
   {
    "duration": 27,
    "start_time": "2023-07-13T23:35:40.853Z"
   },
   {
    "duration": 62,
    "start_time": "2023-07-13T23:35:40.882Z"
   },
   {
    "duration": 3,
    "start_time": "2023-07-13T23:35:40.946Z"
   },
   {
    "duration": 1020,
    "start_time": "2023-07-13T23:35:40.952Z"
   },
   {
    "duration": 4,
    "start_time": "2023-07-13T23:35:41.974Z"
   },
   {
    "duration": 59,
    "start_time": "2023-07-13T23:35:41.980Z"
   },
   {
    "duration": 2,
    "start_time": "2023-07-13T23:35:42.041Z"
   },
   {
    "duration": 21,
    "start_time": "2023-07-13T23:35:42.045Z"
   },
   {
    "duration": 73,
    "start_time": "2023-07-13T23:35:42.067Z"
   },
   {
    "duration": 3,
    "start_time": "2023-07-13T23:35:42.142Z"
   },
   {
    "duration": 138,
    "start_time": "2023-07-13T23:35:42.147Z"
   },
   {
    "duration": 4,
    "start_time": "2023-07-13T23:35:42.286Z"
   },
   {
    "duration": 5,
    "start_time": "2023-07-13T23:35:42.292Z"
   },
   {
    "duration": 9,
    "start_time": "2023-07-13T23:35:42.298Z"
   },
   {
    "duration": 257,
    "start_time": "2023-07-13T23:35:42.309Z"
   },
   {
    "duration": 4,
    "start_time": "2023-07-13T23:35:42.568Z"
   },
   {
    "duration": 8,
    "start_time": "2023-07-13T23:35:42.574Z"
   },
   {
    "duration": 292598,
    "start_time": "2023-07-13T23:35:56.424Z"
   },
   {
    "duration": 3,
    "start_time": "2023-07-13T23:44:42.322Z"
   },
   {
    "duration": 112,
    "start_time": "2023-07-13T23:44:43.761Z"
   },
   {
    "duration": 4,
    "start_time": "2023-07-13T23:45:03.716Z"
   },
   {
    "duration": 12,
    "start_time": "2023-07-13T23:45:04.616Z"
   },
   {
    "duration": 3,
    "start_time": "2023-07-13T23:45:10.352Z"
   },
   {
    "duration": 5,
    "start_time": "2023-07-13T23:45:11.060Z"
   },
   {
    "duration": 3,
    "start_time": "2023-07-13T23:45:14.398Z"
   },
   {
    "duration": 2,
    "start_time": "2023-07-13T23:45:15.210Z"
   },
   {
    "duration": 7,
    "start_time": "2023-07-13T23:45:18.232Z"
   },
   {
    "duration": 148,
    "start_time": "2023-07-13T23:45:25.264Z"
   },
   {
    "duration": 4,
    "start_time": "2023-07-13T23:45:27.078Z"
   },
   {
    "duration": 8735,
    "start_time": "2023-07-13T23:47:35.493Z"
   },
   {
    "duration": 305,
    "start_time": "2023-07-13T23:48:03.962Z"
   },
   {
    "duration": 226,
    "start_time": "2023-07-13T23:49:20.192Z"
   },
   {
    "duration": 510,
    "start_time": "2023-07-13T23:51:37.086Z"
   },
   {
    "duration": 192,
    "start_time": "2023-07-13T23:52:10.514Z"
   },
   {
    "duration": 124034,
    "start_time": "2023-07-13T23:52:20.771Z"
   },
   {
    "duration": 331,
    "start_time": "2023-07-13T23:54:26.063Z"
   },
   {
    "duration": 232,
    "start_time": "2023-07-13T23:54:31.619Z"
   },
   {
    "duration": 613,
    "start_time": "2023-07-13T23:54:37.360Z"
   },
   {
    "duration": 217,
    "start_time": "2023-07-13T23:55:03.484Z"
   },
   {
    "duration": 10,
    "start_time": "2023-07-13T23:55:44.328Z"
   },
   {
    "duration": 3,
    "start_time": "2023-07-13T23:55:45.049Z"
   },
   {
    "duration": 469324,
    "start_time": "2023-07-13T23:55:45.764Z"
   },
   {
    "duration": 4,
    "start_time": "2023-07-14T00:03:35.090Z"
   },
   {
    "duration": 8,
    "start_time": "2023-07-14T00:04:19.233Z"
   },
   {
    "duration": 4,
    "start_time": "2023-07-14T00:04:21.892Z"
   },
   {
    "duration": 271,
    "start_time": "2023-07-14T00:05:41.181Z"
   },
   {
    "duration": 4,
    "start_time": "2023-07-14T00:05:55.757Z"
   },
   {
    "duration": 3,
    "start_time": "2023-07-14T00:05:56.402Z"
   },
   {
    "duration": 444776,
    "start_time": "2023-07-14T00:05:57.023Z"
   },
   {
    "duration": 3,
    "start_time": "2023-07-14T00:13:21.802Z"
   },
   {
    "duration": 14,
    "start_time": "2023-07-14T00:13:21.807Z"
   },
   {
    "duration": 3,
    "start_time": "2023-07-14T00:13:23.318Z"
   },
   {
    "duration": 2,
    "start_time": "2023-07-14T00:13:23.993Z"
   },
   {
    "duration": 196715,
    "start_time": "2023-07-14T00:13:32.051Z"
   },
   {
    "duration": 3,
    "start_time": "2023-07-14T00:16:50.650Z"
   },
   {
    "duration": 125,
    "start_time": "2023-07-14T00:16:51.976Z"
   },
   {
    "duration": 5,
    "start_time": "2023-07-14T00:17:31.490Z"
   },
   {
    "duration": 4,
    "start_time": "2023-07-14T00:17:32.084Z"
   },
   {
    "duration": 933,
    "start_time": "2023-07-14T00:17:32.571Z"
   },
   {
    "duration": 3,
    "start_time": "2023-07-14T00:17:50.301Z"
   },
   {
    "duration": 686100,
    "start_time": "2023-07-14T00:17:50.741Z"
   },
   {
    "duration": 3,
    "start_time": "2023-07-14T00:36:58.206Z"
   },
   {
    "duration": 3,
    "start_time": "2023-07-14T00:37:21.597Z"
   },
   {
    "duration": 3,
    "start_time": "2023-07-14T00:37:42.100Z"
   },
   {
    "duration": 3,
    "start_time": "2023-07-14T00:38:27.372Z"
   },
   {
    "duration": 3,
    "start_time": "2023-07-14T00:39:15.460Z"
   },
   {
    "duration": 5,
    "start_time": "2023-07-14T00:39:15.855Z"
   },
   {
    "duration": 20,
    "start_time": "2023-07-14T00:39:35.568Z"
   },
   {
    "duration": 10174,
    "start_time": "2023-07-14T00:39:56.206Z"
   },
   {
    "duration": 4,
    "start_time": "2023-07-14T00:41:10.015Z"
   },
   {
    "duration": 5,
    "start_time": "2023-07-14T00:41:10.388Z"
   },
   {
    "duration": 4,
    "start_time": "2023-07-14T00:41:10.952Z"
   },
   {
    "duration": 3685,
    "start_time": "2023-07-14T00:41:14.381Z"
   },
   {
    "duration": 96,
    "start_time": "2023-07-14T00:41:31.436Z"
   },
   {
    "duration": 10117,
    "start_time": "2023-07-14T00:41:57.032Z"
   },
   {
    "duration": 756,
    "start_time": "2023-07-14T00:42:07.152Z"
   },
   {
    "duration": 15,
    "start_time": "2023-07-14T00:42:07.909Z"
   },
   {
    "duration": 138,
    "start_time": "2023-07-14T00:42:07.932Z"
   },
   {
    "duration": 87,
    "start_time": "2023-07-14T00:42:08.073Z"
   },
   {
    "duration": 4,
    "start_time": "2023-07-14T00:42:08.162Z"
   },
   {
    "duration": 32,
    "start_time": "2023-07-14T00:42:08.167Z"
   },
   {
    "duration": 1647,
    "start_time": "2023-07-14T00:42:08.201Z"
   },
   {
    "duration": 6,
    "start_time": "2023-07-14T00:42:09.850Z"
   },
   {
    "duration": 459,
    "start_time": "2023-07-14T00:42:09.857Z"
   },
   {
    "duration": 4,
    "start_time": "2023-07-14T00:42:10.317Z"
   },
   {
    "duration": 191,
    "start_time": "2023-07-14T00:42:10.331Z"
   },
   {
    "duration": 232,
    "start_time": "2023-07-14T00:42:10.524Z"
   },
   {
    "duration": 799,
    "start_time": "2023-07-14T00:42:10.759Z"
   },
   {
    "duration": 25,
    "start_time": "2023-07-14T00:42:11.560Z"
   },
   {
    "duration": 68,
    "start_time": "2023-07-14T00:42:11.587Z"
   },
   {
    "duration": 1045,
    "start_time": "2023-07-14T00:42:11.656Z"
   },
   {
    "duration": 71,
    "start_time": "2023-07-14T00:42:12.703Z"
   },
   {
    "duration": 7,
    "start_time": "2023-07-14T00:42:12.776Z"
   },
   {
    "duration": 16,
    "start_time": "2023-07-14T00:42:12.784Z"
   },
   {
    "duration": 57,
    "start_time": "2023-07-14T00:42:12.801Z"
   },
   {
    "duration": 10,
    "start_time": "2023-07-14T00:42:12.860Z"
   },
   {
    "duration": 35,
    "start_time": "2023-07-14T00:42:12.871Z"
   },
   {
    "duration": 26,
    "start_time": "2023-07-14T00:42:12.907Z"
   },
   {
    "duration": 28,
    "start_time": "2023-07-14T00:42:12.934Z"
   },
   {
    "duration": 42,
    "start_time": "2023-07-14T00:42:12.964Z"
   },
   {
    "duration": 3,
    "start_time": "2023-07-14T00:42:13.007Z"
   },
   {
    "duration": 954,
    "start_time": "2023-07-14T00:42:13.032Z"
   },
   {
    "duration": 4,
    "start_time": "2023-07-14T00:42:13.987Z"
   },
   {
    "duration": 75,
    "start_time": "2023-07-14T00:42:13.993Z"
   },
   {
    "duration": 73,
    "start_time": "2023-07-14T00:42:14.070Z"
   },
   {
    "duration": 188,
    "start_time": "2023-07-14T00:42:14.144Z"
   },
   {
    "duration": 118,
    "start_time": "2023-07-14T00:42:14.334Z"
   },
   {
    "duration": 2,
    "start_time": "2023-07-14T00:42:14.454Z"
   },
   {
    "duration": 203,
    "start_time": "2023-07-14T00:42:14.458Z"
   },
   {
    "duration": 6,
    "start_time": "2023-07-14T00:42:14.663Z"
   },
   {
    "duration": 67,
    "start_time": "2023-07-14T00:42:14.671Z"
   },
   {
    "duration": 17,
    "start_time": "2023-07-14T00:42:14.740Z"
   },
   {
    "duration": 283,
    "start_time": "2023-07-14T00:42:14.759Z"
   },
   {
    "duration": 3,
    "start_time": "2023-07-14T00:42:15.044Z"
   },
   {
    "duration": 51,
    "start_time": "2023-07-14T00:42:15.052Z"
   },
   {
    "duration": 28,
    "start_time": "2023-07-14T00:42:15.105Z"
   },
   {
    "duration": 16,
    "start_time": "2023-07-14T00:42:15.135Z"
   },
   {
    "duration": 25,
    "start_time": "2023-07-14T00:42:15.153Z"
   },
   {
    "duration": 138,
    "start_time": "2023-07-14T00:42:15.180Z"
   },
   {
    "duration": 3,
    "start_time": "2023-07-14T00:42:15.320Z"
   },
   {
    "duration": 3,
    "start_time": "2023-07-14T00:42:15.332Z"
   },
   {
    "duration": 6,
    "start_time": "2023-07-14T00:42:15.336Z"
   },
   {
    "duration": 10,
    "start_time": "2023-07-14T00:42:15.344Z"
   },
   {
    "duration": 10,
    "start_time": "2023-07-14T00:42:15.356Z"
   },
   {
    "duration": 9,
    "start_time": "2023-07-14T00:42:15.367Z"
   },
   {
    "duration": 8,
    "start_time": "2023-07-14T00:42:15.377Z"
   },
   {
    "duration": 8,
    "start_time": "2023-07-14T00:42:15.386Z"
   },
   {
    "duration": 19,
    "start_time": "2023-07-14T00:42:15.396Z"
   },
   {
    "duration": 19,
    "start_time": "2023-07-14T00:42:15.417Z"
   },
   {
    "duration": 4054,
    "start_time": "2023-07-14T00:42:15.438Z"
   },
   {
    "duration": 0,
    "start_time": "2023-07-14T00:42:19.494Z"
   },
   {
    "duration": 0,
    "start_time": "2023-07-14T00:42:19.495Z"
   },
   {
    "duration": 0,
    "start_time": "2023-07-14T00:42:19.496Z"
   },
   {
    "duration": 0,
    "start_time": "2023-07-14T00:42:19.497Z"
   },
   {
    "duration": 0,
    "start_time": "2023-07-14T00:42:19.499Z"
   },
   {
    "duration": 0,
    "start_time": "2023-07-14T00:42:19.501Z"
   },
   {
    "duration": 0,
    "start_time": "2023-07-14T00:42:19.502Z"
   },
   {
    "duration": 0,
    "start_time": "2023-07-14T00:42:19.503Z"
   },
   {
    "duration": 0,
    "start_time": "2023-07-14T00:42:19.504Z"
   },
   {
    "duration": 0,
    "start_time": "2023-07-14T00:42:19.505Z"
   },
   {
    "duration": 0,
    "start_time": "2023-07-14T00:42:19.507Z"
   },
   {
    "duration": 0,
    "start_time": "2023-07-14T00:42:19.532Z"
   },
   {
    "duration": 0,
    "start_time": "2023-07-14T00:42:19.534Z"
   },
   {
    "duration": 0,
    "start_time": "2023-07-14T00:42:19.534Z"
   },
   {
    "duration": 20,
    "start_time": "2023-07-14T00:42:45.770Z"
   },
   {
    "duration": 4413,
    "start_time": "2023-07-14T00:43:02.579Z"
   },
   {
    "duration": 104,
    "start_time": "2023-07-14T00:43:19.647Z"
   },
   {
    "duration": 4,
    "start_time": "2023-07-14T00:44:31.829Z"
   },
   {
    "duration": 4,
    "start_time": "2023-07-14T00:44:32.598Z"
   },
   {
    "duration": 429,
    "start_time": "2023-07-14T00:44:33.620Z"
   },
   {
    "duration": 130,
    "start_time": "2023-07-14T00:44:35.157Z"
   },
   {
    "duration": 2109,
    "start_time": "2023-07-14T00:44:42.674Z"
   },
   {
    "duration": 4,
    "start_time": "2023-07-14T00:45:18.222Z"
   },
   {
    "duration": 428,
    "start_time": "2023-07-14T00:45:18.732Z"
   },
   {
    "duration": 137,
    "start_time": "2023-07-14T00:45:19.251Z"
   },
   {
    "duration": 694,
    "start_time": "2023-07-14T00:45:20.361Z"
   },
   {
    "duration": 191,
    "start_time": "2023-07-14T00:45:28.934Z"
   },
   {
    "duration": 3,
    "start_time": "2023-07-14T00:45:59.484Z"
   },
   {
    "duration": 4,
    "start_time": "2023-07-14T00:45:59.969Z"
   },
   {
    "duration": 4,
    "start_time": "2023-07-14T00:46:00.372Z"
   },
   {
    "duration": 477,
    "start_time": "2023-07-14T00:46:00.983Z"
   },
   {
    "duration": 724,
    "start_time": "2023-07-14T00:46:02.014Z"
   },
   {
    "duration": 230,
    "start_time": "2023-07-14T00:46:03.698Z"
   },
   {
    "duration": 11,
    "start_time": "2023-07-14T00:57:51.312Z"
   },
   {
    "duration": 11,
    "start_time": "2023-07-14T01:03:00.071Z"
   },
   {
    "duration": 9,
    "start_time": "2023-07-14T01:03:03.387Z"
   },
   {
    "duration": 416,
    "start_time": "2023-07-14T01:03:03.752Z"
   },
   {
    "duration": 8,
    "start_time": "2023-07-14T01:04:12.660Z"
   },
   {
    "duration": 1132,
    "start_time": "2023-07-14T01:04:13.184Z"
   },
   {
    "duration": 195,
    "start_time": "2023-07-14T01:04:21.052Z"
   },
   {
    "duration": 8,
    "start_time": "2023-07-14T01:04:47.216Z"
   },
   {
    "duration": 369,
    "start_time": "2023-07-14T01:04:47.953Z"
   },
   {
    "duration": 9,
    "start_time": "2023-07-14T01:05:01.446Z"
   },
   {
    "duration": 466,
    "start_time": "2023-07-14T01:05:07.935Z"
   },
   {
    "duration": 5,
    "start_time": "2023-07-14T01:05:13.893Z"
   },
   {
    "duration": 410,
    "start_time": "2023-07-14T01:05:15.247Z"
   },
   {
    "duration": 267,
    "start_time": "2023-07-14T01:05:20.271Z"
   },
   {
    "duration": 72,
    "start_time": "2023-07-14T01:05:55.033Z"
   },
   {
    "duration": 11943,
    "start_time": "2023-07-14T01:07:03.454Z"
   },
   {
    "duration": 790,
    "start_time": "2023-07-14T01:07:15.400Z"
   },
   {
    "duration": 16,
    "start_time": "2023-07-14T01:07:16.191Z"
   },
   {
    "duration": 189,
    "start_time": "2023-07-14T01:07:16.209Z"
   },
   {
    "duration": 84,
    "start_time": "2023-07-14T01:07:16.400Z"
   },
   {
    "duration": 5,
    "start_time": "2023-07-14T01:07:16.485Z"
   },
   {
    "duration": 67,
    "start_time": "2023-07-14T01:07:16.492Z"
   },
   {
    "duration": 2051,
    "start_time": "2023-07-14T01:07:16.561Z"
   },
   {
    "duration": 7,
    "start_time": "2023-07-14T01:07:18.615Z"
   },
   {
    "duration": 460,
    "start_time": "2023-07-14T01:07:18.632Z"
   },
   {
    "duration": 4,
    "start_time": "2023-07-14T01:07:19.094Z"
   },
   {
    "duration": 266,
    "start_time": "2023-07-14T01:07:19.100Z"
   },
   {
    "duration": 248,
    "start_time": "2023-07-14T01:07:19.368Z"
   },
   {
    "duration": 1100,
    "start_time": "2023-07-14T01:07:19.620Z"
   },
   {
    "duration": 38,
    "start_time": "2023-07-14T01:07:20.723Z"
   },
   {
    "duration": 107,
    "start_time": "2023-07-14T01:07:20.764Z"
   },
   {
    "duration": 1271,
    "start_time": "2023-07-14T01:07:20.873Z"
   },
   {
    "duration": 71,
    "start_time": "2023-07-14T01:07:22.152Z"
   },
   {
    "duration": 18,
    "start_time": "2023-07-14T01:07:22.225Z"
   },
   {
    "duration": 45,
    "start_time": "2023-07-14T01:07:22.245Z"
   },
   {
    "duration": 71,
    "start_time": "2023-07-14T01:07:22.293Z"
   },
   {
    "duration": 8,
    "start_time": "2023-07-14T01:07:22.366Z"
   },
   {
    "duration": 45,
    "start_time": "2023-07-14T01:07:22.375Z"
   },
   {
    "duration": 33,
    "start_time": "2023-07-14T01:07:22.421Z"
   },
   {
    "duration": 55,
    "start_time": "2023-07-14T01:07:22.456Z"
   },
   {
    "duration": 62,
    "start_time": "2023-07-14T01:07:22.513Z"
   },
   {
    "duration": 3,
    "start_time": "2023-07-14T01:07:22.577Z"
   },
   {
    "duration": 1160,
    "start_time": "2023-07-14T01:07:22.582Z"
   },
   {
    "duration": 4,
    "start_time": "2023-07-14T01:07:23.744Z"
   },
   {
    "duration": 73,
    "start_time": "2023-07-14T01:07:23.749Z"
   },
   {
    "duration": 2,
    "start_time": "2023-07-14T01:07:23.824Z"
   },
   {
    "duration": 82,
    "start_time": "2023-07-14T01:07:23.828Z"
   },
   {
    "duration": 123,
    "start_time": "2023-07-14T01:07:23.912Z"
   },
   {
    "duration": 5,
    "start_time": "2023-07-14T01:07:24.044Z"
   },
   {
    "duration": 222,
    "start_time": "2023-07-14T01:07:24.052Z"
   },
   {
    "duration": 4,
    "start_time": "2023-07-14T01:07:24.276Z"
   },
   {
    "duration": 16,
    "start_time": "2023-07-14T01:07:24.282Z"
   },
   {
    "duration": 22,
    "start_time": "2023-07-14T01:07:24.300Z"
   },
   {
    "duration": 436,
    "start_time": "2023-07-14T01:07:24.324Z"
   },
   {
    "duration": 5,
    "start_time": "2023-07-14T01:07:24.765Z"
   },
   {
    "duration": 66,
    "start_time": "2023-07-14T01:07:24.775Z"
   },
   {
    "duration": 65,
    "start_time": "2023-07-14T01:07:24.842Z"
   },
   {
    "duration": 50,
    "start_time": "2023-07-14T01:07:24.909Z"
   },
   {
    "duration": 28,
    "start_time": "2023-07-14T01:07:24.961Z"
   },
   {
    "duration": 228,
    "start_time": "2023-07-14T01:07:24.991Z"
   },
   {
    "duration": 11,
    "start_time": "2023-07-14T01:07:25.221Z"
   },
   {
    "duration": 24,
    "start_time": "2023-07-14T01:07:25.233Z"
   },
   {
    "duration": 18,
    "start_time": "2023-07-14T01:07:25.258Z"
   },
   {
    "duration": 7,
    "start_time": "2023-07-14T01:07:25.277Z"
   },
   {
    "duration": 18,
    "start_time": "2023-07-14T01:07:25.285Z"
   },
   {
    "duration": 60,
    "start_time": "2023-07-14T01:07:25.304Z"
   },
   {
    "duration": 29,
    "start_time": "2023-07-14T01:07:25.366Z"
   },
   {
    "duration": 65,
    "start_time": "2023-07-14T01:07:25.397Z"
   },
   {
    "duration": 29,
    "start_time": "2023-07-14T01:07:25.464Z"
   },
   {
    "duration": 26,
    "start_time": "2023-07-14T01:07:25.495Z"
   },
   {
    "duration": 744,
    "start_time": "2023-07-14T01:07:25.523Z"
   },
   {
    "duration": 3,
    "start_time": "2023-07-14T01:07:26.269Z"
   },
   {
    "duration": 1550,
    "start_time": "2023-07-14T01:07:26.273Z"
   },
   {
    "duration": 137,
    "start_time": "2023-07-14T01:07:27.833Z"
   },
   {
    "duration": 70,
    "start_time": "2023-07-14T01:07:27.972Z"
   },
   {
    "duration": 5,
    "start_time": "2023-07-14T01:07:28.044Z"
   },
   {
    "duration": 470,
    "start_time": "2023-07-14T01:07:28.050Z"
   },
   {
    "duration": 37,
    "start_time": "2023-07-14T01:07:28.522Z"
   },
   {
    "duration": 43,
    "start_time": "2023-07-14T01:07:28.562Z"
   },
   {
    "duration": 1526,
    "start_time": "2023-07-14T01:07:28.608Z"
   },
   {
    "duration": 120,
    "start_time": "2023-07-14T01:07:30.141Z"
   },
   {
    "duration": 133,
    "start_time": "2023-07-14T01:07:30.262Z"
   },
   {
    "duration": 25,
    "start_time": "2023-07-14T01:07:30.397Z"
   },
   {
    "duration": 0,
    "start_time": "2023-07-14T01:07:30.424Z"
   },
   {
    "duration": 57,
    "start_time": "2023-07-14T01:07:35.225Z"
   },
   {
    "duration": 40,
    "start_time": "2023-07-14T01:07:41.753Z"
   },
   {
    "duration": 5,
    "start_time": "2023-07-14T01:08:24.216Z"
   },
   {
    "duration": 789,
    "start_time": "2023-07-14T01:08:24.563Z"
   },
   {
    "duration": 3,
    "start_time": "2023-07-14T01:08:38.084Z"
   },
   {
    "duration": 13804,
    "start_time": "2023-07-14T01:10:31.954Z"
   },
   {
    "duration": 166,
    "start_time": "2023-07-14T01:12:03.792Z"
   },
   {
    "duration": 5832,
    "start_time": "2023-07-14T01:12:09.354Z"
   },
   {
    "duration": 5569,
    "start_time": "2023-07-14T01:13:12.268Z"
   },
   {
    "duration": 66,
    "start_time": "2023-07-14T01:14:06.928Z"
   },
   {
    "duration": 16,
    "start_time": "2023-07-14T01:14:13.868Z"
   },
   {
    "duration": 5774,
    "start_time": "2023-07-14T01:14:55.972Z"
   },
   {
    "duration": 5493,
    "start_time": "2023-07-14T01:15:55.990Z"
   },
   {
    "duration": 5043,
    "start_time": "2023-07-14T01:16:04.253Z"
   },
   {
    "duration": 1532,
    "start_time": "2023-07-14T01:17:57.026Z"
   },
   {
    "duration": 4816,
    "start_time": "2023-07-14T01:18:47.575Z"
   },
   {
    "duration": 8,
    "start_time": "2023-07-14T01:20:43.957Z"
   },
   {
    "duration": 105294,
    "start_time": "2023-07-14T01:25:22.715Z"
   },
   {
    "duration": 3648372,
    "start_time": "2023-07-14T01:27:09.780Z"
   },
   {
    "duration": 0,
    "start_time": "2023-07-14T02:27:58.248Z"
   },
   {
    "duration": 88,
    "start_time": "2023-07-14T02:28:08.769Z"
   },
   {
    "duration": 7576,
    "start_time": "2023-07-14T02:28:35.992Z"
   },
   {
    "duration": 86,
    "start_time": "2023-07-14T02:28:52.819Z"
   },
   {
    "duration": 82,
    "start_time": "2023-07-14T02:28:59.616Z"
   },
   {
    "duration": 71,
    "start_time": "2023-07-14T02:29:26.354Z"
   },
   {
    "duration": 85,
    "start_time": "2023-07-14T02:29:30.362Z"
   },
   {
    "duration": 166,
    "start_time": "2023-07-14T02:30:17.257Z"
   },
   {
    "duration": 15,
    "start_time": "2023-07-14T02:30:22.874Z"
   },
   {
    "duration": 15284,
    "start_time": "2023-07-14T02:30:43.785Z"
   },
   {
    "duration": 609574,
    "start_time": "2023-07-14T02:31:47.710Z"
   },
   {
    "duration": 478,
    "start_time": "2023-07-14T02:41:57.287Z"
   },
   {
    "duration": 71,
    "start_time": "2023-07-14T02:42:10.547Z"
   },
   {
    "duration": 22,
    "start_time": "2023-07-14T02:42:15.300Z"
   },
   {
    "duration": 3839,
    "start_time": "2023-07-14T02:42:17.385Z"
   },
   {
    "duration": 20,
    "start_time": "2023-07-14T02:43:25.205Z"
   },
   {
    "duration": 1308,
    "start_time": "2023-07-14T02:43:29.018Z"
   },
   {
    "duration": 1357,
    "start_time": "2023-07-14T02:43:37.178Z"
   },
   {
    "duration": 51,
    "start_time": "2023-07-25T07:28:22.679Z"
   },
   {
    "duration": 4217,
    "start_time": "2023-07-25T07:28:34.707Z"
   },
   {
    "duration": 0,
    "start_time": "2023-07-25T07:28:38.928Z"
   },
   {
    "duration": 0,
    "start_time": "2023-07-25T07:28:38.929Z"
   },
   {
    "duration": 0,
    "start_time": "2023-07-25T07:28:38.930Z"
   },
   {
    "duration": 0,
    "start_time": "2023-07-25T07:28:38.931Z"
   },
   {
    "duration": 0,
    "start_time": "2023-07-25T07:28:38.932Z"
   },
   {
    "duration": 0,
    "start_time": "2023-07-25T07:28:38.933Z"
   },
   {
    "duration": 0,
    "start_time": "2023-07-25T07:28:38.934Z"
   },
   {
    "duration": 0,
    "start_time": "2023-07-25T07:28:38.936Z"
   },
   {
    "duration": 0,
    "start_time": "2023-07-25T07:28:38.937Z"
   },
   {
    "duration": 0,
    "start_time": "2023-07-25T07:28:38.938Z"
   },
   {
    "duration": 1,
    "start_time": "2023-07-25T07:28:38.939Z"
   },
   {
    "duration": 0,
    "start_time": "2023-07-25T07:28:38.941Z"
   },
   {
    "duration": 0,
    "start_time": "2023-07-25T07:28:38.966Z"
   },
   {
    "duration": 0,
    "start_time": "2023-07-25T07:28:38.968Z"
   },
   {
    "duration": 0,
    "start_time": "2023-07-25T07:28:38.969Z"
   },
   {
    "duration": 0,
    "start_time": "2023-07-25T07:28:38.971Z"
   },
   {
    "duration": 0,
    "start_time": "2023-07-25T07:28:38.973Z"
   },
   {
    "duration": 0,
    "start_time": "2023-07-25T07:28:38.974Z"
   },
   {
    "duration": 0,
    "start_time": "2023-07-25T07:28:38.976Z"
   },
   {
    "duration": 0,
    "start_time": "2023-07-25T07:28:38.977Z"
   },
   {
    "duration": 0,
    "start_time": "2023-07-25T07:28:38.980Z"
   },
   {
    "duration": 0,
    "start_time": "2023-07-25T07:28:38.982Z"
   },
   {
    "duration": 0,
    "start_time": "2023-07-25T07:28:38.983Z"
   },
   {
    "duration": 0,
    "start_time": "2023-07-25T07:28:38.984Z"
   },
   {
    "duration": 0,
    "start_time": "2023-07-25T07:28:38.985Z"
   },
   {
    "duration": 0,
    "start_time": "2023-07-25T07:28:38.986Z"
   },
   {
    "duration": 0,
    "start_time": "2023-07-25T07:28:38.987Z"
   },
   {
    "duration": 0,
    "start_time": "2023-07-25T07:28:38.988Z"
   },
   {
    "duration": 0,
    "start_time": "2023-07-25T07:28:38.990Z"
   },
   {
    "duration": 0,
    "start_time": "2023-07-25T07:28:38.991Z"
   },
   {
    "duration": 0,
    "start_time": "2023-07-25T07:28:38.992Z"
   },
   {
    "duration": 0,
    "start_time": "2023-07-25T07:28:38.993Z"
   },
   {
    "duration": 0,
    "start_time": "2023-07-25T07:28:38.994Z"
   },
   {
    "duration": 0,
    "start_time": "2023-07-25T07:28:38.995Z"
   },
   {
    "duration": 0,
    "start_time": "2023-07-25T07:28:38.996Z"
   },
   {
    "duration": 0,
    "start_time": "2023-07-25T07:28:38.997Z"
   },
   {
    "duration": 0,
    "start_time": "2023-07-25T07:28:38.998Z"
   },
   {
    "duration": 0,
    "start_time": "2023-07-25T07:28:38.999Z"
   },
   {
    "duration": 0,
    "start_time": "2023-07-25T07:28:39.001Z"
   },
   {
    "duration": 0,
    "start_time": "2023-07-25T07:28:39.002Z"
   },
   {
    "duration": 0,
    "start_time": "2023-07-25T07:28:39.003Z"
   },
   {
    "duration": 0,
    "start_time": "2023-07-25T07:28:39.004Z"
   },
   {
    "duration": 0,
    "start_time": "2023-07-25T07:28:39.006Z"
   },
   {
    "duration": 0,
    "start_time": "2023-07-25T07:28:39.007Z"
   },
   {
    "duration": 0,
    "start_time": "2023-07-25T07:28:39.008Z"
   },
   {
    "duration": 0,
    "start_time": "2023-07-25T07:28:39.068Z"
   },
   {
    "duration": 0,
    "start_time": "2023-07-25T07:28:39.070Z"
   },
   {
    "duration": 0,
    "start_time": "2023-07-25T07:28:39.071Z"
   },
   {
    "duration": 0,
    "start_time": "2023-07-25T07:28:39.073Z"
   },
   {
    "duration": 0,
    "start_time": "2023-07-25T07:28:39.074Z"
   },
   {
    "duration": 0,
    "start_time": "2023-07-25T07:28:39.075Z"
   },
   {
    "duration": 0,
    "start_time": "2023-07-25T07:28:39.076Z"
   },
   {
    "duration": 0,
    "start_time": "2023-07-25T07:28:39.077Z"
   },
   {
    "duration": 0,
    "start_time": "2023-07-25T07:28:39.078Z"
   },
   {
    "duration": 0,
    "start_time": "2023-07-25T07:28:39.080Z"
   },
   {
    "duration": 0,
    "start_time": "2023-07-25T07:28:39.081Z"
   },
   {
    "duration": 0,
    "start_time": "2023-07-25T07:28:39.081Z"
   },
   {
    "duration": 0,
    "start_time": "2023-07-25T07:28:39.083Z"
   },
   {
    "duration": 0,
    "start_time": "2023-07-25T07:28:39.085Z"
   },
   {
    "duration": 0,
    "start_time": "2023-07-25T07:28:39.086Z"
   },
   {
    "duration": 0,
    "start_time": "2023-07-25T07:28:39.088Z"
   },
   {
    "duration": 0,
    "start_time": "2023-07-25T07:28:39.090Z"
   },
   {
    "duration": 0,
    "start_time": "2023-07-25T07:28:39.091Z"
   },
   {
    "duration": 0,
    "start_time": "2023-07-25T07:28:39.093Z"
   },
   {
    "duration": 1,
    "start_time": "2023-07-25T07:28:39.093Z"
   },
   {
    "duration": 0,
    "start_time": "2023-07-25T07:28:39.095Z"
   },
   {
    "duration": 0,
    "start_time": "2023-07-25T07:28:39.096Z"
   },
   {
    "duration": 0,
    "start_time": "2023-07-25T07:28:39.097Z"
   },
   {
    "duration": 0,
    "start_time": "2023-07-25T07:28:39.098Z"
   },
   {
    "duration": 17473,
    "start_time": "2023-08-08T17:46:21.180Z"
   },
   {
    "duration": 1140,
    "start_time": "2023-08-08T17:46:50.492Z"
   },
   {
    "duration": 23,
    "start_time": "2023-08-08T17:46:51.634Z"
   },
   {
    "duration": 110,
    "start_time": "2023-08-08T17:46:51.659Z"
   },
   {
    "duration": 77,
    "start_time": "2023-08-08T17:46:51.771Z"
   },
   {
    "duration": 4,
    "start_time": "2023-08-08T17:46:51.850Z"
   },
   {
    "duration": 38,
    "start_time": "2023-08-08T17:46:51.856Z"
   },
   {
    "duration": 1616,
    "start_time": "2023-08-08T17:46:51.897Z"
   },
   {
    "duration": 7,
    "start_time": "2023-08-08T17:46:53.515Z"
   },
   {
    "duration": 380,
    "start_time": "2023-08-08T17:46:53.524Z"
   },
   {
    "duration": 5,
    "start_time": "2023-08-08T17:46:53.907Z"
   },
   {
    "duration": 168,
    "start_time": "2023-08-08T17:46:53.913Z"
   },
   {
    "duration": 227,
    "start_time": "2023-08-08T17:46:54.083Z"
   },
   {
    "duration": 825,
    "start_time": "2023-08-08T17:46:54.312Z"
   },
   {
    "duration": 33,
    "start_time": "2023-08-08T17:46:55.139Z"
   },
   {
    "duration": 67,
    "start_time": "2023-08-08T17:46:55.173Z"
   },
   {
    "duration": 1175,
    "start_time": "2023-08-08T17:46:55.242Z"
   },
   {
    "duration": 59,
    "start_time": "2023-08-08T17:46:56.419Z"
   },
   {
    "duration": 21,
    "start_time": "2023-08-08T17:46:56.480Z"
   },
   {
    "duration": 17,
    "start_time": "2023-08-08T17:46:56.503Z"
   },
   {
    "duration": 54,
    "start_time": "2023-08-08T17:46:56.522Z"
   },
   {
    "duration": 22,
    "start_time": "2023-08-08T17:46:56.578Z"
   },
   {
    "duration": 17,
    "start_time": "2023-08-08T17:46:56.602Z"
   },
   {
    "duration": 18,
    "start_time": "2023-08-08T17:46:56.621Z"
   },
   {
    "duration": 62,
    "start_time": "2023-08-08T17:46:56.641Z"
   },
   {
    "duration": 48,
    "start_time": "2023-08-08T17:46:56.706Z"
   },
   {
    "duration": 4,
    "start_time": "2023-08-08T17:46:56.756Z"
   },
   {
    "duration": 1090,
    "start_time": "2023-08-08T17:46:56.761Z"
   },
   {
    "duration": 5,
    "start_time": "2023-08-08T17:46:57.855Z"
   },
   {
    "duration": 87,
    "start_time": "2023-08-08T17:46:57.862Z"
   },
   {
    "duration": 2,
    "start_time": "2023-08-08T17:46:57.951Z"
   },
   {
    "duration": 53,
    "start_time": "2023-08-08T17:46:57.955Z"
   },
   {
    "duration": 53,
    "start_time": "2023-08-08T17:46:58.010Z"
   },
   {
    "duration": 3,
    "start_time": "2023-08-08T17:46:58.065Z"
   },
   {
    "duration": 238,
    "start_time": "2023-08-08T17:46:58.069Z"
   },
   {
    "duration": 5,
    "start_time": "2023-08-08T17:46:58.309Z"
   },
   {
    "duration": 14,
    "start_time": "2023-08-08T17:46:58.316Z"
   },
   {
    "duration": 13,
    "start_time": "2023-08-08T17:46:58.332Z"
   },
   {
    "duration": 405,
    "start_time": "2023-08-08T17:46:58.347Z"
   },
   {
    "duration": 5,
    "start_time": "2023-08-08T17:46:58.755Z"
   },
   {
    "duration": 10,
    "start_time": "2023-08-08T17:46:58.762Z"
   },
   {
    "duration": 10,
    "start_time": "2023-08-08T17:46:58.774Z"
   },
   {
    "duration": 8,
    "start_time": "2023-08-08T17:46:58.787Z"
   },
   {
    "duration": 14,
    "start_time": "2023-08-08T17:46:58.797Z"
   },
   {
    "duration": 265,
    "start_time": "2023-08-08T17:46:58.813Z"
   },
   {
    "duration": 37,
    "start_time": "2023-08-08T17:46:59.080Z"
   },
   {
    "duration": 12,
    "start_time": "2023-08-08T17:46:59.119Z"
   },
   {
    "duration": 13,
    "start_time": "2023-08-08T17:46:59.133Z"
   },
   {
    "duration": 16890,
    "start_time": "2023-08-08T17:46:59.148Z"
   },
   {
    "duration": 4,
    "start_time": "2023-08-08T17:47:16.040Z"
   },
   {
    "duration": 35,
    "start_time": "2023-08-08T17:47:16.046Z"
   },
   {
    "duration": 12,
    "start_time": "2023-08-08T17:47:16.083Z"
   },
   {
    "duration": 30,
    "start_time": "2023-08-08T17:47:16.097Z"
   },
   {
    "duration": 20,
    "start_time": "2023-08-08T17:47:16.129Z"
   },
   {
    "duration": 19,
    "start_time": "2023-08-08T17:47:16.151Z"
   },
   {
    "duration": 22,
    "start_time": "2023-08-08T17:47:16.172Z"
   },
   {
    "duration": 20,
    "start_time": "2023-08-08T17:47:16.196Z"
   },
   {
    "duration": 592,
    "start_time": "2023-08-08T17:47:16.218Z"
   },
   {
    "duration": 3,
    "start_time": "2023-08-08T17:47:16.812Z"
   },
   {
    "duration": 4861,
    "start_time": "2023-08-08T17:47:16.816Z"
   },
   {
    "duration": 3,
    "start_time": "2023-08-08T17:47:21.679Z"
   },
   {
    "duration": 1465,
    "start_time": "2023-08-08T17:47:21.684Z"
   },
   {
    "duration": 18,
    "start_time": "2023-08-08T17:47:23.150Z"
   },
   {
    "duration": 4455,
    "start_time": "2023-08-08T17:47:23.170Z"
   },
   {
    "duration": 23085,
    "start_time": "2023-08-08T17:47:27.627Z"
   },
   {
    "duration": 492,
    "start_time": "2023-08-08T17:47:50.714Z"
   },
   {
    "duration": 5773,
    "start_time": "2023-08-08T17:47:51.208Z"
   },
   {
    "duration": 163,
    "start_time": "2023-08-08T17:47:56.999Z"
   },
   {
    "duration": 595006,
    "start_time": "2023-08-08T17:47:57.164Z"
   },
   {
    "duration": 3420,
    "start_time": "2023-08-08T17:57:52.172Z"
   }
  ],
  "kernelspec": {
   "display_name": "Python 3 (ipykernel)",
   "language": "python",
   "name": "python3"
  },
  "language_info": {
   "codemirror_mode": {
    "name": "ipython",
    "version": 3
   },
   "file_extension": ".py",
   "mimetype": "text/x-python",
   "name": "python",
   "nbconvert_exporter": "python",
   "pygments_lexer": "ipython3",
   "version": "3.11.3"
  },
  "toc": {
   "base_numbering": 1,
   "nav_menu": {},
   "number_sections": true,
   "sideBar": true,
   "skip_h1_title": true,
   "title_cell": "Table of Contents",
   "title_sidebar": "Contents",
   "toc_cell": false,
   "toc_position": {
    "height": "calc(100% - 180px)",
    "left": "10px",
    "top": "150px",
    "width": "281px"
   },
   "toc_section_display": true,
   "toc_window_display": true
  }
 },
 "nbformat": 4,
 "nbformat_minor": 2
}
