{
 "cells": [
  {
   "cell_type": "code",
   "execution_count": 181,
   "metadata": {
    "scrolled": true
   },
   "outputs": [
    {
     "name": "stdout",
     "output_type": "stream",
     "text": [
      "Requirement already satisfied: scikit-learn in /opt/conda/lib/python3.9/site-packages (1.2.2)\n",
      "Requirement already satisfied: imblearn in /opt/conda/lib/python3.9/site-packages (0.0)\n",
      "Requirement already satisfied: numpy>=1.17.3 in /opt/conda/lib/python3.9/site-packages (from scikit-learn) (1.21.1)\n",
      "Requirement already satisfied: threadpoolctl>=2.0.0 in /opt/conda/lib/python3.9/site-packages (from scikit-learn) (3.1.0)\n",
      "Requirement already satisfied: scipy>=1.3.2 in /opt/conda/lib/python3.9/site-packages (from scikit-learn) (1.9.1)\n",
      "Requirement already satisfied: joblib>=1.1.1 in /opt/conda/lib/python3.9/site-packages (from scikit-learn) (1.2.0)\n",
      "Requirement already satisfied: imbalanced-learn in /opt/conda/lib/python3.9/site-packages (from imblearn) (0.10.1)\n",
      "Requirement already satisfied: phik in /opt/conda/lib/python3.9/site-packages (0.12.3)\n",
      "Requirement already satisfied: scipy>=1.5.2 in /opt/conda/lib/python3.9/site-packages (from phik) (1.9.1)\n",
      "Requirement already satisfied: pandas>=0.25.1 in /opt/conda/lib/python3.9/site-packages (from phik) (1.2.4)\n",
      "Requirement already satisfied: joblib>=0.14.1 in /opt/conda/lib/python3.9/site-packages (from phik) (1.2.0)\n",
      "Requirement already satisfied: numpy>=1.18.0 in /opt/conda/lib/python3.9/site-packages (from phik) (1.21.1)\n",
      "Requirement already satisfied: matplotlib>=2.2.3 in /opt/conda/lib/python3.9/site-packages (from phik) (3.3.4)\n",
      "Requirement already satisfied: cycler>=0.10 in /opt/conda/lib/python3.9/site-packages (from matplotlib>=2.2.3->phik) (0.11.0)\n",
      "Requirement already satisfied: pyparsing!=2.0.4,!=2.1.2,!=2.1.6,>=2.0.3 in /opt/conda/lib/python3.9/site-packages (from matplotlib>=2.2.3->phik) (2.4.7)\n",
      "Requirement already satisfied: kiwisolver>=1.0.1 in /opt/conda/lib/python3.9/site-packages (from matplotlib>=2.2.3->phik) (1.4.4)\n",
      "Requirement already satisfied: pillow>=6.2.0 in /opt/conda/lib/python3.9/site-packages (from matplotlib>=2.2.3->phik) (8.4.0)\n",
      "Requirement already satisfied: python-dateutil>=2.1 in /opt/conda/lib/python3.9/site-packages (from matplotlib>=2.2.3->phik) (2.8.1)\n",
      "Requirement already satisfied: pytz>=2017.3 in /opt/conda/lib/python3.9/site-packages (from pandas>=0.25.1->phik) (2021.1)\n",
      "Requirement already satisfied: six>=1.5 in /opt/conda/lib/python3.9/site-packages (from python-dateutil>=2.1->matplotlib>=2.2.3->phik) (1.16.0)\n",
      "Requirement already satisfied: tqdm in /opt/conda/lib/python3.9/site-packages (4.61.2)\n",
      "Requirement already satisfied: imblearn in /opt/conda/lib/python3.9/site-packages (0.0)\n",
      "Requirement already satisfied: imbalanced-learn in /opt/conda/lib/python3.9/site-packages (from imblearn) (0.10.1)\n",
      "Requirement already satisfied: scipy>=1.3.2 in /opt/conda/lib/python3.9/site-packages (from imbalanced-learn->imblearn) (1.9.1)\n",
      "Requirement already satisfied: numpy>=1.17.3 in /opt/conda/lib/python3.9/site-packages (from imbalanced-learn->imblearn) (1.21.1)\n",
      "Requirement already satisfied: threadpoolctl>=2.0.0 in /opt/conda/lib/python3.9/site-packages (from imbalanced-learn->imblearn) (3.1.0)\n",
      "Requirement already satisfied: scikit-learn>=1.0.2 in /opt/conda/lib/python3.9/site-packages (from imbalanced-learn->imblearn) (1.2.2)\n",
      "Requirement already satisfied: joblib>=1.1.1 in /opt/conda/lib/python3.9/site-packages (from imbalanced-learn->imblearn) (1.2.0)\n",
      "Requirement already satisfied: catboost in /opt/conda/lib/python3.9/site-packages (1.0.3)\n",
      "Requirement already satisfied: plotly in /opt/conda/lib/python3.9/site-packages (from catboost) (5.4.0)\n",
      "Requirement already satisfied: matplotlib in /opt/conda/lib/python3.9/site-packages (from catboost) (3.3.4)\n",
      "Requirement already satisfied: scipy in /opt/conda/lib/python3.9/site-packages (from catboost) (1.9.1)\n",
      "Requirement already satisfied: pandas>=0.24.0 in /opt/conda/lib/python3.9/site-packages (from catboost) (1.2.4)\n",
      "Requirement already satisfied: numpy>=1.16.0 in /opt/conda/lib/python3.9/site-packages (from catboost) (1.21.1)\n",
      "Requirement already satisfied: graphviz in /opt/conda/lib/python3.9/site-packages (from catboost) (0.20.1)\n",
      "Requirement already satisfied: six in /opt/conda/lib/python3.9/site-packages (from catboost) (1.16.0)\n",
      "Requirement already satisfied: python-dateutil>=2.7.3 in /opt/conda/lib/python3.9/site-packages (from pandas>=0.24.0->catboost) (2.8.1)\n",
      "Requirement already satisfied: pytz>=2017.3 in /opt/conda/lib/python3.9/site-packages (from pandas>=0.24.0->catboost) (2021.1)\n",
      "Requirement already satisfied: pyparsing!=2.0.4,!=2.1.2,!=2.1.6,>=2.0.3 in /opt/conda/lib/python3.9/site-packages (from matplotlib->catboost) (2.4.7)\n",
      "Requirement already satisfied: kiwisolver>=1.0.1 in /opt/conda/lib/python3.9/site-packages (from matplotlib->catboost) (1.4.4)\n",
      "Requirement already satisfied: cycler>=0.10 in /opt/conda/lib/python3.9/site-packages (from matplotlib->catboost) (0.11.0)\n",
      "Requirement already satisfied: pillow>=6.2.0 in /opt/conda/lib/python3.9/site-packages (from matplotlib->catboost) (8.4.0)\n",
      "Requirement already satisfied: tenacity>=6.2.0 in /opt/conda/lib/python3.9/site-packages (from plotly->catboost) (8.0.1)\n"
     ]
    }
   ],
   "source": [
    "!pip install -U scikit-learn imblearn\n",
    "!pip install phik\n",
    "!pip install tqdm\n",
    "!pip install imblearn\n",
    "!pip install catboost\n",
    "\n",
    "\n",
    "import pandas as pd\n",
    "import numpy as np\n",
    "import matplotlib.pyplot as plt\n",
    "import seaborn as sns\n",
    "\n",
    "\n",
    "from sklearn.model_selection import (train_test_split,\n",
    "                                    GridSearchCV,\n",
    "                                    cross_val_score)\n",
    "from sklearn import linear_model, decomposition, datasets\n",
    "from sklearn.pipeline import Pipeline\n",
    "from sklearn.preprocessing import (OneHotEncoder,\n",
    "                                   StandardScaler)\n",
    "from sklearn.dummy import DummyClassifier\n",
    "from sklearn.utils import shuffle\n",
    "from sklearn.linear_model import LogisticRegression\n",
    "from sklearn.ensemble import RandomForestClassifier\n",
    "from sklearn.metrics import (f1_score,\n",
    "                            roc_auc_score,\n",
    "                            precision_score,\n",
    "                            recall_score,\n",
    "                            roc_curve,\n",
    "                            auc)\n",
    "\n",
    "pd.options.mode.chained_assignment = None\n",
    "\n",
    "import warnings\n",
    "warnings.filterwarnings('ignore')\n",
    "\n",
    "import phik\n",
    "\n",
    "from tqdm import tqdm_notebook\n",
    "\n",
    "from imblearn.over_sampling import SMOTE\n",
    "\n",
    "from collections import Counter\n",
    "\n",
    "from catboost import (CatBoost,\n",
    "                      CatBoostClassifier,\n",
    "                      Pool, \n",
    "                      cv)"
   ]
  },
  {
   "cell_type": "code",
   "execution_count": 182,
   "metadata": {},
   "outputs": [],
   "source": [
    "df = pd.read_csv('/datasets/Churn.csv')"
   ]
  },
  {
   "cell_type": "code",
   "execution_count": 183,
   "metadata": {},
   "outputs": [
    {
     "data": {
      "text/html": [
       "<div>\n",
       "<style scoped>\n",
       "    .dataframe tbody tr th:only-of-type {\n",
       "        vertical-align: middle;\n",
       "    }\n",
       "\n",
       "    .dataframe tbody tr th {\n",
       "        vertical-align: top;\n",
       "    }\n",
       "\n",
       "    .dataframe thead th {\n",
       "        text-align: right;\n",
       "    }\n",
       "</style>\n",
       "<table border=\"1\" class=\"dataframe\">\n",
       "  <thead>\n",
       "    <tr style=\"text-align: right;\">\n",
       "      <th></th>\n",
       "      <th>RowNumber</th>\n",
       "      <th>CustomerId</th>\n",
       "      <th>Surname</th>\n",
       "      <th>CreditScore</th>\n",
       "      <th>Geography</th>\n",
       "      <th>Gender</th>\n",
       "      <th>Age</th>\n",
       "      <th>Tenure</th>\n",
       "      <th>Balance</th>\n",
       "      <th>NumOfProducts</th>\n",
       "      <th>HasCrCard</th>\n",
       "      <th>IsActiveMember</th>\n",
       "      <th>EstimatedSalary</th>\n",
       "      <th>Exited</th>\n",
       "    </tr>\n",
       "  </thead>\n",
       "  <tbody>\n",
       "    <tr>\n",
       "      <th>0</th>\n",
       "      <td>1</td>\n",
       "      <td>15634602</td>\n",
       "      <td>Hargrave</td>\n",
       "      <td>619</td>\n",
       "      <td>France</td>\n",
       "      <td>Female</td>\n",
       "      <td>42</td>\n",
       "      <td>2.0</td>\n",
       "      <td>0.00</td>\n",
       "      <td>1</td>\n",
       "      <td>1</td>\n",
       "      <td>1</td>\n",
       "      <td>101348.88</td>\n",
       "      <td>1</td>\n",
       "    </tr>\n",
       "    <tr>\n",
       "      <th>1</th>\n",
       "      <td>2</td>\n",
       "      <td>15647311</td>\n",
       "      <td>Hill</td>\n",
       "      <td>608</td>\n",
       "      <td>Spain</td>\n",
       "      <td>Female</td>\n",
       "      <td>41</td>\n",
       "      <td>1.0</td>\n",
       "      <td>83807.86</td>\n",
       "      <td>1</td>\n",
       "      <td>0</td>\n",
       "      <td>1</td>\n",
       "      <td>112542.58</td>\n",
       "      <td>0</td>\n",
       "    </tr>\n",
       "    <tr>\n",
       "      <th>2</th>\n",
       "      <td>3</td>\n",
       "      <td>15619304</td>\n",
       "      <td>Onio</td>\n",
       "      <td>502</td>\n",
       "      <td>France</td>\n",
       "      <td>Female</td>\n",
       "      <td>42</td>\n",
       "      <td>8.0</td>\n",
       "      <td>159660.80</td>\n",
       "      <td>3</td>\n",
       "      <td>1</td>\n",
       "      <td>0</td>\n",
       "      <td>113931.57</td>\n",
       "      <td>1</td>\n",
       "    </tr>\n",
       "    <tr>\n",
       "      <th>3</th>\n",
       "      <td>4</td>\n",
       "      <td>15701354</td>\n",
       "      <td>Boni</td>\n",
       "      <td>699</td>\n",
       "      <td>France</td>\n",
       "      <td>Female</td>\n",
       "      <td>39</td>\n",
       "      <td>1.0</td>\n",
       "      <td>0.00</td>\n",
       "      <td>2</td>\n",
       "      <td>0</td>\n",
       "      <td>0</td>\n",
       "      <td>93826.63</td>\n",
       "      <td>0</td>\n",
       "    </tr>\n",
       "    <tr>\n",
       "      <th>4</th>\n",
       "      <td>5</td>\n",
       "      <td>15737888</td>\n",
       "      <td>Mitchell</td>\n",
       "      <td>850</td>\n",
       "      <td>Spain</td>\n",
       "      <td>Female</td>\n",
       "      <td>43</td>\n",
       "      <td>2.0</td>\n",
       "      <td>125510.82</td>\n",
       "      <td>1</td>\n",
       "      <td>1</td>\n",
       "      <td>1</td>\n",
       "      <td>79084.10</td>\n",
       "      <td>0</td>\n",
       "    </tr>\n",
       "  </tbody>\n",
       "</table>\n",
       "</div>"
      ],
      "text/plain": [
       "   RowNumber  CustomerId   Surname  CreditScore Geography  Gender  Age  \\\n",
       "0          1    15634602  Hargrave          619    France  Female   42   \n",
       "1          2    15647311      Hill          608     Spain  Female   41   \n",
       "2          3    15619304      Onio          502    France  Female   42   \n",
       "3          4    15701354      Boni          699    France  Female   39   \n",
       "4          5    15737888  Mitchell          850     Spain  Female   43   \n",
       "\n",
       "   Tenure    Balance  NumOfProducts  HasCrCard  IsActiveMember  \\\n",
       "0     2.0       0.00              1          1               1   \n",
       "1     1.0   83807.86              1          0               1   \n",
       "2     8.0  159660.80              3          1               0   \n",
       "3     1.0       0.00              2          0               0   \n",
       "4     2.0  125510.82              1          1               1   \n",
       "\n",
       "   EstimatedSalary  Exited  \n",
       "0        101348.88       1  \n",
       "1        112542.58       0  \n",
       "2        113931.57       1  \n",
       "3         93826.63       0  \n",
       "4         79084.10       0  "
      ]
     },
     "execution_count": 183,
     "metadata": {},
     "output_type": "execute_result"
    }
   ],
   "source": [
    "df.head()"
   ]
  },
  {
   "cell_type": "code",
   "execution_count": 184,
   "metadata": {
    "scrolled": true
   },
   "outputs": [
    {
     "name": "stdout",
     "output_type": "stream",
     "text": [
      "<class 'pandas.core.frame.DataFrame'>\n",
      "RangeIndex: 10000 entries, 0 to 9999\n",
      "Data columns (total 14 columns):\n",
      " #   Column           Non-Null Count  Dtype  \n",
      "---  ------           --------------  -----  \n",
      " 0   RowNumber        10000 non-null  int64  \n",
      " 1   CustomerId       10000 non-null  int64  \n",
      " 2   Surname          10000 non-null  object \n",
      " 3   CreditScore      10000 non-null  int64  \n",
      " 4   Geography        10000 non-null  object \n",
      " 5   Gender           10000 non-null  object \n",
      " 6   Age              10000 non-null  int64  \n",
      " 7   Tenure           9091 non-null   float64\n",
      " 8   Balance          10000 non-null  float64\n",
      " 9   NumOfProducts    10000 non-null  int64  \n",
      " 10  HasCrCard        10000 non-null  int64  \n",
      " 11  IsActiveMember   10000 non-null  int64  \n",
      " 12  EstimatedSalary  10000 non-null  float64\n",
      " 13  Exited           10000 non-null  int64  \n",
      "dtypes: float64(3), int64(8), object(3)\n",
      "memory usage: 1.1+ MB\n"
     ]
    }
   ],
   "source": [
    "df.info()"
   ]
  },
  {
   "cell_type": "code",
   "execution_count": 185,
   "metadata": {},
   "outputs": [],
   "source": [
    "data = df"
   ]
  },
  {
   "cell_type": "code",
   "execution_count": 186,
   "metadata": {},
   "outputs": [],
   "source": [
    "df.columns = df.columns.str.replace(r'(?<!^)([A-Z])', r'_\\1')\n",
    "df.columns = df.columns.str.lower()\n",
    "df = df.applymap(lambda x: x.lower() if type(x) == str else x)"
   ]
  },
  {
   "cell_type": "code",
   "execution_count": 187,
   "metadata": {},
   "outputs": [],
   "source": [
    "df = df.drop(['surname','row_number','customer_id'], axis=1)"
   ]
  },
  {
   "cell_type": "code",
   "execution_count": 188,
   "metadata": {},
   "outputs": [],
   "source": [
    "encoder = OneHotEncoder()\n",
    "columns_to_encode = ['gender', 'geography']\n",
    "encoded_columns = encoder.fit_transform(df[columns_to_encode])\n",
    "categories = encoder.categories_\n",
    "feature_names = []\n",
    "for i, column in enumerate(columns_to_encode):\n",
    "    for category in categories[i]:\n",
    "        feature_names.append(column + '_' + str(category))\n",
    "df = pd.concat([df.drop(columns_to_encode, axis=1),\n",
    "                        pd.DataFrame(encoded_columns.toarray(), \n",
    "                                     columns=feature_names)], axis=1)"
   ]
  },
  {
   "cell_type": "code",
   "execution_count": 189,
   "metadata": {},
   "outputs": [
    {
     "data": {
      "text/html": [
       "<div>\n",
       "<style scoped>\n",
       "    .dataframe tbody tr th:only-of-type {\n",
       "        vertical-align: middle;\n",
       "    }\n",
       "\n",
       "    .dataframe tbody tr th {\n",
       "        vertical-align: top;\n",
       "    }\n",
       "\n",
       "    .dataframe thead th {\n",
       "        text-align: right;\n",
       "    }\n",
       "</style>\n",
       "<table border=\"1\" class=\"dataframe\">\n",
       "  <thead>\n",
       "    <tr style=\"text-align: right;\">\n",
       "      <th></th>\n",
       "      <th>credit_score</th>\n",
       "      <th>age</th>\n",
       "      <th>tenure</th>\n",
       "      <th>balance</th>\n",
       "      <th>num_of_products</th>\n",
       "      <th>has_cr_card</th>\n",
       "      <th>is_active_member</th>\n",
       "      <th>estimated_salary</th>\n",
       "      <th>exited</th>\n",
       "      <th>gender_female</th>\n",
       "      <th>gender_male</th>\n",
       "      <th>geography_france</th>\n",
       "      <th>geography_germany</th>\n",
       "      <th>geography_spain</th>\n",
       "    </tr>\n",
       "  </thead>\n",
       "  <tbody>\n",
       "    <tr>\n",
       "      <th>30</th>\n",
       "      <td>591</td>\n",
       "      <td>39</td>\n",
       "      <td>NaN</td>\n",
       "      <td>0.00</td>\n",
       "      <td>3</td>\n",
       "      <td>1</td>\n",
       "      <td>0</td>\n",
       "      <td>140469.38</td>\n",
       "      <td>1</td>\n",
       "      <td>1.0</td>\n",
       "      <td>0.0</td>\n",
       "      <td>0.0</td>\n",
       "      <td>0.0</td>\n",
       "      <td>1.0</td>\n",
       "    </tr>\n",
       "    <tr>\n",
       "      <th>48</th>\n",
       "      <td>550</td>\n",
       "      <td>38</td>\n",
       "      <td>NaN</td>\n",
       "      <td>103391.38</td>\n",
       "      <td>1</td>\n",
       "      <td>0</td>\n",
       "      <td>1</td>\n",
       "      <td>90878.13</td>\n",
       "      <td>0</td>\n",
       "      <td>0.0</td>\n",
       "      <td>1.0</td>\n",
       "      <td>0.0</td>\n",
       "      <td>1.0</td>\n",
       "      <td>0.0</td>\n",
       "    </tr>\n",
       "    <tr>\n",
       "      <th>51</th>\n",
       "      <td>585</td>\n",
       "      <td>36</td>\n",
       "      <td>NaN</td>\n",
       "      <td>146050.97</td>\n",
       "      <td>2</td>\n",
       "      <td>0</td>\n",
       "      <td>0</td>\n",
       "      <td>86424.57</td>\n",
       "      <td>0</td>\n",
       "      <td>0.0</td>\n",
       "      <td>1.0</td>\n",
       "      <td>0.0</td>\n",
       "      <td>1.0</td>\n",
       "      <td>0.0</td>\n",
       "    </tr>\n",
       "    <tr>\n",
       "      <th>53</th>\n",
       "      <td>655</td>\n",
       "      <td>41</td>\n",
       "      <td>NaN</td>\n",
       "      <td>125561.97</td>\n",
       "      <td>1</td>\n",
       "      <td>0</td>\n",
       "      <td>0</td>\n",
       "      <td>164040.94</td>\n",
       "      <td>1</td>\n",
       "      <td>0.0</td>\n",
       "      <td>1.0</td>\n",
       "      <td>0.0</td>\n",
       "      <td>1.0</td>\n",
       "      <td>0.0</td>\n",
       "    </tr>\n",
       "    <tr>\n",
       "      <th>60</th>\n",
       "      <td>742</td>\n",
       "      <td>35</td>\n",
       "      <td>NaN</td>\n",
       "      <td>136857.00</td>\n",
       "      <td>1</td>\n",
       "      <td>0</td>\n",
       "      <td>0</td>\n",
       "      <td>84509.57</td>\n",
       "      <td>0</td>\n",
       "      <td>0.0</td>\n",
       "      <td>1.0</td>\n",
       "      <td>0.0</td>\n",
       "      <td>1.0</td>\n",
       "      <td>0.0</td>\n",
       "    </tr>\n",
       "  </tbody>\n",
       "</table>\n",
       "</div>"
      ],
      "text/plain": [
       "    credit_score  age  tenure    balance  num_of_products  has_cr_card  \\\n",
       "30           591   39     NaN       0.00                3            1   \n",
       "48           550   38     NaN  103391.38                1            0   \n",
       "51           585   36     NaN  146050.97                2            0   \n",
       "53           655   41     NaN  125561.97                1            0   \n",
       "60           742   35     NaN  136857.00                1            0   \n",
       "\n",
       "    is_active_member  estimated_salary  exited  gender_female  gender_male  \\\n",
       "30                 0         140469.38       1            1.0          0.0   \n",
       "48                 1          90878.13       0            0.0          1.0   \n",
       "51                 0          86424.57       0            0.0          1.0   \n",
       "53                 0         164040.94       1            0.0          1.0   \n",
       "60                 0          84509.57       0            0.0          1.0   \n",
       "\n",
       "    geography_france  geography_germany  geography_spain  \n",
       "30               0.0                0.0              1.0  \n",
       "48               0.0                1.0              0.0  \n",
       "51               0.0                1.0              0.0  \n",
       "53               0.0                1.0              0.0  \n",
       "60               0.0                1.0              0.0  "
      ]
     },
     "execution_count": 189,
     "metadata": {},
     "output_type": "execute_result"
    }
   ],
   "source": [
    "mask = df.isnull().any(axis=1)\n",
    "df[mask].head()"
   ]
  },
  {
   "cell_type": "code",
   "execution_count": 190,
   "metadata": {},
   "outputs": [
    {
     "data": {
      "image/png": "[encoded data removed]",
      "text/plain": [
       "<Figure size 864x720 with 2 Axes>"
      ]
     },
     "metadata": {
      "needs_background": "light"
     },
     "output_type": "display_data"
    }
   ],
   "source": [
    "#посмотрим на взаимосвязь с целевой переменной \n",
    "mask = np.zeros_like(df.corr().round())\n",
    "mask[np.triu_indices_from(mask)] = True\n",
    "\n",
    "fig, ax = plt.subplots(figsize=(12, 10))\n",
    "sns.heatmap(df.corr(), annot=True, ax=ax, mask=mask);"
   ]
  },
  {
   "cell_type": "code",
   "execution_count": 191,
   "metadata": {},
   "outputs": [
    {
     "name": "stdout",
     "output_type": "stream",
     "text": [
      "interval columns not set, guessing: ['credit_score', 'age', 'tenure', 'balance', 'num_of_products', 'has_cr_card', 'is_active_member', 'estimated_salary', 'exited', 'gender_female', 'gender_male', 'geography_france', 'geography_germany', 'geography_spain']\n"
     ]
    },
    {
     "data": {
      "text/plain": [
       "exited               1.000000\n",
       "num_of_products      0.565084\n",
       "age                  0.487524\n",
       "geography_germany    0.268297\n",
       "is_active_member     0.241939\n",
       "balance              0.183365\n",
       "gender_female        0.165422\n",
       "gender_male          0.165422\n",
       "geography_france     0.163000\n",
       "credit_score         0.096525\n",
       "geography_spain      0.080682\n",
       "tenure               0.020845\n",
       "has_cr_card          0.000000\n",
       "estimated_salary     0.000000\n",
       "Name: exited, dtype: float64"
      ]
     },
     "execution_count": 191,
     "metadata": {},
     "output_type": "execute_result"
    }
   ],
   "source": [
    "phik_overview = df.phik_matrix()\n",
    "phik_overview['exited'].sort_values(ascending=False)"
   ]
  },
  {
   "cell_type": "code",
   "execution_count": 192,
   "metadata": {
    "scrolled": true
   },
   "outputs": [
    {
     "data": {
      "text/plain": [
       "1.0     952\n",
       "2.0     950\n",
       "8.0     933\n",
       "3.0     928\n",
       "5.0     927\n",
       "7.0     925\n",
       "4.0     885\n",
       "9.0     882\n",
       "6.0     881\n",
       "10.0    446\n",
       "0.0     382\n",
       "Name: tenure, dtype: int64"
      ]
     },
     "execution_count": 192,
     "metadata": {},
     "output_type": "execute_result"
    }
   ],
   "source": [
    "#обработаем пропуски\n",
    "df['tenure'].value_counts()"
   ]
  },
  {
   "cell_type": "code",
   "execution_count": 193,
   "metadata": {},
   "outputs": [
    {
     "data": {
      "text/plain": [
       "count    9091.000000\n",
       "mean        4.997690\n",
       "std         2.894723\n",
       "min         0.000000\n",
       "25%         2.000000\n",
       "50%         5.000000\n",
       "75%         7.000000\n",
       "max        10.000000\n",
       "Name: tenure, dtype: float64"
      ]
     },
     "execution_count": 193,
     "metadata": {},
     "output_type": "execute_result"
    }
   ],
   "source": [
    "df['tenure'].describe()"
   ]
  },
  {
   "cell_type": "code",
   "execution_count": 194,
   "metadata": {},
   "outputs": [],
   "source": [
    "#df['tenure'][np.isnan(df['tenure'])] = np.random.randint(1, 11, size=np.isnan(df['tenure']).sum())\n",
    "df['tenure'] = df['tenure'].fillna(df['tenure'].median())"
   ]
  },
  {
   "cell_type": "code",
   "execution_count": 195,
   "metadata": {},
   "outputs": [
    {
     "data": {
      "text/plain": [
       "count    10000.00000\n",
       "mean         4.99790\n",
       "std          2.76001\n",
       "min          0.00000\n",
       "25%          3.00000\n",
       "50%          5.00000\n",
       "75%          7.00000\n",
       "max         10.00000\n",
       "Name: tenure, dtype: float64"
      ]
     },
     "execution_count": 195,
     "metadata": {},
     "output_type": "execute_result"
    }
   ],
   "source": [
    "df['tenure'].describe()"
   ]
  },
  {
   "cell_type": "code",
   "execution_count": 196,
   "metadata": {
    "scrolled": false
   },
   "outputs": [
    {
     "name": "stdout",
     "output_type": "stream",
     "text": [
      "<class 'pandas.core.frame.DataFrame'>\n",
      "RangeIndex: 10000 entries, 0 to 9999\n",
      "Data columns (total 14 columns):\n",
      " #   Column             Non-Null Count  Dtype  \n",
      "---  ------             --------------  -----  \n",
      " 0   credit_score       10000 non-null  int64  \n",
      " 1   age                10000 non-null  int64  \n",
      " 2   tenure             10000 non-null  float64\n",
      " 3   balance            10000 non-null  float64\n",
      " 4   num_of_products    10000 non-null  int64  \n",
      " 5   has_cr_card        10000 non-null  int64  \n",
      " 6   is_active_member   10000 non-null  int64  \n",
      " 7   estimated_salary   10000 non-null  float64\n",
      " 8   exited             10000 non-null  int64  \n",
      " 9   gender_female      10000 non-null  float64\n",
      " 10  gender_male        10000 non-null  float64\n",
      " 11  geography_france   10000 non-null  float64\n",
      " 12  geography_germany  10000 non-null  float64\n",
      " 13  geography_spain    10000 non-null  float64\n",
      "dtypes: float64(8), int64(6)\n",
      "memory usage: 1.1 MB\n"
     ]
    }
   ],
   "source": [
    "df.info()"
   ]
  },
  {
   "cell_type": "code",
   "execution_count": 197,
   "metadata": {},
   "outputs": [],
   "source": [
    "RANDOM_STATE = 42"
   ]
  },
  {
   "cell_type": "code",
   "execution_count": 198,
   "metadata": {},
   "outputs": [],
   "source": [
    "#разобьем на тренировочную и тестовую выборки\n",
    "target = df['exited']\n",
    "features = df.drop('exited', axis=1)\n",
    "\n",
    "features_train, features_valid, target_train, target_valid = train_test_split(\n",
    "    features, target, test_size=0.4, random_state=RANDOM_STATE)\n",
    "\n",
    "X_test, X_valid, y_test, y_valid = train_test_split(\n",
    "    features_valid, target_valid, test_size=0.5, random_state=RANDOM_STATE)"
   ]
  },
  {
   "cell_type": "code",
   "execution_count": 199,
   "metadata": {},
   "outputs": [],
   "source": [
    "# стандартизация данных\n",
    "\n",
    "numeric = df.drop('exited', axis=1).columns\n",
    "\n",
    "scaler = StandardScaler()\n",
    "scaler.fit(df[numeric]) \n",
    "features_train[numeric] = scaler.transform(features_train[numeric])\n",
    "X_valid[numeric] = scaler.transform(X_valid[numeric]) \n",
    "X_test[numeric] = scaler.transform(X_test[numeric]) "
   ]
  },
  {
   "cell_type": "code",
   "execution_count": 200,
   "metadata": {},
   "outputs": [
    {
     "data": {
      "text/html": [
       "<div>\n",
       "<style scoped>\n",
       "    .dataframe tbody tr th:only-of-type {\n",
       "        vertical-align: middle;\n",
       "    }\n",
       "\n",
       "    .dataframe tbody tr th {\n",
       "        vertical-align: top;\n",
       "    }\n",
       "\n",
       "    .dataframe thead th {\n",
       "        text-align: right;\n",
       "    }\n",
       "</style>\n",
       "<table border=\"1\" class=\"dataframe\">\n",
       "  <thead>\n",
       "    <tr style=\"text-align: right;\">\n",
       "      <th></th>\n",
       "      <th>credit_score</th>\n",
       "      <th>age</th>\n",
       "      <th>tenure</th>\n",
       "      <th>balance</th>\n",
       "      <th>num_of_products</th>\n",
       "      <th>has_cr_card</th>\n",
       "      <th>is_active_member</th>\n",
       "      <th>estimated_salary</th>\n",
       "      <th>gender_female</th>\n",
       "      <th>gender_male</th>\n",
       "      <th>geography_france</th>\n",
       "      <th>geography_germany</th>\n",
       "      <th>geography_spain</th>\n",
       "    </tr>\n",
       "  </thead>\n",
       "  <tbody>\n",
       "    <tr>\n",
       "      <th>9761</th>\n",
       "      <td>1.618972</td>\n",
       "      <td>2.009882</td>\n",
       "      <td>0.000761</td>\n",
       "      <td>-0.056693</td>\n",
       "      <td>0.807737</td>\n",
       "      <td>0.646092</td>\n",
       "      <td>0.970243</td>\n",
       "      <td>-1.438677</td>\n",
       "      <td>1.095988</td>\n",
       "      <td>-1.095988</td>\n",
       "      <td>-1.002804</td>\n",
       "      <td>1.727904</td>\n",
       "      <td>-0.573809</td>\n",
       "    </tr>\n",
       "    <tr>\n",
       "      <th>3159</th>\n",
       "      <td>1.898335</td>\n",
       "      <td>-1.518201</td>\n",
       "      <td>-0.361575</td>\n",
       "      <td>0.877787</td>\n",
       "      <td>-0.911583</td>\n",
       "      <td>0.646092</td>\n",
       "      <td>-1.030670</td>\n",
       "      <td>-1.389224</td>\n",
       "      <td>-0.912419</td>\n",
       "      <td>0.912419</td>\n",
       "      <td>0.997204</td>\n",
       "      <td>-0.578736</td>\n",
       "      <td>-0.573809</td>\n",
       "    </tr>\n",
       "    <tr>\n",
       "      <th>1489</th>\n",
       "      <td>-0.429689</td>\n",
       "      <td>0.007457</td>\n",
       "      <td>1.087768</td>\n",
       "      <td>1.044797</td>\n",
       "      <td>-0.911583</td>\n",
       "      <td>-1.547768</td>\n",
       "      <td>0.970243</td>\n",
       "      <td>1.314157</td>\n",
       "      <td>1.095988</td>\n",
       "      <td>-1.095988</td>\n",
       "      <td>0.997204</td>\n",
       "      <td>-0.578736</td>\n",
       "      <td>-0.573809</td>\n",
       "    </tr>\n",
       "    <tr>\n",
       "      <th>2987</th>\n",
       "      <td>0.263545</td>\n",
       "      <td>-1.232140</td>\n",
       "      <td>-1.448581</td>\n",
       "      <td>0.510668</td>\n",
       "      <td>-0.911583</td>\n",
       "      <td>-1.547768</td>\n",
       "      <td>-1.030670</td>\n",
       "      <td>-0.693099</td>\n",
       "      <td>1.095988</td>\n",
       "      <td>-1.095988</td>\n",
       "      <td>-1.002804</td>\n",
       "      <td>1.727904</td>\n",
       "      <td>-0.573809</td>\n",
       "    </tr>\n",
       "    <tr>\n",
       "      <th>812</th>\n",
       "      <td>-1.391939</td>\n",
       "      <td>-0.564665</td>\n",
       "      <td>-0.723910</td>\n",
       "      <td>-1.225848</td>\n",
       "      <td>0.807737</td>\n",
       "      <td>0.646092</td>\n",
       "      <td>0.970243</td>\n",
       "      <td>-0.719985</td>\n",
       "      <td>1.095988</td>\n",
       "      <td>-1.095988</td>\n",
       "      <td>-1.002804</td>\n",
       "      <td>-0.578736</td>\n",
       "      <td>1.742740</td>\n",
       "    </tr>\n",
       "  </tbody>\n",
       "</table>\n",
       "</div>"
      ],
      "text/plain": [
       "      credit_score       age    tenure   balance  num_of_products  \\\n",
       "9761      1.618972  2.009882  0.000761 -0.056693         0.807737   \n",
       "3159      1.898335 -1.518201 -0.361575  0.877787        -0.911583   \n",
       "1489     -0.429689  0.007457  1.087768  1.044797        -0.911583   \n",
       "2987      0.263545 -1.232140 -1.448581  0.510668        -0.911583   \n",
       "812      -1.391939 -0.564665 -0.723910 -1.225848         0.807737   \n",
       "\n",
       "      has_cr_card  is_active_member  estimated_salary  gender_female  \\\n",
       "9761     0.646092          0.970243         -1.438677       1.095988   \n",
       "3159     0.646092         -1.030670         -1.389224      -0.912419   \n",
       "1489    -1.547768          0.970243          1.314157       1.095988   \n",
       "2987    -1.547768         -1.030670         -0.693099       1.095988   \n",
       "812      0.646092          0.970243         -0.719985       1.095988   \n",
       "\n",
       "      gender_male  geography_france  geography_germany  geography_spain  \n",
       "9761    -1.095988         -1.002804           1.727904        -0.573809  \n",
       "3159     0.912419          0.997204          -0.578736        -0.573809  \n",
       "1489    -1.095988          0.997204          -0.578736        -0.573809  \n",
       "2987    -1.095988         -1.002804           1.727904        -0.573809  \n",
       "812     -1.095988         -1.002804          -0.578736         1.742740  "
      ]
     },
     "execution_count": 200,
     "metadata": {},
     "output_type": "execute_result"
    }
   ],
   "source": [
    "features_train.head()"
   ]
  },
  {
   "cell_type": "code",
   "execution_count": 201,
   "metadata": {},
   "outputs": [
    {
     "data": {
      "text/html": [
       "<div>\n",
       "<style scoped>\n",
       "    .dataframe tbody tr th:only-of-type {\n",
       "        vertical-align: middle;\n",
       "    }\n",
       "\n",
       "    .dataframe tbody tr th {\n",
       "        vertical-align: top;\n",
       "    }\n",
       "\n",
       "    .dataframe thead th {\n",
       "        text-align: right;\n",
       "    }\n",
       "</style>\n",
       "<table border=\"1\" class=\"dataframe\">\n",
       "  <thead>\n",
       "    <tr style=\"text-align: right;\">\n",
       "      <th></th>\n",
       "      <th>credit_score</th>\n",
       "      <th>age</th>\n",
       "      <th>tenure</th>\n",
       "      <th>balance</th>\n",
       "      <th>num_of_products</th>\n",
       "      <th>has_cr_card</th>\n",
       "      <th>is_active_member</th>\n",
       "      <th>estimated_salary</th>\n",
       "      <th>gender_female</th>\n",
       "      <th>gender_male</th>\n",
       "      <th>geography_france</th>\n",
       "      <th>geography_germany</th>\n",
       "      <th>geography_spain</th>\n",
       "    </tr>\n",
       "  </thead>\n",
       "  <tbody>\n",
       "    <tr>\n",
       "      <th>7072</th>\n",
       "      <td>0.367013</td>\n",
       "      <td>-0.183251</td>\n",
       "      <td>1.450103</td>\n",
       "      <td>0.930770</td>\n",
       "      <td>-0.911583</td>\n",
       "      <td>0.646092</td>\n",
       "      <td>-1.030670</td>\n",
       "      <td>-1.260596</td>\n",
       "      <td>-0.912419</td>\n",
       "      <td>0.912419</td>\n",
       "      <td>0.997204</td>\n",
       "      <td>-0.578736</td>\n",
       "      <td>-0.573809</td>\n",
       "    </tr>\n",
       "    <tr>\n",
       "      <th>6204</th>\n",
       "      <td>-1.578181</td>\n",
       "      <td>-0.564665</td>\n",
       "      <td>-1.448581</td>\n",
       "      <td>1.949345</td>\n",
       "      <td>-0.911583</td>\n",
       "      <td>0.646092</td>\n",
       "      <td>-1.030670</td>\n",
       "      <td>-0.529076</td>\n",
       "      <td>-0.912419</td>\n",
       "      <td>0.912419</td>\n",
       "      <td>0.997204</td>\n",
       "      <td>-0.578736</td>\n",
       "      <td>-0.573809</td>\n",
       "    </tr>\n",
       "    <tr>\n",
       "      <th>7110</th>\n",
       "      <td>0.294585</td>\n",
       "      <td>-1.041433</td>\n",
       "      <td>1.450103</td>\n",
       "      <td>-1.225848</td>\n",
       "      <td>0.807737</td>\n",
       "      <td>-1.547768</td>\n",
       "      <td>0.970243</td>\n",
       "      <td>-0.666494</td>\n",
       "      <td>1.095988</td>\n",
       "      <td>-1.095988</td>\n",
       "      <td>-1.002804</td>\n",
       "      <td>-0.578736</td>\n",
       "      <td>1.742740</td>\n",
       "    </tr>\n",
       "    <tr>\n",
       "      <th>220</th>\n",
       "      <td>0.780884</td>\n",
       "      <td>-0.755372</td>\n",
       "      <td>1.450103</td>\n",
       "      <td>0.612815</td>\n",
       "      <td>0.807737</td>\n",
       "      <td>0.646092</td>\n",
       "      <td>0.970243</td>\n",
       "      <td>-0.033242</td>\n",
       "      <td>1.095988</td>\n",
       "      <td>-1.095988</td>\n",
       "      <td>0.997204</td>\n",
       "      <td>-0.578736</td>\n",
       "      <td>-0.573809</td>\n",
       "    </tr>\n",
       "    <tr>\n",
       "      <th>69</th>\n",
       "      <td>0.253198</td>\n",
       "      <td>-1.708908</td>\n",
       "      <td>1.087768</td>\n",
       "      <td>0.350791</td>\n",
       "      <td>-0.911583</td>\n",
       "      <td>0.646092</td>\n",
       "      <td>-1.030670</td>\n",
       "      <td>-1.423937</td>\n",
       "      <td>1.095988</td>\n",
       "      <td>-1.095988</td>\n",
       "      <td>0.997204</td>\n",
       "      <td>-0.578736</td>\n",
       "      <td>-0.573809</td>\n",
       "    </tr>\n",
       "  </tbody>\n",
       "</table>\n",
       "</div>"
      ],
      "text/plain": [
       "      credit_score       age    tenure   balance  num_of_products  \\\n",
       "7072      0.367013 -0.183251  1.450103  0.930770        -0.911583   \n",
       "6204     -1.578181 -0.564665 -1.448581  1.949345        -0.911583   \n",
       "7110      0.294585 -1.041433  1.450103 -1.225848         0.807737   \n",
       "220       0.780884 -0.755372  1.450103  0.612815         0.807737   \n",
       "69        0.253198 -1.708908  1.087768  0.350791        -0.911583   \n",
       "\n",
       "      has_cr_card  is_active_member  estimated_salary  gender_female  \\\n",
       "7072     0.646092         -1.030670         -1.260596      -0.912419   \n",
       "6204     0.646092         -1.030670         -0.529076      -0.912419   \n",
       "7110    -1.547768          0.970243         -0.666494       1.095988   \n",
       "220      0.646092          0.970243         -0.033242       1.095988   \n",
       "69       0.646092         -1.030670         -1.423937       1.095988   \n",
       "\n",
       "      gender_male  geography_france  geography_germany  geography_spain  \n",
       "7072     0.912419          0.997204          -0.578736        -0.573809  \n",
       "6204     0.912419          0.997204          -0.578736        -0.573809  \n",
       "7110    -1.095988         -1.002804          -0.578736         1.742740  \n",
       "220     -1.095988          0.997204          -0.578736        -0.573809  \n",
       "69      -1.095988          0.997204          -0.578736        -0.573809  "
      ]
     },
     "execution_count": 201,
     "metadata": {},
     "output_type": "execute_result"
    }
   ],
   "source": [
    "X_valid.head()"
   ]
  },
  {
   "cell_type": "code",
   "execution_count": 202,
   "metadata": {},
   "outputs": [
    {
     "data": {
      "text/html": [
       "<div>\n",
       "<style scoped>\n",
       "    .dataframe tbody tr th:only-of-type {\n",
       "        vertical-align: middle;\n",
       "    }\n",
       "\n",
       "    .dataframe tbody tr th {\n",
       "        vertical-align: top;\n",
       "    }\n",
       "\n",
       "    .dataframe thead th {\n",
       "        text-align: right;\n",
       "    }\n",
       "</style>\n",
       "<table border=\"1\" class=\"dataframe\">\n",
       "  <thead>\n",
       "    <tr style=\"text-align: right;\">\n",
       "      <th></th>\n",
       "      <th>credit_score</th>\n",
       "      <th>age</th>\n",
       "      <th>tenure</th>\n",
       "      <th>balance</th>\n",
       "      <th>num_of_products</th>\n",
       "      <th>has_cr_card</th>\n",
       "      <th>is_active_member</th>\n",
       "      <th>estimated_salary</th>\n",
       "      <th>gender_female</th>\n",
       "      <th>gender_male</th>\n",
       "      <th>geography_france</th>\n",
       "      <th>geography_germany</th>\n",
       "      <th>geography_spain</th>\n",
       "    </tr>\n",
       "  </thead>\n",
       "  <tbody>\n",
       "    <tr>\n",
       "      <th>8113</th>\n",
       "      <td>-2.374883</td>\n",
       "      <td>-0.469311</td>\n",
       "      <td>0.363096</td>\n",
       "      <td>0.228185</td>\n",
       "      <td>-0.911583</td>\n",
       "      <td>0.646092</td>\n",
       "      <td>0.970243</td>\n",
       "      <td>-1.528971</td>\n",
       "      <td>-0.912419</td>\n",
       "      <td>0.912419</td>\n",
       "      <td>-1.002804</td>\n",
       "      <td>-0.578736</td>\n",
       "      <td>1.742740</td>\n",
       "    </tr>\n",
       "    <tr>\n",
       "      <th>1562</th>\n",
       "      <td>0.449787</td>\n",
       "      <td>-0.755372</td>\n",
       "      <td>0.363096</td>\n",
       "      <td>0.521950</td>\n",
       "      <td>0.807737</td>\n",
       "      <td>0.646092</td>\n",
       "      <td>0.970243</td>\n",
       "      <td>-1.402272</td>\n",
       "      <td>-0.912419</td>\n",
       "      <td>0.912419</td>\n",
       "      <td>-1.002804</td>\n",
       "      <td>1.727904</td>\n",
       "      <td>-0.573809</td>\n",
       "    </tr>\n",
       "    <tr>\n",
       "      <th>5735</th>\n",
       "      <td>-0.678012</td>\n",
       "      <td>0.484225</td>\n",
       "      <td>-0.361575</td>\n",
       "      <td>-1.225848</td>\n",
       "      <td>0.807737</td>\n",
       "      <td>-1.547768</td>\n",
       "      <td>0.970243</td>\n",
       "      <td>0.028487</td>\n",
       "      <td>1.095988</td>\n",
       "      <td>-1.095988</td>\n",
       "      <td>-1.002804</td>\n",
       "      <td>-0.578736</td>\n",
       "      <td>1.742740</td>\n",
       "    </tr>\n",
       "    <tr>\n",
       "      <th>9834</th>\n",
       "      <td>-1.391939</td>\n",
       "      <td>0.674932</td>\n",
       "      <td>0.363096</td>\n",
       "      <td>-0.228765</td>\n",
       "      <td>-0.911583</td>\n",
       "      <td>-1.547768</td>\n",
       "      <td>0.970243</td>\n",
       "      <td>1.244907</td>\n",
       "      <td>1.095988</td>\n",
       "      <td>-1.095988</td>\n",
       "      <td>0.997204</td>\n",
       "      <td>-0.578736</td>\n",
       "      <td>-0.573809</td>\n",
       "    </tr>\n",
       "    <tr>\n",
       "      <th>5379</th>\n",
       "      <td>-0.243447</td>\n",
       "      <td>-1.708908</td>\n",
       "      <td>0.725432</td>\n",
       "      <td>0.360724</td>\n",
       "      <td>-0.911583</td>\n",
       "      <td>0.646092</td>\n",
       "      <td>0.970243</td>\n",
       "      <td>1.200996</td>\n",
       "      <td>1.095988</td>\n",
       "      <td>-1.095988</td>\n",
       "      <td>0.997204</td>\n",
       "      <td>-0.578736</td>\n",
       "      <td>-0.573809</td>\n",
       "    </tr>\n",
       "  </tbody>\n",
       "</table>\n",
       "</div>"
      ],
      "text/plain": [
       "      credit_score       age    tenure   balance  num_of_products  \\\n",
       "8113     -2.374883 -0.469311  0.363096  0.228185        -0.911583   \n",
       "1562      0.449787 -0.755372  0.363096  0.521950         0.807737   \n",
       "5735     -0.678012  0.484225 -0.361575 -1.225848         0.807737   \n",
       "9834     -1.391939  0.674932  0.363096 -0.228765        -0.911583   \n",
       "5379     -0.243447 -1.708908  0.725432  0.360724        -0.911583   \n",
       "\n",
       "      has_cr_card  is_active_member  estimated_salary  gender_female  \\\n",
       "8113     0.646092          0.970243         -1.528971      -0.912419   \n",
       "1562     0.646092          0.970243         -1.402272      -0.912419   \n",
       "5735    -1.547768          0.970243          0.028487       1.095988   \n",
       "9834    -1.547768          0.970243          1.244907       1.095988   \n",
       "5379     0.646092          0.970243          1.200996       1.095988   \n",
       "\n",
       "      gender_male  geography_france  geography_germany  geography_spain  \n",
       "8113     0.912419         -1.002804          -0.578736         1.742740  \n",
       "1562     0.912419         -1.002804           1.727904        -0.573809  \n",
       "5735    -1.095988         -1.002804          -0.578736         1.742740  \n",
       "9834    -1.095988          0.997204          -0.578736        -0.573809  \n",
       "5379    -1.095988          0.997204          -0.578736        -0.573809  "
      ]
     },
     "execution_count": 202,
     "metadata": {},
     "output_type": "execute_result"
    }
   ],
   "source": [
    "X_test.head()"
   ]
  },
  {
   "cell_type": "markdown",
   "metadata": {},
   "source": [
    "### Результаты подготовки данных\n",
    "\n",
    "\n",
    "- Все слова приведены к нижнему регистру, между словами проставлены нижние подчеркивания\n",
    "\n",
    "\n",
    "- Удален столбец с фамилиями т.к. для исследования нам данный столбец не нужен т.к. является категориальной фичей, а идентифицировать пользователя нам легче по customer_id\n",
    "\n",
    "\n",
    "- Категориальные признаки по месту нахождения и гендерной принадлежности были переведены в количественные.\n",
    "\n",
    "\n",
    "- Phik корреляция указала на то что столбцы num_of_products и age имееют большую влияние на целевую переменную.\n",
    "\n",
    "\n",
    "- Пропуски tenure - значения в столбце приблизительно равнораспределены, сначала я хотел сделать модель регрессии которая бы предсказала мне значения столбца, но обе корреляции указывают на то что данный столбец имеет наименьшую ценность для целевой переменной. Потом решил заполнить значения - случайными числами от 1-10, но понял что это неправильно. В итоге заполнил средним т.к. нет выбросов и признак достаточно равнораспределен, возможно вообще удалю весь столбец.\n",
    "\n",
    "\n",
    "- Выборки разбиты на тренировочную и валидационную\n",
    "\n",
    "\n",
    "- Проведена стандартизация всех переменных"
   ]
  },
  {
   "cell_type": "markdown",
   "metadata": {},
   "source": [
    "## Исследование задачи"
   ]
  },
  {
   "cell_type": "code",
   "execution_count": 203,
   "metadata": {
    "scrolled": false
   },
   "outputs": [
    {
     "name": "stdout",
     "output_type": "stream",
     "text": [
      "0    7963\n",
      "1    2037\n",
      "Name: exited, dtype: int64\n"
     ]
    },
    {
     "data": {
      "image/png": "[encoded data removed]",
      "text/plain": [
       "<Figure size 720x720 with 1 Axes>"
      ]
     },
     "metadata": {},
     "output_type": "display_data"
    }
   ],
   "source": [
    "print(df['exited'].value_counts())\n",
    "target_valid.value_counts().plot(kind='pie', \n",
    "                                 y='exited',\n",
    "                                 figsize = (10,10),\n",
    "                                 );"
   ]
  },
  {
   "cell_type": "markdown",
   "metadata": {},
   "source": [
    "clf = RandomForestClassifier(random_state=42)\n",
    "param_grid = {\n",
    "    'n_estimators': [100, 200, 10],\n",
    "    'max_depth': [10, 35, 2],\n",
    "    'min_samples_leaf': range (1,5),\n",
    "    'min_samples_split': range (1,10)}\n",
    "grid_search = GridSearchCV(clf, param_grid, cv=5, scoring='f1', verbose=10)  \n",
    "grid_search.fit(features_train, target_train)\n",
    "\n",
    "print('Наилучшая комбинация параметров:', grid_search.best_params_)\n",
    "print('f1 score =', grid_search.best_score_)"
   ]
  },
  {
   "cell_type": "markdown",
   "metadata": {},
   "source": [
    "Наилучшая комбинация параметров: {'max_depth': 35, 'min_samples_leaf': 1, 'min_samples_split': 7, 'n_estimators': 200}\n",
    "\n",
    "\n",
    "f1 score = 0.5595536439820081\n",
    "\n",
    "**Перевел в markdown т.к. долго выполняется**"
   ]
  },
  {
   "cell_type": "code",
   "execution_count": 204,
   "metadata": {},
   "outputs": [],
   "source": [
    "def calculate_metrics(model, X, y):\n",
    "    y_pred = model.predict(X)\n",
    "    f1 = f1_score(y_pred, y)\n",
    "    precision = precision_score(y, y_pred)\n",
    "    recall = recall_score(y, y_pred)\n",
    "    probabilities_valid = model.predict_proba(X)[:, 1]\n",
    "    fpr, tpr, thresholds = roc_curve(y, probabilities_valid)\n",
    "    roc_auc_curve = auc(fpr, tpr)\n",
    "    plt.plot(fpr, tpr, label='ROC curve (area = %0.2f)' % roc_auc_curve)\n",
    "    plt.plot([0, 1], [0, 1], 'k--')\n",
    "    plt.xlim([0.0, 1.0])\n",
    "    plt.ylim([0.0, 1.05])\n",
    "    plt.xlabel('False Positive Rate')\n",
    "    plt.ylabel('True Positive Rate')\n",
    "    plt.title('ROC_AUC')\n",
    "    plt.legend(loc=\"lower right\")\n",
    "    plt.show()\n",
    "\n",
    "    return print(f\"f1_score = {f1}\\nroc_auc = {roc_auc_curve}\\nprecision = {precision}\\nrecall = {recall}\")"
   ]
  },
  {
   "cell_type": "code",
   "execution_count": 205,
   "metadata": {},
   "outputs": [
    {
     "data": {
      "image/png": "[encoded data removed]",
      "text/plain": [
       "<Figure size 432x288 with 1 Axes>"
      ]
     },
     "metadata": {
      "needs_background": "light"
     },
     "output_type": "display_data"
    },
    {
     "name": "stdout",
     "output_type": "stream",
     "text": [
      "f1_score = 0.5961820851688693\n",
      "roc_auc = 0.8608413568360243\n",
      "precision = 0.8087649402390438\n",
      "recall = 0.4720930232558139\n"
     ]
    }
   ],
   "source": [
    "param_rf = {\n",
    "    'n_estimators': 200,\n",
    "    'max_depth': 35,\n",
    "    'min_samples_leaf': 1,\n",
    "    'min_samples_split': 7\n",
    "}\n",
    "\n",
    "model_rf = RandomForestClassifier(random_state=RANDOM_STATE, **param_rf)\n",
    "model_rf.fit(features_train, target_train)\n",
    "calculate_metrics(model_rf, X_valid, y_valid)"
   ]
  },
  {
   "cell_type": "markdown",
   "metadata": {},
   "source": [
    "### Результат исследования задачи\n",
    "\n",
    "\n",
    "- Выявлен дисбаланс классов - строк с 1 классом в 4 раза меньше, чем строк с классом 0\n",
    "\n",
    "\n",
    "- С помощью gridsearch были определены лучшие гиперпараметры для модели случайного леса\n",
    "\n",
    "\n",
    "- Написана функция для подсчета метрик\n",
    "\n",
    "\n",
    "- Результат f1 на алгоритме случайного леса с Hold-out валидацией и найденными параметрами на gridsearch 0.5873417721518988 что я считаю неплохим результатом\n",
    "\n",
    "\n",
    "- Результат f1 на алгоритме случайного леса с Cross валидацией и найденными параметрами на gridsearch 0.5708888036152067 при наличии выброса 0.46071429 который сильно отражается на средней:("
   ]
  },
  {
   "cell_type": "markdown",
   "metadata": {},
   "source": [
    "## Борьба с дисбалансом"
   ]
  },
  {
   "cell_type": "markdown",
   "metadata": {},
   "source": [
    "- Убедимся в том что выборки которые мы будем балансить содержат только обучающие данные (0.6 от всего датасета)"
   ]
  },
  {
   "cell_type": "code",
   "execution_count": 229,
   "metadata": {},
   "outputs": [
    {
     "data": {
      "text/plain": [
       "6000"
      ]
     },
     "execution_count": 229,
     "metadata": {},
     "output_type": "execute_result"
    }
   ],
   "source": [
    "len(target_train)"
   ]
  },
  {
   "cell_type": "code",
   "execution_count": 230,
   "metadata": {},
   "outputs": [
    {
     "data": {
      "text/html": [
       "<div>\n",
       "<style scoped>\n",
       "    .dataframe tbody tr th:only-of-type {\n",
       "        vertical-align: middle;\n",
       "    }\n",
       "\n",
       "    .dataframe tbody tr th {\n",
       "        vertical-align: top;\n",
       "    }\n",
       "\n",
       "    .dataframe thead th {\n",
       "        text-align: right;\n",
       "    }\n",
       "</style>\n",
       "<table border=\"1\" class=\"dataframe\">\n",
       "  <thead>\n",
       "    <tr style=\"text-align: right;\">\n",
       "      <th></th>\n",
       "      <th>credit_score</th>\n",
       "      <th>age</th>\n",
       "      <th>tenure</th>\n",
       "      <th>balance</th>\n",
       "      <th>num_of_products</th>\n",
       "      <th>has_cr_card</th>\n",
       "      <th>is_active_member</th>\n",
       "      <th>estimated_salary</th>\n",
       "      <th>gender_female</th>\n",
       "      <th>gender_male</th>\n",
       "      <th>geography_france</th>\n",
       "      <th>geography_germany</th>\n",
       "      <th>geography_spain</th>\n",
       "    </tr>\n",
       "  </thead>\n",
       "  <tbody>\n",
       "    <tr>\n",
       "      <th>9761</th>\n",
       "      <td>1.618972</td>\n",
       "      <td>2.009882</td>\n",
       "      <td>0.000761</td>\n",
       "      <td>-0.056693</td>\n",
       "      <td>0.807737</td>\n",
       "      <td>0.646092</td>\n",
       "      <td>0.970243</td>\n",
       "      <td>-1.438677</td>\n",
       "      <td>1.095988</td>\n",
       "      <td>-1.095988</td>\n",
       "      <td>-1.002804</td>\n",
       "      <td>1.727904</td>\n",
       "      <td>-0.573809</td>\n",
       "    </tr>\n",
       "    <tr>\n",
       "      <th>3159</th>\n",
       "      <td>1.898335</td>\n",
       "      <td>-1.518201</td>\n",
       "      <td>-0.361575</td>\n",
       "      <td>0.877787</td>\n",
       "      <td>-0.911583</td>\n",
       "      <td>0.646092</td>\n",
       "      <td>-1.030670</td>\n",
       "      <td>-1.389224</td>\n",
       "      <td>-0.912419</td>\n",
       "      <td>0.912419</td>\n",
       "      <td>0.997204</td>\n",
       "      <td>-0.578736</td>\n",
       "      <td>-0.573809</td>\n",
       "    </tr>\n",
       "    <tr>\n",
       "      <th>1489</th>\n",
       "      <td>-0.429689</td>\n",
       "      <td>0.007457</td>\n",
       "      <td>1.087768</td>\n",
       "      <td>1.044797</td>\n",
       "      <td>-0.911583</td>\n",
       "      <td>-1.547768</td>\n",
       "      <td>0.970243</td>\n",
       "      <td>1.314157</td>\n",
       "      <td>1.095988</td>\n",
       "      <td>-1.095988</td>\n",
       "      <td>0.997204</td>\n",
       "      <td>-0.578736</td>\n",
       "      <td>-0.573809</td>\n",
       "    </tr>\n",
       "    <tr>\n",
       "      <th>2987</th>\n",
       "      <td>0.263545</td>\n",
       "      <td>-1.232140</td>\n",
       "      <td>-1.448581</td>\n",
       "      <td>0.510668</td>\n",
       "      <td>-0.911583</td>\n",
       "      <td>-1.547768</td>\n",
       "      <td>-1.030670</td>\n",
       "      <td>-0.693099</td>\n",
       "      <td>1.095988</td>\n",
       "      <td>-1.095988</td>\n",
       "      <td>-1.002804</td>\n",
       "      <td>1.727904</td>\n",
       "      <td>-0.573809</td>\n",
       "    </tr>\n",
       "    <tr>\n",
       "      <th>812</th>\n",
       "      <td>-1.391939</td>\n",
       "      <td>-0.564665</td>\n",
       "      <td>-0.723910</td>\n",
       "      <td>-1.225848</td>\n",
       "      <td>0.807737</td>\n",
       "      <td>0.646092</td>\n",
       "      <td>0.970243</td>\n",
       "      <td>-0.719985</td>\n",
       "      <td>1.095988</td>\n",
       "      <td>-1.095988</td>\n",
       "      <td>-1.002804</td>\n",
       "      <td>-0.578736</td>\n",
       "      <td>1.742740</td>\n",
       "    </tr>\n",
       "    <tr>\n",
       "      <th>...</th>\n",
       "      <td>...</td>\n",
       "      <td>...</td>\n",
       "      <td>...</td>\n",
       "      <td>...</td>\n",
       "      <td>...</td>\n",
       "      <td>...</td>\n",
       "      <td>...</td>\n",
       "      <td>...</td>\n",
       "      <td>...</td>\n",
       "      <td>...</td>\n",
       "      <td>...</td>\n",
       "      <td>...</td>\n",
       "      <td>...</td>\n",
       "    </tr>\n",
       "    <tr>\n",
       "      <th>5734</th>\n",
       "      <td>1.215448</td>\n",
       "      <td>1.437761</td>\n",
       "      <td>1.087768</td>\n",
       "      <td>-0.108554</td>\n",
       "      <td>-0.911583</td>\n",
       "      <td>0.646092</td>\n",
       "      <td>0.970243</td>\n",
       "      <td>-0.534002</td>\n",
       "      <td>-0.912419</td>\n",
       "      <td>0.912419</td>\n",
       "      <td>0.997204</td>\n",
       "      <td>-0.578736</td>\n",
       "      <td>-0.573809</td>\n",
       "    </tr>\n",
       "    <tr>\n",
       "      <th>5191</th>\n",
       "      <td>0.325625</td>\n",
       "      <td>1.819175</td>\n",
       "      <td>-1.448581</td>\n",
       "      <td>-1.225848</td>\n",
       "      <td>-0.911583</td>\n",
       "      <td>0.646092</td>\n",
       "      <td>0.970243</td>\n",
       "      <td>-1.728184</td>\n",
       "      <td>1.095988</td>\n",
       "      <td>-1.095988</td>\n",
       "      <td>0.997204</td>\n",
       "      <td>-0.578736</td>\n",
       "      <td>-0.573809</td>\n",
       "    </tr>\n",
       "    <tr>\n",
       "      <th>5390</th>\n",
       "      <td>0.874005</td>\n",
       "      <td>-0.087897</td>\n",
       "      <td>-1.448581</td>\n",
       "      <td>-1.225848</td>\n",
       "      <td>2.527057</td>\n",
       "      <td>-1.547768</td>\n",
       "      <td>-1.030670</td>\n",
       "      <td>-0.136854</td>\n",
       "      <td>1.095988</td>\n",
       "      <td>-1.095988</td>\n",
       "      <td>0.997204</td>\n",
       "      <td>-0.578736</td>\n",
       "      <td>-0.573809</td>\n",
       "    </tr>\n",
       "    <tr>\n",
       "      <th>860</th>\n",
       "      <td>0.170424</td>\n",
       "      <td>0.388871</td>\n",
       "      <td>1.087768</td>\n",
       "      <td>1.822949</td>\n",
       "      <td>-0.911583</td>\n",
       "      <td>0.646092</td>\n",
       "      <td>-1.030670</td>\n",
       "      <td>-0.044902</td>\n",
       "      <td>-0.912419</td>\n",
       "      <td>0.912419</td>\n",
       "      <td>0.997204</td>\n",
       "      <td>-0.578736</td>\n",
       "      <td>-0.573809</td>\n",
       "    </tr>\n",
       "    <tr>\n",
       "      <th>7270</th>\n",
       "      <td>0.480827</td>\n",
       "      <td>1.151700</td>\n",
       "      <td>-1.448581</td>\n",
       "      <td>1.144727</td>\n",
       "      <td>-0.911583</td>\n",
       "      <td>0.646092</td>\n",
       "      <td>0.970243</td>\n",
       "      <td>-0.808747</td>\n",
       "      <td>-0.912419</td>\n",
       "      <td>0.912419</td>\n",
       "      <td>-1.002804</td>\n",
       "      <td>1.727904</td>\n",
       "      <td>-0.573809</td>\n",
       "    </tr>\n",
       "  </tbody>\n",
       "</table>\n",
       "<p>6000 rows × 13 columns</p>\n",
       "</div>"
      ],
      "text/plain": [
       "      credit_score       age    tenure   balance  num_of_products  \\\n",
       "9761      1.618972  2.009882  0.000761 -0.056693         0.807737   \n",
       "3159      1.898335 -1.518201 -0.361575  0.877787        -0.911583   \n",
       "1489     -0.429689  0.007457  1.087768  1.044797        -0.911583   \n",
       "2987      0.263545 -1.232140 -1.448581  0.510668        -0.911583   \n",
       "812      -1.391939 -0.564665 -0.723910 -1.225848         0.807737   \n",
       "...            ...       ...       ...       ...              ...   \n",
       "5734      1.215448  1.437761  1.087768 -0.108554        -0.911583   \n",
       "5191      0.325625  1.819175 -1.448581 -1.225848        -0.911583   \n",
       "5390      0.874005 -0.087897 -1.448581 -1.225848         2.527057   \n",
       "860       0.170424  0.388871  1.087768  1.822949        -0.911583   \n",
       "7270      0.480827  1.151700 -1.448581  1.144727        -0.911583   \n",
       "\n",
       "      has_cr_card  is_active_member  estimated_salary  gender_female  \\\n",
       "9761     0.646092          0.970243         -1.438677       1.095988   \n",
       "3159     0.646092         -1.030670         -1.389224      -0.912419   \n",
       "1489    -1.547768          0.970243          1.314157       1.095988   \n",
       "2987    -1.547768         -1.030670         -0.693099       1.095988   \n",
       "812      0.646092          0.970243         -0.719985       1.095988   \n",
       "...           ...               ...               ...            ...   \n",
       "5734     0.646092          0.970243         -0.534002      -0.912419   \n",
       "5191     0.646092          0.970243         -1.728184       1.095988   \n",
       "5390    -1.547768         -1.030670         -0.136854       1.095988   \n",
       "860      0.646092         -1.030670         -0.044902      -0.912419   \n",
       "7270     0.646092          0.970243         -0.808747      -0.912419   \n",
       "\n",
       "      gender_male  geography_france  geography_germany  geography_spain  \n",
       "9761    -1.095988         -1.002804           1.727904        -0.573809  \n",
       "3159     0.912419          0.997204          -0.578736        -0.573809  \n",
       "1489    -1.095988          0.997204          -0.578736        -0.573809  \n",
       "2987    -1.095988         -1.002804           1.727904        -0.573809  \n",
       "812     -1.095988         -1.002804          -0.578736         1.742740  \n",
       "...           ...               ...                ...              ...  \n",
       "5734     0.912419          0.997204          -0.578736        -0.573809  \n",
       "5191    -1.095988          0.997204          -0.578736        -0.573809  \n",
       "5390    -1.095988          0.997204          -0.578736        -0.573809  \n",
       "860      0.912419          0.997204          -0.578736        -0.573809  \n",
       "7270     0.912419         -1.002804           1.727904        -0.573809  \n",
       "\n",
       "[6000 rows x 13 columns]"
      ]
     },
     "execution_count": 230,
     "metadata": {},
     "output_type": "execute_result"
    }
   ],
   "source": [
    "features_train"
   ]
  },
  {
   "cell_type": "markdown",
   "metadata": {},
   "source": [
    "### SMOTE"
   ]
  },
  {
   "cell_type": "code",
   "execution_count": 231,
   "metadata": {
    "scrolled": true
   },
   "outputs": [
    {
     "name": "stdout",
     "output_type": "stream",
     "text": [
      "Resampled dataset shape Counter({0: 4773, 1: 4773})\n"
     ]
    }
   ],
   "source": [
    "sm = SMOTE(sampling_strategy= 1, random_state=RANDOM_STATE)\n",
    "X_res, y_res = sm.fit_resample(features_train, target_train)\n",
    "print('Resampled dataset shape %s' % Counter(y_res))\n",
    "\n",
    "data = np.column_stack((X_res, y_res))\n",
    "data_shuffled = shuffle(data, random_state=RANDOM_STATE)\n",
    "X_res = data_shuffled[:, :-1]\n",
    "y_res = data_shuffled[:, -1]\n",
    "X_res = pd.DataFrame(X_res, columns=features_train.columns)"
   ]
  },
  {
   "cell_type": "code",
   "execution_count": 232,
   "metadata": {
    "scrolled": true
   },
   "outputs": [
    {
     "data": {
      "text/plain": [
       "0    1570\n",
       "1     430\n",
       "Name: exited, dtype: int64"
      ]
     },
     "execution_count": 232,
     "metadata": {},
     "output_type": "execute_result"
    }
   ],
   "source": [
    "y_valid.value_counts()"
   ]
  },
  {
   "cell_type": "markdown",
   "metadata": {},
   "source": [
    "### CATBOOST sm"
   ]
  },
  {
   "cell_type": "markdown",
   "metadata": {},
   "source": [
    "#Catboost\n",
    "cat_model = CatBoostClassifier()\n",
    "cat_grid = {'learning_rate': [0.03, 0.1],\n",
    "            'depth': [4, 6],\n",
    "            'l2_leaf_reg': [1, 5]\n",
    "           }\n",
    "grid_search = GridSearchCV(cat_model, cat_grid, cv=5,scoring='f1')\n",
    "grid_search.fit(X_train, y_train)\n",
    "print(grid_search.best_params_)\n",
    "print(grid_search.best_score_)"
   ]
  },
  {
   "cell_type": "code",
   "execution_count": 233,
   "metadata": {},
   "outputs": [
    {
     "data": {
      "text/html": [
       "<div>\n",
       "<style scoped>\n",
       "    .dataframe tbody tr th:only-of-type {\n",
       "        vertical-align: middle;\n",
       "    }\n",
       "\n",
       "    .dataframe tbody tr th {\n",
       "        vertical-align: top;\n",
       "    }\n",
       "\n",
       "    .dataframe thead th {\n",
       "        text-align: right;\n",
       "    }\n",
       "</style>\n",
       "<table border=\"1\" class=\"dataframe\">\n",
       "  <thead>\n",
       "    <tr style=\"text-align: right;\">\n",
       "      <th></th>\n",
       "      <th>credit_score</th>\n",
       "      <th>age</th>\n",
       "      <th>tenure</th>\n",
       "      <th>balance</th>\n",
       "      <th>num_of_products</th>\n",
       "      <th>has_cr_card</th>\n",
       "      <th>is_active_member</th>\n",
       "      <th>estimated_salary</th>\n",
       "      <th>gender_female</th>\n",
       "      <th>gender_male</th>\n",
       "      <th>geography_france</th>\n",
       "      <th>geography_germany</th>\n",
       "      <th>geography_spain</th>\n",
       "    </tr>\n",
       "  </thead>\n",
       "  <tbody>\n",
       "    <tr>\n",
       "      <th>0</th>\n",
       "      <td>0.877997</td>\n",
       "      <td>1.675576</td>\n",
       "      <td>1.480658</td>\n",
       "      <td>1.084825</td>\n",
       "      <td>-0.911583</td>\n",
       "      <td>-1.547768</td>\n",
       "      <td>-1.030670</td>\n",
       "      <td>0.832076</td>\n",
       "      <td>1.095988</td>\n",
       "      <td>-1.095988</td>\n",
       "      <td>-1.002804</td>\n",
       "      <td>1.727904</td>\n",
       "      <td>-0.573809</td>\n",
       "    </tr>\n",
       "    <tr>\n",
       "      <th>1</th>\n",
       "      <td>-0.581757</td>\n",
       "      <td>1.349123</td>\n",
       "      <td>-0.359023</td>\n",
       "      <td>-1.225848</td>\n",
       "      <td>-0.911583</td>\n",
       "      <td>0.646092</td>\n",
       "      <td>-1.030670</td>\n",
       "      <td>-1.643639</td>\n",
       "      <td>1.095988</td>\n",
       "      <td>-1.095988</td>\n",
       "      <td>0.997204</td>\n",
       "      <td>-0.578736</td>\n",
       "      <td>-0.573809</td>\n",
       "    </tr>\n",
       "    <tr>\n",
       "      <th>2</th>\n",
       "      <td>-1.205697</td>\n",
       "      <td>-0.469311</td>\n",
       "      <td>0.000761</td>\n",
       "      <td>0.722273</td>\n",
       "      <td>0.807737</td>\n",
       "      <td>0.646092</td>\n",
       "      <td>0.970243</td>\n",
       "      <td>-0.520127</td>\n",
       "      <td>1.095988</td>\n",
       "      <td>-1.095988</td>\n",
       "      <td>0.997204</td>\n",
       "      <td>-0.578736</td>\n",
       "      <td>-0.573809</td>\n",
       "    </tr>\n",
       "    <tr>\n",
       "      <th>3</th>\n",
       "      <td>0.288560</td>\n",
       "      <td>0.443125</td>\n",
       "      <td>-0.697364</td>\n",
       "      <td>0.858956</td>\n",
       "      <td>-0.911583</td>\n",
       "      <td>-1.547768</td>\n",
       "      <td>0.970243</td>\n",
       "      <td>-1.255799</td>\n",
       "      <td>1.095988</td>\n",
       "      <td>-1.095988</td>\n",
       "      <td>-1.002804</td>\n",
       "      <td>1.727904</td>\n",
       "      <td>-0.573809</td>\n",
       "    </tr>\n",
       "    <tr>\n",
       "      <th>4</th>\n",
       "      <td>-1.185004</td>\n",
       "      <td>0.484225</td>\n",
       "      <td>-0.361575</td>\n",
       "      <td>0.727838</td>\n",
       "      <td>-0.911583</td>\n",
       "      <td>-1.547768</td>\n",
       "      <td>-1.030670</td>\n",
       "      <td>0.537615</td>\n",
       "      <td>1.095988</td>\n",
       "      <td>-1.095988</td>\n",
       "      <td>-1.002804</td>\n",
       "      <td>1.727904</td>\n",
       "      <td>-0.573809</td>\n",
       "    </tr>\n",
       "    <tr>\n",
       "      <th>...</th>\n",
       "      <td>...</td>\n",
       "      <td>...</td>\n",
       "      <td>...</td>\n",
       "      <td>...</td>\n",
       "      <td>...</td>\n",
       "      <td>...</td>\n",
       "      <td>...</td>\n",
       "      <td>...</td>\n",
       "      <td>...</td>\n",
       "      <td>...</td>\n",
       "      <td>...</td>\n",
       "      <td>...</td>\n",
       "      <td>...</td>\n",
       "    </tr>\n",
       "    <tr>\n",
       "      <th>9541</th>\n",
       "      <td>-2.519738</td>\n",
       "      <td>-0.183251</td>\n",
       "      <td>-1.448581</td>\n",
       "      <td>-1.225848</td>\n",
       "      <td>-0.911583</td>\n",
       "      <td>0.646092</td>\n",
       "      <td>0.970243</td>\n",
       "      <td>-0.885607</td>\n",
       "      <td>-0.912419</td>\n",
       "      <td>0.912419</td>\n",
       "      <td>-1.002804</td>\n",
       "      <td>-0.578736</td>\n",
       "      <td>1.742740</td>\n",
       "    </tr>\n",
       "    <tr>\n",
       "      <th>9542</th>\n",
       "      <td>0.367013</td>\n",
       "      <td>-0.087897</td>\n",
       "      <td>0.363096</td>\n",
       "      <td>1.166022</td>\n",
       "      <td>-0.911583</td>\n",
       "      <td>0.646092</td>\n",
       "      <td>0.970243</td>\n",
       "      <td>-0.039386</td>\n",
       "      <td>-0.912419</td>\n",
       "      <td>0.912419</td>\n",
       "      <td>0.997204</td>\n",
       "      <td>-0.578736</td>\n",
       "      <td>-0.573809</td>\n",
       "    </tr>\n",
       "    <tr>\n",
       "      <th>9543</th>\n",
       "      <td>-1.909278</td>\n",
       "      <td>0.770285</td>\n",
       "      <td>0.000761</td>\n",
       "      <td>0.410291</td>\n",
       "      <td>-0.911583</td>\n",
       "      <td>0.646092</td>\n",
       "      <td>0.970243</td>\n",
       "      <td>1.451043</td>\n",
       "      <td>1.095988</td>\n",
       "      <td>-1.095988</td>\n",
       "      <td>-1.002804</td>\n",
       "      <td>1.727904</td>\n",
       "      <td>-0.573809</td>\n",
       "    </tr>\n",
       "    <tr>\n",
       "      <th>9544</th>\n",
       "      <td>0.687763</td>\n",
       "      <td>-0.373958</td>\n",
       "      <td>-1.448581</td>\n",
       "      <td>-1.225848</td>\n",
       "      <td>2.527057</td>\n",
       "      <td>-1.547768</td>\n",
       "      <td>-1.030670</td>\n",
       "      <td>1.298609</td>\n",
       "      <td>-0.912419</td>\n",
       "      <td>0.912419</td>\n",
       "      <td>-1.002804</td>\n",
       "      <td>-0.578736</td>\n",
       "      <td>1.742740</td>\n",
       "    </tr>\n",
       "    <tr>\n",
       "      <th>9545</th>\n",
       "      <td>-0.424273</td>\n",
       "      <td>0.077853</td>\n",
       "      <td>1.540080</td>\n",
       "      <td>-0.005089</td>\n",
       "      <td>-0.911583</td>\n",
       "      <td>0.646092</td>\n",
       "      <td>-1.030670</td>\n",
       "      <td>-0.142992</td>\n",
       "      <td>-0.912419</td>\n",
       "      <td>0.912419</td>\n",
       "      <td>-1.002804</td>\n",
       "      <td>1.727904</td>\n",
       "      <td>-0.573809</td>\n",
       "    </tr>\n",
       "  </tbody>\n",
       "</table>\n",
       "<p>9546 rows × 13 columns</p>\n",
       "</div>"
      ],
      "text/plain": [
       "      credit_score       age    tenure   balance  num_of_products  \\\n",
       "0         0.877997  1.675576  1.480658  1.084825        -0.911583   \n",
       "1        -0.581757  1.349123 -0.359023 -1.225848        -0.911583   \n",
       "2        -1.205697 -0.469311  0.000761  0.722273         0.807737   \n",
       "3         0.288560  0.443125 -0.697364  0.858956        -0.911583   \n",
       "4        -1.185004  0.484225 -0.361575  0.727838        -0.911583   \n",
       "...            ...       ...       ...       ...              ...   \n",
       "9541     -2.519738 -0.183251 -1.448581 -1.225848        -0.911583   \n",
       "9542      0.367013 -0.087897  0.363096  1.166022        -0.911583   \n",
       "9543     -1.909278  0.770285  0.000761  0.410291        -0.911583   \n",
       "9544      0.687763 -0.373958 -1.448581 -1.225848         2.527057   \n",
       "9545     -0.424273  0.077853  1.540080 -0.005089        -0.911583   \n",
       "\n",
       "      has_cr_card  is_active_member  estimated_salary  gender_female  \\\n",
       "0       -1.547768         -1.030670          0.832076       1.095988   \n",
       "1        0.646092         -1.030670         -1.643639       1.095988   \n",
       "2        0.646092          0.970243         -0.520127       1.095988   \n",
       "3       -1.547768          0.970243         -1.255799       1.095988   \n",
       "4       -1.547768         -1.030670          0.537615       1.095988   \n",
       "...           ...               ...               ...            ...   \n",
       "9541     0.646092          0.970243         -0.885607      -0.912419   \n",
       "9542     0.646092          0.970243         -0.039386      -0.912419   \n",
       "9543     0.646092          0.970243          1.451043       1.095988   \n",
       "9544    -1.547768         -1.030670          1.298609      -0.912419   \n",
       "9545     0.646092         -1.030670         -0.142992      -0.912419   \n",
       "\n",
       "      gender_male  geography_france  geography_germany  geography_spain  \n",
       "0       -1.095988         -1.002804           1.727904        -0.573809  \n",
       "1       -1.095988          0.997204          -0.578736        -0.573809  \n",
       "2       -1.095988          0.997204          -0.578736        -0.573809  \n",
       "3       -1.095988         -1.002804           1.727904        -0.573809  \n",
       "4       -1.095988         -1.002804           1.727904        -0.573809  \n",
       "...           ...               ...                ...              ...  \n",
       "9541     0.912419         -1.002804          -0.578736         1.742740  \n",
       "9542     0.912419          0.997204          -0.578736        -0.573809  \n",
       "9543    -1.095988         -1.002804           1.727904        -0.573809  \n",
       "9544     0.912419         -1.002804          -0.578736         1.742740  \n",
       "9545     0.912419         -1.002804           1.727904        -0.573809  \n",
       "\n",
       "[9546 rows x 13 columns]"
      ]
     },
     "execution_count": 233,
     "metadata": {},
     "output_type": "execute_result"
    }
   ],
   "source": [
    "X_res"
   ]
  },
  {
   "cell_type": "code",
   "execution_count": 234,
   "metadata": {},
   "outputs": [],
   "source": [
    "train_data = Pool(data=X_res,\n",
    "                  label=y_res\n",
    "                 )\n",
    "\n",
    "valid_data = Pool(data=X_valid,\n",
    "                  label=y_valid\n",
    "                 )"
   ]
  },
  {
   "cell_type": "code",
   "execution_count": 235,
   "metadata": {},
   "outputs": [
    {
     "data": {
      "application/vnd.jupyter.widget-view+json": {
       "model_id": "7a27b268eb5d4b8d974e85606f407692",
       "version_major": 2,
       "version_minor": 0
      },
      "text/plain": [
       "MetricVisualizer(layout=Layout(align_self='stretch', height='500px'))"
      ]
     },
     "metadata": {},
     "output_type": "display_data"
    },
    {
     "name": "stdout",
     "output_type": "stream",
     "text": [
      "0:\tlearn: 0.7772262\ttest: 0.8114192\tbest: 0.8114192 (0)\ttotal: 5.81ms\tremaining: 5.81s\n",
      "100:\tlearn: 0.8028405\ttest: 0.8123347\tbest: 0.8176386 (2)\ttotal: 491ms\tremaining: 4.37s\n",
      "200:\tlearn: 0.8104915\ttest: 0.8158510\tbest: 0.8176386 (2)\ttotal: 1s\tremaining: 3.98s\n",
      "300:\tlearn: 0.8211798\ttest: 0.8194615\tbest: 0.8194615 (296)\ttotal: 1.49s\tremaining: 3.46s\n",
      "400:\tlearn: 0.8274609\ttest: 0.8284202\tbest: 0.8292825 (377)\ttotal: 2.01s\tremaining: 3s\n",
      "500:\tlearn: 0.8359494\ttest: 0.8313501\tbest: 0.8314396 (491)\ttotal: 2.54s\tremaining: 2.53s\n",
      "600:\tlearn: 0.8438051\ttest: 0.8363516\tbest: 0.8363516 (597)\ttotal: 3.09s\tremaining: 2.05s\n",
      "700:\tlearn: 0.8485170\ttest: 0.8385150\tbest: 0.8385150 (666)\ttotal: 3.56s\tremaining: 1.52s\n",
      "800:\tlearn: 0.8550105\ttest: 0.8411705\tbest: 0.8414547 (743)\ttotal: 4.16s\tremaining: 1.03s\n",
      "900:\tlearn: 0.8606684\ttest: 0.8417466\tbest: 0.8429050 (840)\ttotal: 4.75s\tremaining: 522ms\n",
      "999:\tlearn: 0.8671652\ttest: 0.8416807\tbest: 0.8430476 (910)\ttotal: 5.25s\tremaining: 0us\n",
      "\n",
      "bestTest = 0.8430475675\n",
      "bestIteration = 910\n",
      "\n",
      "Shrink model to first 911 iterations.\n"
     ]
    },
    {
     "data": {
      "text/plain": [
       "<catboost.core.CatBoostClassifier at 0x7fcb09700160>"
      ]
     },
     "execution_count": 235,
     "metadata": {},
     "output_type": "execute_result"
    }
   ],
   "source": [
    "cat_model_smote = CatBoostClassifier(verbose=100,learning_rate = 0.004\n",
    "                               , random_state=RANDOM_STATE,eval_metric='TotalF1')\n",
    "cat_model_smote.fit(train_data, eval_set = valid_data,use_best_model=True, plot=True)"
   ]
  },
  {
   "cell_type": "markdown",
   "metadata": {
    "scrolled": true
   },
   "source": [
    "scores_cat = cross_val_score(cat_model, X_res, y_res, cv=5, scoring='f1')\n",
    "print('f1 scores:', scores_cat)\n",
    "print('f1 mean:', scores_cat.mean())"
   ]
  },
  {
   "cell_type": "code",
   "execution_count": 236,
   "metadata": {},
   "outputs": [
    {
     "data": {
      "image/png": "[encoded data removed]",
      "text/plain": [
       "<Figure size 432x288 with 1 Axes>"
      ]
     },
     "metadata": {
      "needs_background": "light"
     },
     "output_type": "display_data"
    },
    {
     "name": "stdout",
     "output_type": "stream",
     "text": [
      "f1_score = 0.6596858638743455\n",
      "roc_auc = 0.870950970226633\n",
      "precision = 0.6\n",
      "recall = 0.7325581395348837\n"
     ]
    }
   ],
   "source": [
    "calculate_metrics(cat_model_smote, X_valid, y_valid)"
   ]
  },
  {
   "cell_type": "code",
   "execution_count": 237,
   "metadata": {
    "scrolled": false
   },
   "outputs": [
    {
     "data": {
      "text/html": [
       "<div>\n",
       "<style scoped>\n",
       "    .dataframe tbody tr th:only-of-type {\n",
       "        vertical-align: middle;\n",
       "    }\n",
       "\n",
       "    .dataframe tbody tr th {\n",
       "        vertical-align: top;\n",
       "    }\n",
       "\n",
       "    .dataframe thead th {\n",
       "        text-align: right;\n",
       "    }\n",
       "</style>\n",
       "<table border=\"1\" class=\"dataframe\">\n",
       "  <thead>\n",
       "    <tr style=\"text-align: right;\">\n",
       "      <th></th>\n",
       "      <th>Feature Id</th>\n",
       "      <th>Importances</th>\n",
       "    </tr>\n",
       "  </thead>\n",
       "  <tbody>\n",
       "    <tr>\n",
       "      <th>0</th>\n",
       "      <td>num_of_products</td>\n",
       "      <td>34.922100</td>\n",
       "    </tr>\n",
       "    <tr>\n",
       "      <th>1</th>\n",
       "      <td>age</td>\n",
       "      <td>21.483716</td>\n",
       "    </tr>\n",
       "    <tr>\n",
       "      <th>2</th>\n",
       "      <td>balance</td>\n",
       "      <td>11.100677</td>\n",
       "    </tr>\n",
       "    <tr>\n",
       "      <th>3</th>\n",
       "      <td>is_active_member</td>\n",
       "      <td>8.359257</td>\n",
       "    </tr>\n",
       "    <tr>\n",
       "      <th>4</th>\n",
       "      <td>geography_germany</td>\n",
       "      <td>5.908166</td>\n",
       "    </tr>\n",
       "    <tr>\n",
       "      <th>5</th>\n",
       "      <td>estimated_salary</td>\n",
       "      <td>4.505174</td>\n",
       "    </tr>\n",
       "    <tr>\n",
       "      <th>6</th>\n",
       "      <td>credit_score</td>\n",
       "      <td>4.244114</td>\n",
       "    </tr>\n",
       "    <tr>\n",
       "      <th>7</th>\n",
       "      <td>tenure</td>\n",
       "      <td>3.493532</td>\n",
       "    </tr>\n",
       "    <tr>\n",
       "      <th>8</th>\n",
       "      <td>gender_female</td>\n",
       "      <td>1.651872</td>\n",
       "    </tr>\n",
       "    <tr>\n",
       "      <th>9</th>\n",
       "      <td>gender_male</td>\n",
       "      <td>1.534714</td>\n",
       "    </tr>\n",
       "    <tr>\n",
       "      <th>10</th>\n",
       "      <td>geography_france</td>\n",
       "      <td>1.109772</td>\n",
       "    </tr>\n",
       "    <tr>\n",
       "      <th>11</th>\n",
       "      <td>geography_spain</td>\n",
       "      <td>0.845459</td>\n",
       "    </tr>\n",
       "    <tr>\n",
       "      <th>12</th>\n",
       "      <td>has_cr_card</td>\n",
       "      <td>0.841446</td>\n",
       "    </tr>\n",
       "  </tbody>\n",
       "</table>\n",
       "</div>"
      ],
      "text/plain": [
       "           Feature Id  Importances\n",
       "0     num_of_products    34.922100\n",
       "1                 age    21.483716\n",
       "2             balance    11.100677\n",
       "3    is_active_member     8.359257\n",
       "4   geography_germany     5.908166\n",
       "5    estimated_salary     4.505174\n",
       "6        credit_score     4.244114\n",
       "7              tenure     3.493532\n",
       "8       gender_female     1.651872\n",
       "9         gender_male     1.534714\n",
       "10   geography_france     1.109772\n",
       "11    geography_spain     0.845459\n",
       "12        has_cr_card     0.841446"
      ]
     },
     "execution_count": 237,
     "metadata": {},
     "output_type": "execute_result"
    }
   ],
   "source": [
    "ups_cat_model.get_feature_importance(prettified=True)"
   ]
  },
  {
   "cell_type": "markdown",
   "metadata": {},
   "source": [
    "### Random Forest sm"
   ]
  },
  {
   "cell_type": "markdown",
   "metadata": {},
   "source": [
    "clf = RandomForestClassifier(random_state=42)\n",
    "param_grid = {\n",
    "    'n_estimators': [100, 200, 10],\n",
    "    'max_depth': [10, 35, 2],\n",
    "    'min_samples_leaf': range (1,5),\n",
    "    'min_samples_split': range (1,10)}\n",
    "grid_search = GridSearchCV(clf, param_grid, cv=5, scoring='f1', verbose=10)  \n",
    "grid_search.fit(X_train, y_train)\n",
    "\n",
    "print('Наилучшая комбинация параметров:', grid_search.best_params_)\n",
    "print('f1 score =', grid_search.best_score_)"
   ]
  },
  {
   "cell_type": "code",
   "execution_count": 238,
   "metadata": {
    "scrolled": false
   },
   "outputs": [
    {
     "data": {
      "image/png": "[encoded data removed]",
      "text/plain": [
       "<Figure size 432x288 with 1 Axes>"
      ]
     },
     "metadata": {
      "needs_background": "light"
     },
     "output_type": "display_data"
    },
    {
     "name": "stdout",
     "output_type": "stream",
     "text": [
      "f1_score = 0.6163069544364509\n",
      "roc_auc = 0.8564071989334914\n",
      "precision = 0.6361386138613861\n",
      "recall = 0.5976744186046512\n"
     ]
    }
   ],
   "source": [
    "param_rf = {\n",
    "    'n_estimators': 150,\n",
    "    'max_depth': 30,\n",
    "    'min_samples_leaf': 1,\n",
    "    'min_samples_split': 3\n",
    "}\n",
    "model_rf_smote = RandomForestClassifier(random_state=RANDOM_STATE, **param_rf)\n",
    "model_rf_smote.fit(X_res, y_res)\n",
    "calculate_metrics(model_rf_smote, X_valid, y_valid)"
   ]
  },
  {
   "cell_type": "markdown",
   "metadata": {},
   "source": [
    "scores = cross_val_score(model_rf_smote, X_res, y_res, cv=5, scoring='f1')\n",
    "print('f1 scores:', scores)\n",
    "print('f1 mean:', scores.mean())"
   ]
  },
  {
   "cell_type": "markdown",
   "metadata": {},
   "source": [
    "### UPSAMPLE"
   ]
  },
  {
   "cell_type": "code",
   "execution_count": 242,
   "metadata": {},
   "outputs": [],
   "source": [
    "def upsample(features,target,repeat):\n",
    "    features_zeros = features[target == 0]\n",
    "    features_ones = features[target == 1]\n",
    "    target_zeros = target[target == 0]\n",
    "    target_ones = target[target == 1]\n",
    "    \n",
    "    features_upsampled = pd.concat([features_zeros] + [features_ones] * repeat)\n",
    "    target_upsampled = pd.concat([target_zeros] + [target_ones] * repeat)\n",
    "\n",
    "    features_upsampled, target_upsampled = shuffle(features_upsampled, target_upsampled,random_state=12345)\n",
    "\n",
    "    return features_upsampled, target_upsampled \n",
    "features_upsampled, target_upsampled = upsample(features_train, target_train, 4)\n",
    "\n",
    "data = np.column_stack((features_upsampled, target_upsampled))\n",
    "data_shuffled = shuffle(data, random_state=RANDOM_STATE)\n",
    "X_ups = data_shuffled[:, :-1]\n",
    "y_ups = data_shuffled[:, -1]\n",
    "X_ups = pd.DataFrame(X_ups, columns=features_train.columns)\n"
   ]
  },
  {
   "cell_type": "markdown",
   "metadata": {},
   "source": [
    "### RF upsample"
   ]
  },
  {
   "cell_type": "markdown",
   "metadata": {},
   "source": [
    "clf = RandomForestClassifier(random_state=RANDOM_STATE)\n",
    "param_grid = {\n",
    "    'n_estimators': [100, 200, 10],\n",
    "    'max_depth': [10, 35, 2],\n",
    "    'min_samples_leaf': range (1,5),\n",
    "    'min_samples_split': range (1,10)}\n",
    "grid_search = GridSearchCV(clf, param_grid, cv=5, scoring='f1', verbose=10)  \n",
    "grid_search.fit(X_ups, y_ups)\n",
    "\n",
    "print('Наилучшая комбинация параметров:', grid_search.best_params_)\n",
    "print('f1 score =', grid_search.best_score_)"
   ]
  },
  {
   "cell_type": "code",
   "execution_count": 243,
   "metadata": {
    "scrolled": false
   },
   "outputs": [
    {
     "data": {
      "image/png": "[encoded data removed]",
      "text/plain": [
       "<Figure size 432x288 with 1 Axes>"
      ]
     },
     "metadata": {
      "needs_background": "light"
     },
     "output_type": "display_data"
    },
    {
     "name": "stdout",
     "output_type": "stream",
     "text": [
      "f1_score = 0.6015625\n",
      "roc_auc = 0.8559724485261443\n",
      "precision = 0.6834319526627219\n",
      "recall = 0.5372093023255814\n"
     ]
    }
   ],
   "source": [
    "param_rf = {\n",
    "    'n_estimators': 200,\n",
    "    'max_depth': 25,\n",
    "    'min_samples_leaf': 1,\n",
    "    'min_samples_split': 2\n",
    "}\n",
    "model_rf_ups = RandomForestClassifier(random_state=RANDOM_STATE, **param_rf)\n",
    "model_rf_ups.fit(X_ups,y_ups)\n",
    "calculate_metrics(model_rf_ups, X_valid, y_valid)"
   ]
  },
  {
   "cell_type": "markdown",
   "metadata": {},
   "source": [
    "### Cat upsample"
   ]
  },
  {
   "cell_type": "markdown",
   "metadata": {},
   "source": [
    "cat_model = CatBoostClassifier()\n",
    "cat_grid = {'learning_rate': [0.03, 0.1],\n",
    "            'depth': [4, 6],\n",
    "            'l2_leaf_reg': [1, 5]\n",
    "           }\n",
    "grid_search = GridSearchCV(cat_model, cat_grid, cv=5,scoring='f1')\n",
    "grid_search.fit(X_train, y_train)\n",
    "print(grid_search.best_params_)\n",
    "print(grid_search.best_score_)"
   ]
  },
  {
   "cell_type": "code",
   "execution_count": 244,
   "metadata": {
    "scrolled": true
   },
   "outputs": [
    {
     "data": {
      "application/vnd.jupyter.widget-view+json": {
       "model_id": "9a3fa74bebf14dc999cbbdd2b8f07b76",
       "version_major": 2,
       "version_minor": 0
      },
      "text/plain": [
       "MetricVisualizer(layout=Layout(align_self='stretch', height='500px'))"
      ]
     },
     "metadata": {},
     "output_type": "display_data"
    },
    {
     "name": "stdout",
     "output_type": "stream",
     "text": [
      "0:\tlearn: 0.7674416\ttest: 0.8061935\tbest: 0.8061935 (0)\ttotal: 8.53ms\tremaining: 8.53s\n",
      "100:\tlearn: 0.7834003\ttest: 0.8068669\tbest: 0.8087507 (3)\ttotal: 523ms\tremaining: 4.65s\n",
      "200:\tlearn: 0.7924824\ttest: 0.8117948\tbest: 0.8127335 (153)\ttotal: 883ms\tremaining: 3.51s\n",
      "300:\tlearn: 0.7979532\ttest: 0.8119844\tbest: 0.8132419 (244)\ttotal: 1.25s\tremaining: 2.91s\n",
      "400:\tlearn: 0.8041471\ttest: 0.8177351\tbest: 0.8177351 (397)\ttotal: 1.61s\tremaining: 2.4s\n",
      "500:\tlearn: 0.8116946\ttest: 0.8203992\tbest: 0.8212606 (471)\ttotal: 2s\tremaining: 1.99s\n",
      "600:\tlearn: 0.8183087\ttest: 0.8229839\tbest: 0.8234969 (597)\ttotal: 2.38s\tremaining: 1.58s\n",
      "700:\tlearn: 0.8238868\ttest: 0.8271112\tbest: 0.8271112 (670)\ttotal: 2.8s\tremaining: 1.19s\n",
      "800:\tlearn: 0.8306040\ttest: 0.8292708\tbest: 0.8297029 (793)\ttotal: 3.15s\tremaining: 783ms\n",
      "900:\tlearn: 0.8345291\ttest: 0.8291887\tbest: 0.8297029 (793)\ttotal: 3.54s\tremaining: 389ms\n",
      "999:\tlearn: 0.8370076\ttest: 0.8290226\tbest: 0.8297029 (793)\ttotal: 4.01s\tremaining: 0us\n",
      "\n",
      "bestTest = 0.8297028538\n",
      "bestIteration = 793\n",
      "\n",
      "Shrink model to first 794 iterations.\n"
     ]
    },
    {
     "data": {
      "text/plain": [
       "<catboost.core.CatBoostClassifier at 0x7fcb912940a0>"
      ]
     },
     "execution_count": 244,
     "metadata": {},
     "output_type": "execute_result"
    }
   ],
   "source": [
    "ups_train_data = Pool(data=X_ups,\n",
    "                  label=y_ups\n",
    "                     )\n",
    "\n",
    "ups_valid_data = Pool(data=X_valid,\n",
    "                  label=y_valid\n",
    "                     )\n",
    "ups_cat_model = CatBoostClassifier(verbose=100,learning_rate = 0.007, random_state=RANDOM_STATE,eval_metric='TotalF1')\n",
    "ups_cat_model.fit(ups_train_data, eval_set = ups_valid_data,use_best_model=True, plot=True)"
   ]
  },
  {
   "cell_type": "markdown",
   "metadata": {},
   "source": [
    "scores_cat = cross_val_score(ups_cat_model, X_ups, y_ups, cv=5, scoring='f1')\n",
    "print('f1 scores:', scores_cat)\n",
    "print('f1 mean:', scores_cat.mean())\n"
   ]
  },
  {
   "cell_type": "code",
   "execution_count": 245,
   "metadata": {},
   "outputs": [
    {
     "data": {
      "image/png": "[encoded data removed]",
      "text/plain": [
       "<Figure size 432x288 with 1 Axes>"
      ]
     },
     "metadata": {
      "needs_background": "light"
     },
     "output_type": "display_data"
    },
    {
     "name": "stdout",
     "output_type": "stream",
     "text": [
      "f1_score = 0.6504854368932039\n",
      "roc_auc = 0.873306176862687\n",
      "precision = 0.5583333333333333\n",
      "recall = 0.7790697674418605\n"
     ]
    }
   ],
   "source": [
    "calculate_metrics(ups_cat_model, X_valid, y_valid)"
   ]
  },
  {
   "cell_type": "code",
   "execution_count": 246,
   "metadata": {},
   "outputs": [
    {
     "data": {
      "text/html": [
       "<div>\n",
       "<style scoped>\n",
       "    .dataframe tbody tr th:only-of-type {\n",
       "        vertical-align: middle;\n",
       "    }\n",
       "\n",
       "    .dataframe tbody tr th {\n",
       "        vertical-align: top;\n",
       "    }\n",
       "\n",
       "    .dataframe thead th {\n",
       "        text-align: right;\n",
       "    }\n",
       "</style>\n",
       "<table border=\"1\" class=\"dataframe\">\n",
       "  <thead>\n",
       "    <tr style=\"text-align: right;\">\n",
       "      <th></th>\n",
       "      <th>catboost</th>\n",
       "      <th>learning_rate</th>\n",
       "      <th>roc_auc</th>\n",
       "      <th>f1_score</th>\n",
       "      <th>precision</th>\n",
       "      <th>recall</th>\n",
       "    </tr>\n",
       "  </thead>\n",
       "  <tbody>\n",
       "    <tr>\n",
       "      <th>0</th>\n",
       "      <td>upsampling</td>\n",
       "      <td>0.007</td>\n",
       "      <td>0.87</td>\n",
       "      <td>0.62</td>\n",
       "      <td>0.52</td>\n",
       "      <td>0.78</td>\n",
       "    </tr>\n",
       "    <tr>\n",
       "      <th>1</th>\n",
       "      <td>smote</td>\n",
       "      <td>0.003</td>\n",
       "      <td>0.87</td>\n",
       "      <td>0.65</td>\n",
       "      <td>0.59</td>\n",
       "      <td>0.74</td>\n",
       "    </tr>\n",
       "  </tbody>\n",
       "</table>\n",
       "</div>"
      ],
      "text/plain": [
       "     catboost  learning_rate  roc_auc  f1_score  precision  recall\n",
       "0  upsampling          0.007     0.87      0.62       0.52    0.78\n",
       "1       smote          0.003     0.87      0.65       0.59    0.74"
      ]
     },
     "execution_count": 246,
     "metadata": {},
     "output_type": "execute_result"
    }
   ],
   "source": [
    "cat_metrics_params = {'catboost': ['upsampling', 'smote'],\n",
    "        'learning_rate': [0.007, 0.003],\n",
    "        'roc_auc': [0.87, 0.87],\n",
    "        'f1_score': [0.62, 0.65],\n",
    "        'precision': [0.52, 0.59],\n",
    "        'recall': [0.78, 0.74]}\n",
    "\n",
    "cat_metrics_params = pd.DataFrame(cat_metrics_params)\n",
    "cat_metrics_params"
   ]
  },
  {
   "cell_type": "code",
   "execution_count": 247,
   "metadata": {},
   "outputs": [
    {
     "data": {
      "text/html": [
       "<div>\n",
       "<style scoped>\n",
       "    .dataframe tbody tr th:only-of-type {\n",
       "        vertical-align: middle;\n",
       "    }\n",
       "\n",
       "    .dataframe tbody tr th {\n",
       "        vertical-align: top;\n",
       "    }\n",
       "\n",
       "    .dataframe thead th {\n",
       "        text-align: right;\n",
       "    }\n",
       "</style>\n",
       "<table border=\"1\" class=\"dataframe\">\n",
       "  <thead>\n",
       "    <tr style=\"text-align: right;\">\n",
       "      <th></th>\n",
       "      <th>random_forest</th>\n",
       "      <th>n_estimators</th>\n",
       "      <th>max_depth</th>\n",
       "      <th>min_samples_leaf</th>\n",
       "      <th>min_samples_split</th>\n",
       "      <th>f1_score</th>\n",
       "      <th>precision</th>\n",
       "      <th>recall</th>\n",
       "      <th>roc_auc</th>\n",
       "    </tr>\n",
       "  </thead>\n",
       "  <tbody>\n",
       "    <tr>\n",
       "      <th>0</th>\n",
       "      <td>upsampling</td>\n",
       "      <td>150</td>\n",
       "      <td>30</td>\n",
       "      <td>1</td>\n",
       "      <td>2</td>\n",
       "      <td>0.61</td>\n",
       "      <td>0.67</td>\n",
       "      <td>0.56</td>\n",
       "      <td>0.85</td>\n",
       "    </tr>\n",
       "    <tr>\n",
       "      <th>1</th>\n",
       "      <td>smote</td>\n",
       "      <td>200</td>\n",
       "      <td>25</td>\n",
       "      <td>1</td>\n",
       "      <td>3</td>\n",
       "      <td>0.61</td>\n",
       "      <td>0.62</td>\n",
       "      <td>0.60</td>\n",
       "      <td>0.86</td>\n",
       "    </tr>\n",
       "  </tbody>\n",
       "</table>\n",
       "</div>"
      ],
      "text/plain": [
       "  random_forest  n_estimators  max_depth  min_samples_leaf  min_samples_split  \\\n",
       "0    upsampling           150         30                 1                  2   \n",
       "1         smote           200         25                 1                  3   \n",
       "\n",
       "   f1_score  precision  recall  roc_auc  \n",
       "0      0.61       0.67    0.56     0.85  \n",
       "1      0.61       0.62    0.60     0.86  "
      ]
     },
     "execution_count": 247,
     "metadata": {},
     "output_type": "execute_result"
    }
   ],
   "source": [
    "rf_metrics_params = {'random_forest': ['upsampling', 'smote'],\n",
    "        'n_estimators': [150, 200],\n",
    "        'max_depth': [30, 25],\n",
    "        'min_samples_leaf': [1, 1],\n",
    "        'min_samples_split': [2, 3],\n",
    "        'f1_score': [0.61, 0.61],\n",
    "        'precision': [0.67, 0.62],\n",
    "        'recall': [0.56, 0.6],\n",
    "        'roc_auc': [0.85, 0.86]}\n",
    "\n",
    "rf_metrics_params = pd.DataFrame(rf_metrics_params)\n",
    "rf_metrics_params"
   ]
  },
  {
   "cell_type": "markdown",
   "metadata": {},
   "source": [
    "### Вывод \n",
    "\n",
    "\n",
    "- Для балансировки был выбран алгоритм создания синтетических данных SMOTE и метод UPSAMPLE\n",
    "\n",
    "\n",
    "- Catboost и Random forest показали стабильные высокие метрики\n",
    "\n",
    "\n",
    "- Оба алгоритма дали более высокий предикт при использовании метода балансировки классов upsample\n"
   ]
  },
  {
   "cell_type": "markdown",
   "metadata": {},
   "source": [
    "## Тестирование модели"
   ]
  },
  {
   "cell_type": "code",
   "execution_count": 248,
   "metadata": {
    "scrolled": true
   },
   "outputs": [
    {
     "data": {
      "image/png": "[encoded data removed]",
      "text/plain": [
       "<Figure size 432x288 with 1 Axes>"
      ]
     },
     "metadata": {
      "needs_background": "light"
     },
     "output_type": "display_data"
    },
    {
     "name": "stdout",
     "output_type": "stream",
     "text": [
      "f1_score = 0.5928270042194093\n",
      "roc_auc = 0.8598408057179987\n",
      "precision = 0.49471830985915494\n",
      "recall = 0.7394736842105263\n"
     ]
    }
   ],
   "source": [
    "calculate_metrics(ups_cat_model, X_test, y_test)"
   ]
  },
  {
   "cell_type": "code",
   "execution_count": 249,
   "metadata": {},
   "outputs": [
    {
     "name": "stdout",
     "output_type": "stream",
     "text": [
      "Модель адекватна\n"
     ]
    }
   ],
   "source": [
    "dummy_model = DummyClassifier(strategy='most_frequent')\n",
    "dummy_model.fit(features_train, target_train)\n",
    "dummy_predictions = dummy_model.predict(features_train)\n",
    "\n",
    "dummy_accuracy = f1_score(target_train, dummy_predictions)\n",
    "pred_rf = ups_cat_model.predict(features_valid)\n",
    "cat_f1 = f1_score(pred_rf, target_valid)\n",
    "if cat_f1 > dummy_accuracy:\n",
    "    print(\"Модель адекватна\")\n",
    "else:\n",
    "    print(\"Модель не адекватна\")"
   ]
  },
  {
   "cell_type": "code",
   "execution_count": 250,
   "metadata": {},
   "outputs": [
    {
     "data": {
      "text/html": [
       "<div>\n",
       "<style scoped>\n",
       "    .dataframe tbody tr th:only-of-type {\n",
       "        vertical-align: middle;\n",
       "    }\n",
       "\n",
       "    .dataframe tbody tr th {\n",
       "        vertical-align: top;\n",
       "    }\n",
       "\n",
       "    .dataframe thead th {\n",
       "        text-align: right;\n",
       "    }\n",
       "</style>\n",
       "<table border=\"1\" class=\"dataframe\">\n",
       "  <thead>\n",
       "    <tr style=\"text-align: right;\">\n",
       "      <th></th>\n",
       "      <th>Feature Id</th>\n",
       "      <th>Importances</th>\n",
       "    </tr>\n",
       "  </thead>\n",
       "  <tbody>\n",
       "    <tr>\n",
       "      <th>0</th>\n",
       "      <td>num_of_products</td>\n",
       "      <td>34.922100</td>\n",
       "    </tr>\n",
       "    <tr>\n",
       "      <th>1</th>\n",
       "      <td>age</td>\n",
       "      <td>21.483716</td>\n",
       "    </tr>\n",
       "    <tr>\n",
       "      <th>2</th>\n",
       "      <td>balance</td>\n",
       "      <td>11.100677</td>\n",
       "    </tr>\n",
       "    <tr>\n",
       "      <th>3</th>\n",
       "      <td>is_active_member</td>\n",
       "      <td>8.359257</td>\n",
       "    </tr>\n",
       "    <tr>\n",
       "      <th>4</th>\n",
       "      <td>geography_germany</td>\n",
       "      <td>5.908166</td>\n",
       "    </tr>\n",
       "    <tr>\n",
       "      <th>5</th>\n",
       "      <td>estimated_salary</td>\n",
       "      <td>4.505174</td>\n",
       "    </tr>\n",
       "    <tr>\n",
       "      <th>6</th>\n",
       "      <td>credit_score</td>\n",
       "      <td>4.244114</td>\n",
       "    </tr>\n",
       "    <tr>\n",
       "      <th>7</th>\n",
       "      <td>tenure</td>\n",
       "      <td>3.493532</td>\n",
       "    </tr>\n",
       "    <tr>\n",
       "      <th>8</th>\n",
       "      <td>gender_female</td>\n",
       "      <td>1.651872</td>\n",
       "    </tr>\n",
       "    <tr>\n",
       "      <th>9</th>\n",
       "      <td>gender_male</td>\n",
       "      <td>1.534714</td>\n",
       "    </tr>\n",
       "    <tr>\n",
       "      <th>10</th>\n",
       "      <td>geography_france</td>\n",
       "      <td>1.109772</td>\n",
       "    </tr>\n",
       "    <tr>\n",
       "      <th>11</th>\n",
       "      <td>geography_spain</td>\n",
       "      <td>0.845459</td>\n",
       "    </tr>\n",
       "    <tr>\n",
       "      <th>12</th>\n",
       "      <td>has_cr_card</td>\n",
       "      <td>0.841446</td>\n",
       "    </tr>\n",
       "  </tbody>\n",
       "</table>\n",
       "</div>"
      ],
      "text/plain": [
       "           Feature Id  Importances\n",
       "0     num_of_products    34.922100\n",
       "1                 age    21.483716\n",
       "2             balance    11.100677\n",
       "3    is_active_member     8.359257\n",
       "4   geography_germany     5.908166\n",
       "5    estimated_salary     4.505174\n",
       "6        credit_score     4.244114\n",
       "7              tenure     3.493532\n",
       "8       gender_female     1.651872\n",
       "9         gender_male     1.534714\n",
       "10   geography_france     1.109772\n",
       "11    geography_spain     0.845459\n",
       "12        has_cr_card     0.841446"
      ]
     },
     "execution_count": 250,
     "metadata": {},
     "output_type": "execute_result"
    }
   ],
   "source": [
    "ups_cat_model.get_feature_importance(prettified=True)"
   ]
  },
  {
   "cell_type": "markdown",
   "metadata": {},
   "source": [
    "### Вывод \n",
    "\n",
    "\n",
    "- Балансировка с помощью upsample значительно увеличила результаты модели\n",
    "\n",
    "\n",
    "- Значение `roc_auc` - это площадь под кривой ROC, которая показывает зависимость между долей верно классифицированных положительных примеров и долей ложно-положительных примеров при изменении порога бинарной классификации. Чем ближе значение `roc_auc` к 1, тем лучше качество модели. В нашем случае значение `roc_auc` равно 0.872, что говорит о том, что модель имеет хорошее качество классификации.\n",
    "\n",
    "\n",
    "- Модель проверена на адекватность с помощью DummyClassifier"
   ]
  }
 ],
 "metadata": {
  "ExecuteTimeLog": [
   {
    "duration": 414,
    "start_time": "2023-05-17T11:04:58.986Z"
   },
   {
    "duration": 86,
    "start_time": "2023-05-17T11:05:15.049Z"
   },
   {
    "duration": 26,
    "start_time": "2023-05-17T11:05:21.113Z"
   },
   {
    "duration": 12,
    "start_time": "2023-05-17T11:05:49.294Z"
   },
   {
    "duration": 3,
    "start_time": "2023-05-17T11:10:56.639Z"
   },
   {
    "duration": 20,
    "start_time": "2023-05-17T11:11:01.328Z"
   },
   {
    "duration": 4,
    "start_time": "2023-05-17T11:12:44.509Z"
   },
   {
    "duration": 18,
    "start_time": "2023-05-17T11:12:50.081Z"
   },
   {
    "duration": 2,
    "start_time": "2023-05-17T11:13:16.439Z"
   },
   {
    "duration": 42,
    "start_time": "2023-05-17T11:13:16.443Z"
   },
   {
    "duration": 17,
    "start_time": "2023-05-17T11:13:16.487Z"
   },
   {
    "duration": 10,
    "start_time": "2023-05-17T11:13:16.506Z"
   },
   {
    "duration": 3,
    "start_time": "2023-05-17T11:13:16.518Z"
   },
   {
    "duration": 21,
    "start_time": "2023-05-17T11:13:16.523Z"
   },
   {
    "duration": 12,
    "start_time": "2023-05-17T11:14:47.590Z"
   },
   {
    "duration": 11,
    "start_time": "2023-05-17T11:14:53.721Z"
   },
   {
    "duration": 3,
    "start_time": "2023-05-17T11:14:54.112Z"
   },
   {
    "duration": 18,
    "start_time": "2023-05-17T11:14:57.597Z"
   },
   {
    "duration": 3,
    "start_time": "2023-05-17T11:15:12.919Z"
   },
   {
    "duration": 14,
    "start_time": "2023-05-17T11:15:24.787Z"
   },
   {
    "duration": 943,
    "start_time": "2023-05-17T11:18:32.144Z"
   },
   {
    "duration": 40,
    "start_time": "2023-05-17T11:18:33.089Z"
   },
   {
    "duration": 11,
    "start_time": "2023-05-17T11:18:33.131Z"
   },
   {
    "duration": 11,
    "start_time": "2023-05-17T11:18:33.298Z"
   },
   {
    "duration": 4,
    "start_time": "2023-05-17T11:18:36.753Z"
   },
   {
    "duration": 12,
    "start_time": "2023-05-17T11:18:39.482Z"
   },
   {
    "duration": 97,
    "start_time": "2023-05-17T11:19:40.071Z"
   },
   {
    "duration": 12,
    "start_time": "2023-05-17T11:19:55.591Z"
   },
   {
    "duration": 3,
    "start_time": "2023-05-17T11:24:28.629Z"
   },
   {
    "duration": 51,
    "start_time": "2023-05-17T11:24:29.025Z"
   },
   {
    "duration": 12,
    "start_time": "2023-05-17T11:24:29.545Z"
   },
   {
    "duration": 11,
    "start_time": "2023-05-17T11:24:30.189Z"
   },
   {
    "duration": 3,
    "start_time": "2023-05-17T11:24:30.698Z"
   },
   {
    "duration": 4,
    "start_time": "2023-05-17T11:25:05.705Z"
   },
   {
    "duration": 13,
    "start_time": "2023-05-17T11:25:06.806Z"
   },
   {
    "duration": 2,
    "start_time": "2023-05-17T11:25:57.625Z"
   },
   {
    "duration": 4,
    "start_time": "2023-05-17T11:25:58.823Z"
   },
   {
    "duration": 13,
    "start_time": "2023-05-17T11:25:59.394Z"
   },
   {
    "duration": 11,
    "start_time": "2023-05-17T11:26:13.019Z"
   },
   {
    "duration": 2,
    "start_time": "2023-05-17T11:26:16.693Z"
   },
   {
    "duration": 44,
    "start_time": "2023-05-17T11:26:16.697Z"
   },
   {
    "duration": 12,
    "start_time": "2023-05-17T11:26:16.742Z"
   },
   {
    "duration": 16,
    "start_time": "2023-05-17T11:26:16.755Z"
   },
   {
    "duration": 2,
    "start_time": "2023-05-17T11:26:16.774Z"
   },
   {
    "duration": 10,
    "start_time": "2023-05-17T11:26:16.777Z"
   },
   {
    "duration": 5,
    "start_time": "2023-05-17T11:26:16.788Z"
   },
   {
    "duration": 13,
    "start_time": "2023-05-17T11:26:16.794Z"
   },
   {
    "duration": 10,
    "start_time": "2023-05-17T11:28:53.890Z"
   },
   {
    "duration": 10,
    "start_time": "2023-05-17T11:33:35.013Z"
   },
   {
    "duration": 28,
    "start_time": "2023-05-17T11:35:14.284Z"
   },
   {
    "duration": 8,
    "start_time": "2023-05-17T11:35:15.731Z"
   },
   {
    "duration": 2,
    "start_time": "2023-05-17T11:35:24.149Z"
   },
   {
    "duration": 42,
    "start_time": "2023-05-17T11:35:24.153Z"
   },
   {
    "duration": 11,
    "start_time": "2023-05-17T11:35:24.197Z"
   },
   {
    "duration": 17,
    "start_time": "2023-05-17T11:35:24.209Z"
   },
   {
    "duration": 2,
    "start_time": "2023-05-17T11:35:24.227Z"
   },
   {
    "duration": 6,
    "start_time": "2023-05-17T11:35:24.231Z"
   },
   {
    "duration": 6,
    "start_time": "2023-05-17T11:35:24.238Z"
   },
   {
    "duration": 30,
    "start_time": "2023-05-17T11:35:24.245Z"
   },
   {
    "duration": 9,
    "start_time": "2023-05-17T11:35:24.276Z"
   },
   {
    "duration": 3,
    "start_time": "2023-05-17T11:35:41.038Z"
   },
   {
    "duration": 3,
    "start_time": "2023-05-17T11:35:59.988Z"
   },
   {
    "duration": 42,
    "start_time": "2023-05-17T11:35:59.993Z"
   },
   {
    "duration": 14,
    "start_time": "2023-05-17T11:36:00.036Z"
   },
   {
    "duration": 34,
    "start_time": "2023-05-17T11:36:00.051Z"
   },
   {
    "duration": 4,
    "start_time": "2023-05-17T11:36:00.087Z"
   },
   {
    "duration": 20,
    "start_time": "2023-05-17T11:36:00.092Z"
   },
   {
    "duration": 22,
    "start_time": "2023-05-17T11:36:00.113Z"
   },
   {
    "duration": 13,
    "start_time": "2023-05-17T11:36:00.137Z"
   },
   {
    "duration": 26,
    "start_time": "2023-05-17T11:36:00.152Z"
   },
   {
    "duration": 8,
    "start_time": "2023-05-17T11:36:40.185Z"
   },
   {
    "duration": 3,
    "start_time": "2023-05-17T11:36:41.287Z"
   },
   {
    "duration": 8,
    "start_time": "2023-05-17T11:37:52.495Z"
   },
   {
    "duration": 5,
    "start_time": "2023-05-17T11:38:35.092Z"
   },
   {
    "duration": 39,
    "start_time": "2023-05-17T11:38:35.717Z"
   },
   {
    "duration": 13,
    "start_time": "2023-05-17T11:38:36.124Z"
   },
   {
    "duration": 12,
    "start_time": "2023-05-17T11:38:36.515Z"
   },
   {
    "duration": 3,
    "start_time": "2023-05-17T11:38:36.878Z"
   },
   {
    "duration": 3,
    "start_time": "2023-05-17T11:38:37.286Z"
   },
   {
    "duration": 4,
    "start_time": "2023-05-17T11:38:37.586Z"
   },
   {
    "duration": 9,
    "start_time": "2023-05-17T11:38:37.993Z"
   },
   {
    "duration": 8,
    "start_time": "2023-05-17T11:38:38.995Z"
   },
   {
    "duration": 8,
    "start_time": "2023-05-17T11:40:08.690Z"
   },
   {
    "duration": 9,
    "start_time": "2023-05-17T11:40:16.048Z"
   },
   {
    "duration": 12,
    "start_time": "2023-05-17T11:41:28.043Z"
   },
   {
    "duration": 3,
    "start_time": "2023-05-17T11:41:35.641Z"
   },
   {
    "duration": 54,
    "start_time": "2023-05-17T11:41:35.646Z"
   },
   {
    "duration": 11,
    "start_time": "2023-05-17T11:41:35.702Z"
   },
   {
    "duration": 13,
    "start_time": "2023-05-17T11:41:35.714Z"
   },
   {
    "duration": 2,
    "start_time": "2023-05-17T11:41:35.729Z"
   },
   {
    "duration": 5,
    "start_time": "2023-05-17T11:41:35.733Z"
   },
   {
    "duration": 9,
    "start_time": "2023-05-17T11:41:35.739Z"
   },
   {
    "duration": 12,
    "start_time": "2023-05-17T11:41:35.749Z"
   },
   {
    "duration": 12,
    "start_time": "2023-05-17T11:41:35.762Z"
   },
   {
    "duration": 11,
    "start_time": "2023-05-17T11:41:50.904Z"
   },
   {
    "duration": 11,
    "start_time": "2023-05-17T11:41:59.492Z"
   },
   {
    "duration": 9,
    "start_time": "2023-05-17T11:42:31.882Z"
   },
   {
    "duration": 3,
    "start_time": "2023-05-17T11:43:32.309Z"
   },
   {
    "duration": 39,
    "start_time": "2023-05-17T11:43:32.690Z"
   },
   {
    "duration": 11,
    "start_time": "2023-05-17T11:43:33.007Z"
   },
   {
    "duration": 11,
    "start_time": "2023-05-17T11:43:33.411Z"
   },
   {
    "duration": 3,
    "start_time": "2023-05-17T11:43:33.722Z"
   },
   {
    "duration": 4,
    "start_time": "2023-05-17T11:43:34.043Z"
   },
   {
    "duration": 5,
    "start_time": "2023-05-17T11:43:34.422Z"
   },
   {
    "duration": 13,
    "start_time": "2023-05-17T11:43:34.615Z"
   },
   {
    "duration": 15,
    "start_time": "2023-05-17T11:43:35.216Z"
   },
   {
    "duration": 13,
    "start_time": "2023-05-17T11:44:31.405Z"
   },
   {
    "duration": 18,
    "start_time": "2023-05-17T11:45:21.006Z"
   },
   {
    "duration": 3,
    "start_time": "2023-05-17T11:45:31.712Z"
   },
   {
    "duration": 55,
    "start_time": "2023-05-17T11:45:31.717Z"
   },
   {
    "duration": 12,
    "start_time": "2023-05-17T11:45:31.774Z"
   },
   {
    "duration": 31,
    "start_time": "2023-05-17T11:45:31.787Z"
   },
   {
    "duration": 9,
    "start_time": "2023-05-17T11:45:31.821Z"
   },
   {
    "duration": 19,
    "start_time": "2023-05-17T11:45:31.831Z"
   },
   {
    "duration": 32,
    "start_time": "2023-05-17T11:45:31.851Z"
   },
   {
    "duration": 43,
    "start_time": "2023-05-17T11:45:31.885Z"
   },
   {
    "duration": 51,
    "start_time": "2023-05-17T11:45:31.930Z"
   },
   {
    "duration": 13,
    "start_time": "2023-05-17T11:46:09.826Z"
   },
   {
    "duration": 8,
    "start_time": "2023-05-17T11:46:19.005Z"
   },
   {
    "duration": 13,
    "start_time": "2023-05-17T11:47:20.094Z"
   },
   {
    "duration": 11,
    "start_time": "2023-05-17T11:48:25.192Z"
   },
   {
    "duration": 1065,
    "start_time": "2023-05-17T11:48:53.762Z"
   },
   {
    "duration": 40,
    "start_time": "2023-05-17T11:48:54.830Z"
   },
   {
    "duration": 20,
    "start_time": "2023-05-17T11:48:54.872Z"
   },
   {
    "duration": 12,
    "start_time": "2023-05-17T11:48:54.894Z"
   },
   {
    "duration": 7,
    "start_time": "2023-05-17T11:48:54.908Z"
   },
   {
    "duration": 14,
    "start_time": "2023-05-17T11:48:54.916Z"
   },
   {
    "duration": 10,
    "start_time": "2023-05-17T11:48:54.931Z"
   },
   {
    "duration": 113,
    "start_time": "2023-05-17T11:48:54.942Z"
   },
   {
    "duration": 0,
    "start_time": "2023-05-17T11:48:55.056Z"
   },
   {
    "duration": 3,
    "start_time": "2023-05-17T11:49:03.406Z"
   },
   {
    "duration": 59,
    "start_time": "2023-05-17T11:49:03.410Z"
   },
   {
    "duration": 11,
    "start_time": "2023-05-17T11:49:03.471Z"
   },
   {
    "duration": 22,
    "start_time": "2023-05-17T11:49:03.484Z"
   },
   {
    "duration": 5,
    "start_time": "2023-05-17T11:49:03.508Z"
   },
   {
    "duration": 13,
    "start_time": "2023-05-17T11:49:03.514Z"
   },
   {
    "duration": 17,
    "start_time": "2023-05-17T11:49:03.528Z"
   },
   {
    "duration": 22,
    "start_time": "2023-05-17T11:49:03.546Z"
   },
   {
    "duration": 16,
    "start_time": "2023-05-17T11:49:41.238Z"
   },
   {
    "duration": 4,
    "start_time": "2023-05-17T11:54:28.395Z"
   },
   {
    "duration": 5,
    "start_time": "2023-05-17T11:54:33.994Z"
   },
   {
    "duration": 36,
    "start_time": "2023-05-17T11:55:56.496Z"
   },
   {
    "duration": 10,
    "start_time": "2023-05-17T11:56:09.897Z"
   },
   {
    "duration": 25,
    "start_time": "2023-05-17T11:56:21.290Z"
   },
   {
    "duration": 17,
    "start_time": "2023-05-17T11:57:01.308Z"
   },
   {
    "duration": 22,
    "start_time": "2023-05-17T11:57:36.686Z"
   },
   {
    "duration": 18,
    "start_time": "2023-05-17T12:00:24.390Z"
   },
   {
    "duration": 18,
    "start_time": "2023-05-17T12:01:26.694Z"
   },
   {
    "duration": 14,
    "start_time": "2023-05-17T12:01:49.728Z"
   },
   {
    "duration": 14,
    "start_time": "2023-05-17T12:02:46.691Z"
   },
   {
    "duration": 19,
    "start_time": "2023-05-17T12:02:52.949Z"
   },
   {
    "duration": 97,
    "start_time": "2023-05-17T12:03:58.001Z"
   },
   {
    "duration": 94,
    "start_time": "2023-05-17T12:04:02.622Z"
   },
   {
    "duration": 9,
    "start_time": "2023-05-17T12:04:14.014Z"
   },
   {
    "duration": 2442,
    "start_time": "2023-05-17T12:05:00.983Z"
   },
   {
    "duration": 4723,
    "start_time": "2023-05-17T12:05:16.289Z"
   },
   {
    "duration": 14,
    "start_time": "2023-05-17T12:05:30.746Z"
   },
   {
    "duration": 12,
    "start_time": "2023-05-17T12:05:59.747Z"
   },
   {
    "duration": 42,
    "start_time": "2023-05-17T12:07:06.286Z"
   },
   {
    "duration": 11,
    "start_time": "2023-05-17T12:07:07.017Z"
   },
   {
    "duration": 18,
    "start_time": "2023-05-17T12:07:07.957Z"
   },
   {
    "duration": 602,
    "start_time": "2023-05-17T12:07:19.652Z"
   },
   {
    "duration": 41,
    "start_time": "2023-05-17T12:07:20.256Z"
   },
   {
    "duration": 12,
    "start_time": "2023-05-17T12:07:20.299Z"
   },
   {
    "duration": 14,
    "start_time": "2023-05-17T12:07:20.312Z"
   },
   {
    "duration": 2,
    "start_time": "2023-05-17T12:07:20.328Z"
   },
   {
    "duration": 44,
    "start_time": "2023-05-17T12:07:20.331Z"
   },
   {
    "duration": 7,
    "start_time": "2023-05-17T12:07:20.377Z"
   },
   {
    "duration": 19,
    "start_time": "2023-05-17T12:07:20.385Z"
   },
   {
    "duration": 25,
    "start_time": "2023-05-17T12:07:20.405Z"
   },
   {
    "duration": 15,
    "start_time": "2023-05-17T12:07:30.982Z"
   },
   {
    "duration": 15,
    "start_time": "2023-05-17T12:07:37.630Z"
   },
   {
    "duration": 27,
    "start_time": "2023-05-17T12:08:27.082Z"
   },
   {
    "duration": 11,
    "start_time": "2023-05-17T12:09:26.510Z"
   },
   {
    "duration": 17,
    "start_time": "2023-05-17T12:09:38.494Z"
   },
   {
    "duration": 3,
    "start_time": "2023-05-17T12:09:45.335Z"
   },
   {
    "duration": 47,
    "start_time": "2023-05-17T12:09:45.340Z"
   },
   {
    "duration": 11,
    "start_time": "2023-05-17T12:09:45.389Z"
   },
   {
    "duration": 19,
    "start_time": "2023-05-17T12:09:45.402Z"
   },
   {
    "duration": 2,
    "start_time": "2023-05-17T12:09:45.423Z"
   },
   {
    "duration": 46,
    "start_time": "2023-05-17T12:09:45.426Z"
   },
   {
    "duration": 9,
    "start_time": "2023-05-17T12:09:45.473Z"
   },
   {
    "duration": 32,
    "start_time": "2023-05-17T12:09:45.483Z"
   },
   {
    "duration": 13,
    "start_time": "2023-05-17T12:09:45.516Z"
   },
   {
    "duration": 9,
    "start_time": "2023-05-17T12:11:57.006Z"
   },
   {
    "duration": 4,
    "start_time": "2023-05-17T12:12:33.389Z"
   },
   {
    "duration": 42,
    "start_time": "2023-05-17T12:12:33.989Z"
   },
   {
    "duration": 12,
    "start_time": "2023-05-17T12:12:34.190Z"
   },
   {
    "duration": 13,
    "start_time": "2023-05-17T12:12:34.373Z"
   },
   {
    "duration": 3,
    "start_time": "2023-05-17T12:12:34.542Z"
   },
   {
    "duration": 40,
    "start_time": "2023-05-17T12:12:34.713Z"
   },
   {
    "duration": 4,
    "start_time": "2023-05-17T12:12:34.910Z"
   },
   {
    "duration": 12,
    "start_time": "2023-05-17T12:12:35.143Z"
   },
   {
    "duration": 14,
    "start_time": "2023-05-17T12:12:35.324Z"
   },
   {
    "duration": 1662,
    "start_time": "2023-05-17T12:12:35.511Z"
   },
   {
    "duration": 3796,
    "start_time": "2023-05-17T12:15:10.922Z"
   },
   {
    "duration": 45,
    "start_time": "2023-05-17T12:15:14.721Z"
   },
   {
    "duration": 14,
    "start_time": "2023-05-17T12:15:14.767Z"
   },
   {
    "duration": 21,
    "start_time": "2023-05-17T12:15:14.783Z"
   },
   {
    "duration": 9,
    "start_time": "2023-05-17T12:15:14.805Z"
   },
   {
    "duration": 65,
    "start_time": "2023-05-17T12:15:14.816Z"
   },
   {
    "duration": 36,
    "start_time": "2023-05-17T12:15:14.883Z"
   },
   {
    "duration": 11,
    "start_time": "2023-05-17T12:15:14.986Z"
   },
   {
    "duration": 13,
    "start_time": "2023-05-17T12:15:15.128Z"
   },
   {
    "duration": 1601,
    "start_time": "2023-05-17T12:15:15.644Z"
   },
   {
    "duration": 1601,
    "start_time": "2023-05-17T12:15:20.328Z"
   },
   {
    "duration": 3264,
    "start_time": "2023-05-17T12:15:23.131Z"
   },
   {
    "duration": 680,
    "start_time": "2023-05-17T12:15:30.035Z"
   },
   {
    "duration": 1031,
    "start_time": "2023-05-17T12:18:57.640Z"
   },
   {
    "duration": 2559,
    "start_time": "2023-05-17T12:23:50.810Z"
   },
   {
    "duration": 62,
    "start_time": "2023-05-17T12:23:53.372Z"
   },
   {
    "duration": 15,
    "start_time": "2023-05-17T12:23:53.627Z"
   },
   {
    "duration": 15,
    "start_time": "2023-05-17T12:23:54.023Z"
   },
   {
    "duration": 4,
    "start_time": "2023-05-17T12:23:54.276Z"
   },
   {
    "duration": 87,
    "start_time": "2023-05-17T12:23:54.439Z"
   },
   {
    "duration": 5,
    "start_time": "2023-05-17T12:23:54.743Z"
   },
   {
    "duration": 13,
    "start_time": "2023-05-17T12:23:55.059Z"
   },
   {
    "duration": 14,
    "start_time": "2023-05-17T12:23:55.251Z"
   },
   {
    "duration": 1209,
    "start_time": "2023-05-17T12:23:56.132Z"
   },
   {
    "duration": 691,
    "start_time": "2023-05-17T12:24:00.055Z"
   },
   {
    "duration": 5298,
    "start_time": "2023-05-18T12:52:33.820Z"
   },
   {
    "duration": 205,
    "start_time": "2023-05-18T12:52:39.120Z"
   },
   {
    "duration": 22,
    "start_time": "2023-05-18T12:52:39.327Z"
   },
   {
    "duration": 19,
    "start_time": "2023-05-18T12:52:39.360Z"
   },
   {
    "duration": 11,
    "start_time": "2023-05-18T12:52:39.382Z"
   },
   {
    "duration": 51,
    "start_time": "2023-05-18T12:52:39.394Z"
   },
   {
    "duration": 17,
    "start_time": "2023-05-18T12:52:39.447Z"
   },
   {
    "duration": 21,
    "start_time": "2023-05-18T12:52:39.477Z"
   },
   {
    "duration": 17,
    "start_time": "2023-05-18T12:52:39.500Z"
   },
   {
    "duration": 1443,
    "start_time": "2023-05-18T12:52:39.518Z"
   },
   {
    "duration": 912,
    "start_time": "2023-05-18T12:52:40.963Z"
   },
   {
    "duration": 150,
    "start_time": "2023-05-18T12:52:41.880Z"
   },
   {
    "duration": 9,
    "start_time": "2023-05-18T12:52:49.496Z"
   },
   {
    "duration": 24,
    "start_time": "2023-05-18T12:55:14.310Z"
   },
   {
    "duration": 17,
    "start_time": "2023-05-18T12:57:17.471Z"
   },
   {
    "duration": 18,
    "start_time": "2023-05-18T12:57:29.821Z"
   },
   {
    "duration": 1252,
    "start_time": "2023-05-18T12:58:50.365Z"
   },
   {
    "duration": 23,
    "start_time": "2023-05-18T13:03:12.171Z"
   },
   {
    "duration": 2528,
    "start_time": "2023-05-18T13:03:31.907Z"
   },
   {
    "duration": 13,
    "start_time": "2023-05-18T13:03:39.084Z"
   },
   {
    "duration": 37,
    "start_time": "2023-05-18T13:04:48.163Z"
   },
   {
    "duration": 23,
    "start_time": "2023-05-18T13:04:56.683Z"
   },
   {
    "duration": 6,
    "start_time": "2023-05-18T13:18:30.291Z"
   },
   {
    "duration": 2589,
    "start_time": "2023-05-18T13:18:35.685Z"
   },
   {
    "duration": 68,
    "start_time": "2023-05-18T13:18:38.277Z"
   },
   {
    "duration": 21,
    "start_time": "2023-05-18T13:18:38.346Z"
   },
   {
    "duration": 18,
    "start_time": "2023-05-18T13:18:38.369Z"
   },
   {
    "duration": 5,
    "start_time": "2023-05-18T13:18:38.390Z"
   },
   {
    "duration": 96,
    "start_time": "2023-05-18T13:18:38.397Z"
   },
   {
    "duration": 6,
    "start_time": "2023-05-18T13:18:38.495Z"
   },
   {
    "duration": 13,
    "start_time": "2023-05-18T13:18:38.503Z"
   },
   {
    "duration": 16,
    "start_time": "2023-05-18T13:18:38.519Z"
   },
   {
    "duration": 1557,
    "start_time": "2023-05-18T13:18:38.558Z"
   },
   {
    "duration": 1147,
    "start_time": "2023-05-18T13:18:40.117Z"
   },
   {
    "duration": 7,
    "start_time": "2023-05-18T13:18:41.266Z"
   },
   {
    "duration": 7,
    "start_time": "2023-05-18T13:18:41.276Z"
   },
   {
    "duration": 18,
    "start_time": "2023-05-18T13:18:41.289Z"
   },
   {
    "duration": 12,
    "start_time": "2023-05-18T13:18:41.309Z"
   },
   {
    "duration": 37,
    "start_time": "2023-05-18T13:18:41.323Z"
   },
   {
    "duration": 14,
    "start_time": "2023-05-18T13:21:29.916Z"
   },
   {
    "duration": 16,
    "start_time": "2023-05-18T13:21:47.072Z"
   },
   {
    "duration": 6,
    "start_time": "2023-05-18T13:21:54.893Z"
   },
   {
    "duration": 19,
    "start_time": "2023-05-18T13:22:51.972Z"
   },
   {
    "duration": 7,
    "start_time": "2023-05-18T13:24:06.892Z"
   },
   {
    "duration": 11,
    "start_time": "2023-05-18T13:24:23.085Z"
   },
   {
    "duration": 12,
    "start_time": "2023-05-18T13:24:34.795Z"
   },
   {
    "duration": 3018,
    "start_time": "2023-05-18T13:25:37.202Z"
   },
   {
    "duration": 75,
    "start_time": "2023-05-18T13:25:40.223Z"
   },
   {
    "duration": 25,
    "start_time": "2023-05-18T13:25:40.301Z"
   },
   {
    "duration": 27,
    "start_time": "2023-05-18T13:25:40.328Z"
   },
   {
    "duration": 12,
    "start_time": "2023-05-18T13:25:40.359Z"
   },
   {
    "duration": 86,
    "start_time": "2023-05-18T13:25:40.374Z"
   },
   {
    "duration": 7,
    "start_time": "2023-05-18T13:25:40.463Z"
   },
   {
    "duration": 37,
    "start_time": "2023-05-18T13:25:40.475Z"
   },
   {
    "duration": 18,
    "start_time": "2023-05-18T13:25:40.514Z"
   },
   {
    "duration": 1390,
    "start_time": "2023-05-18T13:25:40.538Z"
   },
   {
    "duration": 998,
    "start_time": "2023-05-18T13:25:41.930Z"
   },
   {
    "duration": 21,
    "start_time": "2023-05-18T13:25:42.931Z"
   },
   {
    "duration": 7,
    "start_time": "2023-05-18T13:25:42.954Z"
   },
   {
    "duration": 20,
    "start_time": "2023-05-18T13:25:42.970Z"
   },
   {
    "duration": 11,
    "start_time": "2023-05-18T13:25:42.992Z"
   },
   {
    "duration": 19,
    "start_time": "2023-05-18T13:25:43.006Z"
   },
   {
    "duration": 23,
    "start_time": "2023-05-18T13:25:48.419Z"
   },
   {
    "duration": 62,
    "start_time": "2023-05-18T13:28:02.865Z"
   },
   {
    "duration": 23,
    "start_time": "2023-05-18T13:28:08.555Z"
   },
   {
    "duration": 7,
    "start_time": "2023-05-18T13:28:31.906Z"
   },
   {
    "duration": 8,
    "start_time": "2023-05-18T13:29:38.193Z"
   },
   {
    "duration": 10,
    "start_time": "2023-05-18T13:30:46.467Z"
   },
   {
    "duration": 11,
    "start_time": "2023-05-18T13:30:57.352Z"
   },
   {
    "duration": 22,
    "start_time": "2023-05-18T13:31:11.547Z"
   },
   {
    "duration": 7,
    "start_time": "2023-05-18T13:31:33.194Z"
   },
   {
    "duration": 7,
    "start_time": "2023-05-18T13:31:41.868Z"
   },
   {
    "duration": 3295,
    "start_time": "2023-05-18T13:53:49.099Z"
   },
   {
    "duration": 2596,
    "start_time": "2023-05-18T13:55:43.212Z"
   },
   {
    "duration": 42,
    "start_time": "2023-05-18T14:06:34.506Z"
   },
   {
    "duration": 2943,
    "start_time": "2023-05-18T14:06:44.619Z"
   },
   {
    "duration": 61,
    "start_time": "2023-05-18T14:06:47.568Z"
   },
   {
    "duration": 29,
    "start_time": "2023-05-18T14:06:47.631Z"
   },
   {
    "duration": 23,
    "start_time": "2023-05-18T14:06:47.666Z"
   },
   {
    "duration": 3,
    "start_time": "2023-05-18T14:06:47.692Z"
   },
   {
    "duration": 89,
    "start_time": "2023-05-18T14:06:47.698Z"
   },
   {
    "duration": 6,
    "start_time": "2023-05-18T14:06:47.790Z"
   },
   {
    "duration": 20,
    "start_time": "2023-05-18T14:06:47.812Z"
   },
   {
    "duration": 23,
    "start_time": "2023-05-18T14:06:47.988Z"
   },
   {
    "duration": 1811,
    "start_time": "2023-05-18T14:06:48.123Z"
   },
   {
    "duration": 1262,
    "start_time": "2023-05-18T14:06:49.937Z"
   },
   {
    "duration": 12,
    "start_time": "2023-05-18T14:06:51.211Z"
   },
   {
    "duration": 6,
    "start_time": "2023-05-18T14:06:51.234Z"
   },
   {
    "duration": 34,
    "start_time": "2023-05-18T14:06:51.243Z"
   },
   {
    "duration": 14,
    "start_time": "2023-05-18T14:06:51.279Z"
   },
   {
    "duration": 101,
    "start_time": "2023-05-18T14:06:51.299Z"
   },
   {
    "duration": 42,
    "start_time": "2023-05-18T14:06:51.403Z"
   },
   {
    "duration": 35,
    "start_time": "2023-05-18T14:06:51.448Z"
   },
   {
    "duration": 3453,
    "start_time": "2023-05-18T14:07:08.503Z"
   },
   {
    "duration": 88,
    "start_time": "2023-05-18T14:07:11.960Z"
   },
   {
    "duration": 41,
    "start_time": "2023-05-18T14:07:12.056Z"
   },
   {
    "duration": 34,
    "start_time": "2023-05-18T14:07:12.107Z"
   },
   {
    "duration": 14,
    "start_time": "2023-05-18T14:07:12.153Z"
   },
   {
    "duration": 133,
    "start_time": "2023-05-18T14:07:12.174Z"
   },
   {
    "duration": 7,
    "start_time": "2023-05-18T14:07:12.317Z"
   },
   {
    "duration": 26,
    "start_time": "2023-05-18T14:07:12.331Z"
   },
   {
    "duration": 42,
    "start_time": "2023-05-18T14:07:12.365Z"
   },
   {
    "duration": 1633,
    "start_time": "2023-05-18T14:07:12.416Z"
   },
   {
    "duration": 1375,
    "start_time": "2023-05-18T14:07:14.058Z"
   },
   {
    "duration": 12,
    "start_time": "2023-05-18T14:07:15.439Z"
   },
   {
    "duration": 6,
    "start_time": "2023-05-18T14:07:15.457Z"
   },
   {
    "duration": 24,
    "start_time": "2023-05-18T14:07:15.469Z"
   },
   {
    "duration": 14,
    "start_time": "2023-05-18T14:07:15.499Z"
   },
   {
    "duration": 80,
    "start_time": "2023-05-18T14:07:15.520Z"
   },
   {
    "duration": 23,
    "start_time": "2023-05-18T14:07:15.608Z"
   },
   {
    "duration": 81,
    "start_time": "2023-05-18T14:14:15.284Z"
   },
   {
    "duration": 9667,
    "start_time": "2023-05-18T14:14:19.675Z"
   },
   {
    "duration": 110,
    "start_time": "2023-05-18T14:14:29.346Z"
   },
   {
    "duration": 72,
    "start_time": "2023-05-18T14:14:29.462Z"
   },
   {
    "duration": 51,
    "start_time": "2023-05-18T14:14:29.547Z"
   },
   {
    "duration": 9,
    "start_time": "2023-05-18T14:14:29.601Z"
   },
   {
    "duration": 181,
    "start_time": "2023-05-18T14:14:29.613Z"
   },
   {
    "duration": 18,
    "start_time": "2023-05-18T14:14:29.800Z"
   },
   {
    "duration": 51,
    "start_time": "2023-05-18T14:14:29.827Z"
   },
   {
    "duration": 52,
    "start_time": "2023-05-18T14:14:29.886Z"
   },
   {
    "duration": 2184,
    "start_time": "2023-05-18T14:14:29.945Z"
   },
   {
    "duration": 1774,
    "start_time": "2023-05-18T14:14:32.145Z"
   },
   {
    "duration": 8,
    "start_time": "2023-05-18T14:14:33.925Z"
   },
   {
    "duration": 8,
    "start_time": "2023-05-18T14:14:33.936Z"
   },
   {
    "duration": 17,
    "start_time": "2023-05-18T14:14:33.949Z"
   },
   {
    "duration": 10,
    "start_time": "2023-05-18T14:14:33.969Z"
   },
   {
    "duration": 85,
    "start_time": "2023-05-18T14:14:33.982Z"
   },
   {
    "duration": 11,
    "start_time": "2023-05-18T14:14:34.070Z"
   },
   {
    "duration": 7638,
    "start_time": "2023-05-18T14:17:02.529Z"
   },
   {
    "duration": 63,
    "start_time": "2023-05-18T14:17:10.171Z"
   },
   {
    "duration": 44,
    "start_time": "2023-05-18T14:17:10.236Z"
   },
   {
    "duration": 20,
    "start_time": "2023-05-18T14:17:10.287Z"
   },
   {
    "duration": 6,
    "start_time": "2023-05-18T14:17:10.310Z"
   },
   {
    "duration": 102,
    "start_time": "2023-05-18T14:17:10.319Z"
   },
   {
    "duration": 6,
    "start_time": "2023-05-18T14:17:10.423Z"
   },
   {
    "duration": 16,
    "start_time": "2023-05-18T14:17:10.431Z"
   },
   {
    "duration": 20,
    "start_time": "2023-05-18T14:17:10.449Z"
   },
   {
    "duration": 1960,
    "start_time": "2023-05-18T14:17:10.472Z"
   },
   {
    "duration": 1373,
    "start_time": "2023-05-18T14:17:12.439Z"
   },
   {
    "duration": 16,
    "start_time": "2023-05-18T14:17:13.819Z"
   },
   {
    "duration": 7,
    "start_time": "2023-05-18T14:17:13.841Z"
   },
   {
    "duration": 28,
    "start_time": "2023-05-18T14:17:13.869Z"
   },
   {
    "duration": 25,
    "start_time": "2023-05-18T14:17:13.900Z"
   },
   {
    "duration": 86,
    "start_time": "2023-05-18T14:17:13.928Z"
   },
   {
    "duration": 19,
    "start_time": "2023-05-18T14:17:14.022Z"
   },
   {
    "duration": 7756,
    "start_time": "2023-05-18T14:19:39.557Z"
   },
   {
    "duration": 61,
    "start_time": "2023-05-18T14:19:47.320Z"
   },
   {
    "duration": 37,
    "start_time": "2023-05-18T14:19:47.383Z"
   },
   {
    "duration": 41,
    "start_time": "2023-05-18T14:19:47.423Z"
   },
   {
    "duration": 4,
    "start_time": "2023-05-18T14:19:47.472Z"
   },
   {
    "duration": 106,
    "start_time": "2023-05-18T14:19:47.481Z"
   },
   {
    "duration": 12,
    "start_time": "2023-05-18T14:19:47.593Z"
   },
   {
    "duration": 20,
    "start_time": "2023-05-18T14:19:47.608Z"
   },
   {
    "duration": 23,
    "start_time": "2023-05-18T14:19:47.630Z"
   },
   {
    "duration": 1776,
    "start_time": "2023-05-18T14:19:47.656Z"
   },
   {
    "duration": 1320,
    "start_time": "2023-05-18T14:19:49.434Z"
   },
   {
    "duration": 14,
    "start_time": "2023-05-18T14:19:50.756Z"
   },
   {
    "duration": 12,
    "start_time": "2023-05-18T14:19:50.774Z"
   },
   {
    "duration": 41,
    "start_time": "2023-05-18T14:19:50.789Z"
   },
   {
    "duration": 9,
    "start_time": "2023-05-18T14:19:50.833Z"
   },
   {
    "duration": 62,
    "start_time": "2023-05-18T14:19:50.844Z"
   },
   {
    "duration": 14,
    "start_time": "2023-05-18T14:19:50.912Z"
   },
   {
    "duration": 8141,
    "start_time": "2023-05-18T14:27:19.397Z"
   },
   {
    "duration": 54,
    "start_time": "2023-05-18T14:27:27.544Z"
   },
   {
    "duration": 28,
    "start_time": "2023-05-18T14:27:27.600Z"
   },
   {
    "duration": 19,
    "start_time": "2023-05-18T14:27:27.632Z"
   },
   {
    "duration": 3,
    "start_time": "2023-05-18T14:27:27.653Z"
   },
   {
    "duration": 72,
    "start_time": "2023-05-18T14:27:27.657Z"
   },
   {
    "duration": 5,
    "start_time": "2023-05-18T14:27:27.731Z"
   },
   {
    "duration": 16,
    "start_time": "2023-05-18T14:27:27.751Z"
   },
   {
    "duration": 17,
    "start_time": "2023-05-18T14:27:27.769Z"
   },
   {
    "duration": 1723,
    "start_time": "2023-05-18T14:27:27.789Z"
   },
   {
    "duration": 1362,
    "start_time": "2023-05-18T14:27:29.515Z"
   },
   {
    "duration": 14,
    "start_time": "2023-05-18T14:27:30.880Z"
   },
   {
    "duration": 45,
    "start_time": "2023-05-18T14:27:30.896Z"
   },
   {
    "duration": 39,
    "start_time": "2023-05-18T14:27:30.944Z"
   },
   {
    "duration": 20,
    "start_time": "2023-05-18T14:27:30.985Z"
   },
   {
    "duration": 69,
    "start_time": "2023-05-18T14:27:31.007Z"
   },
   {
    "duration": 9,
    "start_time": "2023-05-18T14:27:31.078Z"
   },
   {
    "duration": 235,
    "start_time": "2023-05-18T14:27:31.089Z"
   },
   {
    "duration": 6304,
    "start_time": "2023-05-18T14:46:11.172Z"
   },
   {
    "duration": 49,
    "start_time": "2023-05-18T14:46:17.480Z"
   },
   {
    "duration": 33,
    "start_time": "2023-05-18T14:46:17.531Z"
   },
   {
    "duration": 25,
    "start_time": "2023-05-18T14:46:17.566Z"
   },
   {
    "duration": 6,
    "start_time": "2023-05-18T14:46:17.594Z"
   },
   {
    "duration": 77,
    "start_time": "2023-05-18T14:46:17.602Z"
   },
   {
    "duration": 10,
    "start_time": "2023-05-18T14:46:17.681Z"
   },
   {
    "duration": 14,
    "start_time": "2023-05-18T14:46:17.693Z"
   },
   {
    "duration": 23,
    "start_time": "2023-05-18T14:46:17.709Z"
   },
   {
    "duration": 1444,
    "start_time": "2023-05-18T14:46:17.760Z"
   },
   {
    "duration": 893,
    "start_time": "2023-05-18T14:46:19.206Z"
   },
   {
    "duration": 9,
    "start_time": "2023-05-18T14:46:20.100Z"
   },
   {
    "duration": 21,
    "start_time": "2023-05-18T14:46:20.111Z"
   },
   {
    "duration": 16,
    "start_time": "2023-05-18T14:46:20.135Z"
   },
   {
    "duration": 18,
    "start_time": "2023-05-18T14:46:20.159Z"
   },
   {
    "duration": 63,
    "start_time": "2023-05-18T14:46:20.178Z"
   },
   {
    "duration": 13,
    "start_time": "2023-05-18T14:46:20.244Z"
   },
   {
    "duration": 5906,
    "start_time": "2023-05-18T14:51:43.176Z"
   },
   {
    "duration": 46,
    "start_time": "2023-05-18T14:51:49.084Z"
   },
   {
    "duration": 20,
    "start_time": "2023-05-18T14:51:49.132Z"
   },
   {
    "duration": 16,
    "start_time": "2023-05-18T14:51:49.154Z"
   },
   {
    "duration": 3,
    "start_time": "2023-05-18T14:51:49.173Z"
   },
   {
    "duration": 73,
    "start_time": "2023-05-18T14:51:49.179Z"
   },
   {
    "duration": 5,
    "start_time": "2023-05-18T14:51:49.254Z"
   },
   {
    "duration": 18,
    "start_time": "2023-05-18T14:51:49.260Z"
   },
   {
    "duration": 21,
    "start_time": "2023-05-18T14:51:49.280Z"
   },
   {
    "duration": 1440,
    "start_time": "2023-05-18T14:51:49.303Z"
   },
   {
    "duration": 920,
    "start_time": "2023-05-18T14:51:50.745Z"
   },
   {
    "duration": 6,
    "start_time": "2023-05-18T14:51:51.666Z"
   },
   {
    "duration": 11,
    "start_time": "2023-05-18T14:51:51.673Z"
   },
   {
    "duration": 12,
    "start_time": "2023-05-18T14:51:51.686Z"
   },
   {
    "duration": 9,
    "start_time": "2023-05-18T14:51:51.700Z"
   },
   {
    "duration": 82,
    "start_time": "2023-05-18T14:51:51.711Z"
   },
   {
    "duration": 8,
    "start_time": "2023-05-18T14:51:51.795Z"
   },
   {
    "duration": 68674,
    "start_time": "2023-05-18T14:51:51.805Z"
   },
   {
    "duration": 68529,
    "start_time": "2023-05-18T14:56:11.898Z"
   },
   {
    "duration": 61,
    "start_time": "2023-05-18T15:02:41.354Z"
   },
   {
    "duration": 1523,
    "start_time": "2023-05-18T15:03:01.535Z"
   },
   {
    "duration": 1524,
    "start_time": "2023-05-18T15:03:05.540Z"
   },
   {
    "duration": 1408,
    "start_time": "2023-05-18T15:04:35.479Z"
   },
   {
    "duration": 1484,
    "start_time": "2023-05-18T15:04:41.004Z"
   },
   {
    "duration": 1487,
    "start_time": "2023-05-18T15:04:45.000Z"
   },
   {
    "duration": 1559,
    "start_time": "2023-05-18T15:04:48.877Z"
   },
   {
    "duration": 5,
    "start_time": "2023-05-18T15:55:29.193Z"
   },
   {
    "duration": 1497,
    "start_time": "2023-05-18T15:57:04.884Z"
   },
   {
    "duration": 4391,
    "start_time": "2023-05-18T16:08:29.568Z"
   },
   {
    "duration": 4362,
    "start_time": "2023-05-18T16:08:39.544Z"
   },
   {
    "duration": 58,
    "start_time": "2023-05-18T16:11:07.096Z"
   },
   {
    "duration": 7,
    "start_time": "2023-05-18T16:11:11.157Z"
   },
   {
    "duration": 1710,
    "start_time": "2023-05-18T16:11:12.592Z"
   },
   {
    "duration": 5605,
    "start_time": "2023-05-18T16:11:36.772Z"
   },
   {
    "duration": 41,
    "start_time": "2023-05-18T16:11:42.380Z"
   },
   {
    "duration": 20,
    "start_time": "2023-05-18T16:11:42.424Z"
   },
   {
    "duration": 16,
    "start_time": "2023-05-18T16:11:42.446Z"
   },
   {
    "duration": 13,
    "start_time": "2023-05-18T16:11:42.465Z"
   },
   {
    "duration": 69,
    "start_time": "2023-05-18T16:11:42.479Z"
   },
   {
    "duration": 10,
    "start_time": "2023-05-18T16:11:42.557Z"
   },
   {
    "duration": 16,
    "start_time": "2023-05-18T16:11:42.577Z"
   },
   {
    "duration": 16,
    "start_time": "2023-05-18T16:11:42.595Z"
   },
   {
    "duration": 1401,
    "start_time": "2023-05-18T16:11:42.613Z"
   },
   {
    "duration": 949,
    "start_time": "2023-05-18T16:11:44.016Z"
   },
   {
    "duration": 8,
    "start_time": "2023-05-18T16:11:44.971Z"
   },
   {
    "duration": 5,
    "start_time": "2023-05-18T16:11:44.981Z"
   },
   {
    "duration": 11,
    "start_time": "2023-05-18T16:11:44.989Z"
   },
   {
    "duration": 8,
    "start_time": "2023-05-18T16:11:45.002Z"
   },
   {
    "duration": 78,
    "start_time": "2023-05-18T16:11:45.011Z"
   },
   {
    "duration": 9,
    "start_time": "2023-05-18T16:11:45.091Z"
   },
   {
    "duration": 7,
    "start_time": "2023-05-18T16:11:45.102Z"
   },
   {
    "duration": 1590,
    "start_time": "2023-05-18T16:11:45.111Z"
   },
   {
    "duration": 7,
    "start_time": "2023-05-18T16:12:06.444Z"
   },
   {
    "duration": 1567,
    "start_time": "2023-05-18T16:12:07.803Z"
   },
   {
    "duration": 4253,
    "start_time": "2023-05-18T16:12:54.320Z"
   },
   {
    "duration": 1755,
    "start_time": "2023-05-18T16:12:58.575Z"
   },
   {
    "duration": 5,
    "start_time": "2023-05-18T16:13:39.594Z"
   },
   {
    "duration": 1652,
    "start_time": "2023-05-18T16:13:40.581Z"
   },
   {
    "duration": 7,
    "start_time": "2023-05-18T16:14:18.483Z"
   },
   {
    "duration": 1648,
    "start_time": "2023-05-18T16:14:19.602Z"
   },
   {
    "duration": 12,
    "start_time": "2023-05-18T16:14:30.050Z"
   },
   {
    "duration": 1715,
    "start_time": "2023-05-18T16:14:30.845Z"
   },
   {
    "duration": 116,
    "start_time": "2023-05-18T16:20:19.614Z"
   },
   {
    "duration": 14,
    "start_time": "2023-05-18T16:20:24.273Z"
   },
   {
    "duration": 2235,
    "start_time": "2023-05-18T16:20:25.038Z"
   },
   {
    "duration": 11,
    "start_time": "2023-05-18T16:21:06.358Z"
   },
   {
    "duration": 2079,
    "start_time": "2023-05-18T16:21:13.294Z"
   },
   {
    "duration": 20,
    "start_time": "2023-05-18T16:21:23.308Z"
   },
   {
    "duration": 2592,
    "start_time": "2023-05-18T16:21:26.177Z"
   },
   {
    "duration": 6141,
    "start_time": "2023-05-18T16:21:33.996Z"
   },
   {
    "duration": 72,
    "start_time": "2023-05-18T16:21:40.140Z"
   },
   {
    "duration": 17,
    "start_time": "2023-05-18T16:21:40.214Z"
   },
   {
    "duration": 21,
    "start_time": "2023-05-18T16:21:40.233Z"
   },
   {
    "duration": 21,
    "start_time": "2023-05-18T16:21:40.265Z"
   },
   {
    "duration": 91,
    "start_time": "2023-05-18T16:21:40.295Z"
   },
   {
    "duration": 10,
    "start_time": "2023-05-18T16:21:40.388Z"
   },
   {
    "duration": 21,
    "start_time": "2023-05-18T16:21:40.400Z"
   },
   {
    "duration": 17,
    "start_time": "2023-05-18T16:21:40.423Z"
   },
   {
    "duration": 1754,
    "start_time": "2023-05-18T16:21:40.442Z"
   },
   {
    "duration": 1024,
    "start_time": "2023-05-18T16:21:42.205Z"
   },
   {
    "duration": 8,
    "start_time": "2023-05-18T16:21:43.231Z"
   },
   {
    "duration": 21,
    "start_time": "2023-05-18T16:21:43.241Z"
   },
   {
    "duration": 26,
    "start_time": "2023-05-18T16:21:43.266Z"
   },
   {
    "duration": 18,
    "start_time": "2023-05-18T16:21:43.296Z"
   },
   {
    "duration": 79,
    "start_time": "2023-05-18T16:21:43.325Z"
   },
   {
    "duration": 17,
    "start_time": "2023-05-18T16:21:43.410Z"
   },
   {
    "duration": 25,
    "start_time": "2023-05-18T16:21:43.433Z"
   },
   {
    "duration": 2625,
    "start_time": "2023-05-18T16:21:43.470Z"
   },
   {
    "duration": 11,
    "start_time": "2023-05-18T16:21:56.739Z"
   },
   {
    "duration": 2081,
    "start_time": "2023-05-18T16:21:58.005Z"
   },
   {
    "duration": 9347,
    "start_time": "2023-05-18T16:24:56.556Z"
   },
   {
    "duration": 97,
    "start_time": "2023-05-18T16:25:05.906Z"
   },
   {
    "duration": 27,
    "start_time": "2023-05-18T16:25:06.005Z"
   },
   {
    "duration": 19,
    "start_time": "2023-05-18T16:25:06.037Z"
   },
   {
    "duration": 5,
    "start_time": "2023-05-18T16:25:06.063Z"
   },
   {
    "duration": 109,
    "start_time": "2023-05-18T16:25:06.072Z"
   },
   {
    "duration": 13,
    "start_time": "2023-05-18T16:25:06.187Z"
   },
   {
    "duration": 23,
    "start_time": "2023-05-18T16:25:06.205Z"
   },
   {
    "duration": 30,
    "start_time": "2023-05-18T16:25:06.230Z"
   },
   {
    "duration": 1894,
    "start_time": "2023-05-18T16:25:06.264Z"
   },
   {
    "duration": 1351,
    "start_time": "2023-05-18T16:25:08.160Z"
   },
   {
    "duration": 11,
    "start_time": "2023-05-18T16:25:09.513Z"
   },
   {
    "duration": 28,
    "start_time": "2023-05-18T16:25:09.526Z"
   },
   {
    "duration": 38,
    "start_time": "2023-05-18T16:25:09.566Z"
   },
   {
    "duration": 21,
    "start_time": "2023-05-18T16:25:09.616Z"
   },
   {
    "duration": 75,
    "start_time": "2023-05-18T16:25:09.646Z"
   },
   {
    "duration": 12,
    "start_time": "2023-05-18T16:25:09.723Z"
   },
   {
    "duration": 1168560,
    "start_time": "2023-05-18T16:25:09.736Z"
   },
   {
    "duration": 10,
    "start_time": "2023-05-18T16:44:38.302Z"
   },
   {
    "duration": 2141,
    "start_time": "2023-05-18T16:44:38.318Z"
   },
   {
    "duration": 8,
    "start_time": "2023-05-18T16:45:16.927Z"
   },
   {
    "duration": 3241,
    "start_time": "2023-05-18T16:45:36.199Z"
   },
   {
    "duration": 14276,
    "start_time": "2023-05-18T16:46:18.791Z"
   },
   {
    "duration": 16193,
    "start_time": "2023-05-18T16:47:29.045Z"
   },
   {
    "duration": 12240,
    "start_time": "2023-05-18T16:48:31.905Z"
   },
   {
    "duration": 15590,
    "start_time": "2023-05-18T16:48:51.836Z"
   },
   {
    "duration": 349,
    "start_time": "2023-05-18T17:12:04.795Z"
   },
   {
    "duration": 19743,
    "start_time": "2023-05-18T17:13:07.795Z"
   },
   {
    "duration": 10625,
    "start_time": "2023-05-18T17:17:13.701Z"
   },
   {
    "duration": 67105,
    "start_time": "2023-05-18T17:18:44.537Z"
   },
   {
    "duration": 17389,
    "start_time": "2023-05-18T17:22:11.541Z"
   },
   {
    "duration": 51,
    "start_time": "2023-05-18T17:22:38.698Z"
   },
   {
    "duration": 44,
    "start_time": "2023-05-18T17:22:40.291Z"
   },
   {
    "duration": 16,
    "start_time": "2023-05-18T17:22:43.126Z"
   },
   {
    "duration": 8,
    "start_time": "2023-05-18T17:22:43.515Z"
   },
   {
    "duration": 103,
    "start_time": "2023-05-18T17:22:43.527Z"
   },
   {
    "duration": 12,
    "start_time": "2023-05-18T17:22:43.633Z"
   },
   {
    "duration": 31,
    "start_time": "2023-05-18T17:22:43.901Z"
   },
   {
    "duration": 29,
    "start_time": "2023-05-18T17:22:43.985Z"
   },
   {
    "duration": 1733,
    "start_time": "2023-05-18T17:22:44.196Z"
   },
   {
    "duration": 1160,
    "start_time": "2023-05-18T17:22:45.934Z"
   },
   {
    "duration": 28,
    "start_time": "2023-05-18T17:22:47.096Z"
   },
   {
    "duration": 15,
    "start_time": "2023-05-18T17:22:47.127Z"
   },
   {
    "duration": 53,
    "start_time": "2023-05-18T17:22:47.144Z"
   },
   {
    "duration": 35,
    "start_time": "2023-05-18T17:22:47.200Z"
   },
   {
    "duration": 123,
    "start_time": "2023-05-18T17:22:47.243Z"
   },
   {
    "duration": 37,
    "start_time": "2023-05-18T17:22:47.375Z"
   },
   {
    "duration": 8,
    "start_time": "2023-05-18T17:22:47.414Z"
   },
   {
    "duration": 3075,
    "start_time": "2023-05-18T17:22:47.424Z"
   },
   {
    "duration": 14567,
    "start_time": "2023-05-18T17:22:50.506Z"
   },
   {
    "duration": 194,
    "start_time": "2023-05-18T17:25:13.797Z"
   },
   {
    "duration": 37,
    "start_time": "2023-05-18T17:26:11.601Z"
   },
   {
    "duration": 10774,
    "start_time": "2023-05-18T17:26:28.309Z"
   },
   {
    "duration": 61,
    "start_time": "2023-05-18T17:26:39.085Z"
   },
   {
    "duration": 25,
    "start_time": "2023-05-18T17:26:39.148Z"
   },
   {
    "duration": 27,
    "start_time": "2023-05-18T17:26:39.178Z"
   },
   {
    "duration": 6,
    "start_time": "2023-05-18T17:26:39.209Z"
   },
   {
    "duration": 90,
    "start_time": "2023-05-18T17:26:39.218Z"
   },
   {
    "duration": 8,
    "start_time": "2023-05-18T17:26:39.313Z"
   },
   {
    "duration": 16,
    "start_time": "2023-05-18T17:26:39.323Z"
   },
   {
    "duration": 45,
    "start_time": "2023-05-18T17:26:39.341Z"
   },
   {
    "duration": 1420,
    "start_time": "2023-05-18T17:26:39.396Z"
   },
   {
    "duration": 899,
    "start_time": "2023-05-18T17:26:40.818Z"
   },
   {
    "duration": 6,
    "start_time": "2023-05-18T17:26:41.719Z"
   },
   {
    "duration": 5,
    "start_time": "2023-05-18T17:26:41.726Z"
   },
   {
    "duration": 48,
    "start_time": "2023-05-18T17:26:41.733Z"
   },
   {
    "duration": 18,
    "start_time": "2023-05-18T17:26:41.783Z"
   },
   {
    "duration": 42,
    "start_time": "2023-05-18T17:26:41.805Z"
   },
   {
    "duration": 15,
    "start_time": "2023-05-18T17:26:41.849Z"
   },
   {
    "duration": 9,
    "start_time": "2023-05-18T17:26:41.869Z"
   },
   {
    "duration": 2580,
    "start_time": "2023-05-18T17:26:41.882Z"
   },
   {
    "duration": 12543,
    "start_time": "2023-05-18T17:26:44.465Z"
   },
   {
    "duration": 48,
    "start_time": "2023-05-18T17:26:57.011Z"
   },
   {
    "duration": 85,
    "start_time": "2023-05-18T17:27:35.773Z"
   },
   {
    "duration": 68,
    "start_time": "2023-05-18T17:27:52.373Z"
   },
   {
    "duration": 15,
    "start_time": "2023-05-18T17:29:49.813Z"
   },
   {
    "duration": 17,
    "start_time": "2023-05-18T17:31:45.163Z"
   },
   {
    "duration": 21,
    "start_time": "2023-05-18T17:31:59.076Z"
   },
   {
    "duration": 18606,
    "start_time": "2023-05-18T17:33:47.033Z"
   },
   {
    "duration": 12568,
    "start_time": "2023-05-18T17:36:31.877Z"
   },
   {
    "duration": 213,
    "start_time": "2023-05-18T17:39:20.089Z"
   },
   {
    "duration": 22,
    "start_time": "2023-05-18T17:41:09.288Z"
   },
   {
    "duration": 8,
    "start_time": "2023-05-18T17:41:45.755Z"
   },
   {
    "duration": 4,
    "start_time": "2023-05-18T17:42:00.615Z"
   },
   {
    "duration": 32,
    "start_time": "2023-05-18T17:42:04.243Z"
   },
   {
    "duration": 12,
    "start_time": "2023-05-18T17:42:17.492Z"
   },
   {
    "duration": 19,
    "start_time": "2023-05-18T17:43:03.399Z"
   },
   {
    "duration": 23,
    "start_time": "2023-05-18T17:43:13.562Z"
   },
   {
    "duration": 16,
    "start_time": "2023-05-18T17:43:17.978Z"
   },
   {
    "duration": 11798,
    "start_time": "2023-05-18T17:44:40.893Z"
   },
   {
    "duration": 0,
    "start_time": "2023-05-18T17:44:52.694Z"
   },
   {
    "duration": 0,
    "start_time": "2023-05-18T17:44:52.695Z"
   },
   {
    "duration": 0,
    "start_time": "2023-05-18T17:44:52.696Z"
   },
   {
    "duration": 0,
    "start_time": "2023-05-18T17:44:52.698Z"
   },
   {
    "duration": 0,
    "start_time": "2023-05-18T17:44:52.699Z"
   },
   {
    "duration": 0,
    "start_time": "2023-05-18T17:44:52.700Z"
   },
   {
    "duration": 0,
    "start_time": "2023-05-18T17:44:52.701Z"
   },
   {
    "duration": 0,
    "start_time": "2023-05-18T17:44:52.702Z"
   },
   {
    "duration": 0,
    "start_time": "2023-05-18T17:44:52.704Z"
   },
   {
    "duration": 0,
    "start_time": "2023-05-18T17:44:52.705Z"
   },
   {
    "duration": 0,
    "start_time": "2023-05-18T17:44:52.706Z"
   },
   {
    "duration": 0,
    "start_time": "2023-05-18T17:44:52.707Z"
   },
   {
    "duration": 0,
    "start_time": "2023-05-18T17:44:52.708Z"
   },
   {
    "duration": 0,
    "start_time": "2023-05-18T17:44:52.710Z"
   },
   {
    "duration": 0,
    "start_time": "2023-05-18T17:44:52.711Z"
   },
   {
    "duration": 0,
    "start_time": "2023-05-18T17:44:52.712Z"
   },
   {
    "duration": 0,
    "start_time": "2023-05-18T17:44:52.713Z"
   },
   {
    "duration": 0,
    "start_time": "2023-05-18T17:44:52.714Z"
   },
   {
    "duration": 0,
    "start_time": "2023-05-18T17:44:52.715Z"
   },
   {
    "duration": 0,
    "start_time": "2023-05-18T17:44:52.715Z"
   },
   {
    "duration": 0,
    "start_time": "2023-05-18T17:44:52.716Z"
   },
   {
    "duration": 0,
    "start_time": "2023-05-18T17:44:52.717Z"
   },
   {
    "duration": 11992,
    "start_time": "2023-05-18T17:45:02.091Z"
   },
   {
    "duration": 0,
    "start_time": "2023-05-18T17:45:14.088Z"
   },
   {
    "duration": 0,
    "start_time": "2023-05-18T17:45:14.089Z"
   },
   {
    "duration": 0,
    "start_time": "2023-05-18T17:45:14.091Z"
   },
   {
    "duration": 0,
    "start_time": "2023-05-18T17:45:14.092Z"
   },
   {
    "duration": 0,
    "start_time": "2023-05-18T17:45:14.093Z"
   },
   {
    "duration": 0,
    "start_time": "2023-05-18T17:45:14.094Z"
   },
   {
    "duration": 0,
    "start_time": "2023-05-18T17:45:14.094Z"
   },
   {
    "duration": 0,
    "start_time": "2023-05-18T17:45:14.096Z"
   },
   {
    "duration": 0,
    "start_time": "2023-05-18T17:45:14.098Z"
   },
   {
    "duration": 0,
    "start_time": "2023-05-18T17:45:14.100Z"
   },
   {
    "duration": 0,
    "start_time": "2023-05-18T17:45:14.101Z"
   },
   {
    "duration": 0,
    "start_time": "2023-05-18T17:45:14.103Z"
   },
   {
    "duration": 0,
    "start_time": "2023-05-18T17:45:14.103Z"
   },
   {
    "duration": 0,
    "start_time": "2023-05-18T17:45:14.104Z"
   },
   {
    "duration": 0,
    "start_time": "2023-05-18T17:45:14.104Z"
   },
   {
    "duration": 0,
    "start_time": "2023-05-18T17:45:14.106Z"
   },
   {
    "duration": 0,
    "start_time": "2023-05-18T17:45:14.108Z"
   },
   {
    "duration": 0,
    "start_time": "2023-05-18T17:45:14.110Z"
   },
   {
    "duration": 0,
    "start_time": "2023-05-18T17:45:14.111Z"
   },
   {
    "duration": 0,
    "start_time": "2023-05-18T17:45:14.113Z"
   },
   {
    "duration": 0,
    "start_time": "2023-05-18T17:45:14.114Z"
   },
   {
    "duration": 0,
    "start_time": "2023-05-18T17:45:14.117Z"
   },
   {
    "duration": 13620,
    "start_time": "2023-05-18T17:46:12.203Z"
   },
   {
    "duration": 24459,
    "start_time": "2023-05-18T17:47:15.019Z"
   },
   {
    "duration": 12532,
    "start_time": "2023-05-18T17:48:34.906Z"
   },
   {
    "duration": 87,
    "start_time": "2023-05-18T17:49:00.448Z"
   },
   {
    "duration": 26,
    "start_time": "2023-05-18T17:49:00.754Z"
   },
   {
    "duration": 23,
    "start_time": "2023-05-18T17:49:00.976Z"
   },
   {
    "duration": 3,
    "start_time": "2023-05-18T17:49:01.400Z"
   },
   {
    "duration": 51,
    "start_time": "2023-05-18T17:49:01.791Z"
   },
   {
    "duration": 5,
    "start_time": "2023-05-18T17:49:02.001Z"
   },
   {
    "duration": 14,
    "start_time": "2023-05-18T17:49:02.230Z"
   },
   {
    "duration": 15,
    "start_time": "2023-05-18T17:49:02.288Z"
   },
   {
    "duration": 1412,
    "start_time": "2023-05-18T17:49:02.427Z"
   },
   {
    "duration": 951,
    "start_time": "2023-05-18T17:49:03.841Z"
   },
   {
    "duration": 6,
    "start_time": "2023-05-18T17:49:04.795Z"
   },
   {
    "duration": 3,
    "start_time": "2023-05-18T17:49:04.803Z"
   },
   {
    "duration": 13,
    "start_time": "2023-05-18T17:49:04.808Z"
   },
   {
    "duration": 10,
    "start_time": "2023-05-18T17:49:04.823Z"
   },
   {
    "duration": 63,
    "start_time": "2023-05-18T17:49:04.834Z"
   },
   {
    "duration": 8,
    "start_time": "2023-05-18T17:49:04.898Z"
   },
   {
    "duration": 5,
    "start_time": "2023-05-18T17:49:04.908Z"
   },
   {
    "duration": 2543,
    "start_time": "2023-05-18T17:49:04.915Z"
   },
   {
    "duration": 12423,
    "start_time": "2023-05-18T17:49:07.459Z"
   },
   {
    "duration": 56,
    "start_time": "2023-05-18T17:49:19.884Z"
   },
   {
    "duration": 8,
    "start_time": "2023-05-18T17:49:19.942Z"
   },
   {
    "duration": 47,
    "start_time": "2023-05-18T17:49:23.650Z"
   },
   {
    "duration": 16,
    "start_time": "2023-05-18T17:49:41.928Z"
   },
   {
    "duration": 20,
    "start_time": "2023-05-18T17:59:12.682Z"
   },
   {
    "duration": 13,
    "start_time": "2023-05-18T17:59:30.981Z"
   },
   {
    "duration": 6,
    "start_time": "2023-05-18T17:59:58.595Z"
   },
   {
    "duration": 25,
    "start_time": "2023-05-18T18:00:03.750Z"
   },
   {
    "duration": 76,
    "start_time": "2023-05-18T18:12:23.771Z"
   },
   {
    "duration": 14145,
    "start_time": "2023-05-18T18:12:26.615Z"
   },
   {
    "duration": 47,
    "start_time": "2023-05-18T18:12:40.770Z"
   },
   {
    "duration": 17,
    "start_time": "2023-05-18T18:12:40.819Z"
   },
   {
    "duration": 15,
    "start_time": "2023-05-18T18:12:40.838Z"
   },
   {
    "duration": 5,
    "start_time": "2023-05-18T18:12:40.855Z"
   },
   {
    "duration": 61,
    "start_time": "2023-05-18T18:12:40.861Z"
   },
   {
    "duration": 4,
    "start_time": "2023-05-18T18:12:40.924Z"
   },
   {
    "duration": 18,
    "start_time": "2023-05-18T18:12:40.930Z"
   },
   {
    "duration": 44,
    "start_time": "2023-05-18T18:12:40.951Z"
   },
   {
    "duration": 1386,
    "start_time": "2023-05-18T18:12:40.999Z"
   },
   {
    "duration": 808,
    "start_time": "2023-05-18T18:12:42.387Z"
   },
   {
    "duration": 6,
    "start_time": "2023-05-18T18:12:43.201Z"
   },
   {
    "duration": 6,
    "start_time": "2023-05-18T18:12:43.208Z"
   },
   {
    "duration": 12,
    "start_time": "2023-05-18T18:12:43.215Z"
   },
   {
    "duration": 25,
    "start_time": "2023-05-18T18:12:43.228Z"
   },
   {
    "duration": 48,
    "start_time": "2023-05-18T18:12:43.258Z"
   },
   {
    "duration": 7,
    "start_time": "2023-05-18T18:12:43.308Z"
   },
   {
    "duration": 22,
    "start_time": "2023-05-18T18:12:43.317Z"
   },
   {
    "duration": 2409,
    "start_time": "2023-05-18T18:12:43.341Z"
   },
   {
    "duration": 11370,
    "start_time": "2023-05-18T18:12:45.752Z"
   },
   {
    "duration": 46,
    "start_time": "2023-05-18T18:12:57.124Z"
   },
   {
    "duration": 7,
    "start_time": "2023-05-18T18:12:57.174Z"
   },
   {
    "duration": 56,
    "start_time": "2023-05-18T18:17:40.301Z"
   },
   {
    "duration": 13688,
    "start_time": "2023-05-18T18:17:45.216Z"
   },
   {
    "duration": 41,
    "start_time": "2023-05-18T18:17:58.905Z"
   },
   {
    "duration": 27,
    "start_time": "2023-05-18T18:17:58.948Z"
   },
   {
    "duration": 21,
    "start_time": "2023-05-18T18:17:58.982Z"
   },
   {
    "duration": 4,
    "start_time": "2023-05-18T18:17:59.005Z"
   },
   {
    "duration": 62,
    "start_time": "2023-05-18T18:17:59.010Z"
   },
   {
    "duration": 7,
    "start_time": "2023-05-18T18:17:59.083Z"
   },
   {
    "duration": 23,
    "start_time": "2023-05-18T18:17:59.091Z"
   },
   {
    "duration": 25,
    "start_time": "2023-05-18T18:17:59.116Z"
   },
   {
    "duration": 1439,
    "start_time": "2023-05-18T18:17:59.143Z"
   },
   {
    "duration": 842,
    "start_time": "2023-05-18T18:18:00.590Z"
   },
   {
    "duration": 37,
    "start_time": "2023-05-18T18:18:01.434Z"
   },
   {
    "duration": 28,
    "start_time": "2023-05-18T18:18:01.473Z"
   },
   {
    "duration": 41,
    "start_time": "2023-05-18T18:18:01.504Z"
   },
   {
    "duration": 61,
    "start_time": "2023-05-18T18:18:01.546Z"
   },
   {
    "duration": 50,
    "start_time": "2023-05-18T18:18:01.609Z"
   },
   {
    "duration": 15,
    "start_time": "2023-05-18T18:18:01.660Z"
   },
   {
    "duration": 10,
    "start_time": "2023-05-18T18:18:01.680Z"
   },
   {
    "duration": 2544,
    "start_time": "2023-05-18T18:18:01.694Z"
   },
   {
    "duration": 11127,
    "start_time": "2023-05-18T18:18:04.241Z"
   },
   {
    "duration": 47,
    "start_time": "2023-05-18T18:18:15.370Z"
   },
   {
    "duration": 8,
    "start_time": "2023-05-18T18:18:15.419Z"
   },
   {
    "duration": 40142,
    "start_time": "2023-05-18T18:18:15.428Z"
   },
   {
    "duration": 44,
    "start_time": "2023-05-18T18:23:11.149Z"
   },
   {
    "duration": 198936,
    "start_time": "2023-05-18T18:23:34.912Z"
   },
   {
    "duration": 4,
    "start_time": "2023-05-18T18:29:52.616Z"
   },
   {
    "duration": 7721,
    "start_time": "2023-05-18T18:30:08.567Z"
   },
   {
    "duration": 7398,
    "start_time": "2023-05-18T18:30:42.183Z"
   },
   {
    "duration": 7494,
    "start_time": "2023-05-18T18:31:26.675Z"
   },
   {
    "duration": 7803,
    "start_time": "2023-05-18T18:32:06.492Z"
   },
   {
    "duration": 36707,
    "start_time": "2023-05-18T18:32:47.099Z"
   },
   {
    "duration": 13728,
    "start_time": "2023-05-18T18:33:59.722Z"
   },
   {
    "duration": 16082,
    "start_time": "2023-05-18T18:35:39.878Z"
   },
   {
    "duration": 14210,
    "start_time": "2023-05-18T18:36:16.213Z"
   },
   {
    "duration": 7193,
    "start_time": "2023-05-18T18:39:01.714Z"
   },
   {
    "duration": 198,
    "start_time": "2023-05-18T18:45:48.182Z"
   },
   {
    "duration": 4020,
    "start_time": "2023-05-18T18:47:12.880Z"
   },
   {
    "duration": 155,
    "start_time": "2023-05-18T18:47:20.783Z"
   },
   {
    "duration": 73,
    "start_time": "2023-05-18T18:47:40.121Z"
   },
   {
    "duration": 5429,
    "start_time": "2023-05-18T18:47:44.112Z"
   },
   {
    "duration": 162,
    "start_time": "2023-05-18T18:47:49.943Z"
   },
   {
    "duration": 32733,
    "start_time": "2023-05-18T18:48:28.695Z"
   },
   {
    "duration": 205,
    "start_time": "2023-05-18T18:49:08.913Z"
   },
   {
    "duration": 9,
    "start_time": "2023-05-18T18:49:49.429Z"
   },
   {
    "duration": 6,
    "start_time": "2023-05-18T18:49:54.476Z"
   },
   {
    "duration": 16,
    "start_time": "2023-05-18T18:57:35.472Z"
   },
   {
    "duration": 10461,
    "start_time": "2023-05-18T18:58:04.083Z"
   },
   {
    "duration": 44,
    "start_time": "2023-05-18T18:58:14.547Z"
   },
   {
    "duration": 16,
    "start_time": "2023-05-18T18:58:14.594Z"
   },
   {
    "duration": 16,
    "start_time": "2023-05-18T18:58:14.612Z"
   },
   {
    "duration": 3,
    "start_time": "2023-05-18T18:58:14.630Z"
   },
   {
    "duration": 55,
    "start_time": "2023-05-18T18:58:14.635Z"
   },
   {
    "duration": 5,
    "start_time": "2023-05-18T18:58:14.692Z"
   },
   {
    "duration": 13,
    "start_time": "2023-05-18T18:58:14.700Z"
   },
   {
    "duration": 38,
    "start_time": "2023-05-18T18:58:14.714Z"
   },
   {
    "duration": 1181,
    "start_time": "2023-05-18T18:58:14.755Z"
   },
   {
    "duration": 721,
    "start_time": "2023-05-18T18:58:15.938Z"
   },
   {
    "duration": 7,
    "start_time": "2023-05-18T18:58:16.661Z"
   },
   {
    "duration": 11,
    "start_time": "2023-05-18T18:58:16.670Z"
   },
   {
    "duration": 14,
    "start_time": "2023-05-18T18:58:16.683Z"
   },
   {
    "duration": 8,
    "start_time": "2023-05-18T18:58:16.699Z"
   },
   {
    "duration": 62,
    "start_time": "2023-05-18T18:58:16.709Z"
   },
   {
    "duration": 8,
    "start_time": "2023-05-18T18:58:16.773Z"
   },
   {
    "duration": 8,
    "start_time": "2023-05-18T18:58:16.784Z"
   },
   {
    "duration": 2233,
    "start_time": "2023-05-18T18:58:16.795Z"
   },
   {
    "duration": 10468,
    "start_time": "2023-05-18T18:58:19.031Z"
   },
   {
    "duration": 23,
    "start_time": "2023-05-18T18:58:29.501Z"
   },
   {
    "duration": 17,
    "start_time": "2023-05-18T18:59:52.107Z"
   },
   {
    "duration": 18,
    "start_time": "2023-05-18T18:59:57.802Z"
   },
   {
    "duration": 14,
    "start_time": "2023-05-18T19:00:07.746Z"
   },
   {
    "duration": 44,
    "start_time": "2023-05-18T19:00:42.200Z"
   },
   {
    "duration": 8,
    "start_time": "2023-05-18T19:00:48.428Z"
   },
   {
    "duration": 6,
    "start_time": "2023-05-18T19:00:49.478Z"
   },
   {
    "duration": 4702,
    "start_time": "2023-05-18T19:01:01.704Z"
   },
   {
    "duration": 177,
    "start_time": "2023-05-18T19:01:11.898Z"
   },
   {
    "duration": 154,
    "start_time": "2023-05-18T19:02:01.345Z"
   },
   {
    "duration": 4332,
    "start_time": "2023-05-18T19:02:42.349Z"
   },
   {
    "duration": 145,
    "start_time": "2023-05-18T19:02:51.497Z"
   },
   {
    "duration": 12,
    "start_time": "2023-05-18T19:03:34.248Z"
   },
   {
    "duration": 5520,
    "start_time": "2023-05-18T19:04:12.852Z"
   },
   {
    "duration": 13,
    "start_time": "2023-05-18T19:04:22.811Z"
   },
   {
    "duration": 6,
    "start_time": "2023-05-18T19:05:24.347Z"
   },
   {
    "duration": 163891,
    "start_time": "2023-05-18T19:05:25.318Z"
   },
   {
    "duration": 5331,
    "start_time": "2023-05-18T19:08:09.211Z"
   },
   {
    "duration": 18,
    "start_time": "2023-05-18T19:08:14.549Z"
   },
   {
    "duration": 10,
    "start_time": "2023-05-18T19:08:32.097Z"
   },
   {
    "duration": 22414,
    "start_time": "2023-05-18T19:11:00.613Z"
   },
   {
    "duration": 4565,
    "start_time": "2023-05-18T19:11:53.746Z"
   },
   {
    "duration": 19780,
    "start_time": "2023-05-18T19:12:01.149Z"
   },
   {
    "duration": 9068,
    "start_time": "2023-05-18T19:12:47.496Z"
   },
   {
    "duration": 8235,
    "start_time": "2023-05-18T19:13:36.043Z"
   },
   {
    "duration": 36308,
    "start_time": "2023-05-18T19:13:54.758Z"
   },
   {
    "duration": 4099,
    "start_time": "2023-05-18T19:16:02.044Z"
   },
   {
    "duration": 20347,
    "start_time": "2023-05-18T19:16:19.945Z"
   },
   {
    "duration": 13,
    "start_time": "2023-05-18T19:18:33.585Z"
   },
   {
    "duration": 19848,
    "start_time": "2023-05-18T19:20:02.349Z"
   },
   {
    "duration": 3375,
    "start_time": "2023-05-18T19:20:47.241Z"
   },
   {
    "duration": 17075,
    "start_time": "2023-05-18T19:20:59.741Z"
   },
   {
    "duration": 10,
    "start_time": "2023-05-18T19:21:16.817Z"
   },
   {
    "duration": 16,
    "start_time": "2023-05-18T19:26:48.072Z"
   },
   {
    "duration": 4,
    "start_time": "2023-05-18T19:26:58.452Z"
   },
   {
    "duration": 7,
    "start_time": "2023-05-18T19:27:47.997Z"
   },
   {
    "duration": 3386,
    "start_time": "2023-05-18T19:28:03.062Z"
   },
   {
    "duration": 11,
    "start_time": "2023-05-18T19:28:47.022Z"
   },
   {
    "duration": 3939,
    "start_time": "2023-05-18T19:28:51.163Z"
   },
   {
    "duration": 17036,
    "start_time": "2023-05-18T19:29:19.013Z"
   },
   {
    "duration": 10,
    "start_time": "2023-05-18T19:29:36.051Z"
   },
   {
    "duration": 10,
    "start_time": "2023-05-18T19:29:42.663Z"
   },
   {
    "duration": 14,
    "start_time": "2023-05-18T19:29:45.688Z"
   },
   {
    "duration": 3262,
    "start_time": "2023-05-18T19:29:49.590Z"
   },
   {
    "duration": 4205,
    "start_time": "2023-05-18T19:30:17.568Z"
   },
   {
    "duration": 3795,
    "start_time": "2023-05-18T19:30:29.451Z"
   },
   {
    "duration": 3746,
    "start_time": "2023-05-18T19:30:37.984Z"
   },
   {
    "duration": 6898,
    "start_time": "2023-05-18T19:30:47.844Z"
   },
   {
    "duration": 16391,
    "start_time": "2023-05-18T19:31:07.384Z"
   },
   {
    "duration": 10025,
    "start_time": "2023-05-18T19:31:31.503Z"
   },
   {
    "duration": 42,
    "start_time": "2023-05-18T19:31:41.530Z"
   },
   {
    "duration": 14,
    "start_time": "2023-05-18T19:31:41.574Z"
   },
   {
    "duration": 17,
    "start_time": "2023-05-18T19:31:41.590Z"
   },
   {
    "duration": 3,
    "start_time": "2023-05-18T19:31:41.609Z"
   },
   {
    "duration": 54,
    "start_time": "2023-05-18T19:31:41.613Z"
   },
   {
    "duration": 5,
    "start_time": "2023-05-18T19:31:41.668Z"
   },
   {
    "duration": 14,
    "start_time": "2023-05-18T19:31:41.674Z"
   },
   {
    "duration": 13,
    "start_time": "2023-05-18T19:31:41.690Z"
   },
   {
    "duration": 1155,
    "start_time": "2023-05-18T19:31:41.705Z"
   },
   {
    "duration": 671,
    "start_time": "2023-05-18T19:31:42.861Z"
   },
   {
    "duration": 5,
    "start_time": "2023-05-18T19:31:43.533Z"
   },
   {
    "duration": 11,
    "start_time": "2023-05-18T19:31:43.539Z"
   },
   {
    "duration": 9,
    "start_time": "2023-05-18T19:31:43.552Z"
   },
   {
    "duration": 6,
    "start_time": "2023-05-18T19:31:43.562Z"
   },
   {
    "duration": 33,
    "start_time": "2023-05-18T19:31:43.570Z"
   },
   {
    "duration": 5,
    "start_time": "2023-05-18T19:31:43.605Z"
   },
   {
    "duration": 4,
    "start_time": "2023-05-18T19:31:43.612Z"
   },
   {
    "duration": 2056,
    "start_time": "2023-05-18T19:31:43.617Z"
   },
   {
    "duration": 9859,
    "start_time": "2023-05-18T19:31:45.674Z"
   },
   {
    "duration": 41,
    "start_time": "2023-05-18T19:31:55.535Z"
   },
   {
    "duration": 7,
    "start_time": "2023-05-18T19:31:55.577Z"
   },
   {
    "duration": 6,
    "start_time": "2023-05-18T19:31:55.585Z"
   },
   {
    "duration": 4111,
    "start_time": "2023-05-18T19:31:55.592Z"
   },
   {
    "duration": 17718,
    "start_time": "2023-05-18T19:31:59.705Z"
   },
   {
    "duration": 11,
    "start_time": "2023-05-18T19:32:17.425Z"
   },
   {
    "duration": 5,
    "start_time": "2023-05-18T19:32:17.437Z"
   },
   {
    "duration": 17699,
    "start_time": "2023-05-18T19:32:17.445Z"
   },
   {
    "duration": 3258,
    "start_time": "2023-05-18T19:33:12.024Z"
   },
   {
    "duration": 467,
    "start_time": "2023-05-18T19:33:20.069Z"
   },
   {
    "duration": 0,
    "start_time": "2023-05-18T19:33:43.243Z"
   },
   {
    "duration": 6906,
    "start_time": "2023-05-18T19:33:44.889Z"
   },
   {
    "duration": 5662,
    "start_time": "2023-05-18T19:34:01.897Z"
   },
   {
    "duration": 4378,
    "start_time": "2023-05-18T19:35:22.610Z"
   },
   {
    "duration": 3968,
    "start_time": "2023-05-18T19:36:08.607Z"
   },
   {
    "duration": 54,
    "start_time": "2023-05-18T19:36:45.063Z"
   },
   {
    "duration": 4468,
    "start_time": "2023-05-18T19:36:49.244Z"
   },
   {
    "duration": 4855,
    "start_time": "2023-05-18T19:37:17.747Z"
   },
   {
    "duration": 22588,
    "start_time": "2023-05-18T19:37:26.364Z"
   },
   {
    "duration": 5,
    "start_time": "2023-05-18T19:43:54.804Z"
   },
   {
    "duration": 10,
    "start_time": "2023-05-18T19:44:03.761Z"
   },
   {
    "duration": 5,
    "start_time": "2023-05-18T19:44:32.895Z"
   },
   {
    "duration": 4765,
    "start_time": "2023-05-18T19:45:53.639Z"
   },
   {
    "duration": 4451,
    "start_time": "2023-05-18T19:46:06.181Z"
   },
   {
    "duration": 4439,
    "start_time": "2023-05-18T19:46:14.385Z"
   },
   {
    "duration": 19157,
    "start_time": "2023-05-18T19:47:07.237Z"
   },
   {
    "duration": 15011,
    "start_time": "2023-05-18T19:47:44.171Z"
   },
   {
    "duration": 20120,
    "start_time": "2023-05-18T19:48:08.211Z"
   },
   {
    "duration": 5166,
    "start_time": "2023-05-18T19:51:02.217Z"
   },
   {
    "duration": 5394,
    "start_time": "2023-05-18T19:52:15.471Z"
   },
   {
    "duration": 4975,
    "start_time": "2023-05-18T19:52:33.970Z"
   },
   {
    "duration": 10281,
    "start_time": "2023-05-18T19:53:32.843Z"
   },
   {
    "duration": 49,
    "start_time": "2023-05-18T19:53:43.127Z"
   },
   {
    "duration": 14,
    "start_time": "2023-05-18T19:53:43.178Z"
   },
   {
    "duration": 15,
    "start_time": "2023-05-18T19:53:43.194Z"
   },
   {
    "duration": 3,
    "start_time": "2023-05-18T19:53:43.211Z"
   },
   {
    "duration": 63,
    "start_time": "2023-05-18T19:53:43.215Z"
   },
   {
    "duration": 5,
    "start_time": "2023-05-18T19:53:43.280Z"
   },
   {
    "duration": 13,
    "start_time": "2023-05-18T19:53:43.287Z"
   },
   {
    "duration": 19,
    "start_time": "2023-05-18T19:53:43.302Z"
   },
   {
    "duration": 1284,
    "start_time": "2023-05-18T19:53:43.323Z"
   },
   {
    "duration": 702,
    "start_time": "2023-05-18T19:53:44.610Z"
   },
   {
    "duration": 6,
    "start_time": "2023-05-18T19:53:45.314Z"
   },
   {
    "duration": 6,
    "start_time": "2023-05-18T19:53:45.322Z"
   },
   {
    "duration": 31,
    "start_time": "2023-05-18T19:53:45.330Z"
   },
   {
    "duration": 8,
    "start_time": "2023-05-18T19:53:45.363Z"
   },
   {
    "duration": 38,
    "start_time": "2023-05-18T19:53:45.372Z"
   },
   {
    "duration": 7,
    "start_time": "2023-05-18T19:53:45.412Z"
   },
   {
    "duration": 5,
    "start_time": "2023-05-18T19:53:45.450Z"
   },
   {
    "duration": 2108,
    "start_time": "2023-05-18T19:53:45.456Z"
   },
   {
    "duration": 10504,
    "start_time": "2023-05-18T19:53:47.566Z"
   },
   {
    "duration": 35,
    "start_time": "2023-05-18T19:53:58.072Z"
   },
   {
    "duration": 7,
    "start_time": "2023-05-18T19:53:58.109Z"
   },
   {
    "duration": 6,
    "start_time": "2023-05-18T19:53:58.118Z"
   },
   {
    "duration": 9,
    "start_time": "2023-05-18T19:53:58.149Z"
   },
   {
    "duration": 4979,
    "start_time": "2023-05-18T19:53:58.160Z"
   },
   {
    "duration": 20036,
    "start_time": "2023-05-18T19:54:03.141Z"
   },
   {
    "duration": 18,
    "start_time": "2023-05-18T19:54:23.179Z"
   },
   {
    "duration": 13,
    "start_time": "2023-05-18T19:54:30.982Z"
   },
   {
    "duration": 9,
    "start_time": "2023-05-18T19:54:36.759Z"
   },
   {
    "duration": 4841,
    "start_time": "2023-05-18T19:54:57.911Z"
   },
   {
    "duration": 19840,
    "start_time": "2023-05-18T19:55:04.912Z"
   },
   {
    "duration": 4902,
    "start_time": "2023-05-18T19:55:49.602Z"
   },
   {
    "duration": 11,
    "start_time": "2023-05-18T19:56:16.024Z"
   },
   {
    "duration": 4550,
    "start_time": "2023-05-18T19:57:29.025Z"
   },
   {
    "duration": 4679,
    "start_time": "2023-05-18T19:57:55.375Z"
   },
   {
    "duration": 371,
    "start_time": "2023-05-18T19:59:55.144Z"
   },
   {
    "duration": 4134,
    "start_time": "2023-05-18T20:00:08.454Z"
   },
   {
    "duration": 51,
    "start_time": "2023-05-18T20:04:42.458Z"
   },
   {
    "duration": 5455,
    "start_time": "2023-05-18T20:04:45.952Z"
   },
   {
    "duration": 20093,
    "start_time": "2023-05-18T20:05:08.158Z"
   },
   {
    "duration": 20179,
    "start_time": "2023-05-18T20:06:58.221Z"
   },
   {
    "duration": 18,
    "start_time": "2023-05-18T20:08:18.722Z"
   },
   {
    "duration": 128,
    "start_time": "2023-05-18T20:08:40.015Z"
   },
   {
    "duration": 12,
    "start_time": "2023-05-18T20:09:02.254Z"
   },
   {
    "duration": 5231,
    "start_time": "2023-05-18T20:10:06.767Z"
   },
   {
    "duration": 19589,
    "start_time": "2023-05-18T20:10:16.552Z"
   },
   {
    "duration": 121,
    "start_time": "2023-05-18T20:10:36.143Z"
   },
   {
    "duration": 5675,
    "start_time": "2023-05-18T20:11:17.360Z"
   },
   {
    "duration": 20834,
    "start_time": "2023-05-18T20:11:29.329Z"
   },
   {
    "duration": 131,
    "start_time": "2023-05-18T20:11:50.165Z"
   },
   {
    "duration": 13,
    "start_time": "2023-05-18T20:11:50.298Z"
   },
   {
    "duration": 9947,
    "start_time": "2023-05-18T20:13:53.916Z"
   },
   {
    "duration": 949356,
    "start_time": "2023-05-18T20:14:31.107Z"
   },
   {
    "duration": 2209,
    "start_time": "2023-05-18T20:31:31.880Z"
   },
   {
    "duration": 2522,
    "start_time": "2023-05-18T20:32:13.471Z"
   },
   {
    "duration": 10175,
    "start_time": "2023-05-18T20:33:19.249Z"
   },
   {
    "duration": 47,
    "start_time": "2023-05-19T16:22:30.387Z"
   },
   {
    "duration": 20409,
    "start_time": "2023-05-19T16:22:36.089Z"
   },
   {
    "duration": 186,
    "start_time": "2023-05-19T16:22:56.501Z"
   },
   {
    "duration": 20,
    "start_time": "2023-05-19T16:22:56.688Z"
   },
   {
    "duration": 13,
    "start_time": "2023-05-19T16:22:56.710Z"
   },
   {
    "duration": 6,
    "start_time": "2023-05-19T16:22:56.726Z"
   },
   {
    "duration": 77,
    "start_time": "2023-05-19T16:22:56.734Z"
   },
   {
    "duration": 4,
    "start_time": "2023-05-19T16:22:56.813Z"
   },
   {
    "duration": 16,
    "start_time": "2023-05-19T16:22:56.819Z"
   },
   {
    "duration": 41,
    "start_time": "2023-05-19T16:22:56.837Z"
   },
   {
    "duration": 1400,
    "start_time": "2023-05-19T16:22:56.879Z"
   },
   {
    "duration": 895,
    "start_time": "2023-05-19T16:22:58.281Z"
   },
   {
    "duration": 6,
    "start_time": "2023-05-19T16:22:59.178Z"
   },
   {
    "duration": 10,
    "start_time": "2023-05-19T16:22:59.185Z"
   },
   {
    "duration": 14,
    "start_time": "2023-05-19T16:22:59.198Z"
   },
   {
    "duration": 8,
    "start_time": "2023-05-19T16:22:59.214Z"
   },
   {
    "duration": 56,
    "start_time": "2023-05-19T16:22:59.223Z"
   },
   {
    "duration": 8,
    "start_time": "2023-05-19T16:22:59.281Z"
   },
   {
    "duration": 5,
    "start_time": "2023-05-19T16:22:59.291Z"
   },
   {
    "duration": 2568,
    "start_time": "2023-05-19T16:22:59.297Z"
   },
   {
    "duration": 11466,
    "start_time": "2023-05-19T16:23:01.867Z"
   },
   {
    "duration": 44,
    "start_time": "2023-05-19T16:23:13.335Z"
   },
   {
    "duration": 9,
    "start_time": "2023-05-19T16:23:13.381Z"
   },
   {
    "duration": 6,
    "start_time": "2023-05-19T16:23:13.392Z"
   },
   {
    "duration": 9,
    "start_time": "2023-05-19T16:23:13.400Z"
   },
   {
    "duration": 6334,
    "start_time": "2023-05-19T16:23:13.411Z"
   },
   {
    "duration": 24281,
    "start_time": "2023-05-19T16:23:19.746Z"
   },
   {
    "duration": 195,
    "start_time": "2023-05-19T16:23:44.030Z"
   },
   {
    "duration": 14,
    "start_time": "2023-05-19T16:23:44.227Z"
   },
   {
    "duration": 3083,
    "start_time": "2023-05-19T16:23:44.243Z"
   },
   {
    "duration": 12086,
    "start_time": "2023-05-19T16:23:47.327Z"
   },
   {
    "duration": 95,
    "start_time": "2023-05-19T16:23:59.414Z"
   },
   {
    "duration": 11622,
    "start_time": "2023-05-19T16:25:09.032Z"
   },
   {
    "duration": 48112,
    "start_time": "2023-05-19T16:25:20.666Z"
   },
   {
    "duration": 44881,
    "start_time": "2023-05-19T16:29:18.395Z"
   },
   {
    "duration": 14,
    "start_time": "2023-05-19T16:34:32.413Z"
   },
   {
    "duration": 11908,
    "start_time": "2023-05-19T16:34:56.646Z"
   },
   {
    "duration": 24,
    "start_time": "2023-05-19T16:35:08.557Z"
   },
   {
    "duration": 12,
    "start_time": "2023-05-19T16:36:14.220Z"
   },
   {
    "duration": 16,
    "start_time": "2023-05-19T16:36:31.014Z"
   },
   {
    "duration": 12158,
    "start_time": "2023-05-19T16:36:59.375Z"
   },
   {
    "duration": 613925,
    "start_time": "2023-05-19T16:37:11.535Z"
   },
   {
    "duration": 11,
    "start_time": "2023-05-19T16:50:04.180Z"
   },
   {
    "duration": 13,
    "start_time": "2023-05-19T16:50:42.926Z"
   },
   {
    "duration": 11,
    "start_time": "2023-05-19T16:51:44.479Z"
   },
   {
    "duration": 48,
    "start_time": "2023-05-19T16:54:12.847Z"
   },
   {
    "duration": 22,
    "start_time": "2023-05-19T16:54:30.043Z"
   },
   {
    "duration": 11,
    "start_time": "2023-05-19T16:55:33.429Z"
   },
   {
    "duration": 10,
    "start_time": "2023-05-19T16:57:18.734Z"
   },
   {
    "duration": 10993,
    "start_time": "2023-05-19T16:57:38.617Z"
   },
   {
    "duration": 45,
    "start_time": "2023-05-19T16:57:49.613Z"
   },
   {
    "duration": 14,
    "start_time": "2023-05-19T16:57:49.659Z"
   },
   {
    "duration": 22,
    "start_time": "2023-05-19T16:57:49.675Z"
   },
   {
    "duration": 13,
    "start_time": "2023-05-19T16:57:49.699Z"
   },
   {
    "duration": 50,
    "start_time": "2023-05-19T16:57:49.714Z"
   },
   {
    "duration": 5,
    "start_time": "2023-05-19T16:57:49.766Z"
   },
   {
    "duration": 15,
    "start_time": "2023-05-19T16:57:49.773Z"
   },
   {
    "duration": 15,
    "start_time": "2023-05-19T16:57:49.789Z"
   },
   {
    "duration": 1202,
    "start_time": "2023-05-19T16:57:49.806Z"
   },
   {
    "duration": 807,
    "start_time": "2023-05-19T16:57:51.010Z"
   },
   {
    "duration": 5,
    "start_time": "2023-05-19T16:57:51.819Z"
   },
   {
    "duration": 14,
    "start_time": "2023-05-19T16:57:51.826Z"
   },
   {
    "duration": 15,
    "start_time": "2023-05-19T16:57:51.843Z"
   },
   {
    "duration": 9,
    "start_time": "2023-05-19T16:57:51.860Z"
   },
   {
    "duration": 55,
    "start_time": "2023-05-19T16:57:51.871Z"
   },
   {
    "duration": 8,
    "start_time": "2023-05-19T16:57:51.928Z"
   },
   {
    "duration": 21,
    "start_time": "2023-05-19T16:57:51.938Z"
   },
   {
    "duration": 2305,
    "start_time": "2023-05-19T16:57:51.961Z"
   },
   {
    "duration": 10979,
    "start_time": "2023-05-19T16:57:54.267Z"
   },
   {
    "duration": 38,
    "start_time": "2023-05-19T16:58:05.248Z"
   },
   {
    "duration": 6,
    "start_time": "2023-05-19T16:58:05.288Z"
   },
   {
    "duration": 13,
    "start_time": "2023-05-19T16:58:05.295Z"
   },
   {
    "duration": 8,
    "start_time": "2023-05-19T16:58:05.310Z"
   },
   {
    "duration": 5333,
    "start_time": "2023-05-19T16:58:05.320Z"
   },
   {
    "duration": 21095,
    "start_time": "2023-05-19T16:58:10.654Z"
   },
   {
    "duration": 158,
    "start_time": "2023-05-19T16:58:31.751Z"
   },
   {
    "duration": 18,
    "start_time": "2023-05-19T16:58:31.912Z"
   },
   {
    "duration": 2634,
    "start_time": "2023-05-19T16:58:31.932Z"
   },
   {
    "duration": 10885,
    "start_time": "2023-05-19T16:58:34.568Z"
   },
   {
    "duration": 14,
    "start_time": "2023-05-19T16:58:45.457Z"
   },
   {
    "duration": 11,
    "start_time": "2023-05-19T16:59:05.265Z"
   },
   {
    "duration": 12,
    "start_time": "2023-05-19T16:59:18.524Z"
   },
   {
    "duration": 14,
    "start_time": "2023-05-19T16:59:25.748Z"
   },
   {
    "duration": 15,
    "start_time": "2023-05-19T16:59:41.985Z"
   },
   {
    "duration": 63,
    "start_time": "2023-05-19T17:02:54.128Z"
   },
   {
    "duration": 29007,
    "start_time": "2023-05-19T17:03:15.684Z"
   },
   {
    "duration": 355257,
    "start_time": "2023-05-19T17:03:47.611Z"
   },
   {
    "duration": 49062,
    "start_time": "2023-05-19T17:11:16.701Z"
   },
   {
    "duration": 42,
    "start_time": "2023-05-19T17:12:58.215Z"
   },
   {
    "duration": 461,
    "start_time": "2023-05-19T17:16:00.116Z"
   },
   {
    "duration": 2808,
    "start_time": "2023-05-19T17:16:43.075Z"
   },
   {
    "duration": 196,
    "start_time": "2023-05-19T17:17:14.944Z"
   },
   {
    "duration": 5,
    "start_time": "2023-05-19T17:18:43.299Z"
   },
   {
    "duration": 185,
    "start_time": "2023-05-19T17:18:48.883Z"
   },
   {
    "duration": 10876,
    "start_time": "2023-05-19T17:18:53.622Z"
   },
   {
    "duration": 42,
    "start_time": "2023-05-19T17:19:04.500Z"
   },
   {
    "duration": 14,
    "start_time": "2023-05-19T17:19:04.544Z"
   },
   {
    "duration": 28,
    "start_time": "2023-05-19T17:19:04.559Z"
   },
   {
    "duration": 3,
    "start_time": "2023-05-19T17:19:04.589Z"
   },
   {
    "duration": 62,
    "start_time": "2023-05-19T17:19:04.594Z"
   },
   {
    "duration": 5,
    "start_time": "2023-05-19T17:19:04.658Z"
   },
   {
    "duration": 19,
    "start_time": "2023-05-19T17:19:04.664Z"
   },
   {
    "duration": 14,
    "start_time": "2023-05-19T17:19:04.684Z"
   },
   {
    "duration": 1189,
    "start_time": "2023-05-19T17:19:04.699Z"
   },
   {
    "duration": 813,
    "start_time": "2023-05-19T17:19:05.889Z"
   },
   {
    "duration": 6,
    "start_time": "2023-05-19T17:19:06.704Z"
   },
   {
    "duration": 6,
    "start_time": "2023-05-19T17:19:06.712Z"
   },
   {
    "duration": 12,
    "start_time": "2023-05-19T17:19:06.722Z"
   },
   {
    "duration": 9,
    "start_time": "2023-05-19T17:19:06.762Z"
   },
   {
    "duration": 39,
    "start_time": "2023-05-19T17:19:06.773Z"
   },
   {
    "duration": 7,
    "start_time": "2023-05-19T17:19:06.814Z"
   },
   {
    "duration": 10,
    "start_time": "2023-05-19T17:19:06.823Z"
   },
   {
    "duration": 2159,
    "start_time": "2023-05-19T17:19:06.834Z"
   },
   {
    "duration": 10128,
    "start_time": "2023-05-19T17:19:08.994Z"
   },
   {
    "duration": 38,
    "start_time": "2023-05-19T17:19:19.123Z"
   },
   {
    "duration": 6,
    "start_time": "2023-05-19T17:19:19.163Z"
   },
   {
    "duration": 10,
    "start_time": "2023-05-19T17:19:19.170Z"
   },
   {
    "duration": 7,
    "start_time": "2023-05-19T17:19:19.181Z"
   },
   {
    "duration": 5352,
    "start_time": "2023-05-19T17:19:19.190Z"
   },
   {
    "duration": 20871,
    "start_time": "2023-05-19T17:19:24.544Z"
   },
   {
    "duration": 146,
    "start_time": "2023-05-19T17:19:45.416Z"
   },
   {
    "duration": 14,
    "start_time": "2023-05-19T17:19:45.564Z"
   },
   {
    "duration": 2669,
    "start_time": "2023-05-19T17:19:45.580Z"
   },
   {
    "duration": 10871,
    "start_time": "2023-05-19T17:19:48.256Z"
   },
   {
    "duration": 221,
    "start_time": "2023-05-19T17:19:59.129Z"
   },
   {
    "duration": 10814,
    "start_time": "2023-05-19T17:21:17.349Z"
   },
   {
    "duration": 74,
    "start_time": "2023-05-19T17:22:52.756Z"
   },
   {
    "duration": 2579,
    "start_time": "2023-05-19T17:23:05.678Z"
   },
   {
    "duration": 10561,
    "start_time": "2023-05-19T17:23:11.227Z"
   },
   {
    "duration": 87,
    "start_time": "2023-05-19T17:23:31.591Z"
   },
   {
    "duration": 2725,
    "start_time": "2023-05-19T17:24:44.816Z"
   },
   {
    "duration": 11320,
    "start_time": "2023-05-19T17:24:51.710Z"
   },
   {
    "duration": 81,
    "start_time": "2023-05-19T17:25:03.031Z"
   },
   {
    "duration": 2001,
    "start_time": "2023-05-19T17:25:24.456Z"
   },
   {
    "duration": 8043,
    "start_time": "2023-05-19T17:25:28.394Z"
   },
   {
    "duration": 64,
    "start_time": "2023-05-19T17:25:36.439Z"
   },
   {
    "duration": 21,
    "start_time": "2023-05-19T17:26:26.887Z"
   },
   {
    "duration": 5,
    "start_time": "2023-05-19T17:26:36.884Z"
   },
   {
    "duration": 13,
    "start_time": "2023-05-19T17:26:49.529Z"
   },
   {
    "duration": 6,
    "start_time": "2023-05-19T17:26:57.251Z"
   },
   {
    "duration": 23,
    "start_time": "2023-05-19T17:39:38.115Z"
   },
   {
    "duration": 11272,
    "start_time": "2023-05-19T17:40:02.650Z"
   },
   {
    "duration": 25,
    "start_time": "2023-05-19T17:40:13.926Z"
   },
   {
    "duration": 14,
    "start_time": "2023-05-19T17:40:54.711Z"
   },
   {
    "duration": 16,
    "start_time": "2023-05-19T17:41:09.401Z"
   },
   {
    "duration": 16,
    "start_time": "2023-05-19T17:41:21.290Z"
   },
   {
    "duration": 11,
    "start_time": "2023-05-19T17:41:22.010Z"
   },
   {
    "duration": 10721,
    "start_time": "2023-05-19T17:41:24.634Z"
   },
   {
    "duration": 41,
    "start_time": "2023-05-19T17:41:35.358Z"
   },
   {
    "duration": 14,
    "start_time": "2023-05-19T17:41:35.401Z"
   },
   {
    "duration": 28,
    "start_time": "2023-05-19T17:41:35.417Z"
   },
   {
    "duration": 3,
    "start_time": "2023-05-19T17:41:35.449Z"
   },
   {
    "duration": 48,
    "start_time": "2023-05-19T17:41:35.454Z"
   },
   {
    "duration": 11,
    "start_time": "2023-05-19T17:41:35.504Z"
   },
   {
    "duration": 15,
    "start_time": "2023-05-19T17:41:35.516Z"
   },
   {
    "duration": 27,
    "start_time": "2023-05-19T17:41:35.532Z"
   },
   {
    "duration": 1391,
    "start_time": "2023-05-19T17:41:35.561Z"
   },
   {
    "duration": 825,
    "start_time": "2023-05-19T17:41:36.956Z"
   },
   {
    "duration": 7,
    "start_time": "2023-05-19T17:41:37.782Z"
   },
   {
    "duration": 6,
    "start_time": "2023-05-19T17:41:37.790Z"
   },
   {
    "duration": 18,
    "start_time": "2023-05-19T17:41:37.799Z"
   },
   {
    "duration": 10,
    "start_time": "2023-05-19T17:41:37.818Z"
   },
   {
    "duration": 60,
    "start_time": "2023-05-19T17:41:37.829Z"
   },
   {
    "duration": 6,
    "start_time": "2023-05-19T17:41:37.891Z"
   },
   {
    "duration": 7,
    "start_time": "2023-05-19T17:41:37.899Z"
   },
   {
    "duration": 2201,
    "start_time": "2023-05-19T17:41:37.907Z"
   },
   {
    "duration": 11094,
    "start_time": "2023-05-19T17:41:40.110Z"
   },
   {
    "duration": 32,
    "start_time": "2023-05-19T17:41:51.205Z"
   },
   {
    "duration": 23,
    "start_time": "2023-05-19T17:41:51.239Z"
   },
   {
    "duration": 13,
    "start_time": "2023-05-19T17:41:51.265Z"
   },
   {
    "duration": 20,
    "start_time": "2023-05-19T17:41:51.280Z"
   },
   {
    "duration": 6240,
    "start_time": "2023-05-19T17:41:51.302Z"
   },
   {
    "duration": 21835,
    "start_time": "2023-05-19T17:41:57.543Z"
   },
   {
    "duration": 138,
    "start_time": "2023-05-19T17:42:19.380Z"
   },
   {
    "duration": 14,
    "start_time": "2023-05-19T17:42:19.519Z"
   },
   {
    "duration": 2378,
    "start_time": "2023-05-19T17:42:19.535Z"
   },
   {
    "duration": 0,
    "start_time": "2023-05-19T17:42:21.915Z"
   },
   {
    "duration": 0,
    "start_time": "2023-05-19T17:42:21.916Z"
   },
   {
    "duration": 0,
    "start_time": "2023-05-19T17:42:21.917Z"
   },
   {
    "duration": 2322,
    "start_time": "2023-05-19T17:42:46.863Z"
   },
   {
    "duration": 2885,
    "start_time": "2023-05-19T17:43:58.582Z"
   },
   {
    "duration": 11401,
    "start_time": "2023-05-19T17:44:05.330Z"
   },
   {
    "duration": 14,
    "start_time": "2023-05-19T17:44:22.041Z"
   },
   {
    "duration": 18,
    "start_time": "2023-05-19T17:44:23.824Z"
   },
   {
    "duration": 18,
    "start_time": "2023-05-19T17:44:57.143Z"
   },
   {
    "duration": 15,
    "start_time": "2023-05-19T17:45:00.833Z"
   },
   {
    "duration": 4,
    "start_time": "2023-05-19T17:45:11.054Z"
   },
   {
    "duration": 4,
    "start_time": "2023-05-19T17:45:24.153Z"
   },
   {
    "duration": 2380,
    "start_time": "2023-05-19T17:45:56.772Z"
   },
   {
    "duration": 2619,
    "start_time": "2023-05-19T17:46:41.772Z"
   },
   {
    "duration": 2647,
    "start_time": "2023-05-19T17:46:53.550Z"
   },
   {
    "duration": 7,
    "start_time": "2023-05-19T17:50:23.572Z"
   },
   {
    "duration": 5130,
    "start_time": "2023-05-19T17:51:02.147Z"
   },
   {
    "duration": 5371,
    "start_time": "2023-05-19T17:51:52.747Z"
   },
   {
    "duration": 4972,
    "start_time": "2023-05-19T17:52:07.094Z"
   },
   {
    "duration": 5114,
    "start_time": "2023-05-19T17:52:24.681Z"
   },
   {
    "duration": 21096,
    "start_time": "2023-05-19T17:52:54.224Z"
   },
   {
    "duration": 44805,
    "start_time": "2023-05-19T17:54:15.228Z"
   },
   {
    "duration": 11,
    "start_time": "2023-05-19T17:57:11.219Z"
   },
   {
    "duration": 4123,
    "start_time": "2023-05-19T17:57:31.447Z"
   },
   {
    "duration": 14133,
    "start_time": "2023-05-19T17:57:38.905Z"
   },
   {
    "duration": 15,
    "start_time": "2023-05-19T17:58:43.381Z"
   },
   {
    "duration": 2640,
    "start_time": "2023-05-19T17:58:57.004Z"
   },
   {
    "duration": 13939,
    "start_time": "2023-05-19T17:59:06.515Z"
   },
   {
    "duration": 5,
    "start_time": "2023-05-19T18:02:51.572Z"
   },
   {
    "duration": 2224,
    "start_time": "2023-05-19T18:02:52.806Z"
   },
   {
    "duration": 13375,
    "start_time": "2023-05-19T18:03:10.156Z"
   },
   {
    "duration": 42,
    "start_time": "2023-05-19T18:03:23.534Z"
   },
   {
    "duration": 15,
    "start_time": "2023-05-19T18:03:23.578Z"
   },
   {
    "duration": 14,
    "start_time": "2023-05-19T18:03:23.594Z"
   },
   {
    "duration": 4,
    "start_time": "2023-05-19T18:03:23.611Z"
   },
   {
    "duration": 58,
    "start_time": "2023-05-19T18:03:23.616Z"
   },
   {
    "duration": 4,
    "start_time": "2023-05-19T18:03:23.676Z"
   },
   {
    "duration": 16,
    "start_time": "2023-05-19T18:03:23.682Z"
   },
   {
    "duration": 17,
    "start_time": "2023-05-19T18:03:23.700Z"
   },
   {
    "duration": 1278,
    "start_time": "2023-05-19T18:03:23.719Z"
   },
   {
    "duration": 748,
    "start_time": "2023-05-19T18:03:24.998Z"
   },
   {
    "duration": 10,
    "start_time": "2023-05-19T18:03:25.748Z"
   },
   {
    "duration": 10,
    "start_time": "2023-05-19T18:03:25.760Z"
   },
   {
    "duration": 14,
    "start_time": "2023-05-19T18:03:25.772Z"
   },
   {
    "duration": 9,
    "start_time": "2023-05-19T18:03:25.787Z"
   },
   {
    "duration": 59,
    "start_time": "2023-05-19T18:03:25.798Z"
   },
   {
    "duration": 7,
    "start_time": "2023-05-19T18:03:25.859Z"
   },
   {
    "duration": 6,
    "start_time": "2023-05-19T18:03:25.868Z"
   },
   {
    "duration": 2170,
    "start_time": "2023-05-19T18:03:25.876Z"
   },
   {
    "duration": 0,
    "start_time": "2023-05-19T18:03:28.047Z"
   },
   {
    "duration": 0,
    "start_time": "2023-05-19T18:03:28.048Z"
   },
   {
    "duration": 0,
    "start_time": "2023-05-19T18:03:28.049Z"
   },
   {
    "duration": 0,
    "start_time": "2023-05-19T18:03:28.050Z"
   },
   {
    "duration": 0,
    "start_time": "2023-05-19T18:03:28.057Z"
   },
   {
    "duration": 0,
    "start_time": "2023-05-19T18:03:28.058Z"
   },
   {
    "duration": 0,
    "start_time": "2023-05-19T18:03:28.059Z"
   },
   {
    "duration": 0,
    "start_time": "2023-05-19T18:03:28.061Z"
   },
   {
    "duration": 0,
    "start_time": "2023-05-19T18:03:28.062Z"
   },
   {
    "duration": 0,
    "start_time": "2023-05-19T18:03:28.063Z"
   },
   {
    "duration": 0,
    "start_time": "2023-05-19T18:03:28.065Z"
   },
   {
    "duration": 0,
    "start_time": "2023-05-19T18:03:28.066Z"
   },
   {
    "duration": 0,
    "start_time": "2023-05-19T18:03:28.067Z"
   },
   {
    "duration": 0,
    "start_time": "2023-05-19T18:03:28.068Z"
   },
   {
    "duration": 0,
    "start_time": "2023-05-19T18:03:28.069Z"
   },
   {
    "duration": 0,
    "start_time": "2023-05-19T18:03:28.070Z"
   },
   {
    "duration": 5,
    "start_time": "2023-05-19T18:03:47.457Z"
   },
   {
    "duration": 2151,
    "start_time": "2023-05-19T18:03:50.780Z"
   },
   {
    "duration": 2267,
    "start_time": "2023-05-19T18:04:53.878Z"
   },
   {
    "duration": 2019,
    "start_time": "2023-05-19T18:05:20.039Z"
   },
   {
    "duration": 5,
    "start_time": "2023-05-19T18:06:29.446Z"
   },
   {
    "duration": 2354,
    "start_time": "2023-05-19T18:06:30.628Z"
   },
   {
    "duration": 10989,
    "start_time": "2023-05-19T18:06:37.194Z"
   },
   {
    "duration": 31,
    "start_time": "2023-05-19T18:06:52.519Z"
   },
   {
    "duration": 7,
    "start_time": "2023-05-19T18:06:53.758Z"
   },
   {
    "duration": 7,
    "start_time": "2023-05-19T18:06:55.310Z"
   },
   {
    "duration": 5,
    "start_time": "2023-05-19T18:06:56.871Z"
   },
   {
    "duration": 5474,
    "start_time": "2023-05-19T18:06:57.361Z"
   },
   {
    "duration": 21215,
    "start_time": "2023-05-19T18:07:06.104Z"
   },
   {
    "duration": 135,
    "start_time": "2023-05-19T18:07:27.322Z"
   },
   {
    "duration": 14,
    "start_time": "2023-05-19T18:07:27.458Z"
   },
   {
    "duration": 3012,
    "start_time": "2023-05-19T18:07:40.423Z"
   },
   {
    "duration": 10745,
    "start_time": "2023-05-19T18:07:45.922Z"
   },
   {
    "duration": 15,
    "start_time": "2023-05-19T18:07:59.713Z"
   },
   {
    "duration": 2434,
    "start_time": "2023-05-19T18:08:04.172Z"
   },
   {
    "duration": 5175,
    "start_time": "2023-05-19T18:08:12.616Z"
   },
   {
    "duration": 14300,
    "start_time": "2023-05-19T18:08:22.744Z"
   },
   {
    "duration": 2490,
    "start_time": "2023-05-19T18:09:09.491Z"
   },
   {
    "duration": 3354,
    "start_time": "2023-05-19T18:09:47.298Z"
   },
   {
    "duration": 7121,
    "start_time": "2023-05-19T18:10:21.699Z"
   },
   {
    "duration": 4,
    "start_time": "2023-05-19T18:12:14.938Z"
   },
   {
    "duration": 5245,
    "start_time": "2023-05-19T18:12:16.040Z"
   },
   {
    "duration": 5315,
    "start_time": "2023-05-19T18:12:33.439Z"
   },
   {
    "duration": 5856,
    "start_time": "2023-05-19T18:12:42.179Z"
   },
   {
    "duration": 5957,
    "start_time": "2023-05-19T18:12:54.911Z"
   },
   {
    "duration": 5436,
    "start_time": "2023-05-19T18:13:06.783Z"
   },
   {
    "duration": 21133,
    "start_time": "2023-05-19T18:13:18.200Z"
   },
   {
    "duration": 151,
    "start_time": "2023-05-19T18:13:46.224Z"
   },
   {
    "duration": 5351,
    "start_time": "2023-05-19T18:14:32.322Z"
   },
   {
    "duration": 22093,
    "start_time": "2023-05-19T18:14:41.479Z"
   },
   {
    "duration": 146,
    "start_time": "2023-05-19T18:15:03.575Z"
   },
   {
    "duration": 136,
    "start_time": "2023-05-19T18:15:28.237Z"
   },
   {
    "duration": 11,
    "start_time": "2023-05-19T18:15:38.120Z"
   },
   {
    "duration": 2768,
    "start_time": "2023-05-19T18:15:50.561Z"
   },
   {
    "duration": 11355,
    "start_time": "2023-05-19T18:15:54.654Z"
   },
   {
    "duration": 18,
    "start_time": "2023-05-19T18:16:09.658Z"
   },
   {
    "duration": 2548,
    "start_time": "2023-05-19T18:16:11.935Z"
   },
   {
    "duration": 5210,
    "start_time": "2023-05-19T18:16:20.376Z"
   },
   {
    "duration": 13615,
    "start_time": "2023-05-19T18:16:27.773Z"
   },
   {
    "duration": 10606,
    "start_time": "2023-05-19T18:18:46.305Z"
   },
   {
    "duration": 15,
    "start_time": "2023-05-19T18:20:38.495Z"
   },
   {
    "duration": 11,
    "start_time": "2023-05-19T18:20:58.385Z"
   },
   {
    "duration": 12,
    "start_time": "2023-05-19T18:21:10.385Z"
   },
   {
    "duration": 13,
    "start_time": "2023-05-19T18:21:33.699Z"
   },
   {
    "duration": 14,
    "start_time": "2023-05-19T18:22:07.645Z"
   },
   {
    "duration": 15,
    "start_time": "2023-05-19T18:22:25.706Z"
   },
   {
    "duration": 7664,
    "start_time": "2023-05-19T18:22:42.380Z"
   },
   {
    "duration": 21,
    "start_time": "2023-05-19T18:22:50.046Z"
   },
   {
    "duration": 14,
    "start_time": "2023-05-19T18:23:03.201Z"
   },
   {
    "duration": 16,
    "start_time": "2023-05-19T18:23:06.223Z"
   },
   {
    "duration": 16,
    "start_time": "2023-05-19T18:23:57.693Z"
   },
   {
    "duration": 132,
    "start_time": "2023-05-19T18:24:03.371Z"
   },
   {
    "duration": 45,
    "start_time": "2023-05-19T18:24:38.118Z"
   },
   {
    "duration": 45,
    "start_time": "2023-05-19T18:24:43.036Z"
   },
   {
    "duration": 2657,
    "start_time": "2023-05-19T18:24:51.451Z"
   },
   {
    "duration": 51,
    "start_time": "2023-05-19T18:24:54.111Z"
   },
   {
    "duration": 7146,
    "start_time": "2023-05-19T18:25:07.962Z"
   },
   {
    "duration": 7014,
    "start_time": "2023-05-19T18:25:25.913Z"
   },
   {
    "duration": 9,
    "start_time": "2023-05-19T18:28:39.801Z"
   },
   {
    "duration": 5272,
    "start_time": "2023-05-19T18:28:44.123Z"
   },
   {
    "duration": 14473,
    "start_time": "2023-05-19T18:28:49.397Z"
   },
   {
    "duration": 156,
    "start_time": "2023-05-19T18:29:22.710Z"
   },
   {
    "duration": 159,
    "start_time": "2023-05-19T18:29:45.362Z"
   },
   {
    "duration": 144,
    "start_time": "2023-05-19T18:30:20.548Z"
   },
   {
    "duration": 29438,
    "start_time": "2023-05-19T18:32:55.120Z"
   },
   {
    "duration": 13998,
    "start_time": "2023-05-19T18:33:33.835Z"
   },
   {
    "duration": 18,
    "start_time": "2023-05-19T18:34:17.111Z"
   },
   {
    "duration": 12,
    "start_time": "2023-05-19T18:35:55.019Z"
   },
   {
    "duration": 10598,
    "start_time": "2023-05-19T18:36:09.642Z"
   },
   {
    "duration": 43,
    "start_time": "2023-05-19T18:36:20.242Z"
   },
   {
    "duration": 13,
    "start_time": "2023-05-19T18:36:20.287Z"
   },
   {
    "duration": 24,
    "start_time": "2023-05-19T18:36:20.302Z"
   },
   {
    "duration": 11,
    "start_time": "2023-05-19T18:36:20.328Z"
   },
   {
    "duration": 140,
    "start_time": "2023-05-19T18:36:20.341Z"
   },
   {
    "duration": 5,
    "start_time": "2023-05-19T18:36:20.483Z"
   },
   {
    "duration": 26,
    "start_time": "2023-05-19T18:36:20.489Z"
   },
   {
    "duration": 14,
    "start_time": "2023-05-19T18:36:20.517Z"
   },
   {
    "duration": 1228,
    "start_time": "2023-05-19T18:36:20.532Z"
   },
   {
    "duration": 817,
    "start_time": "2023-05-19T18:36:21.762Z"
   },
   {
    "duration": 6,
    "start_time": "2023-05-19T18:36:22.581Z"
   },
   {
    "duration": 9,
    "start_time": "2023-05-19T18:36:22.588Z"
   },
   {
    "duration": 13,
    "start_time": "2023-05-19T18:36:22.600Z"
   },
   {
    "duration": 8,
    "start_time": "2023-05-19T18:36:22.614Z"
   },
   {
    "duration": 58,
    "start_time": "2023-05-19T18:36:22.624Z"
   },
   {
    "duration": 8,
    "start_time": "2023-05-19T18:36:22.683Z"
   },
   {
    "duration": 5,
    "start_time": "2023-05-19T18:36:22.693Z"
   },
   {
    "duration": 2360,
    "start_time": "2023-05-19T18:36:22.700Z"
   },
   {
    "duration": 10279,
    "start_time": "2023-05-19T18:36:25.062Z"
   },
   {
    "duration": 36,
    "start_time": "2023-05-19T18:36:35.343Z"
   },
   {
    "duration": 7,
    "start_time": "2023-05-19T18:36:35.380Z"
   },
   {
    "duration": 17,
    "start_time": "2023-05-19T18:36:35.388Z"
   },
   {
    "duration": 10,
    "start_time": "2023-05-19T18:36:35.407Z"
   },
   {
    "duration": 5356,
    "start_time": "2023-05-19T18:36:35.419Z"
   },
   {
    "duration": 22110,
    "start_time": "2023-05-19T18:36:40.777Z"
   },
   {
    "duration": 149,
    "start_time": "2023-05-19T18:37:02.889Z"
   },
   {
    "duration": 18,
    "start_time": "2023-05-19T18:37:03.040Z"
   },
   {
    "duration": 2858,
    "start_time": "2023-05-19T18:37:03.060Z"
   },
   {
    "duration": 11090,
    "start_time": "2023-05-19T18:37:05.920Z"
   },
   {
    "duration": 16,
    "start_time": "2023-05-19T18:37:17.011Z"
   },
   {
    "duration": 2554,
    "start_time": "2023-05-19T18:37:17.029Z"
   },
   {
    "duration": 5124,
    "start_time": "2023-05-19T18:37:19.585Z"
   },
   {
    "duration": 13966,
    "start_time": "2023-05-19T18:37:24.711Z"
   },
   {
    "duration": 129,
    "start_time": "2023-05-19T18:37:38.678Z"
   },
   {
    "duration": 14603,
    "start_time": "2023-05-19T18:37:38.809Z"
   },
   {
    "duration": 13,
    "start_time": "2023-05-19T18:37:53.414Z"
   },
   {
    "duration": 11,
    "start_time": "2023-05-19T18:37:53.429Z"
   },
   {
    "duration": 5776,
    "start_time": "2023-05-19T18:38:53.740Z"
   },
   {
    "duration": 5356,
    "start_time": "2023-05-19T18:39:27.407Z"
   },
   {
    "duration": 5830,
    "start_time": "2023-05-19T18:39:40.083Z"
   },
   {
    "duration": 31,
    "start_time": "2023-05-19T18:40:03.206Z"
   },
   {
    "duration": 6,
    "start_time": "2023-05-19T18:40:03.808Z"
   },
   {
    "duration": 5,
    "start_time": "2023-05-19T18:40:04.436Z"
   },
   {
    "duration": 5,
    "start_time": "2023-05-19T18:40:09.916Z"
   },
   {
    "duration": 4,
    "start_time": "2023-05-19T18:40:33.975Z"
   },
   {
    "duration": 19,
    "start_time": "2023-05-19T18:40:55.955Z"
   },
   {
    "duration": 10344,
    "start_time": "2023-05-19T18:41:03.041Z"
   },
   {
    "duration": 5238,
    "start_time": "2023-05-19T18:41:29.456Z"
   },
   {
    "duration": 5512,
    "start_time": "2023-05-19T18:41:44.789Z"
   },
   {
    "duration": 21806,
    "start_time": "2023-05-19T18:41:55.411Z"
   },
   {
    "duration": 152,
    "start_time": "2023-05-19T18:42:20.229Z"
   },
   {
    "duration": 14,
    "start_time": "2023-05-19T18:42:27.672Z"
   },
   {
    "duration": 5970,
    "start_time": "2023-05-19T18:42:39.219Z"
   },
   {
    "duration": 21591,
    "start_time": "2023-05-19T18:42:49.496Z"
   },
   {
    "duration": 133,
    "start_time": "2023-05-19T18:43:14.450Z"
   },
   {
    "duration": 5403,
    "start_time": "2023-05-19T18:43:37.334Z"
   },
   {
    "duration": 21434,
    "start_time": "2023-05-19T18:43:46.667Z"
   },
   {
    "duration": 166,
    "start_time": "2023-05-19T18:44:11.000Z"
   },
   {
    "duration": 58,
    "start_time": "2023-05-20T20:29:26.672Z"
   },
   {
    "duration": 19903,
    "start_time": "2023-05-20T20:29:32.367Z"
   },
   {
    "duration": 81,
    "start_time": "2023-05-20T20:29:52.272Z"
   },
   {
    "duration": 22,
    "start_time": "2023-05-20T20:29:52.355Z"
   },
   {
    "duration": 19,
    "start_time": "2023-05-20T20:29:52.379Z"
   },
   {
    "duration": 3,
    "start_time": "2023-05-20T20:29:52.400Z"
   },
   {
    "duration": 68,
    "start_time": "2023-05-20T20:29:52.405Z"
   },
   {
    "duration": 5,
    "start_time": "2023-05-20T20:29:52.474Z"
   },
   {
    "duration": 23,
    "start_time": "2023-05-20T20:29:52.481Z"
   },
   {
    "duration": 21,
    "start_time": "2023-05-20T20:29:52.506Z"
   },
   {
    "duration": 1140,
    "start_time": "2023-05-20T20:29:52.529Z"
   },
   {
    "duration": 713,
    "start_time": "2023-05-20T20:29:53.670Z"
   },
   {
    "duration": 5,
    "start_time": "2023-05-20T20:29:54.385Z"
   },
   {
    "duration": 15,
    "start_time": "2023-05-20T20:29:54.392Z"
   },
   {
    "duration": 29,
    "start_time": "2023-05-20T20:29:54.410Z"
   },
   {
    "duration": 19,
    "start_time": "2023-05-20T20:29:54.442Z"
   },
   {
    "duration": 61,
    "start_time": "2023-05-20T20:29:54.462Z"
   },
   {
    "duration": 8,
    "start_time": "2023-05-20T20:29:54.525Z"
   },
   {
    "duration": 10,
    "start_time": "2023-05-20T20:29:54.535Z"
   },
   {
    "duration": 2523,
    "start_time": "2023-05-20T20:29:54.547Z"
   },
   {
    "duration": 11627,
    "start_time": "2023-05-20T20:29:57.071Z"
   },
   {
    "duration": 39,
    "start_time": "2023-05-20T20:30:08.700Z"
   },
   {
    "duration": 5,
    "start_time": "2023-05-20T20:30:08.741Z"
   },
   {
    "duration": 10,
    "start_time": "2023-05-20T20:30:08.747Z"
   },
   {
    "duration": 19,
    "start_time": "2023-05-20T20:30:08.759Z"
   },
   {
    "duration": 15,
    "start_time": "2023-05-20T20:30:08.780Z"
   },
   {
    "duration": 7191,
    "start_time": "2023-05-20T20:30:08.797Z"
   },
   {
    "duration": 24630,
    "start_time": "2023-05-20T20:30:16.018Z"
   },
   {
    "duration": 182,
    "start_time": "2023-05-20T20:30:40.650Z"
   },
   {
    "duration": 10,
    "start_time": "2023-05-20T20:30:40.834Z"
   },
   {
    "duration": 3037,
    "start_time": "2023-05-20T20:30:40.845Z"
   },
   {
    "duration": 11979,
    "start_time": "2023-05-20T20:30:43.884Z"
   },
   {
    "duration": 13,
    "start_time": "2023-05-20T20:30:55.865Z"
   },
   {
    "duration": 2773,
    "start_time": "2023-05-20T20:30:55.880Z"
   },
   {
    "duration": 6569,
    "start_time": "2023-05-20T20:30:58.655Z"
   },
   {
    "duration": 14678,
    "start_time": "2023-05-20T20:31:05.225Z"
   },
   {
    "duration": 124,
    "start_time": "2023-05-20T20:31:19.905Z"
   },
   {
    "duration": 14713,
    "start_time": "2023-05-20T20:31:20.031Z"
   },
   {
    "duration": 17,
    "start_time": "2023-05-20T20:31:34.746Z"
   },
   {
    "duration": 10,
    "start_time": "2023-05-20T20:31:34.764Z"
   },
   {
    "duration": 13410,
    "start_time": "2023-05-20T20:37:56.645Z"
   },
   {
    "duration": 129,
    "start_time": "2023-05-20T20:38:44.972Z"
   },
   {
    "duration": 14,
    "start_time": "2023-05-20T20:38:51.381Z"
   },
   {
    "duration": 27,
    "start_time": "2023-05-20T20:39:02.374Z"
   },
   {
    "duration": 17,
    "start_time": "2023-05-20T20:39:14.858Z"
   },
   {
    "duration": 20,
    "start_time": "2023-05-20T20:39:20.477Z"
   },
   {
    "duration": 44,
    "start_time": "2023-05-20T20:39:28.012Z"
   },
   {
    "duration": 13917,
    "start_time": "2023-05-20T20:39:32.346Z"
   },
   {
    "duration": 44,
    "start_time": "2023-05-20T20:39:46.265Z"
   },
   {
    "duration": 27,
    "start_time": "2023-05-20T20:39:46.310Z"
   },
   {
    "duration": 36,
    "start_time": "2023-05-20T20:39:46.338Z"
   },
   {
    "duration": 3,
    "start_time": "2023-05-20T20:39:46.377Z"
   },
   {
    "duration": 55,
    "start_time": "2023-05-20T20:39:46.381Z"
   },
   {
    "duration": 25,
    "start_time": "2023-05-20T20:39:46.438Z"
   },
   {
    "duration": 5,
    "start_time": "2023-05-20T20:39:46.465Z"
   },
   {
    "duration": 23,
    "start_time": "2023-05-20T20:39:46.472Z"
   },
   {
    "duration": 40,
    "start_time": "2023-05-20T20:39:46.497Z"
   },
   {
    "duration": 1042,
    "start_time": "2023-05-20T20:39:46.538Z"
   },
   {
    "duration": 606,
    "start_time": "2023-05-20T20:39:47.582Z"
   },
   {
    "duration": 7,
    "start_time": "2023-05-20T20:39:48.190Z"
   },
   {
    "duration": 23,
    "start_time": "2023-05-20T20:39:48.200Z"
   },
   {
    "duration": 39,
    "start_time": "2023-05-20T20:39:48.225Z"
   },
   {
    "duration": 7,
    "start_time": "2023-05-20T20:39:48.266Z"
   },
   {
    "duration": 35,
    "start_time": "2023-05-20T20:39:48.274Z"
   },
   {
    "duration": 7,
    "start_time": "2023-05-20T20:39:48.310Z"
   },
   {
    "duration": 38,
    "start_time": "2023-05-20T20:39:48.319Z"
   },
   {
    "duration": 2294,
    "start_time": "2023-05-20T20:39:48.359Z"
   },
   {
    "duration": 10442,
    "start_time": "2023-05-20T20:39:50.654Z"
   },
   {
    "duration": 38,
    "start_time": "2023-05-20T20:40:01.098Z"
   },
   {
    "duration": 42,
    "start_time": "2023-05-20T20:40:01.138Z"
   },
   {
    "duration": 18,
    "start_time": "2023-05-20T20:40:01.182Z"
   },
   {
    "duration": 68,
    "start_time": "2023-05-20T20:40:01.202Z"
   },
   {
    "duration": 22,
    "start_time": "2023-05-20T20:40:01.272Z"
   },
   {
    "duration": 8608,
    "start_time": "2023-05-20T20:40:01.297Z"
   },
   {
    "duration": 24702,
    "start_time": "2023-05-20T20:40:09.907Z"
   },
   {
    "duration": 179,
    "start_time": "2023-05-20T20:40:34.612Z"
   },
   {
    "duration": 11,
    "start_time": "2023-05-20T20:40:34.793Z"
   },
   {
    "duration": 2878,
    "start_time": "2023-05-20T20:40:34.819Z"
   },
   {
    "duration": 12499,
    "start_time": "2023-05-20T20:40:37.699Z"
   },
   {
    "duration": 35,
    "start_time": "2023-05-20T20:40:50.200Z"
   },
   {
    "duration": 2556,
    "start_time": "2023-05-20T20:40:50.245Z"
   },
   {
    "duration": 6399,
    "start_time": "2023-05-20T20:40:52.802Z"
   },
   {
    "duration": 17420,
    "start_time": "2023-05-20T20:40:59.203Z"
   },
   {
    "duration": 142,
    "start_time": "2023-05-20T20:41:16.625Z"
   },
   {
    "duration": 13979,
    "start_time": "2023-05-20T20:41:16.769Z"
   },
   {
    "duration": 21,
    "start_time": "2023-05-20T20:41:30.750Z"
   },
   {
    "duration": 27,
    "start_time": "2023-05-20T20:41:30.772Z"
   },
   {
    "duration": 82,
    "start_time": "2023-05-20T20:41:30.804Z"
   },
   {
    "duration": 15,
    "start_time": "2023-05-20T20:43:01.475Z"
   },
   {
    "duration": 15741,
    "start_time": "2023-05-20T20:43:48.761Z"
   },
   {
    "duration": 68,
    "start_time": "2023-05-20T20:44:04.505Z"
   },
   {
    "duration": 18,
    "start_time": "2023-05-20T20:44:04.575Z"
   },
   {
    "duration": 57,
    "start_time": "2023-05-20T20:44:04.596Z"
   },
   {
    "duration": 29,
    "start_time": "2023-05-20T20:44:04.656Z"
   },
   {
    "duration": 106,
    "start_time": "2023-05-20T20:44:04.687Z"
   },
   {
    "duration": 47,
    "start_time": "2023-05-20T20:44:04.796Z"
   },
   {
    "duration": 14,
    "start_time": "2023-05-20T20:44:04.853Z"
   },
   {
    "duration": 33,
    "start_time": "2023-05-20T20:44:04.870Z"
   },
   {
    "duration": 1061,
    "start_time": "2023-05-20T20:44:04.905Z"
   },
   {
    "duration": 639,
    "start_time": "2023-05-20T20:44:05.969Z"
   },
   {
    "duration": 25,
    "start_time": "2023-05-20T20:44:06.609Z"
   },
   {
    "duration": 7,
    "start_time": "2023-05-20T20:44:06.641Z"
   },
   {
    "duration": 11,
    "start_time": "2023-05-20T20:44:06.652Z"
   },
   {
    "duration": 8,
    "start_time": "2023-05-20T20:44:06.665Z"
   },
   {
    "duration": 50,
    "start_time": "2023-05-20T20:44:06.675Z"
   },
   {
    "duration": 12,
    "start_time": "2023-05-20T20:44:06.726Z"
   },
   {
    "duration": 14,
    "start_time": "2023-05-20T20:44:06.740Z"
   },
   {
    "duration": 2302,
    "start_time": "2023-05-20T20:44:06.757Z"
   },
   {
    "duration": 9924,
    "start_time": "2023-05-20T20:44:09.061Z"
   },
   {
    "duration": 45,
    "start_time": "2023-05-20T20:44:18.986Z"
   },
   {
    "duration": 7,
    "start_time": "2023-05-20T20:44:19.036Z"
   },
   {
    "duration": 8,
    "start_time": "2023-05-20T20:44:19.045Z"
   },
   {
    "duration": 26,
    "start_time": "2023-05-20T20:44:19.055Z"
   },
   {
    "duration": 7,
    "start_time": "2023-05-20T20:44:19.083Z"
   },
   {
    "duration": 6474,
    "start_time": "2023-05-20T20:44:19.092Z"
   },
   {
    "duration": 24056,
    "start_time": "2023-05-20T20:44:25.567Z"
   },
   {
    "duration": 135,
    "start_time": "2023-05-20T20:44:49.637Z"
   },
   {
    "duration": 13,
    "start_time": "2023-05-20T20:44:49.774Z"
   },
   {
    "duration": 2647,
    "start_time": "2023-05-20T20:44:49.788Z"
   },
   {
    "duration": 10407,
    "start_time": "2023-05-20T20:44:52.437Z"
   },
   {
    "duration": 14,
    "start_time": "2023-05-20T20:45:02.846Z"
   },
   {
    "duration": 2511,
    "start_time": "2023-05-20T20:45:02.861Z"
   },
   {
    "duration": 8530,
    "start_time": "2023-05-20T20:45:05.374Z"
   },
   {
    "duration": 16869,
    "start_time": "2023-05-20T20:45:13.906Z"
   },
   {
    "duration": 224,
    "start_time": "2023-05-20T20:45:30.777Z"
   },
   {
    "duration": 16806,
    "start_time": "2023-05-20T20:45:31.005Z"
   },
   {
    "duration": 28,
    "start_time": "2023-05-20T20:45:47.812Z"
   },
   {
    "duration": 49,
    "start_time": "2023-05-20T20:45:47.842Z"
   },
   {
    "duration": 62,
    "start_time": "2023-05-20T20:45:47.899Z"
   },
   {
    "duration": 19,
    "start_time": "2023-05-20T20:49:13.859Z"
   },
   {
    "duration": 12179,
    "start_time": "2023-05-20T20:49:21.904Z"
   },
   {
    "duration": 55,
    "start_time": "2023-05-20T20:49:34.086Z"
   },
   {
    "duration": 14,
    "start_time": "2023-05-20T20:49:34.142Z"
   },
   {
    "duration": 14,
    "start_time": "2023-05-20T20:49:34.158Z"
   },
   {
    "duration": 3,
    "start_time": "2023-05-20T20:49:34.173Z"
   },
   {
    "duration": 71,
    "start_time": "2023-05-20T20:49:34.178Z"
   },
   {
    "duration": 5,
    "start_time": "2023-05-20T20:49:34.250Z"
   },
   {
    "duration": 27,
    "start_time": "2023-05-20T20:49:34.256Z"
   },
   {
    "duration": 0,
    "start_time": "2023-05-20T20:49:34.286Z"
   },
   {
    "duration": 0,
    "start_time": "2023-05-20T20:49:34.287Z"
   },
   {
    "duration": 0,
    "start_time": "2023-05-20T20:49:34.288Z"
   },
   {
    "duration": 0,
    "start_time": "2023-05-20T20:49:34.289Z"
   },
   {
    "duration": 0,
    "start_time": "2023-05-20T20:49:34.290Z"
   },
   {
    "duration": 0,
    "start_time": "2023-05-20T20:49:34.291Z"
   },
   {
    "duration": 0,
    "start_time": "2023-05-20T20:49:34.317Z"
   },
   {
    "duration": 0,
    "start_time": "2023-05-20T20:49:34.318Z"
   },
   {
    "duration": 0,
    "start_time": "2023-05-20T20:49:34.328Z"
   },
   {
    "duration": 0,
    "start_time": "2023-05-20T20:49:34.329Z"
   },
   {
    "duration": 0,
    "start_time": "2023-05-20T20:49:34.330Z"
   },
   {
    "duration": 1,
    "start_time": "2023-05-20T20:49:34.330Z"
   },
   {
    "duration": 0,
    "start_time": "2023-05-20T20:49:34.332Z"
   },
   {
    "duration": 0,
    "start_time": "2023-05-20T20:49:34.332Z"
   },
   {
    "duration": 0,
    "start_time": "2023-05-20T20:49:34.333Z"
   },
   {
    "duration": 0,
    "start_time": "2023-05-20T20:49:34.334Z"
   },
   {
    "duration": 0,
    "start_time": "2023-05-20T20:49:34.335Z"
   },
   {
    "duration": 0,
    "start_time": "2023-05-20T20:49:34.337Z"
   },
   {
    "duration": 0,
    "start_time": "2023-05-20T20:49:34.338Z"
   },
   {
    "duration": 0,
    "start_time": "2023-05-20T20:49:34.339Z"
   },
   {
    "duration": 0,
    "start_time": "2023-05-20T20:49:34.340Z"
   },
   {
    "duration": 0,
    "start_time": "2023-05-20T20:49:34.341Z"
   },
   {
    "duration": 0,
    "start_time": "2023-05-20T20:49:34.342Z"
   },
   {
    "duration": 0,
    "start_time": "2023-05-20T20:49:34.343Z"
   },
   {
    "duration": 0,
    "start_time": "2023-05-20T20:49:34.344Z"
   },
   {
    "duration": 0,
    "start_time": "2023-05-20T20:49:34.346Z"
   },
   {
    "duration": 0,
    "start_time": "2023-05-20T20:49:34.348Z"
   },
   {
    "duration": 0,
    "start_time": "2023-05-20T20:49:34.349Z"
   },
   {
    "duration": 0,
    "start_time": "2023-05-20T20:49:34.350Z"
   },
   {
    "duration": 0,
    "start_time": "2023-05-20T20:49:34.352Z"
   },
   {
    "duration": 0,
    "start_time": "2023-05-20T20:49:34.353Z"
   },
   {
    "duration": 3,
    "start_time": "2023-05-20T20:49:55.460Z"
   },
   {
    "duration": 22,
    "start_time": "2023-05-20T20:50:45.875Z"
   },
   {
    "duration": 16,
    "start_time": "2023-05-20T20:52:42.864Z"
   },
   {
    "duration": 35,
    "start_time": "2023-05-20T20:52:48.676Z"
   },
   {
    "duration": 35,
    "start_time": "2023-05-20T20:52:59.435Z"
   },
   {
    "duration": 42,
    "start_time": "2023-05-20T20:53:51.194Z"
   },
   {
    "duration": 19,
    "start_time": "2023-05-20T20:53:56.683Z"
   },
   {
    "duration": 20,
    "start_time": "2023-05-20T20:54:05.821Z"
   },
   {
    "duration": 11871,
    "start_time": "2023-05-20T20:54:21.386Z"
   },
   {
    "duration": 49,
    "start_time": "2023-05-20T20:54:33.259Z"
   },
   {
    "duration": 26,
    "start_time": "2023-05-20T20:54:33.309Z"
   },
   {
    "duration": 15,
    "start_time": "2023-05-20T20:54:33.337Z"
   },
   {
    "duration": 3,
    "start_time": "2023-05-20T20:54:33.353Z"
   },
   {
    "duration": 70,
    "start_time": "2023-05-20T20:54:33.357Z"
   },
   {
    "duration": 8,
    "start_time": "2023-05-20T20:54:33.429Z"
   },
   {
    "duration": 19,
    "start_time": "2023-05-20T20:54:33.439Z"
   },
   {
    "duration": 23,
    "start_time": "2023-05-20T20:54:33.460Z"
   },
   {
    "duration": 990,
    "start_time": "2023-05-20T20:54:33.487Z"
   },
   {
    "duration": 609,
    "start_time": "2023-05-20T20:54:34.479Z"
   },
   {
    "duration": 6,
    "start_time": "2023-05-20T20:54:35.090Z"
   },
   {
    "duration": 7,
    "start_time": "2023-05-20T20:54:35.097Z"
   },
   {
    "duration": 25,
    "start_time": "2023-05-20T20:54:35.106Z"
   },
   {
    "duration": 12,
    "start_time": "2023-05-20T20:54:35.133Z"
   },
   {
    "duration": 8,
    "start_time": "2023-05-20T20:54:35.147Z"
   },
   {
    "duration": 33,
    "start_time": "2023-05-20T20:54:35.157Z"
   },
   {
    "duration": 7,
    "start_time": "2023-05-20T20:54:35.192Z"
   },
   {
    "duration": 6,
    "start_time": "2023-05-20T20:54:35.232Z"
   },
   {
    "duration": 2069,
    "start_time": "2023-05-20T20:54:35.240Z"
   },
   {
    "duration": 9700,
    "start_time": "2023-05-20T20:54:37.311Z"
   },
   {
    "duration": 32,
    "start_time": "2023-05-20T20:54:47.013Z"
   },
   {
    "duration": 7,
    "start_time": "2023-05-20T20:54:47.047Z"
   },
   {
    "duration": 6,
    "start_time": "2023-05-20T20:54:47.057Z"
   },
   {
    "duration": 28,
    "start_time": "2023-05-20T20:54:47.065Z"
   },
   {
    "duration": 42,
    "start_time": "2023-05-20T20:54:47.094Z"
   },
   {
    "duration": 7403,
    "start_time": "2023-05-20T20:54:47.139Z"
   },
   {
    "duration": 22987,
    "start_time": "2023-05-20T20:54:54.548Z"
   },
   {
    "duration": 137,
    "start_time": "2023-05-20T20:55:17.537Z"
   },
   {
    "duration": 10,
    "start_time": "2023-05-20T20:55:17.676Z"
   },
   {
    "duration": 2682,
    "start_time": "2023-05-20T20:55:17.687Z"
   },
   {
    "duration": 10111,
    "start_time": "2023-05-20T20:55:20.370Z"
   },
   {
    "duration": 18,
    "start_time": "2023-05-20T20:55:30.483Z"
   },
   {
    "duration": 2453,
    "start_time": "2023-05-20T20:55:30.503Z"
   },
   {
    "duration": 5580,
    "start_time": "2023-05-20T20:55:32.957Z"
   },
   {
    "duration": 14292,
    "start_time": "2023-05-20T20:55:38.539Z"
   },
   {
    "duration": 138,
    "start_time": "2023-05-20T20:55:52.832Z"
   },
   {
    "duration": 14271,
    "start_time": "2023-05-20T20:55:52.972Z"
   },
   {
    "duration": 21,
    "start_time": "2023-05-20T20:56:07.245Z"
   },
   {
    "duration": 14,
    "start_time": "2023-05-20T20:56:07.268Z"
   },
   {
    "duration": 200,
    "start_time": "2023-05-20T20:56:07.284Z"
   },
   {
    "duration": 120,
    "start_time": "2023-05-20T20:58:13.596Z"
   },
   {
    "duration": 246,
    "start_time": "2023-05-20T20:58:29.057Z"
   },
   {
    "duration": 159,
    "start_time": "2023-05-20T20:59:06.992Z"
   },
   {
    "duration": 8376,
    "start_time": "2023-05-20T21:00:06.991Z"
   },
   {
    "duration": 2603,
    "start_time": "2023-05-20T21:01:26.370Z"
   },
   {
    "duration": 2853,
    "start_time": "2023-05-20T21:02:02.095Z"
   },
   {
    "duration": 35,
    "start_time": "2023-05-20T21:03:54.657Z"
   },
   {
    "duration": 9,
    "start_time": "2023-05-20T21:05:03.453Z"
   },
   {
    "duration": 35,
    "start_time": "2023-05-20T21:05:05.557Z"
   },
   {
    "duration": 9,
    "start_time": "2023-05-20T21:05:07.689Z"
   },
   {
    "duration": 7,
    "start_time": "2023-05-20T21:05:16.053Z"
   },
   {
    "duration": 25,
    "start_time": "2023-05-20T21:06:20.090Z"
   },
   {
    "duration": 6,
    "start_time": "2023-05-20T21:06:28.798Z"
   },
   {
    "duration": 38,
    "start_time": "2023-05-20T21:07:56.271Z"
   },
   {
    "duration": 7,
    "start_time": "2023-05-20T21:08:08.796Z"
   },
   {
    "duration": 7,
    "start_time": "2023-05-20T21:08:09.364Z"
   },
   {
    "duration": 32,
    "start_time": "2023-05-20T21:08:21.514Z"
   },
   {
    "duration": 5,
    "start_time": "2023-05-20T21:09:17.741Z"
   },
   {
    "duration": 31,
    "start_time": "2023-05-20T21:09:39.565Z"
   },
   {
    "duration": 7,
    "start_time": "2023-05-20T21:09:40.468Z"
   },
   {
    "duration": 14,
    "start_time": "2023-05-20T21:09:40.897Z"
   },
   {
    "duration": 13,
    "start_time": "2023-05-20T21:10:04.353Z"
   },
   {
    "duration": 38,
    "start_time": "2023-05-20T21:10:15.864Z"
   },
   {
    "duration": 10676,
    "start_time": "2023-05-20T21:10:30.637Z"
   },
   {
    "duration": 9109,
    "start_time": "2023-05-20T21:10:49.428Z"
   },
   {
    "duration": 33035,
    "start_time": "2023-05-20T21:11:19.471Z"
   },
   {
    "duration": 345,
    "start_time": "2023-05-20T21:12:03.098Z"
   },
   {
    "duration": 17,
    "start_time": "2023-05-20T21:12:19.262Z"
   },
   {
    "duration": 9,
    "start_time": "2023-05-20T21:12:33.064Z"
   },
   {
    "duration": 9,
    "start_time": "2023-05-20T21:12:36.564Z"
   },
   {
    "duration": 32,
    "start_time": "2023-05-20T21:12:56.920Z"
   },
   {
    "duration": 35,
    "start_time": "2023-05-20T21:14:24.364Z"
   },
   {
    "duration": 55,
    "start_time": "2023-05-20T21:14:44.402Z"
   },
   {
    "duration": 108,
    "start_time": "2023-05-20T21:14:49.415Z"
   },
   {
    "duration": 36,
    "start_time": "2023-05-20T21:15:08.761Z"
   },
   {
    "duration": 58,
    "start_time": "2023-05-20T21:15:13.973Z"
   },
   {
    "duration": 31,
    "start_time": "2023-05-20T21:15:18.202Z"
   },
   {
    "duration": 7,
    "start_time": "2023-05-20T21:15:18.673Z"
   },
   {
    "duration": 30,
    "start_time": "2023-05-20T21:15:20.338Z"
   },
   {
    "duration": 194,
    "start_time": "2023-05-20T21:15:27.565Z"
   },
   {
    "duration": 27,
    "start_time": "2023-05-20T21:15:28.808Z"
   },
   {
    "duration": 6,
    "start_time": "2023-05-20T21:15:35.973Z"
   },
   {
    "duration": 17,
    "start_time": "2023-05-20T21:15:38.757Z"
   },
   {
    "duration": 11194,
    "start_time": "2023-05-20T21:15:41.777Z"
   },
   {
    "duration": 39116,
    "start_time": "2023-05-20T21:15:55.940Z"
   },
   {
    "duration": 187,
    "start_time": "2023-05-20T21:16:35.058Z"
   },
   {
    "duration": 19,
    "start_time": "2023-05-20T21:16:35.247Z"
   },
   {
    "duration": 3249,
    "start_time": "2023-05-20T21:16:54.261Z"
   },
   {
    "duration": 3699,
    "start_time": "2023-05-20T21:17:27.102Z"
   },
   {
    "duration": 13567,
    "start_time": "2023-05-20T21:17:50.196Z"
   },
   {
    "duration": 24,
    "start_time": "2023-05-20T21:20:45.508Z"
   },
   {
    "duration": 40,
    "start_time": "2023-05-20T21:22:52.162Z"
   },
   {
    "duration": 16,
    "start_time": "2023-05-20T21:23:20.363Z"
   },
   {
    "duration": 55,
    "start_time": "2023-05-20T21:23:26.485Z"
   },
   {
    "duration": 23,
    "start_time": "2023-05-20T21:23:53.045Z"
   },
   {
    "duration": 26,
    "start_time": "2023-05-20T21:23:59.994Z"
   },
   {
    "duration": 21,
    "start_time": "2023-05-20T21:24:22.278Z"
   },
   {
    "duration": 35,
    "start_time": "2023-05-20T21:24:29.058Z"
   },
   {
    "duration": 3393,
    "start_time": "2023-05-20T21:25:02.804Z"
   },
   {
    "duration": 6689,
    "start_time": "2023-05-20T21:26:42.253Z"
   },
   {
    "duration": 7223,
    "start_time": "2023-05-20T21:26:57.809Z"
   },
   {
    "duration": 6455,
    "start_time": "2023-05-20T21:27:09.561Z"
   },
   {
    "duration": 6332,
    "start_time": "2023-05-20T21:27:26.821Z"
   },
   {
    "duration": 11861,
    "start_time": "2023-05-20T21:27:33.154Z"
   },
   {
    "duration": 26763,
    "start_time": "2023-05-20T21:27:53.918Z"
   },
   {
    "duration": 20755,
    "start_time": "2023-05-20T21:31:08.987Z"
   },
   {
    "duration": 1177924,
    "start_time": "2023-05-20T21:32:24.291Z"
   },
   {
    "duration": 2236,
    "start_time": "2023-05-20T21:53:31.560Z"
   },
   {
    "duration": 13,
    "start_time": "2023-05-20T21:55:15.425Z"
   },
   {
    "duration": 17,
    "start_time": "2023-05-20T21:56:14.266Z"
   },
   {
    "duration": 10,
    "start_time": "2023-05-20T21:57:26.480Z"
   },
   {
    "duration": 14,
    "start_time": "2023-05-20T21:57:55.281Z"
   },
   {
    "duration": 269,
    "start_time": "2023-05-20T22:00:52.041Z"
   },
   {
    "duration": 9089,
    "start_time": "2023-05-20T22:01:03.665Z"
   },
   {
    "duration": 28735,
    "start_time": "2023-05-20T22:01:17.470Z"
   },
   {
    "duration": 221,
    "start_time": "2023-05-20T22:01:49.172Z"
   },
   {
    "duration": 14,
    "start_time": "2023-05-20T22:02:10.017Z"
   },
   {
    "duration": 11,
    "start_time": "2023-05-20T22:02:15.237Z"
   },
   {
    "duration": 15,
    "start_time": "2023-05-20T22:02:31.394Z"
   },
   {
    "duration": 14,
    "start_time": "2023-05-20T22:02:32.557Z"
   },
   {
    "duration": 23,
    "start_time": "2023-05-20T22:02:44.975Z"
   },
   {
    "duration": 22,
    "start_time": "2023-05-20T22:03:25.763Z"
   },
   {
    "duration": 74,
    "start_time": "2023-05-20T22:04:01.987Z"
   },
   {
    "duration": 82,
    "start_time": "2023-05-20T22:04:12.090Z"
   },
   {
    "duration": 6,
    "start_time": "2023-05-20T22:04:15.589Z"
   },
   {
    "duration": 20,
    "start_time": "2023-05-20T22:04:25.561Z"
   },
   {
    "duration": 77,
    "start_time": "2023-05-20T22:04:35.169Z"
   },
   {
    "duration": 13467,
    "start_time": "2023-05-20T22:05:01.564Z"
   },
   {
    "duration": 54,
    "start_time": "2023-05-20T22:05:15.038Z"
   },
   {
    "duration": 19,
    "start_time": "2023-05-20T22:05:15.094Z"
   },
   {
    "duration": 58,
    "start_time": "2023-05-20T22:05:15.114Z"
   },
   {
    "duration": 3,
    "start_time": "2023-05-20T22:05:15.175Z"
   },
   {
    "duration": 82,
    "start_time": "2023-05-20T22:05:15.179Z"
   },
   {
    "duration": 4,
    "start_time": "2023-05-20T22:05:15.263Z"
   },
   {
    "duration": 26,
    "start_time": "2023-05-20T22:05:15.269Z"
   },
   {
    "duration": 38,
    "start_time": "2023-05-20T22:05:15.297Z"
   },
   {
    "duration": 1034,
    "start_time": "2023-05-20T22:05:15.337Z"
   },
   {
    "duration": 583,
    "start_time": "2023-05-20T22:05:16.372Z"
   },
   {
    "duration": 6,
    "start_time": "2023-05-20T22:05:16.956Z"
   },
   {
    "duration": 4,
    "start_time": "2023-05-20T22:05:16.967Z"
   },
   {
    "duration": 19,
    "start_time": "2023-05-20T22:05:16.976Z"
   },
   {
    "duration": 3,
    "start_time": "2023-05-20T22:05:16.997Z"
   },
   {
    "duration": 35,
    "start_time": "2023-05-20T22:05:17.021Z"
   },
   {
    "duration": 84,
    "start_time": "2023-05-20T22:05:17.059Z"
   },
   {
    "duration": 135,
    "start_time": "2023-05-20T22:05:17.157Z"
   },
   {
    "duration": 6,
    "start_time": "2023-05-20T22:05:17.293Z"
   },
   {
    "duration": 2601,
    "start_time": "2023-05-20T22:05:17.301Z"
   },
   {
    "duration": 7453,
    "start_time": "2023-05-20T22:05:19.905Z"
   },
   {
    "duration": 98,
    "start_time": "2023-05-20T22:05:27.359Z"
   },
   {
    "duration": 6,
    "start_time": "2023-05-20T22:05:27.460Z"
   },
   {
    "duration": 27,
    "start_time": "2023-05-20T22:05:27.468Z"
   },
   {
    "duration": 49,
    "start_time": "2023-05-20T22:05:27.496Z"
   },
   {
    "duration": 9936,
    "start_time": "2023-05-20T22:05:27.547Z"
   },
   {
    "duration": 32422,
    "start_time": "2023-05-20T22:05:37.484Z"
   },
   {
    "duration": 266,
    "start_time": "2023-05-20T22:06:09.908Z"
   },
   {
    "duration": 19,
    "start_time": "2023-05-20T22:06:10.176Z"
   },
   {
    "duration": 4283,
    "start_time": "2023-05-20T22:06:10.197Z"
   },
   {
    "duration": 13874,
    "start_time": "2023-05-20T22:06:14.483Z"
   },
   {
    "duration": 18,
    "start_time": "2023-05-20T22:06:28.359Z"
   },
   {
    "duration": 1290,
    "start_time": "2023-05-20T22:06:28.378Z"
   },
   {
    "duration": 0,
    "start_time": "2023-05-20T22:06:29.670Z"
   },
   {
    "duration": 0,
    "start_time": "2023-05-20T22:06:29.671Z"
   },
   {
    "duration": 0,
    "start_time": "2023-05-20T22:06:29.672Z"
   },
   {
    "duration": 0,
    "start_time": "2023-05-20T22:06:29.673Z"
   },
   {
    "duration": 0,
    "start_time": "2023-05-20T22:06:29.676Z"
   },
   {
    "duration": 0,
    "start_time": "2023-05-20T22:06:29.678Z"
   },
   {
    "duration": 0,
    "start_time": "2023-05-20T22:06:29.679Z"
   },
   {
    "duration": 0,
    "start_time": "2023-05-20T22:06:29.681Z"
   },
   {
    "duration": 16,
    "start_time": "2023-05-20T22:06:54.938Z"
   },
   {
    "duration": 304,
    "start_time": "2023-05-20T22:06:59.175Z"
   },
   {
    "duration": 1940,
    "start_time": "2023-05-20T22:07:39.169Z"
   },
   {
    "duration": 8438,
    "start_time": "2023-05-20T22:07:48.332Z"
   },
   {
    "duration": 28685,
    "start_time": "2023-05-20T22:07:56.772Z"
   },
   {
    "duration": 280,
    "start_time": "2023-05-20T22:08:25.460Z"
   },
   {
    "duration": 17,
    "start_time": "2023-05-20T22:08:25.742Z"
   },
   {
    "duration": 19,
    "start_time": "2023-05-20T22:08:25.761Z"
   },
   {
    "duration": 21,
    "start_time": "2023-05-20T22:08:25.782Z"
   },
   {
    "duration": 248,
    "start_time": "2023-05-20T22:08:43.957Z"
   },
   {
    "duration": 349,
    "start_time": "2023-05-20T22:08:49.989Z"
   },
   {
    "duration": 137,
    "start_time": "2023-05-20T22:09:23.574Z"
   },
   {
    "duration": 169,
    "start_time": "2023-05-20T22:09:49.269Z"
   },
   {
    "duration": 18,
    "start_time": "2023-05-20T22:10:07.068Z"
   },
   {
    "duration": 23,
    "start_time": "2023-05-20T22:10:32.312Z"
   },
   {
    "duration": 15,
    "start_time": "2023-05-20T22:11:32.094Z"
   },
   {
    "duration": 20,
    "start_time": "2023-05-20T22:11:40.773Z"
   },
   {
    "duration": 3488,
    "start_time": "2023-05-20T22:12:50.391Z"
   },
   {
    "duration": 3627,
    "start_time": "2023-05-20T22:12:57.137Z"
   },
   {
    "duration": 423,
    "start_time": "2023-05-20T22:13:04.318Z"
   },
   {
    "duration": 13,
    "start_time": "2023-05-20T22:13:13.195Z"
   },
   {
    "duration": 233,
    "start_time": "2023-05-20T22:13:15.857Z"
   },
   {
    "duration": 2016,
    "start_time": "2023-05-20T22:14:40.207Z"
   },
   {
    "duration": 145,
    "start_time": "2023-05-20T22:15:04.920Z"
   },
   {
    "duration": 7292,
    "start_time": "2023-05-20T22:15:32.152Z"
   },
   {
    "duration": 142,
    "start_time": "2023-05-20T22:15:52.767Z"
   },
   {
    "duration": 7641,
    "start_time": "2023-05-20T22:15:59.637Z"
   },
   {
    "duration": 139,
    "start_time": "2023-05-20T22:16:15.758Z"
   },
   {
    "duration": 7258,
    "start_time": "2023-05-20T22:16:24.455Z"
   },
   {
    "duration": 140,
    "start_time": "2023-05-20T22:16:32.938Z"
   },
   {
    "duration": 7141,
    "start_time": "2023-05-20T22:16:49.244Z"
   },
   {
    "duration": 153,
    "start_time": "2023-05-20T22:17:19.493Z"
   },
   {
    "duration": 7331,
    "start_time": "2023-05-20T22:17:26.820Z"
   },
   {
    "duration": 15,
    "start_time": "2023-05-20T22:17:37.413Z"
   },
   {
    "duration": 180,
    "start_time": "2023-05-20T22:17:43.986Z"
   },
   {
    "duration": 14201,
    "start_time": "2023-05-20T22:17:59.538Z"
   },
   {
    "duration": 51,
    "start_time": "2023-05-20T22:18:13.743Z"
   },
   {
    "duration": 14,
    "start_time": "2023-05-20T22:18:13.795Z"
   },
   {
    "duration": 21,
    "start_time": "2023-05-20T22:18:13.811Z"
   },
   {
    "duration": 37,
    "start_time": "2023-05-20T22:18:13.834Z"
   },
   {
    "duration": 88,
    "start_time": "2023-05-20T22:18:13.874Z"
   },
   {
    "duration": 5,
    "start_time": "2023-05-20T22:18:13.964Z"
   },
   {
    "duration": 20,
    "start_time": "2023-05-20T22:18:13.970Z"
   },
   {
    "duration": 17,
    "start_time": "2023-05-20T22:18:13.991Z"
   },
   {
    "duration": 1135,
    "start_time": "2023-05-20T22:18:14.025Z"
   },
   {
    "duration": 601,
    "start_time": "2023-05-20T22:18:15.162Z"
   },
   {
    "duration": 6,
    "start_time": "2023-05-20T22:18:15.765Z"
   },
   {
    "duration": 6,
    "start_time": "2023-05-20T22:18:15.772Z"
   },
   {
    "duration": 11,
    "start_time": "2023-05-20T22:18:15.781Z"
   },
   {
    "duration": 60,
    "start_time": "2023-05-20T22:18:15.794Z"
   },
   {
    "duration": 10,
    "start_time": "2023-05-20T22:18:15.856Z"
   },
   {
    "duration": 34,
    "start_time": "2023-05-20T22:18:15.868Z"
   },
   {
    "duration": 127,
    "start_time": "2023-05-20T22:18:15.903Z"
   },
   {
    "duration": 7,
    "start_time": "2023-05-20T22:18:16.033Z"
   },
   {
    "duration": 2725,
    "start_time": "2023-05-20T22:18:16.042Z"
   },
   {
    "duration": 7725,
    "start_time": "2023-05-20T22:18:18.768Z"
   },
   {
    "duration": 81,
    "start_time": "2023-05-20T22:18:26.494Z"
   },
   {
    "duration": 5,
    "start_time": "2023-05-20T22:18:26.577Z"
   },
   {
    "duration": 25,
    "start_time": "2023-05-20T22:18:26.584Z"
   },
   {
    "duration": 14,
    "start_time": "2023-05-20T22:18:26.622Z"
   },
   {
    "duration": 9653,
    "start_time": "2023-05-20T22:18:26.656Z"
   },
   {
    "duration": 30473,
    "start_time": "2023-05-20T22:18:36.311Z"
   },
   {
    "duration": 189,
    "start_time": "2023-05-20T22:19:06.786Z"
   },
   {
    "duration": 14,
    "start_time": "2023-05-20T22:19:06.977Z"
   },
   {
    "duration": 4665,
    "start_time": "2023-05-20T22:19:06.993Z"
   },
   {
    "duration": 14109,
    "start_time": "2023-05-20T22:19:11.661Z"
   },
   {
    "duration": 16,
    "start_time": "2023-05-20T22:19:25.772Z"
   },
   {
    "duration": 1873,
    "start_time": "2023-05-20T22:19:25.790Z"
   },
   {
    "duration": 6546,
    "start_time": "2023-05-20T22:19:27.664Z"
   },
   {
    "duration": 22346,
    "start_time": "2023-05-20T22:19:34.212Z"
   },
   {
    "duration": 181,
    "start_time": "2023-05-20T22:19:56.560Z"
   },
   {
    "duration": 13,
    "start_time": "2023-05-20T22:19:56.743Z"
   },
   {
    "duration": 15,
    "start_time": "2023-05-20T22:19:56.758Z"
   },
   {
    "duration": 161,
    "start_time": "2023-05-20T22:19:56.774Z"
   },
   {
    "duration": 20,
    "start_time": "2023-05-20T22:19:56.937Z"
   },
   {
    "duration": 13,
    "start_time": "2023-05-20T22:19:56.960Z"
   },
   {
    "duration": 3268,
    "start_time": "2023-05-20T22:19:56.981Z"
   },
   {
    "duration": 233,
    "start_time": "2023-05-20T22:20:33.391Z"
   },
   {
    "duration": 161,
    "start_time": "2023-05-20T22:20:42.037Z"
   },
   {
    "duration": 3641,
    "start_time": "2023-05-20T22:20:54.953Z"
   },
   {
    "duration": 13044,
    "start_time": "2023-05-20T22:23:06.417Z"
   },
   {
    "duration": 79,
    "start_time": "2023-05-20T22:24:32.477Z"
   },
   {
    "duration": 11971,
    "start_time": "2023-05-20T22:29:42.291Z"
   },
   {
    "duration": 44,
    "start_time": "2023-05-20T22:29:54.264Z"
   },
   {
    "duration": 25,
    "start_time": "2023-05-20T22:29:54.310Z"
   },
   {
    "duration": 17,
    "start_time": "2023-05-20T22:29:54.337Z"
   },
   {
    "duration": 3,
    "start_time": "2023-05-20T22:29:54.356Z"
   },
   {
    "duration": 53,
    "start_time": "2023-05-20T22:29:54.361Z"
   },
   {
    "duration": 30,
    "start_time": "2023-05-20T22:29:54.416Z"
   },
   {
    "duration": 17,
    "start_time": "2023-05-20T22:29:54.448Z"
   },
   {
    "duration": 22,
    "start_time": "2023-05-20T22:29:54.467Z"
   },
   {
    "duration": 966,
    "start_time": "2023-05-20T22:29:54.491Z"
   },
   {
    "duration": 650,
    "start_time": "2023-05-20T22:29:55.458Z"
   },
   {
    "duration": 24,
    "start_time": "2023-05-20T22:29:56.109Z"
   },
   {
    "duration": 11,
    "start_time": "2023-05-20T22:29:56.135Z"
   },
   {
    "duration": 18,
    "start_time": "2023-05-20T22:29:56.148Z"
   },
   {
    "duration": 3,
    "start_time": "2023-05-20T22:29:56.168Z"
   },
   {
    "duration": 11,
    "start_time": "2023-05-20T22:29:56.172Z"
   },
   {
    "duration": 49,
    "start_time": "2023-05-20T22:29:56.185Z"
   },
   {
    "duration": 103,
    "start_time": "2023-05-20T22:29:56.236Z"
   },
   {
    "duration": 5,
    "start_time": "2023-05-20T22:29:56.341Z"
   },
   {
    "duration": 2561,
    "start_time": "2023-05-20T22:29:56.347Z"
   },
   {
    "duration": 7434,
    "start_time": "2023-05-20T22:29:58.910Z"
   },
   {
    "duration": 61,
    "start_time": "2023-05-20T22:30:06.346Z"
   },
   {
    "duration": 25,
    "start_time": "2023-05-20T22:30:06.408Z"
   },
   {
    "duration": 16,
    "start_time": "2023-05-20T22:30:06.434Z"
   },
   {
    "duration": 35,
    "start_time": "2023-05-20T22:30:06.452Z"
   },
   {
    "duration": 7771,
    "start_time": "2023-05-20T22:30:06.489Z"
   },
   {
    "duration": 27046,
    "start_time": "2023-05-20T22:30:14.261Z"
   },
   {
    "duration": 187,
    "start_time": "2023-05-20T22:30:41.308Z"
   },
   {
    "duration": 41,
    "start_time": "2023-05-20T22:30:41.497Z"
   },
   {
    "duration": 3450,
    "start_time": "2023-05-20T22:30:41.540Z"
   },
   {
    "duration": 10342,
    "start_time": "2023-05-20T22:30:44.991Z"
   },
   {
    "duration": 19,
    "start_time": "2023-05-20T22:30:55.334Z"
   },
   {
    "duration": 3585,
    "start_time": "2023-05-20T22:30:55.354Z"
   },
   {
    "duration": 7704,
    "start_time": "2023-05-20T22:30:58.947Z"
   },
   {
    "duration": 24838,
    "start_time": "2023-05-20T22:31:06.653Z"
   },
   {
    "duration": 186,
    "start_time": "2023-05-20T22:31:31.492Z"
   },
   {
    "duration": 11,
    "start_time": "2023-05-20T22:31:31.679Z"
   },
   {
    "duration": 51,
    "start_time": "2023-05-20T22:31:31.692Z"
   },
   {
    "duration": 198,
    "start_time": "2023-05-20T22:31:31.745Z"
   },
   {
    "duration": 16,
    "start_time": "2023-05-20T22:31:31.945Z"
   },
   {
    "duration": 13,
    "start_time": "2023-05-20T22:31:31.965Z"
   },
   {
    "duration": 22617,
    "start_time": "2023-05-21T16:32:35.175Z"
   },
   {
    "duration": 113,
    "start_time": "2023-05-21T16:32:57.794Z"
   },
   {
    "duration": 17,
    "start_time": "2023-05-21T16:32:57.909Z"
   },
   {
    "duration": 66,
    "start_time": "2023-05-21T16:32:57.928Z"
   },
   {
    "duration": 2,
    "start_time": "2023-05-21T16:32:57.997Z"
   },
   {
    "duration": 64,
    "start_time": "2023-05-21T16:32:58.001Z"
   },
   {
    "duration": 15,
    "start_time": "2023-05-21T16:32:58.067Z"
   },
   {
    "duration": 24,
    "start_time": "2023-05-21T16:32:58.086Z"
   },
   {
    "duration": 23,
    "start_time": "2023-05-21T16:32:58.112Z"
   },
   {
    "duration": 1157,
    "start_time": "2023-05-21T16:32:58.140Z"
   },
   {
    "duration": 749,
    "start_time": "2023-05-21T16:32:59.300Z"
   },
   {
    "duration": 17,
    "start_time": "2023-05-21T16:33:00.050Z"
   },
   {
    "duration": 36,
    "start_time": "2023-05-21T16:33:00.068Z"
   },
   {
    "duration": 14,
    "start_time": "2023-05-21T16:33:00.106Z"
   },
   {
    "duration": 68,
    "start_time": "2023-05-21T16:33:00.121Z"
   },
   {
    "duration": 7,
    "start_time": "2023-05-21T16:33:00.191Z"
   },
   {
    "duration": 20,
    "start_time": "2023-05-21T16:33:00.200Z"
   },
   {
    "duration": 101,
    "start_time": "2023-05-21T16:33:00.222Z"
   },
   {
    "duration": 146,
    "start_time": "2023-05-21T16:33:00.332Z"
   },
   {
    "duration": 5,
    "start_time": "2023-05-21T16:33:00.483Z"
   },
   {
    "duration": 2792,
    "start_time": "2023-05-21T16:33:00.490Z"
   },
   {
    "duration": 7905,
    "start_time": "2023-05-21T16:33:03.285Z"
   },
   {
    "duration": 89,
    "start_time": "2023-05-21T16:33:11.191Z"
   },
   {
    "duration": 6,
    "start_time": "2023-05-21T16:33:11.282Z"
   },
   {
    "duration": 44,
    "start_time": "2023-05-21T16:33:11.297Z"
   },
   {
    "duration": 46,
    "start_time": "2023-05-21T16:33:11.349Z"
   },
   {
    "duration": 10179,
    "start_time": "2023-05-21T16:33:11.397Z"
   },
   {
    "duration": 33918,
    "start_time": "2023-05-21T16:33:21.577Z"
   },
   {
    "duration": 201,
    "start_time": "2023-05-21T16:33:55.497Z"
   },
   {
    "duration": 12,
    "start_time": "2023-05-21T16:33:55.700Z"
   },
   {
    "duration": 3090,
    "start_time": "2023-05-21T16:33:55.724Z"
   },
   {
    "duration": 10131,
    "start_time": "2023-05-21T16:33:58.816Z"
   },
   {
    "duration": 25,
    "start_time": "2023-05-21T16:34:08.954Z"
   },
   {
    "duration": 3802,
    "start_time": "2023-05-21T16:34:08.981Z"
   },
   {
    "duration": 9909,
    "start_time": "2023-05-21T16:34:12.785Z"
   },
   {
    "duration": 29185,
    "start_time": "2023-05-21T16:34:22.696Z"
   },
   {
    "duration": 273,
    "start_time": "2023-05-21T16:34:51.883Z"
   },
   {
    "duration": 22,
    "start_time": "2023-05-21T16:34:52.164Z"
   },
   {
    "duration": 61,
    "start_time": "2023-05-21T16:34:52.189Z"
   },
   {
    "duration": 244,
    "start_time": "2023-05-21T16:34:52.251Z"
   },
   {
    "duration": 14,
    "start_time": "2023-05-21T16:34:52.499Z"
   },
   {
    "duration": 81,
    "start_time": "2023-05-21T16:34:52.515Z"
   },
   {
    "duration": 120,
    "start_time": "2023-05-21T17:00:31.990Z"
   },
   {
    "duration": 12,
    "start_time": "2023-05-21T17:01:15.717Z"
   },
   {
    "duration": 94,
    "start_time": "2023-05-21T17:01:49.807Z"
   },
   {
    "duration": 2622,
    "start_time": "2023-05-21T17:02:35.445Z"
   },
   {
    "duration": 105,
    "start_time": "2023-05-21T17:02:54.081Z"
   },
   {
    "duration": 19,
    "start_time": "2023-05-21T17:03:01.309Z"
   },
   {
    "duration": 8,
    "start_time": "2023-05-21T17:03:52.003Z"
   },
   {
    "duration": 16,
    "start_time": "2023-05-21T17:04:02.832Z"
   },
   {
    "duration": 19,
    "start_time": "2023-05-21T17:04:16.549Z"
   },
   {
    "duration": 24,
    "start_time": "2023-05-21T17:04:29.957Z"
   },
   {
    "duration": 14,
    "start_time": "2023-05-21T17:04:36.804Z"
   },
   {
    "duration": 15,
    "start_time": "2023-05-21T17:05:05.676Z"
   },
   {
    "duration": 36,
    "start_time": "2023-05-21T17:05:10.922Z"
   },
   {
    "duration": 22,
    "start_time": "2023-05-21T17:05:15.294Z"
   },
   {
    "duration": 75,
    "start_time": "2023-05-21T17:05:18.143Z"
   },
   {
    "duration": 190,
    "start_time": "2023-05-21T17:05:20.663Z"
   },
   {
    "duration": 12,
    "start_time": "2023-05-21T17:05:23.807Z"
   },
   {
    "duration": 2403,
    "start_time": "2023-05-21T17:05:25.105Z"
   },
   {
    "duration": 97,
    "start_time": "2023-05-21T17:05:36.226Z"
   },
   {
    "duration": 8,
    "start_time": "2023-05-21T17:05:42.426Z"
   },
   {
    "duration": 44,
    "start_time": "2023-05-21T17:05:49.653Z"
   },
   {
    "duration": 15,
    "start_time": "2023-05-21T17:05:50.657Z"
   },
   {
    "duration": 15339,
    "start_time": "2023-05-21T17:05:51.252Z"
   },
   {
    "duration": 12961,
    "start_time": "2023-05-21T17:06:12.611Z"
   },
   {
    "duration": 14525,
    "start_time": "2023-05-21T17:06:29.394Z"
   },
   {
    "duration": 241,
    "start_time": "2023-05-21T17:06:52.397Z"
   },
   {
    "duration": 244,
    "start_time": "2023-05-21T17:07:10.840Z"
   },
   {
    "duration": 31,
    "start_time": "2023-05-21T17:07:14.990Z"
   },
   {
    "duration": 2781,
    "start_time": "2023-05-21T17:07:39.537Z"
   },
   {
    "duration": 32,
    "start_time": "2023-05-21T17:07:50.210Z"
   },
   {
    "duration": 3975,
    "start_time": "2023-05-21T17:08:12.220Z"
   },
   {
    "duration": 12235,
    "start_time": "2023-05-21T17:08:25.485Z"
   },
   {
    "duration": 251,
    "start_time": "2023-05-21T17:08:47.095Z"
   },
   {
    "duration": 40,
    "start_time": "2023-05-21T17:12:08.116Z"
   },
   {
    "duration": 11457,
    "start_time": "2023-05-21T17:12:32.258Z"
   },
   {
    "duration": 254,
    "start_time": "2023-05-21T17:12:46.020Z"
   },
   {
    "duration": 187,
    "start_time": "2023-05-21T17:13:03.985Z"
   },
   {
    "duration": 33,
    "start_time": "2023-05-21T17:13:29.557Z"
   },
   {
    "duration": 12,
    "start_time": "2023-05-21T17:13:30.901Z"
   },
   {
    "duration": 26,
    "start_time": "2023-05-21T17:13:59.683Z"
   },
   {
    "duration": 208,
    "start_time": "2023-05-21T17:14:17.172Z"
   },
   {
    "duration": 201,
    "start_time": "2023-05-21T17:14:41.219Z"
   },
   {
    "duration": 15193,
    "start_time": "2023-05-21T17:14:46.149Z"
   },
   {
    "duration": 66,
    "start_time": "2023-05-21T17:15:01.344Z"
   },
   {
    "duration": 80,
    "start_time": "2023-05-21T17:15:01.413Z"
   },
   {
    "duration": 17,
    "start_time": "2023-05-21T17:15:01.494Z"
   },
   {
    "duration": 54,
    "start_time": "2023-05-21T17:15:01.513Z"
   },
   {
    "duration": 123,
    "start_time": "2023-05-21T17:15:01.569Z"
   },
   {
    "duration": 90,
    "start_time": "2023-05-21T17:15:01.694Z"
   },
   {
    "duration": 52,
    "start_time": "2023-05-21T17:15:01.786Z"
   },
   {
    "duration": 98,
    "start_time": "2023-05-21T17:15:01.842Z"
   },
   {
    "duration": 1459,
    "start_time": "2023-05-21T17:15:01.946Z"
   },
   {
    "duration": 892,
    "start_time": "2023-05-21T17:15:03.406Z"
   },
   {
    "duration": 9,
    "start_time": "2023-05-21T17:15:04.302Z"
   },
   {
    "duration": 100,
    "start_time": "2023-05-21T17:15:04.313Z"
   },
   {
    "duration": 97,
    "start_time": "2023-05-21T17:15:04.416Z"
   },
   {
    "duration": 165,
    "start_time": "2023-05-21T17:15:04.516Z"
   },
   {
    "duration": 119,
    "start_time": "2023-05-21T17:15:04.682Z"
   },
   {
    "duration": 60,
    "start_time": "2023-05-21T17:15:04.803Z"
   },
   {
    "duration": 100,
    "start_time": "2023-05-21T17:15:04.867Z"
   },
   {
    "duration": 212,
    "start_time": "2023-05-21T17:15:04.971Z"
   },
   {
    "duration": 11,
    "start_time": "2023-05-21T17:15:05.191Z"
   },
   {
    "duration": 2012,
    "start_time": "2023-05-21T17:15:05.206Z"
   },
   {
    "duration": 78,
    "start_time": "2023-05-21T17:15:07.219Z"
   },
   {
    "duration": 14,
    "start_time": "2023-05-21T17:15:07.302Z"
   },
   {
    "duration": 89,
    "start_time": "2023-05-21T17:15:07.317Z"
   },
   {
    "duration": 14,
    "start_time": "2023-05-21T17:15:07.407Z"
   },
   {
    "duration": 10750,
    "start_time": "2023-05-21T17:15:07.422Z"
   },
   {
    "duration": 203,
    "start_time": "2023-05-21T17:15:18.176Z"
   },
   {
    "duration": 14,
    "start_time": "2023-05-21T17:15:18.383Z"
   },
   {
    "duration": 2392,
    "start_time": "2023-05-21T17:15:18.399Z"
   },
   {
    "duration": 21,
    "start_time": "2023-05-21T17:15:20.793Z"
   },
   {
    "duration": 3454,
    "start_time": "2023-05-21T17:15:20.816Z"
   },
   {
    "duration": 10785,
    "start_time": "2023-05-21T17:15:24.272Z"
   },
   {
    "duration": 194,
    "start_time": "2023-05-21T17:15:35.059Z"
   },
   {
    "duration": 13,
    "start_time": "2023-05-21T17:15:35.255Z"
   },
   {
    "duration": 118,
    "start_time": "2023-05-21T17:15:35.274Z"
   },
   {
    "duration": 256,
    "start_time": "2023-05-21T17:15:35.399Z"
   },
   {
    "duration": 33,
    "start_time": "2023-05-21T17:15:35.664Z"
   },
   {
    "duration": 20,
    "start_time": "2023-05-21T17:15:35.699Z"
   },
   {
    "duration": 486,
    "start_time": "2023-05-21T17:16:09.488Z"
   },
   {
    "duration": 308,
    "start_time": "2023-05-21T17:16:46.977Z"
   },
   {
    "duration": 181,
    "start_time": "2023-05-21T17:17:19.163Z"
   },
   {
    "duration": 12328,
    "start_time": "2023-05-21T17:18:01.382Z"
   },
   {
    "duration": 10630,
    "start_time": "2023-05-21T17:18:23.078Z"
   },
   {
    "duration": 200,
    "start_time": "2023-05-21T17:18:39.055Z"
   },
   {
    "duration": 25,
    "start_time": "2023-05-21T17:18:40.119Z"
   },
   {
    "duration": 12,
    "start_time": "2023-05-21T17:18:42.389Z"
   },
   {
    "duration": 206,
    "start_time": "2023-05-21T17:18:50.807Z"
   },
   {
    "duration": 26,
    "start_time": "2023-05-21T17:20:04.567Z"
   },
   {
    "duration": 27,
    "start_time": "2023-05-21T17:20:15.521Z"
   },
   {
    "duration": 51,
    "start_time": "2023-05-21T17:20:41.552Z"
   },
   {
    "duration": 34,
    "start_time": "2023-05-21T17:21:30.978Z"
   },
   {
    "duration": 188,
    "start_time": "2023-05-21T17:21:41.714Z"
   },
   {
    "duration": 21,
    "start_time": "2023-05-21T17:21:46.585Z"
   },
   {
    "duration": 55,
    "start_time": "2023-05-21T17:21:50.843Z"
   },
   {
    "duration": 39,
    "start_time": "2023-05-21T17:21:57.844Z"
   },
   {
    "duration": 44,
    "start_time": "2023-05-21T17:22:35.977Z"
   },
   {
    "duration": 124,
    "start_time": "2023-05-21T17:22:37.391Z"
   },
   {
    "duration": 11,
    "start_time": "2023-05-21T17:22:39.436Z"
   },
   {
    "duration": 2581,
    "start_time": "2023-05-21T17:22:39.618Z"
   },
   {
    "duration": 100,
    "start_time": "2023-05-21T17:22:42.201Z"
   },
   {
    "duration": 5,
    "start_time": "2023-05-21T17:22:42.303Z"
   },
   {
    "duration": 19,
    "start_time": "2023-05-21T17:22:43.704Z"
   },
   {
    "duration": 12,
    "start_time": "2023-05-21T17:22:43.985Z"
   },
   {
    "duration": 14797,
    "start_time": "2023-05-21T17:22:44.190Z"
   },
   {
    "duration": 200,
    "start_time": "2023-05-21T17:22:58.989Z"
   },
   {
    "duration": 14,
    "start_time": "2023-05-21T17:22:59.192Z"
   },
   {
    "duration": 3197,
    "start_time": "2023-05-21T17:22:59.209Z"
   },
   {
    "duration": 37,
    "start_time": "2023-05-21T17:23:02.408Z"
   },
   {
    "duration": 7099,
    "start_time": "2023-05-21T17:23:02.449Z"
   },
   {
    "duration": 12358,
    "start_time": "2023-05-21T17:23:09.551Z"
   },
   {
    "duration": 192,
    "start_time": "2023-05-21T17:23:21.911Z"
   },
   {
    "duration": 12,
    "start_time": "2023-05-21T17:23:22.105Z"
   },
   {
    "duration": 50,
    "start_time": "2023-05-21T17:23:22.134Z"
   },
   {
    "duration": 195,
    "start_time": "2023-05-21T17:23:22.185Z"
   },
   {
    "duration": 197,
    "start_time": "2023-05-21T17:23:29.185Z"
   },
   {
    "duration": 14,
    "start_time": "2023-05-21T17:24:21.971Z"
   },
   {
    "duration": 1722,
    "start_time": "2023-05-21T17:26:21.077Z"
   },
   {
    "duration": 25,
    "start_time": "2023-05-21T17:26:32.198Z"
   },
   {
    "duration": 6,
    "start_time": "2023-05-21T17:26:33.965Z"
   },
   {
    "duration": 21,
    "start_time": "2023-05-21T17:26:42.681Z"
   },
   {
    "duration": 26,
    "start_time": "2023-05-21T17:26:51.761Z"
   },
   {
    "duration": 14480,
    "start_time": "2023-05-21T17:27:03.859Z"
   },
   {
    "duration": 49,
    "start_time": "2023-05-21T17:27:18.343Z"
   },
   {
    "duration": 12,
    "start_time": "2023-05-21T17:27:18.394Z"
   },
   {
    "duration": 97,
    "start_time": "2023-05-21T17:27:18.408Z"
   },
   {
    "duration": 54,
    "start_time": "2023-05-21T17:27:18.507Z"
   },
   {
    "duration": 120,
    "start_time": "2023-05-21T17:27:18.563Z"
   },
   {
    "duration": 5,
    "start_time": "2023-05-21T17:27:18.684Z"
   },
   {
    "duration": 19,
    "start_time": "2023-05-21T17:27:25.479Z"
   },
   {
    "duration": 20,
    "start_time": "2023-05-21T17:28:08.111Z"
   },
   {
    "duration": 1358,
    "start_time": "2023-05-21T17:28:09.284Z"
   },
   {
    "duration": 710,
    "start_time": "2023-05-21T17:28:10.653Z"
   },
   {
    "duration": 7,
    "start_time": "2023-05-21T17:28:14.554Z"
   },
   {
    "duration": 9,
    "start_time": "2023-05-21T17:28:16.291Z"
   },
   {
    "duration": 7,
    "start_time": "2023-05-21T17:28:19.447Z"
   },
   {
    "duration": 7,
    "start_time": "2023-05-21T17:28:40.908Z"
   },
   {
    "duration": 10,
    "start_time": "2023-05-21T17:28:45.560Z"
   },
   {
    "duration": 17,
    "start_time": "2023-05-21T17:29:08.645Z"
   },
   {
    "duration": 8,
    "start_time": "2023-05-21T17:29:19.502Z"
   },
   {
    "duration": 4,
    "start_time": "2023-05-21T17:29:19.916Z"
   },
   {
    "duration": 13,
    "start_time": "2023-05-21T17:29:20.453Z"
   },
   {
    "duration": 13,
    "start_time": "2023-05-21T17:29:32.853Z"
   },
   {
    "duration": 3,
    "start_time": "2023-05-21T17:29:33.273Z"
   },
   {
    "duration": 10,
    "start_time": "2023-05-21T17:29:33.707Z"
   },
   {
    "duration": 51,
    "start_time": "2023-05-21T17:29:37.597Z"
   },
   {
    "duration": 33,
    "start_time": "2023-05-21T17:29:48.586Z"
   },
   {
    "duration": 46,
    "start_time": "2023-05-21T17:29:53.400Z"
   },
   {
    "duration": 52,
    "start_time": "2023-05-21T17:29:57.311Z"
   },
   {
    "duration": 18,
    "start_time": "2023-05-21T17:30:01.365Z"
   },
   {
    "duration": 134,
    "start_time": "2023-05-21T17:30:03.420Z"
   },
   {
    "duration": 7,
    "start_time": "2023-05-21T17:30:07.067Z"
   },
   {
    "duration": 1958,
    "start_time": "2023-05-21T17:30:07.708Z"
   },
   {
    "duration": 70,
    "start_time": "2023-05-21T17:30:14.992Z"
   },
   {
    "duration": 6,
    "start_time": "2023-05-21T17:30:15.659Z"
   },
   {
    "duration": 24,
    "start_time": "2023-05-21T17:30:21.654Z"
   },
   {
    "duration": 7,
    "start_time": "2023-05-21T17:30:22.787Z"
   },
   {
    "duration": 8611,
    "start_time": "2023-05-21T17:30:23.055Z"
   },
   {
    "duration": 196,
    "start_time": "2023-05-21T17:30:31.668Z"
   },
   {
    "duration": 52,
    "start_time": "2023-05-21T17:30:31.866Z"
   },
   {
    "duration": 2245,
    "start_time": "2023-05-21T17:30:50.951Z"
   },
   {
    "duration": 25,
    "start_time": "2023-05-21T17:30:56.664Z"
   },
   {
    "duration": 3035,
    "start_time": "2023-05-21T17:30:59.080Z"
   },
   {
    "duration": 8496,
    "start_time": "2023-05-21T17:31:03.083Z"
   },
   {
    "duration": 8606,
    "start_time": "2023-05-21T17:31:17.161Z"
   },
   {
    "duration": 9626,
    "start_time": "2023-05-21T17:31:31.055Z"
   },
   {
    "duration": 172,
    "start_time": "2023-05-21T17:31:51.353Z"
   },
   {
    "duration": 19,
    "start_time": "2023-05-21T17:31:52.415Z"
   },
   {
    "duration": 36,
    "start_time": "2023-05-21T17:31:53.309Z"
   },
   {
    "duration": 192,
    "start_time": "2023-05-21T17:32:00.152Z"
   },
   {
    "duration": 300,
    "start_time": "2023-05-21T17:32:05.460Z"
   },
   {
    "duration": 188,
    "start_time": "2023-05-21T17:32:11.709Z"
   },
   {
    "duration": 199,
    "start_time": "2023-05-21T17:32:24.782Z"
   },
   {
    "duration": 174,
    "start_time": "2023-05-21T17:32:29.918Z"
   },
   {
    "duration": 22,
    "start_time": "2023-05-21T17:32:31.760Z"
   },
   {
    "duration": 299,
    "start_time": "2023-05-21T17:32:54.453Z"
   },
   {
    "duration": 349,
    "start_time": "2023-05-21T17:33:15.289Z"
   },
   {
    "duration": 7658,
    "start_time": "2023-05-21T17:33:47.511Z"
   },
   {
    "duration": 164,
    "start_time": "2023-05-21T17:33:57.287Z"
   },
   {
    "duration": 7623,
    "start_time": "2023-05-21T17:34:04.361Z"
   },
   {
    "duration": 178,
    "start_time": "2023-05-21T17:34:18.468Z"
   },
   {
    "duration": 7760,
    "start_time": "2023-05-21T17:34:22.272Z"
   },
   {
    "duration": 154,
    "start_time": "2023-05-21T17:34:34.167Z"
   },
   {
    "duration": 7818,
    "start_time": "2023-05-21T17:34:38.490Z"
   },
   {
    "duration": 156,
    "start_time": "2023-05-21T17:34:48.854Z"
   },
   {
    "duration": 8037,
    "start_time": "2023-05-21T17:35:08.561Z"
   },
   {
    "duration": 148,
    "start_time": "2023-05-21T17:35:20.676Z"
   },
   {
    "duration": 8456,
    "start_time": "2023-05-21T17:35:29.001Z"
   },
   {
    "duration": 7,
    "start_time": "2023-05-21T17:35:37.462Z"
   },
   {
    "duration": 8044,
    "start_time": "2023-05-21T17:35:39.214Z"
   },
   {
    "duration": 14262,
    "start_time": "2023-05-21T17:35:50.285Z"
   },
   {
    "duration": 48,
    "start_time": "2023-05-21T17:36:04.550Z"
   },
   {
    "duration": 13,
    "start_time": "2023-05-21T17:36:04.600Z"
   },
   {
    "duration": 66,
    "start_time": "2023-05-21T17:36:04.614Z"
   },
   {
    "duration": 14,
    "start_time": "2023-05-21T17:36:04.681Z"
   },
   {
    "duration": 76,
    "start_time": "2023-05-21T17:36:04.696Z"
   },
   {
    "duration": 5,
    "start_time": "2023-05-21T17:36:04.774Z"
   },
   {
    "duration": 35,
    "start_time": "2023-05-21T17:36:04.781Z"
   },
   {
    "duration": 72,
    "start_time": "2023-05-21T17:36:04.818Z"
   },
   {
    "duration": 1224,
    "start_time": "2023-05-21T17:36:04.893Z"
   },
   {
    "duration": 712,
    "start_time": "2023-05-21T17:36:06.128Z"
   },
   {
    "duration": 21,
    "start_time": "2023-05-21T17:36:06.842Z"
   },
   {
    "duration": 27,
    "start_time": "2023-05-21T17:36:06.866Z"
   },
   {
    "duration": 16,
    "start_time": "2023-05-21T17:36:06.895Z"
   },
   {
    "duration": 27,
    "start_time": "2023-05-21T17:36:06.913Z"
   },
   {
    "duration": 25,
    "start_time": "2023-05-21T17:36:06.953Z"
   },
   {
    "duration": 3,
    "start_time": "2023-05-21T17:36:06.980Z"
   },
   {
    "duration": 14,
    "start_time": "2023-05-21T17:36:06.984Z"
   },
   {
    "duration": 59,
    "start_time": "2023-05-21T17:36:07.000Z"
   },
   {
    "duration": 132,
    "start_time": "2023-05-21T17:36:07.061Z"
   },
   {
    "duration": 6,
    "start_time": "2023-05-21T17:36:07.195Z"
   },
   {
    "duration": 1858,
    "start_time": "2023-05-21T17:36:07.203Z"
   },
   {
    "duration": 70,
    "start_time": "2023-05-21T17:36:09.063Z"
   },
   {
    "duration": 16,
    "start_time": "2023-05-21T17:36:09.150Z"
   },
   {
    "duration": 28,
    "start_time": "2023-05-21T17:36:09.168Z"
   },
   {
    "duration": 11,
    "start_time": "2023-05-21T17:36:09.197Z"
   },
   {
    "duration": 9930,
    "start_time": "2023-05-21T17:36:09.210Z"
   },
   {
    "duration": 169,
    "start_time": "2023-05-21T17:36:19.147Z"
   },
   {
    "duration": 44,
    "start_time": "2023-05-21T17:36:19.317Z"
   },
   {
    "duration": 2410,
    "start_time": "2023-05-21T17:36:19.363Z"
   },
   {
    "duration": 19,
    "start_time": "2023-05-21T17:36:21.775Z"
   },
   {
    "duration": 3357,
    "start_time": "2023-05-21T17:36:21.795Z"
   },
   {
    "duration": 8384,
    "start_time": "2023-05-21T17:36:25.162Z"
   },
   {
    "duration": 159,
    "start_time": "2023-05-21T17:36:33.555Z"
   },
   {
    "duration": 15,
    "start_time": "2023-05-21T17:36:33.716Z"
   },
   {
    "duration": 48,
    "start_time": "2023-05-21T17:36:33.733Z"
   },
   {
    "duration": 365,
    "start_time": "2023-05-21T17:36:33.783Z"
   },
   {
    "duration": 21,
    "start_time": "2023-05-21T17:36:34.150Z"
   },
   {
    "duration": 12,
    "start_time": "2023-05-21T17:36:34.172Z"
   },
   {
    "duration": 8490,
    "start_time": "2023-05-21T17:36:34.187Z"
   },
   {
    "duration": 8808,
    "start_time": "2023-05-21T17:36:48.090Z"
   },
   {
    "duration": 204,
    "start_time": "2023-05-21T17:37:01.968Z"
   },
   {
    "duration": 10332,
    "start_time": "2023-05-21T17:37:09.349Z"
   },
   {
    "duration": 10341,
    "start_time": "2023-05-21T17:37:29.640Z"
   },
   {
    "duration": 8971,
    "start_time": "2023-05-21T17:37:48.749Z"
   },
   {
    "duration": 35,
    "start_time": "2023-05-21T17:38:06.317Z"
   },
   {
    "duration": 15185,
    "start_time": "2023-05-21T17:38:14.885Z"
   },
   {
    "duration": 42,
    "start_time": "2023-05-21T17:38:30.076Z"
   },
   {
    "duration": 27,
    "start_time": "2023-05-21T17:38:30.120Z"
   },
   {
    "duration": 40,
    "start_time": "2023-05-21T17:38:30.153Z"
   },
   {
    "duration": 2,
    "start_time": "2023-05-21T17:38:30.195Z"
   },
   {
    "duration": 198,
    "start_time": "2023-05-21T17:38:30.199Z"
   },
   {
    "duration": 10,
    "start_time": "2023-05-21T17:38:30.399Z"
   },
   {
    "duration": 81,
    "start_time": "2023-05-21T17:38:30.410Z"
   },
   {
    "duration": 100,
    "start_time": "2023-05-21T17:38:30.493Z"
   },
   {
    "duration": 1277,
    "start_time": "2023-05-21T17:38:30.596Z"
   },
   {
    "duration": 638,
    "start_time": "2023-05-21T17:38:31.875Z"
   },
   {
    "duration": 28,
    "start_time": "2023-05-21T17:38:32.515Z"
   },
   {
    "duration": 45,
    "start_time": "2023-05-21T17:38:32.544Z"
   },
   {
    "duration": 8,
    "start_time": "2023-05-21T17:38:32.590Z"
   },
   {
    "duration": 13,
    "start_time": "2023-05-21T17:38:32.599Z"
   },
   {
    "duration": 16,
    "start_time": "2023-05-21T17:38:32.614Z"
   },
   {
    "duration": 49,
    "start_time": "2023-05-21T17:38:32.633Z"
   },
   {
    "duration": 23,
    "start_time": "2023-05-21T17:38:32.683Z"
   },
   {
    "duration": 96,
    "start_time": "2023-05-21T17:38:32.708Z"
   },
   {
    "duration": 135,
    "start_time": "2023-05-21T17:38:32.806Z"
   },
   {
    "duration": 8,
    "start_time": "2023-05-21T17:38:32.942Z"
   },
   {
    "duration": 1847,
    "start_time": "2023-05-21T17:38:32.951Z"
   },
   {
    "duration": 72,
    "start_time": "2023-05-21T17:38:34.800Z"
   },
   {
    "duration": 17,
    "start_time": "2023-05-21T17:38:34.874Z"
   },
   {
    "duration": 75,
    "start_time": "2023-05-21T17:38:34.893Z"
   },
   {
    "duration": 18,
    "start_time": "2023-05-21T17:38:34.974Z"
   },
   {
    "duration": 10045,
    "start_time": "2023-05-21T17:38:34.994Z"
   },
   {
    "duration": 191,
    "start_time": "2023-05-21T17:38:45.053Z"
   },
   {
    "duration": 36,
    "start_time": "2023-05-21T17:38:45.246Z"
   },
   {
    "duration": 2321,
    "start_time": "2023-05-21T17:38:45.286Z"
   },
   {
    "duration": 30,
    "start_time": "2023-05-21T17:38:47.609Z"
   },
   {
    "duration": 3053,
    "start_time": "2023-05-21T17:38:47.641Z"
   },
   {
    "duration": 9083,
    "start_time": "2023-05-21T17:38:50.695Z"
   },
   {
    "duration": 165,
    "start_time": "2023-05-21T17:38:59.780Z"
   },
   {
    "duration": 18,
    "start_time": "2023-05-21T17:38:59.949Z"
   },
   {
    "duration": 27,
    "start_time": "2023-05-21T17:38:59.969Z"
   },
   {
    "duration": 364,
    "start_time": "2023-05-21T17:38:59.998Z"
   },
   {
    "duration": 22,
    "start_time": "2023-05-21T17:39:00.364Z"
   },
   {
    "duration": 48,
    "start_time": "2023-05-21T17:39:00.388Z"
   },
   {
    "duration": 24,
    "start_time": "2023-05-21T17:39:04.689Z"
   },
   {
    "duration": 31,
    "start_time": "2023-05-21T17:39:19.661Z"
   },
   {
    "duration": 39,
    "start_time": "2023-05-21T17:39:29.072Z"
   },
   {
    "duration": 18,
    "start_time": "2023-05-21T17:40:13.160Z"
   },
   {
    "duration": 34,
    "start_time": "2023-05-21T17:40:16.574Z"
   },
   {
    "duration": 29,
    "start_time": "2023-05-21T17:40:41.770Z"
   },
   {
    "duration": 129,
    "start_time": "2023-05-21T17:40:48.854Z"
   },
   {
    "duration": 5,
    "start_time": "2023-05-21T17:40:53.510Z"
   },
   {
    "duration": 1876,
    "start_time": "2023-05-21T17:41:05.512Z"
   },
   {
    "duration": 33,
    "start_time": "2023-05-21T17:41:22.012Z"
   },
   {
    "duration": 17,
    "start_time": "2023-05-21T17:43:18.266Z"
   },
   {
    "duration": 105,
    "start_time": "2023-05-21T17:43:20.002Z"
   },
   {
    "duration": 12,
    "start_time": "2023-05-21T17:43:22.624Z"
   },
   {
    "duration": 1833,
    "start_time": "2023-05-21T17:43:23.273Z"
   },
   {
    "duration": 1867,
    "start_time": "2023-05-21T17:43:39.055Z"
   },
   {
    "duration": 15,
    "start_time": "2023-05-21T17:44:29.998Z"
   },
   {
    "duration": 24,
    "start_time": "2023-05-21T17:44:30.355Z"
   },
   {
    "duration": 43,
    "start_time": "2023-05-21T17:44:31.427Z"
   },
   {
    "duration": 18,
    "start_time": "2023-05-21T17:44:32.289Z"
   },
   {
    "duration": 15,
    "start_time": "2023-05-21T17:48:28.103Z"
   },
   {
    "duration": 20,
    "start_time": "2023-05-21T17:48:28.929Z"
   },
   {
    "duration": 18,
    "start_time": "2023-05-21T17:48:29.452Z"
   },
   {
    "duration": 17,
    "start_time": "2023-05-21T17:48:30.178Z"
   },
   {
    "duration": 18,
    "start_time": "2023-05-21T17:49:54.557Z"
   },
   {
    "duration": 26,
    "start_time": "2023-05-21T17:49:56.220Z"
   },
   {
    "duration": 29,
    "start_time": "2023-05-21T17:49:58.843Z"
   },
   {
    "duration": 32,
    "start_time": "2023-05-21T17:50:00.125Z"
   },
   {
    "duration": 20,
    "start_time": "2023-05-21T17:50:06.819Z"
   },
   {
    "duration": 15,
    "start_time": "2023-05-21T17:50:08.662Z"
   },
   {
    "duration": 20,
    "start_time": "2023-05-21T17:50:10.158Z"
   },
   {
    "duration": 42,
    "start_time": "2023-05-21T17:50:10.899Z"
   },
   {
    "duration": 13,
    "start_time": "2023-05-21T17:51:17.446Z"
   },
   {
    "duration": 19,
    "start_time": "2023-05-21T17:51:21.050Z"
   },
   {
    "duration": 20,
    "start_time": "2023-05-21T17:51:38.261Z"
   },
   {
    "duration": 19,
    "start_time": "2023-05-21T17:52:09.787Z"
   },
   {
    "duration": 65,
    "start_time": "2023-05-21T17:52:22.024Z"
   },
   {
    "duration": 16011,
    "start_time": "2023-05-21T17:52:25.102Z"
   },
   {
    "duration": 67,
    "start_time": "2023-05-21T17:52:41.116Z"
   },
   {
    "duration": 16,
    "start_time": "2023-05-21T17:52:41.185Z"
   },
   {
    "duration": 35,
    "start_time": "2023-05-21T17:52:41.204Z"
   },
   {
    "duration": 53,
    "start_time": "2023-05-21T17:52:41.241Z"
   },
   {
    "duration": 97,
    "start_time": "2023-05-21T17:52:41.296Z"
   },
   {
    "duration": 4,
    "start_time": "2023-05-21T17:52:41.395Z"
   },
   {
    "duration": 41,
    "start_time": "2023-05-21T17:52:41.401Z"
   },
   {
    "duration": 57,
    "start_time": "2023-05-21T17:52:41.444Z"
   },
   {
    "duration": 1203,
    "start_time": "2023-05-21T17:52:41.503Z"
   },
   {
    "duration": 812,
    "start_time": "2023-05-21T17:52:42.708Z"
   },
   {
    "duration": 20,
    "start_time": "2023-05-21T17:52:43.522Z"
   },
   {
    "duration": 50,
    "start_time": "2023-05-21T17:52:43.544Z"
   },
   {
    "duration": 7,
    "start_time": "2023-05-21T17:52:43.596Z"
   },
   {
    "duration": 18,
    "start_time": "2023-05-21T17:52:43.605Z"
   },
   {
    "duration": 32,
    "start_time": "2023-05-21T17:52:43.635Z"
   },
   {
    "duration": 18,
    "start_time": "2023-05-21T17:52:43.677Z"
   },
   {
    "duration": 24,
    "start_time": "2023-05-21T17:52:43.697Z"
   },
   {
    "duration": 97,
    "start_time": "2023-05-21T17:52:43.723Z"
   },
   {
    "duration": 50,
    "start_time": "2023-05-21T17:52:43.821Z"
   },
   {
    "duration": 21,
    "start_time": "2023-05-21T17:52:43.874Z"
   },
   {
    "duration": 19,
    "start_time": "2023-05-21T17:52:43.897Z"
   },
   {
    "duration": 192,
    "start_time": "2023-05-21T17:52:43.917Z"
   },
   {
    "duration": 6,
    "start_time": "2023-05-21T17:52:44.110Z"
   },
   {
    "duration": 1883,
    "start_time": "2023-05-21T17:52:44.124Z"
   },
   {
    "duration": 74,
    "start_time": "2023-05-21T17:52:46.009Z"
   },
   {
    "duration": 15,
    "start_time": "2023-05-21T17:52:46.084Z"
   },
   {
    "duration": 40,
    "start_time": "2023-05-21T17:52:46.102Z"
   },
   {
    "duration": 68,
    "start_time": "2023-05-21T17:52:46.143Z"
   },
   {
    "duration": 8798,
    "start_time": "2023-05-21T17:52:46.213Z"
   },
   {
    "duration": 171,
    "start_time": "2023-05-21T17:52:55.013Z"
   },
   {
    "duration": 0,
    "start_time": "2023-05-21T17:52:55.189Z"
   },
   {
    "duration": 0,
    "start_time": "2023-05-21T17:52:55.191Z"
   },
   {
    "duration": 0,
    "start_time": "2023-05-21T17:52:55.193Z"
   },
   {
    "duration": 0,
    "start_time": "2023-05-21T17:52:55.195Z"
   },
   {
    "duration": 0,
    "start_time": "2023-05-21T17:52:55.196Z"
   },
   {
    "duration": 0,
    "start_time": "2023-05-21T17:52:55.198Z"
   },
   {
    "duration": 0,
    "start_time": "2023-05-21T17:52:55.199Z"
   },
   {
    "duration": 0,
    "start_time": "2023-05-21T17:52:55.200Z"
   },
   {
    "duration": 0,
    "start_time": "2023-05-21T17:52:55.202Z"
   },
   {
    "duration": 0,
    "start_time": "2023-05-21T17:52:55.203Z"
   },
   {
    "duration": 0,
    "start_time": "2023-05-21T17:52:55.204Z"
   },
   {
    "duration": 31,
    "start_time": "2023-05-21T17:53:29.551Z"
   },
   {
    "duration": 9216,
    "start_time": "2023-05-21T17:53:37.649Z"
   },
   {
    "duration": 22,
    "start_time": "2023-05-21T17:54:00.538Z"
   },
   {
    "duration": 190,
    "start_time": "2023-05-21T17:54:10.374Z"
   },
   {
    "duration": 7888,
    "start_time": "2023-05-21T17:54:18.402Z"
   },
   {
    "duration": 160,
    "start_time": "2023-05-21T17:54:30.481Z"
   },
   {
    "duration": 23,
    "start_time": "2023-05-21T17:55:10.890Z"
   },
   {
    "duration": 2994,
    "start_time": "2023-05-21T17:55:24.379Z"
   },
   {
    "duration": 9300,
    "start_time": "2023-05-21T17:55:35.397Z"
   },
   {
    "duration": 161,
    "start_time": "2023-05-21T17:55:58.750Z"
   },
   {
    "duration": 115,
    "start_time": "2023-05-21T17:56:37.093Z"
   },
   {
    "duration": 3037,
    "start_time": "2023-05-21T17:56:39.674Z"
   },
   {
    "duration": 11423,
    "start_time": "2023-05-21T17:56:59.457Z"
   },
   {
    "duration": 197,
    "start_time": "2023-05-21T17:57:11.116Z"
   },
   {
    "duration": 25,
    "start_time": "2023-05-21T17:57:11.954Z"
   },
   {
    "duration": 27,
    "start_time": "2023-05-21T17:57:12.856Z"
   },
   {
    "duration": 9,
    "start_time": "2023-05-21T17:57:16.596Z"
   },
   {
    "duration": 11,
    "start_time": "2023-05-21T17:57:26.264Z"
   },
   {
    "duration": 15471,
    "start_time": "2023-05-21T17:57:37.330Z"
   },
   {
    "duration": 69,
    "start_time": "2023-05-21T17:57:52.803Z"
   },
   {
    "duration": 14,
    "start_time": "2023-05-21T17:57:52.873Z"
   },
   {
    "duration": 20,
    "start_time": "2023-05-21T17:57:52.889Z"
   },
   {
    "duration": 5,
    "start_time": "2023-05-21T17:57:52.912Z"
   },
   {
    "duration": 87,
    "start_time": "2023-05-21T17:57:52.919Z"
   },
   {
    "duration": 5,
    "start_time": "2023-05-21T17:57:53.008Z"
   },
   {
    "duration": 90,
    "start_time": "2023-05-21T17:57:53.015Z"
   },
   {
    "duration": 64,
    "start_time": "2023-05-21T17:57:53.107Z"
   },
   {
    "duration": 1184,
    "start_time": "2023-05-21T17:57:53.173Z"
   },
   {
    "duration": 709,
    "start_time": "2023-05-21T17:57:54.359Z"
   },
   {
    "duration": 9,
    "start_time": "2023-05-21T17:57:55.070Z"
   },
   {
    "duration": 19,
    "start_time": "2023-05-21T17:57:55.081Z"
   },
   {
    "duration": 19,
    "start_time": "2023-05-21T17:57:55.104Z"
   },
   {
    "duration": 49,
    "start_time": "2023-05-21T17:57:55.132Z"
   },
   {
    "duration": 31,
    "start_time": "2023-05-21T17:57:55.183Z"
   },
   {
    "duration": 43,
    "start_time": "2023-05-21T17:57:55.215Z"
   },
   {
    "duration": 36,
    "start_time": "2023-05-21T17:57:55.261Z"
   },
   {
    "duration": 72,
    "start_time": "2023-05-21T17:57:55.298Z"
   },
   {
    "duration": 96,
    "start_time": "2023-05-21T17:57:55.372Z"
   },
   {
    "duration": 23,
    "start_time": "2023-05-21T17:57:55.470Z"
   },
   {
    "duration": 43,
    "start_time": "2023-05-21T17:57:55.495Z"
   },
   {
    "duration": 147,
    "start_time": "2023-05-21T17:57:55.541Z"
   },
   {
    "duration": 6,
    "start_time": "2023-05-21T17:57:55.689Z"
   },
   {
    "duration": 1788,
    "start_time": "2023-05-21T17:57:55.696Z"
   },
   {
    "duration": 86,
    "start_time": "2023-05-21T17:57:57.486Z"
   },
   {
    "duration": 7,
    "start_time": "2023-05-21T17:57:57.574Z"
   },
   {
    "duration": 66,
    "start_time": "2023-05-21T17:57:57.583Z"
   },
   {
    "duration": 41,
    "start_time": "2023-05-21T17:57:57.658Z"
   },
   {
    "duration": 8022,
    "start_time": "2023-05-21T17:57:57.701Z"
   },
   {
    "duration": 172,
    "start_time": "2023-05-21T17:58:05.727Z"
   },
   {
    "duration": 11,
    "start_time": "2023-05-21T17:58:05.900Z"
   },
   {
    "duration": 1,
    "start_time": "2023-05-21T17:58:05.934Z"
   },
   {
    "duration": 0,
    "start_time": "2023-05-21T17:58:05.936Z"
   },
   {
    "duration": 0,
    "start_time": "2023-05-21T17:58:05.939Z"
   },
   {
    "duration": 0,
    "start_time": "2023-05-21T17:58:05.940Z"
   },
   {
    "duration": 0,
    "start_time": "2023-05-21T17:58:05.947Z"
   },
   {
    "duration": 0,
    "start_time": "2023-05-21T17:58:05.952Z"
   },
   {
    "duration": 0,
    "start_time": "2023-05-21T17:58:05.953Z"
   },
   {
    "duration": 0,
    "start_time": "2023-05-21T17:58:05.956Z"
   },
   {
    "duration": 0,
    "start_time": "2023-05-21T17:58:05.957Z"
   },
   {
    "duration": 0,
    "start_time": "2023-05-21T17:58:05.964Z"
   },
   {
    "duration": 14,
    "start_time": "2023-05-21T17:58:19.126Z"
   },
   {
    "duration": 2287,
    "start_time": "2023-05-21T17:58:22.558Z"
   },
   {
    "duration": 17,
    "start_time": "2023-05-21T17:58:29.923Z"
   },
   {
    "duration": 2347,
    "start_time": "2023-05-21T17:58:33.011Z"
   },
   {
    "duration": 6451,
    "start_time": "2023-05-21T17:58:40.732Z"
   },
   {
    "duration": 184,
    "start_time": "2023-05-21T17:58:47.185Z"
   },
   {
    "duration": 6509,
    "start_time": "2023-05-21T17:59:00.862Z"
   },
   {
    "duration": 166,
    "start_time": "2023-05-21T17:59:11.355Z"
   },
   {
    "duration": 14,
    "start_time": "2023-05-21T17:59:13.297Z"
   },
   {
    "duration": 30,
    "start_time": "2023-05-21T17:59:14.422Z"
   },
   {
    "duration": 311,
    "start_time": "2023-05-21T17:59:16.382Z"
   },
   {
    "duration": 331,
    "start_time": "2023-05-21T17:59:45.977Z"
   },
   {
    "duration": 188,
    "start_time": "2023-05-21T18:00:01.053Z"
   },
   {
    "duration": 25,
    "start_time": "2023-05-21T18:01:08.818Z"
   },
   {
    "duration": 14765,
    "start_time": "2023-05-21T18:01:15.557Z"
   },
   {
    "duration": 50,
    "start_time": "2023-05-21T18:01:30.326Z"
   },
   {
    "duration": 15,
    "start_time": "2023-05-21T18:01:30.378Z"
   },
   {
    "duration": 43,
    "start_time": "2023-05-21T18:01:30.396Z"
   },
   {
    "duration": 47,
    "start_time": "2023-05-21T18:01:30.443Z"
   },
   {
    "duration": 106,
    "start_time": "2023-05-21T18:01:30.492Z"
   },
   {
    "duration": 70,
    "start_time": "2023-05-21T18:01:30.601Z"
   },
   {
    "duration": 147,
    "start_time": "2023-05-21T18:01:30.673Z"
   },
   {
    "duration": 108,
    "start_time": "2023-05-21T18:01:30.822Z"
   },
   {
    "duration": 1290,
    "start_time": "2023-05-21T18:01:30.933Z"
   },
   {
    "duration": 595,
    "start_time": "2023-05-21T18:01:32.224Z"
   },
   {
    "duration": 9,
    "start_time": "2023-05-21T18:01:32.831Z"
   },
   {
    "duration": 33,
    "start_time": "2023-05-21T18:01:32.841Z"
   },
   {
    "duration": 16,
    "start_time": "2023-05-21T18:01:32.877Z"
   },
   {
    "duration": 58,
    "start_time": "2023-05-21T18:01:32.895Z"
   },
   {
    "duration": 22,
    "start_time": "2023-05-21T18:01:32.955Z"
   },
   {
    "duration": 4,
    "start_time": "2023-05-21T18:01:32.979Z"
   },
   {
    "duration": 21,
    "start_time": "2023-05-21T18:01:32.984Z"
   },
   {
    "duration": 43,
    "start_time": "2023-05-21T18:01:33.007Z"
   },
   {
    "duration": 0,
    "start_time": "2023-05-21T18:01:33.053Z"
   },
   {
    "duration": 0,
    "start_time": "2023-05-21T18:01:33.054Z"
   },
   {
    "duration": 0,
    "start_time": "2023-05-21T18:01:33.058Z"
   },
   {
    "duration": 0,
    "start_time": "2023-05-21T18:01:33.060Z"
   },
   {
    "duration": 0,
    "start_time": "2023-05-21T18:01:33.061Z"
   },
   {
    "duration": 0,
    "start_time": "2023-05-21T18:01:33.064Z"
   },
   {
    "duration": 0,
    "start_time": "2023-05-21T18:01:33.065Z"
   },
   {
    "duration": 0,
    "start_time": "2023-05-21T18:01:33.066Z"
   },
   {
    "duration": 0,
    "start_time": "2023-05-21T18:01:33.067Z"
   },
   {
    "duration": 0,
    "start_time": "2023-05-21T18:01:33.068Z"
   },
   {
    "duration": 0,
    "start_time": "2023-05-21T18:01:33.069Z"
   },
   {
    "duration": 0,
    "start_time": "2023-05-21T18:01:33.070Z"
   },
   {
    "duration": 0,
    "start_time": "2023-05-21T18:01:33.071Z"
   },
   {
    "duration": 0,
    "start_time": "2023-05-21T18:01:33.072Z"
   },
   {
    "duration": 0,
    "start_time": "2023-05-21T18:01:33.074Z"
   },
   {
    "duration": 0,
    "start_time": "2023-05-21T18:01:33.075Z"
   },
   {
    "duration": 0,
    "start_time": "2023-05-21T18:01:33.076Z"
   },
   {
    "duration": 0,
    "start_time": "2023-05-21T18:01:33.078Z"
   },
   {
    "duration": 0,
    "start_time": "2023-05-21T18:01:33.079Z"
   },
   {
    "duration": 0,
    "start_time": "2023-05-21T18:01:33.080Z"
   },
   {
    "duration": 0,
    "start_time": "2023-05-21T18:01:33.081Z"
   },
   {
    "duration": 0,
    "start_time": "2023-05-21T18:01:33.082Z"
   },
   {
    "duration": 0,
    "start_time": "2023-05-21T18:01:33.084Z"
   },
   {
    "duration": 44,
    "start_time": "2023-05-21T18:01:39.205Z"
   },
   {
    "duration": 14,
    "start_time": "2023-05-21T18:01:40.190Z"
   },
   {
    "duration": 25,
    "start_time": "2023-05-21T18:01:48.038Z"
   },
   {
    "duration": 18,
    "start_time": "2023-05-21T18:01:55.558Z"
   },
   {
    "duration": 147,
    "start_time": "2023-05-21T18:02:10.925Z"
   },
   {
    "duration": 6,
    "start_time": "2023-05-21T18:02:19.081Z"
   },
   {
    "duration": 2034,
    "start_time": "2023-05-21T18:02:27.415Z"
   },
   {
    "duration": 58,
    "start_time": "2023-05-21T18:02:45.683Z"
   },
   {
    "duration": 8,
    "start_time": "2023-05-21T18:02:53.954Z"
   },
   {
    "duration": 12,
    "start_time": "2023-05-21T18:03:05.051Z"
   },
   {
    "duration": 23,
    "start_time": "2023-05-21T18:04:59.382Z"
   },
   {
    "duration": 5,
    "start_time": "2023-05-21T18:05:11.817Z"
   },
   {
    "duration": 10,
    "start_time": "2023-05-21T18:05:18.655Z"
   },
   {
    "duration": 35,
    "start_time": "2023-05-21T18:05:31.026Z"
   },
   {
    "duration": 12,
    "start_time": "2023-05-21T18:05:43.965Z"
   },
   {
    "duration": 6,
    "start_time": "2023-05-21T18:05:53.798Z"
   },
   {
    "duration": 29,
    "start_time": "2023-05-21T18:05:57.010Z"
   },
   {
    "duration": 9,
    "start_time": "2023-05-21T18:05:58.151Z"
   },
   {
    "duration": 8976,
    "start_time": "2023-05-21T18:06:05.358Z"
   },
   {
    "duration": 173,
    "start_time": "2023-05-21T18:06:18.494Z"
   },
   {
    "duration": 26,
    "start_time": "2023-05-21T18:06:19.606Z"
   },
   {
    "duration": 2771,
    "start_time": "2023-05-21T18:06:23.908Z"
   },
   {
    "duration": 16,
    "start_time": "2023-05-21T18:06:32.250Z"
   },
   {
    "duration": 2511,
    "start_time": "2023-05-21T18:06:41.265Z"
   },
   {
    "duration": 6729,
    "start_time": "2023-05-21T18:06:55.908Z"
   },
   {
    "duration": 220,
    "start_time": "2023-05-21T18:07:07.450Z"
   },
   {
    "duration": 6793,
    "start_time": "2023-05-21T18:07:26.152Z"
   },
   {
    "duration": 199,
    "start_time": "2023-05-21T18:07:42.174Z"
   },
   {
    "duration": 170,
    "start_time": "2023-05-21T18:07:54.094Z"
   },
   {
    "duration": 24,
    "start_time": "2023-05-21T18:07:56.802Z"
   },
   {
    "duration": 22,
    "start_time": "2023-05-21T18:07:57.556Z"
   },
   {
    "duration": 183,
    "start_time": "2023-05-21T18:08:02.459Z"
   },
   {
    "duration": 10,
    "start_time": "2023-05-21T18:08:09.890Z"
   },
   {
    "duration": 196,
    "start_time": "2023-05-21T18:08:15.563Z"
   },
   {
    "duration": 491,
    "start_time": "2023-05-21T18:08:36.484Z"
   },
   {
    "duration": 381,
    "start_time": "2023-05-21T18:08:42.151Z"
   },
   {
    "duration": 162,
    "start_time": "2023-05-21T18:09:12.107Z"
   },
   {
    "duration": 8089,
    "start_time": "2023-05-21T18:09:26.299Z"
   },
   {
    "duration": 175,
    "start_time": "2023-05-21T18:09:38.460Z"
   },
   {
    "duration": 22,
    "start_time": "2023-05-21T18:09:39.148Z"
   },
   {
    "duration": 16,
    "start_time": "2023-05-21T18:09:39.461Z"
   },
   {
    "duration": 191,
    "start_time": "2023-05-21T18:09:41.270Z"
   },
   {
    "duration": 8886,
    "start_time": "2023-05-21T18:09:48.422Z"
   },
   {
    "duration": 177,
    "start_time": "2023-05-21T18:09:59.389Z"
   },
   {
    "duration": 16,
    "start_time": "2023-05-21T18:09:59.673Z"
   },
   {
    "duration": 13,
    "start_time": "2023-05-21T18:09:59.987Z"
   },
   {
    "duration": 278,
    "start_time": "2023-05-21T18:10:11.032Z"
   },
   {
    "duration": 12118,
    "start_time": "2023-05-21T18:10:20.743Z"
   },
   {
    "duration": 8900,
    "start_time": "2023-05-21T18:10:35.184Z"
   },
   {
    "duration": 225,
    "start_time": "2023-05-21T18:10:44.090Z"
   },
   {
    "duration": 20,
    "start_time": "2023-05-21T18:10:44.324Z"
   },
   {
    "duration": 70,
    "start_time": "2023-05-21T18:10:44.346Z"
   },
   {
    "duration": 258,
    "start_time": "2023-05-21T18:10:44.418Z"
   },
   {
    "duration": 8853,
    "start_time": "2023-05-21T18:10:53.006Z"
   },
   {
    "duration": 226,
    "start_time": "2023-05-21T18:11:05.554Z"
   },
   {
    "duration": 15,
    "start_time": "2023-05-21T18:11:06.795Z"
   },
   {
    "duration": 46,
    "start_time": "2023-05-21T18:11:07.122Z"
   },
   {
    "duration": 249,
    "start_time": "2023-05-21T18:11:09.053Z"
   },
   {
    "duration": 8348,
    "start_time": "2023-05-21T18:11:14.952Z"
   },
   {
    "duration": 180,
    "start_time": "2023-05-21T18:11:26.404Z"
   },
   {
    "duration": 12,
    "start_time": "2023-05-21T18:11:26.679Z"
   },
   {
    "duration": 29,
    "start_time": "2023-05-21T18:11:27.153Z"
   },
   {
    "duration": 182,
    "start_time": "2023-05-21T18:11:28.644Z"
   },
   {
    "duration": 32,
    "start_time": "2023-05-21T18:11:31.021Z"
   },
   {
    "duration": 18,
    "start_time": "2023-05-21T18:11:31.756Z"
   },
   {
    "duration": 13748,
    "start_time": "2023-05-21T18:12:01.873Z"
   },
   {
    "duration": 64,
    "start_time": "2023-05-21T18:12:15.624Z"
   },
   {
    "duration": 12,
    "start_time": "2023-05-21T18:12:15.690Z"
   },
   {
    "duration": 38,
    "start_time": "2023-05-21T18:12:15.704Z"
   },
   {
    "duration": 17,
    "start_time": "2023-05-21T18:12:15.749Z"
   },
   {
    "duration": 74,
    "start_time": "2023-05-21T18:12:15.772Z"
   },
   {
    "duration": 6,
    "start_time": "2023-05-21T18:12:15.849Z"
   },
   {
    "duration": 38,
    "start_time": "2023-05-21T18:12:15.857Z"
   },
   {
    "duration": 18,
    "start_time": "2023-05-21T18:12:15.896Z"
   },
   {
    "duration": 1188,
    "start_time": "2023-05-21T18:12:15.916Z"
   },
   {
    "duration": 700,
    "start_time": "2023-05-21T18:12:17.105Z"
   },
   {
    "duration": 6,
    "start_time": "2023-05-21T18:12:17.807Z"
   },
   {
    "duration": 64,
    "start_time": "2023-05-21T18:12:17.825Z"
   },
   {
    "duration": 4,
    "start_time": "2023-05-21T18:12:17.893Z"
   },
   {
    "duration": 30,
    "start_time": "2023-05-21T18:12:17.899Z"
   },
   {
    "duration": 55,
    "start_time": "2023-05-21T18:12:17.930Z"
   },
   {
    "duration": 5,
    "start_time": "2023-05-21T18:12:17.986Z"
   },
   {
    "duration": 15,
    "start_time": "2023-05-21T18:12:17.993Z"
   },
   {
    "duration": 66,
    "start_time": "2023-05-21T18:12:18.010Z"
   },
   {
    "duration": 20,
    "start_time": "2023-05-21T18:12:18.078Z"
   },
   {
    "duration": 15,
    "start_time": "2023-05-21T18:12:18.100Z"
   },
   {
    "duration": 21,
    "start_time": "2023-05-21T18:12:18.117Z"
   },
   {
    "duration": 145,
    "start_time": "2023-05-21T18:12:18.140Z"
   },
   {
    "duration": 5,
    "start_time": "2023-05-21T18:12:18.287Z"
   },
   {
    "duration": 1809,
    "start_time": "2023-05-21T18:12:18.294Z"
   },
   {
    "duration": 72,
    "start_time": "2023-05-21T18:12:20.104Z"
   },
   {
    "duration": 5,
    "start_time": "2023-05-21T18:12:20.180Z"
   },
   {
    "duration": 35,
    "start_time": "2023-05-21T18:12:20.186Z"
   },
   {
    "duration": 55,
    "start_time": "2023-05-21T18:12:20.223Z"
   },
   {
    "duration": 8806,
    "start_time": "2023-05-21T18:12:20.280Z"
   },
   {
    "duration": 192,
    "start_time": "2023-05-21T18:12:29.087Z"
   },
   {
    "duration": 13,
    "start_time": "2023-05-21T18:12:29.281Z"
   },
   {
    "duration": 2317,
    "start_time": "2023-05-21T18:12:29.295Z"
   },
   {
    "duration": 34,
    "start_time": "2023-05-21T18:12:31.614Z"
   },
   {
    "duration": 2598,
    "start_time": "2023-05-21T18:12:31.655Z"
   },
   {
    "duration": 6815,
    "start_time": "2023-05-21T18:12:34.257Z"
   },
   {
    "duration": 179,
    "start_time": "2023-05-21T18:12:41.076Z"
   },
   {
    "duration": 17,
    "start_time": "2023-05-21T18:12:41.257Z"
   },
   {
    "duration": 24,
    "start_time": "2023-05-21T18:12:41.277Z"
   },
   {
    "duration": 176,
    "start_time": "2023-05-21T18:12:41.303Z"
   },
   {
    "duration": 18,
    "start_time": "2023-05-21T18:12:41.484Z"
   },
   {
    "duration": 35,
    "start_time": "2023-05-21T18:12:41.504Z"
   },
   {
    "duration": 13,
    "start_time": "2023-05-21T18:13:31.474Z"
   },
   {
    "duration": 27,
    "start_time": "2023-05-21T18:14:32.121Z"
   },
   {
    "duration": 8,
    "start_time": "2023-05-21T18:14:43.652Z"
   },
   {
    "duration": 4,
    "start_time": "2023-05-21T18:14:50.774Z"
   },
   {
    "duration": 5,
    "start_time": "2023-05-21T18:15:12.674Z"
   },
   {
    "duration": 20,
    "start_time": "2023-05-21T18:15:25.089Z"
   },
   {
    "duration": 5,
    "start_time": "2023-05-21T18:16:28.889Z"
   },
   {
    "duration": 25,
    "start_time": "2023-05-21T18:16:30.255Z"
   },
   {
    "duration": 54,
    "start_time": "2023-05-21T18:16:38.767Z"
   },
   {
    "duration": 6,
    "start_time": "2023-05-21T18:16:39.314Z"
   },
   {
    "duration": 36,
    "start_time": "2023-05-21T18:16:41.024Z"
   },
   {
    "duration": 15,
    "start_time": "2023-05-21T18:16:41.257Z"
   },
   {
    "duration": 8317,
    "start_time": "2023-05-21T18:16:41.892Z"
   },
   {
    "duration": 161,
    "start_time": "2023-05-21T18:16:50.211Z"
   },
   {
    "duration": 14,
    "start_time": "2023-05-21T18:16:50.376Z"
   },
   {
    "duration": 2306,
    "start_time": "2023-05-21T18:16:50.392Z"
   },
   {
    "duration": 38,
    "start_time": "2023-05-21T18:16:52.699Z"
   },
   {
    "duration": 35,
    "start_time": "2023-05-21T18:16:52.740Z"
   },
   {
    "duration": 20,
    "start_time": "2023-05-21T18:16:52.778Z"
   },
   {
    "duration": 19,
    "start_time": "2023-05-21T18:17:00.519Z"
   },
   {
    "duration": 2631,
    "start_time": "2023-05-21T18:17:02.208Z"
   },
   {
    "duration": 6967,
    "start_time": "2023-05-21T18:17:04.841Z"
   },
   {
    "duration": 173,
    "start_time": "2023-05-21T18:17:11.810Z"
   },
   {
    "duration": 13,
    "start_time": "2023-05-21T18:17:11.986Z"
   },
   {
    "duration": 37,
    "start_time": "2023-05-21T18:17:12.002Z"
   },
   {
    "duration": 217,
    "start_time": "2023-05-21T18:17:12.049Z"
   },
   {
    "duration": 23,
    "start_time": "2023-05-21T18:17:19.651Z"
   },
   {
    "duration": 16,
    "start_time": "2023-05-21T18:17:20.968Z"
   },
   {
    "duration": 135,
    "start_time": "2023-05-21T18:17:40.301Z"
   },
   {
    "duration": 98,
    "start_time": "2023-05-21T18:19:41.622Z"
   },
   {
    "duration": 96,
    "start_time": "2023-05-21T18:19:45.495Z"
   }
  ],
  "kernelspec": {
   "display_name": "Python 3 (ipykernel)",
   "language": "python",
   "name": "python3"
  },
  "language_info": {
   "codemirror_mode": {
    "name": "ipython",
    "version": 3
   },
   "file_extension": ".py",
   "mimetype": "text/x-python",
   "name": "python",
   "nbconvert_exporter": "python",
   "pygments_lexer": "ipython3",
   "version": "3.11.0"
  },
  "toc": {
   "base_numbering": 1,
   "nav_menu": {},
   "number_sections": true,
   "sideBar": true,
   "skip_h1_title": true,
   "title_cell": "Содержание",
   "title_sidebar": "Contents",
   "toc_cell": true,
   "toc_position": {
    "height": "calc(100% - 180px)",
    "left": "10px",
    "top": "150px",
    "width": "280.587px"
   },
   "toc_section_display": true,
   "toc_window_display": true
  }
 },
 "nbformat": 4,
 "nbformat_minor": 2
}
