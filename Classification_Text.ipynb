{
 "cells": [
  {
   "cell_type": "code",
   "execution_count": 118,
   "id": "572723e2",
   "metadata": {},
   "outputs": [
    {
     "name": "stderr",
     "output_type": "stream",
     "text": [
      "[nltk_data] Downloading package averaged_perceptron_tagger to\n",
      "[nltk_data]     /home/jovyan/nltk_data...\n",
      "[nltk_data]   Package averaged_perceptron_tagger is already up-to-\n",
      "[nltk_data]       date!\n"
     ]
    }
   ],
   "source": [
    "import nltk\n",
    "from nltk.corpus import wordnet\n",
    "nltk.download('averaged_perceptron_tagger')\n",
    "from nltk.stem import WordNetLemmatizer\n",
    "from nltk.corpus import stopwords as nltk_stopwords\n",
    "from sklearn.feature_extraction.text import TfidfVectorizer\n",
    "from sklearn.model_selection import train_test_split\n",
    "from sklearn.linear_model import LogisticRegression\n",
    "from sklearn.metrics import f1_score,roc_auc_score, roc_curve\n",
    "import torch\n",
    "import transformers\n",
    "from keras.preprocessing import sequence, text\n",
    "import tqdm\n",
    "import sys, os, re, csv, codecs, numpy as np, pandas as pd, seaborn as sns\n",
    "import matplotlib.pyplot as plt\n",
    "from keras.preprocessing.text import Tokenizer\n",
    "from keras.preprocessing.sequence import pad_sequences\n",
    "from keras.layers import Dense, Input, LSTM, Embedding, Dropout, Activation\n",
    "from keras.layers import Bidirectional, GlobalMaxPool1D\n",
    "from keras.models import Model\n",
    "from keras import initializers, regularizers, constraints, optimizers, layers"
   ]
  },
  {
   "cell_type": "code",
   "execution_count": 4,
   "id": "9e5e466f",
   "metadata": {},
   "outputs": [],
   "source": [
    "df = pd.read_csv(\"/datasets/toxic_comments.csv\")"
   ]
  },
  {
   "cell_type": "code",
   "execution_count": 5,
   "id": "e9a600c6",
   "metadata": {},
   "outputs": [],
   "source": [
    "df.drop('Unnamed: 0', axis=1,inplace=True)"
   ]
  },
  {
   "cell_type": "code",
   "execution_count": 6,
   "id": "69015fed",
   "metadata": {
    "scrolled": false
   },
   "outputs": [
    {
     "data": {
      "text/html": [
       "<div>\n",
       "<style scoped>\n",
       "    .dataframe tbody tr th:only-of-type {\n",
       "        vertical-align: middle;\n",
       "    }\n",
       "\n",
       "    .dataframe tbody tr th {\n",
       "        vertical-align: top;\n",
       "    }\n",
       "\n",
       "    .dataframe thead th {\n",
       "        text-align: right;\n",
       "    }\n",
       "</style>\n",
       "<table border=\"1\" class=\"dataframe\">\n",
       "  <thead>\n",
       "    <tr style=\"text-align: right;\">\n",
       "      <th></th>\n",
       "      <th>text</th>\n",
       "      <th>toxic</th>\n",
       "    </tr>\n",
       "  </thead>\n",
       "  <tbody>\n",
       "    <tr>\n",
       "      <th>0</th>\n",
       "      <td>Explanation\\nWhy the edits made under my usern...</td>\n",
       "      <td>0</td>\n",
       "    </tr>\n",
       "    <tr>\n",
       "      <th>1</th>\n",
       "      <td>D'aww! He matches this background colour I'm s...</td>\n",
       "      <td>0</td>\n",
       "    </tr>\n",
       "    <tr>\n",
       "      <th>2</th>\n",
       "      <td>Hey man, I'm really not trying to edit war. It...</td>\n",
       "      <td>0</td>\n",
       "    </tr>\n",
       "    <tr>\n",
       "      <th>3</th>\n",
       "      <td>\"\\nMore\\nI can't make any real suggestions on ...</td>\n",
       "      <td>0</td>\n",
       "    </tr>\n",
       "    <tr>\n",
       "      <th>4</th>\n",
       "      <td>You, sir, are my hero. Any chance you remember...</td>\n",
       "      <td>0</td>\n",
       "    </tr>\n",
       "  </tbody>\n",
       "</table>\n",
       "</div>"
      ],
      "text/plain": [
       "                                                text  toxic\n",
       "0  Explanation\\nWhy the edits made under my usern...      0\n",
       "1  D'aww! He matches this background colour I'm s...      0\n",
       "2  Hey man, I'm really not trying to edit war. It...      0\n",
       "3  \"\\nMore\\nI can't make any real suggestions on ...      0\n",
       "4  You, sir, are my hero. Any chance you remember...      0"
      ]
     },
     "execution_count": 6,
     "metadata": {},
     "output_type": "execute_result"
    }
   ],
   "source": [
    "df.head()"
   ]
  },
  {
   "cell_type": "code",
   "execution_count": 22,
   "id": "8812cd6a",
   "metadata": {},
   "outputs": [],
   "source": [
    "def clear_text(text):\n",
    "    text = re.sub(r\"[^a-zA-Z']\", ' ', text)\n",
    "    return ' '.join(text.split()) "
   ]
  },
  {
   "cell_type": "code",
   "execution_count": 26,
   "id": "83d8b9cb",
   "metadata": {},
   "outputs": [],
   "source": [
    "df['text'] = df['text'].apply(lambda x: clear_text(x))"
   ]
  },
  {
   "cell_type": "code",
   "execution_count": 28,
   "id": "c9cabe1a",
   "metadata": {},
   "outputs": [],
   "source": [
    "lemmatizer = WordNetLemmatizer()\n",
    "\n",
    "def lemmatize_text(text):\n",
    "    words = nltk.word_tokenize(text)\n",
    "    tagged_words = nltk.pos_tag(words)\n",
    "    lemmatized_words = [lemmatizer.lemmatize(word, pos=get_wordnet_pos(tag)) for word, tag in tagged_words]\n",
    "    lemmatized_text = ' '.join(lemmatized_words)\n",
    "    return lemmatized_text\n",
    "\n",
    "def get_wordnet_pos(word):\n",
    "    tag = nltk.pos_tag([word])[0][1][0].upper()\n",
    "    tag_dict = {\"J\": wordnet.ADJ,\n",
    "                \"N\": wordnet.NOUN,\n",
    "                \"V\": wordnet.VERB,\n",
    "                \"R\": wordnet.ADV}\n",
    "    return tag_dict.get(tag, wordnet.NOUN)\n",
    "\n",
    "df['text'] = df['text'].apply(lemmatize_text)"
   ]
  },
  {
   "cell_type": "code",
   "execution_count": 29,
   "id": "d9e2e1f9",
   "metadata": {
    "scrolled": true
   },
   "outputs": [
    {
     "data": {
      "text/plain": [
       "0    0.898388\n",
       "1    0.101612\n",
       "Name: toxic, dtype: float64"
      ]
     },
     "execution_count": 29,
     "metadata": {},
     "output_type": "execute_result"
    }
   ],
   "source": [
    "df['toxic'].value_counts(normalize = True)"
   ]
  },
  {
   "cell_type": "markdown",
   "id": "283d9d37",
   "metadata": {},
   "source": [
    "# ML"
   ]
  },
  {
   "cell_type": "code",
   "execution_count": 35,
   "id": "59a1c905",
   "metadata": {},
   "outputs": [],
   "source": [
    "RS = 42"
   ]
  },
  {
   "cell_type": "code",
   "execution_count": 36,
   "id": "76cea487",
   "metadata": {},
   "outputs": [],
   "source": [
    "X_train, X_test, y_train, y_test = train_test_split(df['text'], df['toxic'], \n",
    "                                                                    random_state=RS, \n",
    "                                                                    test_size=0.4, \n",
    "                                                                    stratify=df['toxic'])\n",
    "\n",
    "\n",
    "X_val, X_test, y_val, y_test = train_test_split(X_test, y_test, \n",
    "                                                                random_state=RS, \n",
    "                                                                test_size=0.5, \n",
    "                                                                stratify=y_test)"
   ]
  },
  {
   "cell_type": "code",
   "execution_count": 37,
   "id": "28b06855",
   "metadata": {},
   "outputs": [],
   "source": [
    "X_train = X_train.reset_index(drop=True)\n",
    "y_train = y_train.reset_index(drop=True)\n",
    "\n",
    "X_val = X_val.reset_index(drop=True)\n",
    "y_val = y_val.reset_index(drop=True)\n",
    "\n",
    "X_test = X_test.reset_index(drop=True)\n",
    "y_test = y_test.reset_index(drop=True)"
   ]
  },
  {
   "cell_type": "markdown",
   "id": "177d5eec",
   "metadata": {},
   "source": [
    "## Log Reg"
   ]
  },
  {
   "cell_type": "code",
   "execution_count": 39,
   "id": "baa49b9d",
   "metadata": {},
   "outputs": [],
   "source": [
    "stopwords = 'english'\n",
    "\n",
    "count_tf_idf = TfidfVectorizer(stop_words=stopwords) \n",
    "\n",
    "train_tf_idf = count_tf_idf.fit_transform(X_train) \n",
    "test_tf_idf = count_tf_idf.transform(X_test) \n",
    "val_tf_idf = count_tf_idf.transform(X_val) "
   ]
  },
  {
   "cell_type": "code",
   "execution_count": 92,
   "id": "bbdc3547",
   "metadata": {},
   "outputs": [],
   "source": [
    "log_reg = LogisticRegression(C = 2,solver='lbfgs', max_iter=1000)"
   ]
  },
  {
   "cell_type": "code",
   "execution_count": 93,
   "id": "7ea8dda9",
   "metadata": {},
   "outputs": [
    {
     "data": {
      "text/plain": [
       "LogisticRegression(C=2, max_iter=1000)"
      ]
     },
     "execution_count": 93,
     "metadata": {},
     "output_type": "execute_result"
    }
   ],
   "source": [
    "log_reg.fit(train_tf_idf, y_train)"
   ]
  },
  {
   "cell_type": "code",
   "execution_count": 94,
   "id": "dbab934e",
   "metadata": {},
   "outputs": [],
   "source": [
    "log_pred = log_reg.predict(val_tf_idf)"
   ]
  },
  {
   "cell_type": "code",
   "execution_count": 95,
   "id": "323130a9",
   "metadata": {},
   "outputs": [
    {
     "data": {
      "text/plain": [
       "0.7500455788514129"
      ]
     },
     "execution_count": 95,
     "metadata": {},
     "output_type": "execute_result"
    }
   ],
   "source": [
    "f1_score(y_val, log_pred)"
   ]
  },
  {
   "cell_type": "markdown",
   "id": "4e3645ea",
   "metadata": {},
   "source": [
    "## KERAS"
   ]
  },
  {
   "cell_type": "code",
   "execution_count": 96,
   "id": "bcfd2294",
   "metadata": {},
   "outputs": [],
   "source": [
    "BATCH_SIZE = 50\n",
    "EPOCH = 2\n",
    "MAXLEN = 250\n",
    "MAX_FEATURES = 20000\n",
    "EMBED_SIZE = 128"
   ]
  },
  {
   "cell_type": "code",
   "execution_count": 97,
   "id": "76acf3e4",
   "metadata": {},
   "outputs": [],
   "source": [
    "tokenizer = Tokenizer(num_words=MAX_FEATURES)\n",
    "tokenizer.fit_on_texts(list(X_train))\n",
    "list_tokenized_train = tokenizer.texts_to_sequences(X_train)\n",
    "list_tokenized_val = tokenizer.texts_to_sequences(X_val)\n",
    "list_tokenized_test = tokenizer.texts_to_sequences(X_test)"
   ]
  },
  {
   "cell_type": "code",
   "execution_count": 98,
   "id": "c651a029",
   "metadata": {},
   "outputs": [],
   "source": [
    "totalNumWords = [len(one_comment) for one_comment in list_tokenized_train]"
   ]
  },
  {
   "cell_type": "code",
   "execution_count": 99,
   "id": "69a9125c",
   "metadata": {
    "scrolled": false
   },
   "outputs": [
    {
     "data": {
      "image/png": "[encoded data removed]",
      "text/plain": [
       "<Figure size 432x288 with 1 Axes>"
      ]
     },
     "metadata": {
      "needs_background": "light"
     },
     "output_type": "display_data"
    }
   ],
   "source": [
    "plt.hist(totalNumWords,bins = np.arange(0,1000,10));\n",
    "plt.show()"
   ]
  },
  {
   "cell_type": "code",
   "execution_count": 100,
   "id": "378bba6b",
   "metadata": {},
   "outputs": [],
   "source": [
    "xtrain = pad_sequences(list_tokenized_train, maxlen=MAXLEN)\n",
    "xval = pad_sequences(list_tokenized_val, maxlen=MAXLEN)\n",
    "xtest = pad_sequences(list_tokenized_test, maxlen=MAXLEN)"
   ]
  },
  {
   "cell_type": "code",
   "execution_count": 101,
   "id": "93387503",
   "metadata": {},
   "outputs": [],
   "source": [
    "inp = Input(shape=(MAXLEN, ))"
   ]
  },
  {
   "cell_type": "code",
   "execution_count": 102,
   "id": "d6cffb6b",
   "metadata": {},
   "outputs": [
    {
     "name": "stderr",
     "output_type": "stream",
     "text": [
      "2023-08-08 12:46:59.099149: I tensorflow/core/platform/cpu_feature_guard.cc:151] This TensorFlow binary is optimized with oneAPI Deep Neural Network Library (oneDNN) to use the following CPU instructions in performance-critical operations:  AVX2 AVX512F FMA\n",
      "To enable them in other operations, rebuild TensorFlow with the appropriate compiler flags.\n"
     ]
    }
   ],
   "source": [
    "x = Embedding(MAX_FEATURES, EMBED_SIZE)(inp)"
   ]
  },
  {
   "cell_type": "code",
   "execution_count": 103,
   "id": "2edbb699",
   "metadata": {},
   "outputs": [],
   "source": [
    "x = LSTM(60, return_sequences=True,name='lstm_layer')(x)"
   ]
  },
  {
   "cell_type": "code",
   "execution_count": 104,
   "id": "47810575",
   "metadata": {},
   "outputs": [],
   "source": [
    "x = GlobalMaxPool1D()(x)"
   ]
  },
  {
   "cell_type": "code",
   "execution_count": 105,
   "id": "80e05ef7",
   "metadata": {},
   "outputs": [],
   "source": [
    "x = Dropout(0.1)(x)"
   ]
  },
  {
   "cell_type": "code",
   "execution_count": 106,
   "id": "d31eb59b",
   "metadata": {},
   "outputs": [],
   "source": [
    "x = Dense(50, activation=\"relu\")(x)"
   ]
  },
  {
   "cell_type": "code",
   "execution_count": 107,
   "id": "676aecca",
   "metadata": {},
   "outputs": [],
   "source": [
    "x = Dropout(0.1)(x)"
   ]
  },
  {
   "cell_type": "code",
   "execution_count": 108,
   "id": "52f7fd88",
   "metadata": {},
   "outputs": [],
   "source": [
    "x = Dense(1, activation=\"sigmoid\")(x)"
   ]
  },
  {
   "cell_type": "code",
   "execution_count": 109,
   "id": "80dc29d8",
   "metadata": {},
   "outputs": [],
   "source": [
    "from keras import backend as K\n",
    "\n",
    "def f1_scoring(y_true, y_pred):\n",
    "    true_positives = K.sum(K.round(K.clip(y_true * y_pred, 0, 1)))\n",
    "    predicted_positives = K.sum(K.round(K.clip(y_pred, 0, 1)))\n",
    "    possible_positives = K.sum(K.round(K.clip(y_true, 0, 1)))\n",
    "    precision = true_positives / (predicted_positives + K.epsilon())\n",
    "    recall = true_positives / (possible_positives + K.epsilon())\n",
    "    f1 = 2 * (precision * recall) / (precision + recall + K.epsilon())\n",
    "    return f1"
   ]
  },
  {
   "cell_type": "code",
   "execution_count": 110,
   "id": "ac4482de",
   "metadata": {},
   "outputs": [],
   "source": [
    "model = Model(inputs=inp, outputs=x)\n",
    "model.compile(loss='binary_crossentropy',\n",
    "                  optimizer='adam',\n",
    "                  metrics=[f1_scoring])"
   ]
  },
  {
   "cell_type": "code",
   "execution_count": 111,
   "id": "aaa3eeef",
   "metadata": {},
   "outputs": [
    {
     "name": "stdout",
     "output_type": "stream",
     "text": [
      "Epoch 1/2\n",
      "1721/1721 [==============================] - 1204s 698ms/step - loss: 0.1481 - f1_scoring: 0.6425 - val_loss: 0.0994 - val_f1_scoring: 0.8059\n",
      "Epoch 2/2\n",
      "1721/1721 [==============================] - 1181s 686ms/step - loss: 0.0875 - f1_scoring: 0.8072 - val_loss: 0.0997 - val_f1_scoring: 0.8087\n"
     ]
    },
    {
     "data": {
      "text/plain": [
       "<keras.callbacks.History at 0x7f708f048760>"
      ]
     },
     "execution_count": 111,
     "metadata": {},
     "output_type": "execute_result"
    }
   ],
   "source": [
    "model.fit(xtrain,y_train, batch_size=BATCH_SIZE, epochs=EPOCH, validation_split=0.1)"
   ]
  },
  {
   "cell_type": "code",
   "execution_count": 112,
   "id": "863819d4",
   "metadata": {
    "scrolled": false
   },
   "outputs": [],
   "source": [
    "pred_val = model.predict(xval)"
   ]
  },
  {
   "cell_type": "code",
   "execution_count": 113,
   "id": "598ffbb1",
   "metadata": {},
   "outputs": [],
   "source": [
    "y_pred_val = (pred_val > 0.5).astype(int)"
   ]
  },
  {
   "cell_type": "code",
   "execution_count": 114,
   "id": "14c60d28",
   "metadata": {},
   "outputs": [
    {
     "data": {
      "text/plain": [
       "0.8047415212380638"
      ]
     },
     "execution_count": 114,
     "metadata": {},
     "output_type": "execute_result"
    }
   ],
   "source": [
    "f1_score(y_val,y_pred_val)"
   ]
  },
  {
   "cell_type": "markdown",
   "id": "ba61c76d",
   "metadata": {},
   "source": [
    "- Результаты работы библиотеки Keras намного лучше логистической регрессии, используем ее на тестовой выборке"
   ]
  },
  {
   "cell_type": "code",
   "execution_count": 115,
   "id": "607c65a0",
   "metadata": {},
   "outputs": [],
   "source": [
    "pred_test = model.predict(xtest)"
   ]
  },
  {
   "cell_type": "code",
   "execution_count": 116,
   "id": "61569d2d",
   "metadata": {},
   "outputs": [],
   "source": [
    "y_pred_test = (pred_test > 0.5).astype(int)"
   ]
  },
  {
   "cell_type": "code",
   "execution_count": 117,
   "id": "1bff0038",
   "metadata": {},
   "outputs": [
    {
     "data": {
      "text/plain": [
       "0.7898089171974522"
      ]
     },
     "execution_count": 117,
     "metadata": {},
     "output_type": "execute_result"
    }
   ],
   "source": [
    "f1_score(y_test,y_pred_test)"
   ]
  },
  {
   "cell_type": "markdown",
   "id": "96aa01be",
   "metadata": {},
   "source": [
    "## Вывод\n",
    "\n",
    "- С помощью нейросети нам удалось фильтровать сообщения на токсичность проходя необходимый порог, но хочу предположить что модель логистической регрессии хоть и справилась хуже, но при этом сама модель намного проще и быстрее, далее решение нужно принимать исходя из вычислительных мощностей и скорости предсказания. То есть если нам нужна модель которая предсказывает с наибольшей точностью то остановить выбор на keras, но если нам нужна модель которая будет работать в режиме реального времени, а вычислительных мощностей у нас не так много - тогда можно задуматься о том что бы поработать с моделью логистической регрессии."
   ]
  }
 ],
 "metadata": {
  "ExecuteTimeLog": [
   {
    "duration": 54,
    "start_time": "2023-08-08T10:26:57.803Z"
   },
   {
    "duration": 6179,
    "start_time": "2023-08-08T10:27:06.210Z"
   },
   {
    "duration": 483,
    "start_time": "2023-08-08T10:27:12.392Z"
   },
   {
    "duration": 0,
    "start_time": "2023-08-08T10:27:12.876Z"
   },
   {
    "duration": 0,
    "start_time": "2023-08-08T10:27:12.878Z"
   },
   {
    "duration": 0,
    "start_time": "2023-08-08T10:27:12.879Z"
   },
   {
    "duration": 2427,
    "start_time": "2023-08-08T10:28:03.108Z"
   },
   {
    "duration": 14,
    "start_time": "2023-08-08T10:28:05.538Z"
   },
   {
    "duration": 14,
    "start_time": "2023-08-08T10:28:06.077Z"
   },
   {
    "duration": 7,
    "start_time": "2023-08-08T10:28:06.744Z"
   },
   {
    "duration": 9,
    "start_time": "2023-08-08T10:28:19.006Z"
   },
   {
    "duration": 20,
    "start_time": "2023-08-08T10:33:05.314Z"
   },
   {
    "duration": 3,
    "start_time": "2023-08-08T10:33:09.634Z"
   },
   {
    "duration": 103,
    "start_time": "2023-08-08T10:33:10.301Z"
   },
   {
    "duration": 28,
    "start_time": "2023-08-08T10:33:10.897Z"
   },
   {
    "duration": 1057,
    "start_time": "2023-08-08T10:33:12.129Z"
   },
   {
    "duration": 619,
    "start_time": "2023-08-08T10:33:30.212Z"
   },
   {
    "duration": 1425,
    "start_time": "2023-08-08T10:33:36.632Z"
   },
   {
    "duration": 13,
    "start_time": "2023-08-08T10:34:03.645Z"
   },
   {
    "duration": 329021,
    "start_time": "2023-08-08T10:34:09.567Z"
   },
   {
    "duration": 0,
    "start_time": "2023-08-08T10:39:38.590Z"
   },
   {
    "duration": 571,
    "start_time": "2023-08-08T10:39:41.598Z"
   },
   {
    "duration": 200943,
    "start_time": "2023-08-08T10:40:06.421Z"
   },
   {
    "duration": 2225,
    "start_time": "2023-08-08T10:43:29.358Z"
   },
   {
    "duration": 517539,
    "start_time": "2023-08-08T10:44:40.004Z"
   },
   {
    "duration": 0,
    "start_time": "2023-08-08T10:53:17.545Z"
   },
   {
    "duration": 3,
    "start_time": "2023-08-08T10:53:22.029Z"
   },
   {
    "duration": 39,
    "start_time": "2023-08-08T10:53:44.565Z"
   },
   {
    "duration": 6,
    "start_time": "2023-08-08T10:54:26.474Z"
   },
   {
    "duration": 16,
    "start_time": "2023-08-08T10:55:19.713Z"
   },
   {
    "duration": 4511,
    "start_time": "2023-08-08T10:55:45.802Z"
   },
   {
    "duration": 5,
    "start_time": "2023-08-08T10:55:55.013Z"
   },
   {
    "duration": 2196740,
    "start_time": "2023-08-08T10:59:13.595Z"
   },
   {
    "duration": 11,
    "start_time": "2023-08-08T12:15:41.273Z"
   },
   {
    "duration": 6,
    "start_time": "2023-08-08T12:15:42.893Z"
   },
   {
    "duration": 146,
    "start_time": "2023-08-08T12:15:43.238Z"
   },
   {
    "duration": 32,
    "start_time": "2023-08-08T12:15:44.719Z"
   },
   {
    "duration": 8,
    "start_time": "2023-08-08T12:15:53.612Z"
   },
   {
    "duration": 6,
    "start_time": "2023-08-08T12:16:16.808Z"
   },
   {
    "duration": 4,
    "start_time": "2023-08-08T12:16:52.540Z"
   },
   {
    "duration": 112,
    "start_time": "2023-08-08T12:16:52.848Z"
   },
   {
    "duration": 29,
    "start_time": "2023-08-08T12:16:53.214Z"
   },
   {
    "duration": 21,
    "start_time": "2023-08-08T12:16:57.344Z"
   },
   {
    "duration": 8284,
    "start_time": "2023-08-08T12:17:24.698Z"
   },
   {
    "duration": 4,
    "start_time": "2023-08-08T12:17:44.557Z"
   },
   {
    "duration": 44371,
    "start_time": "2023-08-08T12:17:46.203Z"
   },
   {
    "duration": 15,
    "start_time": "2023-08-08T12:18:30.654Z"
   },
   {
    "duration": 66,
    "start_time": "2023-08-08T12:18:30.672Z"
   },
   {
    "duration": 3,
    "start_time": "2023-08-08T12:18:36.178Z"
   },
   {
    "duration": 25168,
    "start_time": "2023-08-08T12:18:36.891Z"
   },
   {
    "duration": 14,
    "start_time": "2023-08-08T12:19:02.062Z"
   },
   {
    "duration": 141,
    "start_time": "2023-08-08T12:19:02.079Z"
   },
   {
    "duration": 4,
    "start_time": "2023-08-08T12:19:08.452Z"
   },
   {
    "duration": 48681,
    "start_time": "2023-08-08T12:19:08.674Z"
   },
   {
    "duration": 9,
    "start_time": "2023-08-08T12:19:57.359Z"
   },
   {
    "duration": 84,
    "start_time": "2023-08-08T12:19:57.370Z"
   },
   {
    "duration": 3,
    "start_time": "2023-08-08T12:20:03.909Z"
   },
   {
    "duration": 19797,
    "start_time": "2023-08-08T12:20:04.165Z"
   },
   {
    "duration": 89,
    "start_time": "2023-08-08T12:20:23.965Z"
   },
   {
    "duration": 22,
    "start_time": "2023-08-08T12:20:24.058Z"
   },
   {
    "duration": 3,
    "start_time": "2023-08-08T12:20:57.248Z"
   },
   {
    "duration": 50961,
    "start_time": "2023-08-08T12:20:58.198Z"
   },
   {
    "duration": 10,
    "start_time": "2023-08-08T12:21:49.161Z"
   },
   {
    "duration": 92,
    "start_time": "2023-08-08T12:21:49.173Z"
   },
   {
    "duration": 3,
    "start_time": "2023-08-08T12:22:38.477Z"
   },
   {
    "duration": 24503,
    "start_time": "2023-08-08T12:22:38.765Z"
   },
   {
    "duration": 84,
    "start_time": "2023-08-08T12:23:03.271Z"
   },
   {
    "duration": 26,
    "start_time": "2023-08-08T12:23:03.358Z"
   },
   {
    "duration": 4,
    "start_time": "2023-08-08T12:24:10.252Z"
   },
   {
    "duration": 46695,
    "start_time": "2023-08-08T12:24:10.660Z"
   },
   {
    "duration": 95,
    "start_time": "2023-08-08T12:24:57.358Z"
   },
   {
    "duration": 22,
    "start_time": "2023-08-08T12:24:57.456Z"
   },
   {
    "duration": 5,
    "start_time": "2023-08-08T12:25:03.989Z"
   },
   {
    "duration": 212,
    "start_time": "2023-08-08T12:25:33.785Z"
   },
   {
    "duration": 73,
    "start_time": "2023-08-08T12:25:42.921Z"
   },
   {
    "duration": 17,
    "start_time": "2023-08-08T12:25:48.419Z"
   },
   {
    "duration": 118,
    "start_time": "2023-08-08T12:25:59.217Z"
   },
   {
    "duration": 13,
    "start_time": "2023-08-08T12:26:15.276Z"
   },
   {
    "duration": 3,
    "start_time": "2023-08-08T12:26:23.335Z"
   },
   {
    "duration": 50969,
    "start_time": "2023-08-08T12:26:24.597Z"
   },
   {
    "duration": 10,
    "start_time": "2023-08-08T12:27:15.568Z"
   },
   {
    "duration": 43,
    "start_time": "2023-08-08T12:27:15.580Z"
   },
   {
    "duration": 6,
    "start_time": "2023-08-08T12:32:04.280Z"
   },
   {
    "duration": 45208,
    "start_time": "2023-08-08T12:32:04.647Z"
   },
   {
    "duration": 16,
    "start_time": "2023-08-08T12:32:49.861Z"
   },
   {
    "duration": 48,
    "start_time": "2023-08-08T12:32:49.880Z"
   },
   {
    "duration": 3,
    "start_time": "2023-08-08T12:33:49.240Z"
   },
   {
    "duration": 51885,
    "start_time": "2023-08-08T12:33:49.473Z"
   },
   {
    "duration": 27,
    "start_time": "2023-08-08T12:34:41.360Z"
   },
   {
    "duration": 124,
    "start_time": "2023-08-08T12:34:41.389Z"
   },
   {
    "duration": 2,
    "start_time": "2023-08-08T12:41:11.991Z"
   },
   {
    "duration": 63311,
    "start_time": "2023-08-08T12:41:12.744Z"
   },
   {
    "duration": 8,
    "start_time": "2023-08-08T12:42:16.058Z"
   },
   {
    "duration": 89,
    "start_time": "2023-08-08T12:42:16.068Z"
   },
   {
    "duration": 3,
    "start_time": "2023-08-08T12:42:35.029Z"
   },
   {
    "duration": 17,
    "start_time": "2023-08-08T12:42:35.325Z"
   },
   {
    "duration": 4,
    "start_time": "2023-08-08T12:42:42.254Z"
   },
   {
    "duration": 51271,
    "start_time": "2023-08-08T12:42:42.790Z"
   },
   {
    "duration": 9,
    "start_time": "2023-08-08T12:43:34.067Z"
   },
   {
    "duration": 121,
    "start_time": "2023-08-08T12:43:34.078Z"
   },
   {
    "duration": 3,
    "start_time": "2023-08-08T12:46:44.692Z"
   },
   {
    "duration": 11824,
    "start_time": "2023-08-08T12:46:45.490Z"
   },
   {
    "duration": 13,
    "start_time": "2023-08-08T12:46:57.317Z"
   },
   {
    "duration": 619,
    "start_time": "2023-08-08T12:46:57.332Z"
   },
   {
    "duration": 1064,
    "start_time": "2023-08-08T12:46:57.954Z"
   },
   {
    "duration": 15,
    "start_time": "2023-08-08T12:46:59.020Z"
   },
   {
    "duration": 255,
    "start_time": "2023-08-08T12:46:59.036Z"
   },
   {
    "duration": 341,
    "start_time": "2023-08-08T12:46:59.293Z"
   },
   {
    "duration": 7,
    "start_time": "2023-08-08T12:46:59.636Z"
   },
   {
    "duration": 38,
    "start_time": "2023-08-08T12:46:59.645Z"
   },
   {
    "duration": 36,
    "start_time": "2023-08-08T12:46:59.686Z"
   },
   {
    "duration": 43,
    "start_time": "2023-08-08T12:46:59.724Z"
   },
   {
    "duration": 38,
    "start_time": "2023-08-08T12:46:59.769Z"
   },
   {
    "duration": 35,
    "start_time": "2023-08-08T12:46:59.809Z"
   },
   {
    "duration": 42,
    "start_time": "2023-08-08T12:46:59.845Z"
   },
   {
    "duration": 2384766,
    "start_time": "2023-08-08T12:46:59.889Z"
   },
   {
    "duration": 97915,
    "start_time": "2023-08-08T13:26:44.659Z"
   },
   {
    "duration": 3,
    "start_time": "2023-08-08T13:28:22.577Z"
   },
   {
    "duration": 29,
    "start_time": "2023-08-08T13:28:22.582Z"
   },
   {
    "duration": 98769,
    "start_time": "2023-08-08T13:28:28.704Z"
   },
   {
    "duration": 4,
    "start_time": "2023-08-08T13:30:07.476Z"
   },
   {
    "duration": 24,
    "start_time": "2023-08-08T13:30:07.481Z"
   },
   {
    "duration": 225,
    "start_time": "2023-08-08T13:40:03.743Z"
   },
   {
    "duration": 222,
    "start_time": "2023-08-08T13:40:45.408Z"
   },
   {
    "duration": 24,
    "start_time": "2023-08-08T13:41:19.841Z"
   },
   {
    "duration": 22,
    "start_time": "2023-08-08T13:41:32.332Z"
   },
   {
    "duration": 18,
    "start_time": "2023-08-08T13:41:37.290Z"
   },
   {
    "duration": 16,
    "start_time": "2023-08-08T13:42:23.957Z"
   },
   {
    "duration": 17,
    "start_time": "2023-08-08T13:42:48.499Z"
   },
   {
    "duration": 224,
    "start_time": "2023-08-08T13:44:09.370Z"
   },
   {
    "duration": 165,
    "start_time": "2023-08-08T13:45:56.892Z"
   }
  ],
  "kernelspec": {
   "display_name": "Python 3 (ipykernel)",
   "language": "python",
   "name": "python3"
  },
  "language_info": {
   "codemirror_mode": {
    "name": "ipython",
    "version": 3
   },
   "file_extension": ".py",
   "mimetype": "text/x-python",
   "name": "python",
   "nbconvert_exporter": "python",
   "pygments_lexer": "ipython3",
   "version": "3.11.3"
  },
  "toc": {
   "base_numbering": 1,
   "nav_menu": {},
   "number_sections": true,
   "sideBar": true,
   "skip_h1_title": true,
   "title_cell": "Table of Contents",
   "title_sidebar": "Contents",
   "toc_cell": false,
   "toc_position": {},
   "toc_section_display": true,
   "toc_window_display": false
  }
 },
 "nbformat": 4,
 "nbformat_minor": 5
}
